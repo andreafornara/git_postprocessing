{
 "cells": [
  {
   "cell_type": "markdown",
   "id": "eeab2005-1cf1-4a59-a3b5-d145f8e65b24",
   "metadata": {},
   "source": [
    "# Chapter 1 : SymPy and Octupoles"
   ]
  },
  {
   "cell_type": "markdown",
   "id": "15a078c6-fed6-441a-b4a6-9ccb6c462e90",
   "metadata": {},
   "source": [
    "Thanks to SymPy we can try to perform symbolic calculations. We want to perform the Hamiltonian calculation to obtain the Octupolar amplitude detuning effect on the tune to reproduce the results of the presentation and then move on to sextupoles."
   ]
  },
  {
   "cell_type": "code",
   "execution_count": 1,
   "id": "dfec807b-e38e-439b-832e-0df33dddf583",
   "metadata": {},
   "outputs": [],
   "source": [
    "import sympy as sp\n",
    "import numpy as np"
   ]
  },
  {
   "cell_type": "markdown",
   "id": "b71dd7d6-1538-4638-9690-62da3affa7a5",
   "metadata": {},
   "source": [
    "We define symbols with SymPy, everything is real valued.\n",
    "Our hypoteses are:\n",
    "We can expand the classic $b_{m}+ia_{m}$ expression of the Hamiltonian with the following assumptions:\n",
    "- We denote with $A_{n}$ and $B_{n}$ the coefficients of the integrated field that is assumed **constant** over the magnet;\n",
    "- $A_{n}$ = 0 $\\forall n$ (Normal Octupole);\n",
    "- $B_{n}$ $\\in \\mathbb{R}$ $\\forall n$ "
   ]
  },
  {
   "cell_type": "code",
   "execution_count": 67,
   "id": "85c675ae-f5df-40aa-bef3-eb2943846e3d",
   "metadata": {},
   "outputs": [],
   "source": [
    "Hn, B, rho, n, i, x, y = sp.symbols('Hn B rho n i x y')\n",
    "B = sp.symbols('B', real=True)\n",
    "rho = sp.symbols('rho', real=True)\n",
    "n = sp.symbols('n', integer=True)\n",
    "x = sp.symbols('x', real=True)\n",
    "y = sp.symbols('y', real=True)\n",
    "s = sp.symbols('s', real=True)\n",
    "s_star = sp.symbols('s^{*}', real=True)\n",
    "Bn = sp.symbols('B_{4}', real=True)\n",
    "K4L = sp.symbols('K_{4}L', real=True)\n",
    "K3L = sp.symbols('K_{3}L', real=True)\n",
    "m = sp.symbols('m', integer=True)\n",
    "nu = sp.symbols(r'\\nu_{x}', real=True)\n",
    "psix = sp.symbols(r'\\psi_{x}', real=True)"
   ]
  },
  {
   "cell_type": "markdown",
   "id": "3d739f19-53fe-40ec-a6c0-6999e697c5ba",
   "metadata": {},
   "source": [
    "The general formula is:\n",
    "$\\begin{equation} H_{n}=\\frac{1}{B\\rho}Re[\\frac{1}{n}[B_{n}+iA_{n}](x + iy)^{n}] \\end{equation}$\n",
    "\n",
    "We want the octupoles, so we calculate it for n = 4."
   ]
  },
  {
   "cell_type": "code",
   "execution_count": 3,
   "id": "6acdc4b7-bcad-4a55-b586-be18f5eaceeb",
   "metadata": {},
   "outputs": [
    {
     "data": {
      "text/latex": [
       "$\\displaystyle \\frac{K_{4}L \\left(x^{4} - 6 x^{2} y^{2} + y^{4}\\right)}{24}$"
      ],
      "text/plain": [
       "K_{4}L*(x**4 - 6*x**2*y**2 + y**4)/24"
      ]
     },
     "execution_count": 3,
     "metadata": {},
     "output_type": "execute_result"
    }
   ],
   "source": [
    "n = 4\n",
    "Hn = 1/(B*rho)*sp.Rational(1,n*sp.factorial(n-1))*sp.re((((Bn)*(x + sp.I*y)**n)))\n",
    "Hn = Hn.subs({Bn/(B*rho):K4L})\n",
    "Hn"
   ]
  },
  {
   "cell_type": "markdown",
   "id": "c5ab151d-62ba-4657-a76d-0a339f624137",
   "metadata": {},
   "source": [
    "Now we want everything expressed as a function of the action-angle variables, i.e. $J_{x,y}$ and $\\phi_{x,y}$:\n",
    "$\\begin{equation} x,y=\\sqrt{2 \\beta_{x,y} J_{x,y}}cos(\\phi_{x,y}) \\end{equation}$."
   ]
  },
  {
   "cell_type": "code",
   "execution_count": 4,
   "id": "7b8d122e-6e64-4faf-8de6-0dd4fd5990f6",
   "metadata": {},
   "outputs": [],
   "source": [
    "Jx = sp.symbols('J_{x}', real=True)\n",
    "Jy = sp.symbols('J_{y}', real=True)\n",
    "betx = sp.symbols(r'\\beta_{x}', real=True)\n",
    "bety = sp.symbols(r'\\beta_{y}', real=True)\n",
    "phix = sp.symbols(r'\\phi_{x}', real=True)\n",
    "phiy = sp.symbols(r'\\phi_{y}', real=True)"
   ]
  },
  {
   "cell_type": "markdown",
   "id": "c8750058-be47-45cb-a179-fd5463da3158",
   "metadata": {},
   "source": [
    "We change the variables from x , y to $J_{x,y}$ and $\\phi_{x,y}$ by using the subs function on the Hamiltonian."
   ]
  },
  {
   "cell_type": "code",
   "execution_count": 5,
   "id": "e505c041-a481-42e6-90d9-56a04f6ae7bb",
   "metadata": {},
   "outputs": [
    {
     "data": {
      "text/latex": [
       "$\\displaystyle \\frac{K_{4}L \\left(4 J_{x}^{2} \\beta_{x}^{2} \\cos^{4}{\\left(\\phi_{x} \\right)} - 24 J_{x} J_{y} \\beta_{x} \\beta_{y} \\cos^{2}{\\left(\\phi_{x} \\right)} \\cos^{2}{\\left(\\phi_{y} \\right)} + 4 J_{y}^{2} \\beta_{y}^{2} \\cos^{4}{\\left(\\phi_{y} \\right)}\\right)}{24}$"
      ],
      "text/plain": [
       "K_{4}L*(4*J_{x}**2*\\beta_{x}**2*cos(\\phi_{x})**4 - 24*J_{x}*J_{y}*\\beta_{x}*\\beta_{y}*cos(\\phi_{x})**2*cos(\\phi_{y})**2 + 4*J_{y}**2*\\beta_{y}**2*cos(\\phi_{y})**4)/24"
      ]
     },
     "execution_count": 5,
     "metadata": {},
     "output_type": "execute_result"
    }
   ],
   "source": [
    "Hn_action = Hn.subs({x:sp.sqrt(2*Jx*betx)*sp.cos(phix), y: sp.sqrt(2*Jy*bety)*sp.cos(phiy)})\n",
    "Hn_action"
   ]
  },
  {
   "cell_type": "markdown",
   "id": "03c451fb-5f28-4431-b72a-fb5cd80a314b",
   "metadata": {},
   "source": [
    "We now want to obtain the tune by performing a partial derivative of this expression with respect to $J_{x}$ or $J_{y}$"
   ]
  },
  {
   "cell_type": "code",
   "execution_count": 6,
   "id": "a10352fd-f4ec-493f-95cc-0d9b7be8090d",
   "metadata": {},
   "outputs": [
    {
     "data": {
      "text/latex": [
       "$\\displaystyle \\frac{K_{4}L \\left(8 J_{x} \\beta_{x}^{2} \\cos^{4}{\\left(\\phi_{x} \\right)} - 24 J_{y} \\beta_{x} \\beta_{y} \\cos^{2}{\\left(\\phi_{x} \\right)} \\cos^{2}{\\left(\\phi_{y} \\right)}\\right)}{48 \\pi}$"
      ],
      "text/plain": [
       "K_{4}L*(8*J_{x}*\\beta_{x}**2*cos(\\phi_{x})**4 - 24*J_{y}*\\beta_{x}*\\beta_{y}*cos(\\phi_{x})**2*cos(\\phi_{y})**2)/(48*pi)"
      ]
     },
     "execution_count": 6,
     "metadata": {},
     "output_type": "execute_result"
    }
   ],
   "source": [
    "Qx = 1/(2*sp.pi)*sp.diff(Hn_action,Jx)\n",
    "Qx"
   ]
  },
  {
   "cell_type": "markdown",
   "id": "4beefb51-a9b4-4b8c-981c-d3c4527a52a4",
   "metadata": {},
   "source": [
    "We need to get rid of the cosines, in order to do this we integrate Qx from 0 to 2$\\pi$ in both directions:\n",
    "$\\begin{equation} \\frac{1}{(2\\pi)^{2}}\\int_{0}^{2\\pi} Q_{x} \\,d\\phi_{x}d\\phi_{y} \\end{equation}$"
   ]
  },
  {
   "cell_type": "code",
   "execution_count": 7,
   "id": "6334e02e-39e3-4306-9197-e9e483918473",
   "metadata": {},
   "outputs": [
    {
     "data": {
      "text/latex": [
       "$\\displaystyle \\frac{K_{4}L \\left(12 \\pi^{2} J_{x} \\beta_{x}^{2} - 24 \\pi^{2} J_{y} \\beta_{x} \\beta_{y}\\right)}{192 \\pi^{3}}$"
      ],
      "text/plain": [
       "K_{4}L*(12*pi**2*J_{x}*\\beta_{x}**2 - 24*pi**2*J_{y}*\\beta_{x}*\\beta_{y})/(192*pi**3)"
      ]
     },
     "execution_count": 7,
     "metadata": {},
     "output_type": "execute_result"
    }
   ],
   "source": [
    "Qx_mean = sp.integrate(Qx/(2*sp.pi)**2, (phix,0,2*sp.pi),(phiy,0,2*sp.pi))\n",
    "Qx_mean"
   ]
  },
  {
   "cell_type": "markdown",
   "id": "0936366e-0a8d-4ca4-bc37-e45ae833c0da",
   "metadata": {},
   "source": [
    "Ugly expression, SymPy lends a hand..."
   ]
  },
  {
   "cell_type": "code",
   "execution_count": 8,
   "id": "ccd458fb-e7d9-4199-8c80-48086d422588",
   "metadata": {},
   "outputs": [
    {
     "data": {
      "text/latex": [
       "$\\displaystyle \\frac{K_{4}L \\beta_{x} \\left(J_{x} \\beta_{x} - 2 J_{y} \\beta_{y}\\right)}{16 \\pi}$"
      ],
      "text/plain": [
       "K_{4}L*\\beta_{x}*(J_{x}*\\beta_{x} - 2*J_{y}*\\beta_{y})/(16*pi)"
      ]
     },
     "execution_count": 8,
     "metadata": {},
     "output_type": "execute_result"
    }
   ],
   "source": [
    "sp.simplify(Qx_mean)"
   ]
  },
  {
   "cell_type": "markdown",
   "id": "cb3a3213-4d7f-4b9e-b86b-6f9865755109",
   "metadata": {},
   "source": [
    "There we go, the detuning with amplitude in the x direction due to x amplitude is given by:"
   ]
  },
  {
   "cell_type": "code",
   "execution_count": 9,
   "id": "ca3bb669-b284-427f-9554-4f16d88428ca",
   "metadata": {},
   "outputs": [
    {
     "data": {
      "text/latex": [
       "$\\displaystyle \\frac{K_{4}L \\beta_{x}^{2}}{16 \\pi}$"
      ],
      "text/plain": [
       "K_{4}L*\\beta_{x}**2/(16*pi)"
      ]
     },
     "execution_count": 9,
     "metadata": {},
     "output_type": "execute_result"
    }
   ],
   "source": [
    "det_x_oct_x =  sp.diff(Qx_mean,Jx)\n",
    "det_x_oct_x"
   ]
  },
  {
   "cell_type": "markdown",
   "id": "65a5f220-0d31-47b3-9f5e-356b4d957725",
   "metadata": {},
   "source": [
    "The cross term is:"
   ]
  },
  {
   "cell_type": "code",
   "execution_count": 10,
   "id": "8a4a8d5d-cb72-481e-9198-781317c4af70",
   "metadata": {},
   "outputs": [
    {
     "data": {
      "text/latex": [
       "$\\displaystyle - \\frac{K_{4}L \\beta_{x} \\beta_{y}}{8 \\pi}$"
      ],
      "text/plain": [
       "-K_{4}L*\\beta_{x}*\\beta_{y}/(8*pi)"
      ]
     },
     "execution_count": 10,
     "metadata": {},
     "output_type": "execute_result"
    }
   ],
   "source": [
    "det_x_oct_y =  sp.diff(Qx_mean,Jy)\n",
    "det_x_oct_y"
   ]
  },
  {
   "cell_type": "markdown",
   "id": "aaa5a37d-e0c4-46fb-9e99-766c38c5c490",
   "metadata": {},
   "source": [
    "And we can also perform the same calculation for the Y direction:"
   ]
  },
  {
   "cell_type": "code",
   "execution_count": 11,
   "id": "2508b6b1-b5ff-469f-a66c-e09e89f2d9ce",
   "metadata": {},
   "outputs": [
    {
     "data": {
      "text/latex": [
       "$\\displaystyle \\frac{K_{4}L \\beta_{y}^{2}}{16 \\pi}$"
      ],
      "text/plain": [
       "K_{4}L*\\beta_{y}**2/(16*pi)"
      ]
     },
     "execution_count": 11,
     "metadata": {},
     "output_type": "execute_result"
    }
   ],
   "source": [
    "Qy = 1/(2*sp.pi)*sp.diff(Hn_action,Jy)\n",
    "Qy_mean = sp.integrate(Qy/(2*sp.pi)**2, (phix,0,2*sp.pi),(phiy,0,2*sp.pi))\n",
    "sp.simplify(Qy_mean)\n",
    "det_y_oct_y =  sp.diff(Qy_mean,Jy)\n",
    "det_y_oct_y"
   ]
  },
  {
   "cell_type": "markdown",
   "id": "fa33a132-30af-49af-b510-2e75f50677ca",
   "metadata": {},
   "source": [
    "So we have obtained the results of the presentation regarding the octupoles. \n",
    "\n",
    "We want to study the sextupole effect."
   ]
  },
  {
   "cell_type": "code",
   "execution_count": 12,
   "id": "f6584302-d615-4e1b-bbb7-f55124c5c7bb",
   "metadata": {},
   "outputs": [
    {
     "data": {
      "text/latex": [
       "$\\displaystyle \\frac{K_{3}L \\left(x^{3} - 3 x y^{2}\\right)}{6}$"
      ],
      "text/plain": [
       "K_{3}L*(x**3 - 3*x*y**2)/6"
      ]
     },
     "execution_count": 12,
     "metadata": {},
     "output_type": "execute_result"
    }
   ],
   "source": [
    "n = 3\n",
    "Hn = 1/(B*rho)*sp.Rational(1,n*sp.factorial(n-1))*sp.re((((Bn)*(x + sp.I*y)**n)))\n",
    "Hn = Hn.subs({Bn/(B*rho):K3L})\n",
    "Hn"
   ]
  },
  {
   "cell_type": "code",
   "execution_count": 13,
   "id": "9f7dae52-887e-4f46-8b3f-24f9b1f63730",
   "metadata": {},
   "outputs": [
    {
     "data": {
      "text/latex": [
       "$\\displaystyle \\frac{K_{3}L \\left(- 6 \\sqrt{2} J_{y} \\beta_{y} \\sqrt{J_{x} \\beta_{x}} \\cos{\\left(\\phi_{x} \\right)} \\cos^{2}{\\left(\\phi_{y} \\right)} + 2 \\sqrt{2} \\left(J_{x} \\beta_{x}\\right)^{\\frac{3}{2}} \\cos^{3}{\\left(\\phi_{x} \\right)}\\right)}{6}$"
      ],
      "text/plain": [
       "K_{3}L*(-6*sqrt(2)*J_{y}*\\beta_{y}*sqrt(J_{x}*\\beta_{x})*cos(\\phi_{x})*cos(\\phi_{y})**2 + 2*sqrt(2)*(J_{x}*\\beta_{x})**(3/2)*cos(\\phi_{x})**3)/6"
      ]
     },
     "execution_count": 13,
     "metadata": {},
     "output_type": "execute_result"
    }
   ],
   "source": [
    "Hn_action = Hn.subs({x:sp.sqrt(2*Jx*betx)*sp.cos(phix), y: sp.sqrt(2*Jy*bety)*sp.cos(phiy)})\n",
    "Hn_action"
   ]
  },
  {
   "cell_type": "code",
   "execution_count": 14,
   "id": "8132f9b4-ef6e-41ac-9846-b5b86a1df315",
   "metadata": {},
   "outputs": [
    {
     "data": {
      "text/latex": [
       "$\\displaystyle 0$"
      ],
      "text/plain": [
       "0"
      ]
     },
     "execution_count": 14,
     "metadata": {},
     "output_type": "execute_result"
    }
   ],
   "source": [
    "Qx = 1/(2*sp.pi)*sp.diff(Hn_action,Jx)\n",
    "Qx_mean = sp.integrate(Qx/(2*sp.pi)**2, (phix,0,2*sp.pi),(phiy,0,2*sp.pi))\n",
    "Qx_mean"
   ]
  },
  {
   "cell_type": "markdown",
   "id": "0f7c3354-1017-4923-b3b0-e2505107a194",
   "metadata": {},
   "source": [
    "So in this case the detuning is zero a first order, and this is true for every **ODD** multipole.\n",
    "\n",
    "We can use perturbation theory to study the effect of the sextupole strength on the detuning with amplitude. For simplicity we will stick to 1D."
   ]
  },
  {
   "cell_type": "code",
   "execution_count": 19,
   "id": "a55811ed-5ba4-42cb-b736-3fc2d0c1a285",
   "metadata": {},
   "outputs": [
    {
     "data": {
      "text/latex": [
       "$\\displaystyle \\frac{\\sqrt{2} K_{3}L \\left(J_{x} \\beta_{x}\\right)^{\\frac{3}{2}} \\cos^{3}{\\left(\\phi_{x} \\right)}}{3}$"
      ],
      "text/plain": [
       "sqrt(2)*K_{3}L*(J_{x}*\\beta_{x})**(3/2)*cos(\\phi_{x})**3/3"
      ]
     },
     "execution_count": 19,
     "metadata": {},
     "output_type": "execute_result"
    }
   ],
   "source": [
    "Vn_action_1D = K3L*(2*sp.sqrt(2)*((Jx*betx)**(sp.Rational(3,2)))*sp.cos(phix)**3)/6\n",
    "Vn_action_1D"
   ]
  },
  {
   "cell_type": "markdown",
   "id": "77d8964d-80e2-4f2d-b380-668611e78dc7",
   "metadata": {},
   "source": [
    "The steps are:\n",
    "- We take the perturbed Hamiltonian and we change variables to new ($J_{1},\\phi_{1}$);\n",
    "- The change of variable is made possible by a $G_{2}$ function of $G_{1}$, the perturbation;\n",
    "- Our task is to find a $G_{1}$ such that it is cancelled at first order."
   ]
  },
  {
   "cell_type": "code",
   "execution_count": 21,
   "id": "0695b5a3-25af-48a5-8f58-698598b2a8b1",
   "metadata": {},
   "outputs": [
    {
     "data": {
      "text/latex": [
       "$\\displaystyle \\frac{J_{x}}{\\beta_{x}} + \\frac{\\sqrt{2} K_{3}L \\left(J_{x} \\beta_{x}\\right)^{\\frac{3}{2}} \\cos^{3}{\\left(\\phi_{x} \\right)}}{3}$"
      ],
      "text/plain": [
       "J_{x}/\\beta_{x} + sqrt(2)*K_{3}L*(J_{x}*\\beta_{x})**(3/2)*cos(\\phi_{x})**3/3"
      ]
     },
     "execution_count": 21,
     "metadata": {},
     "output_type": "execute_result"
    }
   ],
   "source": [
    "H_pert = Jx/betx + Vn_action_1D\n",
    "H_pert"
   ]
  },
  {
   "cell_type": "code",
   "execution_count": 80,
   "id": "f3ce15a3-f123-4812-8357-395571adfb8f",
   "metadata": {},
   "outputs": [
    {
     "data": {
      "text/latex": [
       "$\\displaystyle \\int \\sum_{m=-\\infty}^{\\infty} \\frac{\\sqrt{2} i K_{3}L \\left(J_{x} \\beta_{x}{\\left(s^{*} \\right)}\\right)^{\\frac{3}{2}} e^{i m \\left(- \\pi \\nu{\\left(s^{*} \\right)} + \\phi_{x}{\\left(s^{*} \\right)} + \\psi_{x}{\\left(s \\right)} - \\psi_{x}{\\left(s^{*} \\right)}\\right)} \\cos^{3}{\\left(\\phi_{x}{\\left(s^{*} \\right)} \\right)}}{6 \\sin{\\left(\\pi m \\nu{\\left(s^{*} \\right)} \\right)}}\\, ds^{*}$"
      ],
      "text/plain": [
       "Integral(Sum(sqrt(2)*I*K_{3}L*(J_{x}*\\beta_{x}(s^{*}))**(3/2)*exp(I*m*(-pi*\\nu(s^{*}) + \\phi_{x}(s^{*}) + \\psi_{x}(s) - \\psi_{x}(s^{*})))*cos(\\phi_{x}(s^{*}))**3/(6*sin(pi*m*\\nu(s^{*}))), (m, -oo, oo)), s^{*})"
      ]
     },
     "execution_count": 80,
     "metadata": {},
     "output_type": "execute_result"
    }
   ],
   "source": [
    "betx, psix, phix, nu = sp.symbols(r'\\beta_{x} \\psi_{x} \\phi_{x} \\nu', cls=sp.Function)\n",
    "betx=betx(s_star)\n",
    "#psix=psix(s_star)\n",
    "phix = phix(s_star)\n",
    "nu = nu(s_star)\n",
    "Vn_action_1D = K3L*(2*sp.sqrt(2)*((Jx*betx)**(sp.Rational(3,2)))*sp.cos(phix)**3)/6\n",
    "Expr = (sp.I/(2*sp.sin(sp.pi*m*nu)))*sp.exp(sp.I*m*(phix+psix(s)-psix(s_star)-sp.pi*nu))*sp.simplify(Vn_action_1D)\n",
    "#Expr\n",
    "series = sp.concrete.summations.Sum(Expr,(m,-sp.oo,sp.oo)).doit()\n",
    "sp.integrate(series, s_star)"
   ]
  }
 ],
 "metadata": {
  "kernelspec": {
   "display_name": "Python 3 (ipykernel)",
   "language": "python",
   "name": "python3"
  },
  "language_info": {
   "codemirror_mode": {
    "name": "ipython",
    "version": 3
   },
   "file_extension": ".py",
   "mimetype": "text/x-python",
   "name": "python",
   "nbconvert_exporter": "python",
   "pygments_lexer": "ipython3",
   "version": "3.9.7"
  }
 },
 "nbformat": 4,
 "nbformat_minor": 5
}
