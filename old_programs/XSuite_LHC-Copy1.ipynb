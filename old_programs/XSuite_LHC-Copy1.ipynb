{
 "cells": [
  {
   "cell_type": "markdown",
   "id": "04ceb370-062f-4e36-9dc6-8dfb5b826b46",
   "metadata": {},
   "source": [
    "# XSuite language and Octupoles studies\n",
    "## XSuite baby steps\n",
    "\n",
    "Xsuite is a collection Python packages for the simulation of the beam dynamics in LHC. In this package we can simulate multi-particle behaviours and thanks to Python have an immediate interface to the problem.\n",
    "Let's have a look at the imports:\n",
    "- xobject is used to decide whether to program on CPU or GPU;\n",
    "- xtrack is used to load the lattice and to track the particles\n",
    "- xpart is used to define the particles to be tracked"
   ]
  },
  {
   "cell_type": "code",
   "execution_count": 3,
   "id": "6ad95599-cd4b-4a70-b404-7927dd6b7328",
   "metadata": {},
   "outputs": [],
   "source": [
    "import numpy as np\n",
    "import xobjects as xo\n",
    "import xtrack as xt\n",
    "import xpart as xp\n",
    "import json\n",
    "import pandas as pd\n",
    "from cpymad.madx import Madx\n",
    "from matplotlib import pyplot as plt\n",
    "%matplotlib inline\n",
    "import NAFFlib"
   ]
  },
  {
   "cell_type": "markdown",
   "id": "142d2868-7d35-4bb2-9175-cec459d5afb4",
   "metadata": {},
   "source": [
    "We will work on the CPU."
   ]
  },
  {
   "cell_type": "code",
   "execution_count": 4,
   "id": "cd46850e-3ffd-4dd8-a2d4-6734c6c1819b",
   "metadata": {},
   "outputs": [],
   "source": [
    "ctx = xo.ContextCpu()"
   ]
  },
  {
   "cell_type": "markdown",
   "id": "83e446d1-4ab4-40ff-bdaa-167b2838f359",
   "metadata": {},
   "source": [
    "## Coding steps\n",
    "Unfortunately together with Guido we found out that there is a bug that negates the possibility to use (for the moment) the HL-LHC lattice for the study. We will use the run 3 lattice.\n",
    "The problem, once understood, can be divided into these steps:\n",
    "- Create a lattice that is readable by XSuite environment;\n",
    "- In this lattice you need to be able to activate the \"knobs\" and to control them. This is the strength of the new environment created at CERN: the \"knobs\" are the main variables of the simulation, and are sort of control buttons of the LHC; when programming in pure MADx you need to modify these \"knobs\" manually into the code and rerun the simulation, whereas by interfacing the code with Python it is possible to modify the \"knobs\" on the run.\n",
    "- Find the closed orbit into the created lattice and simulate the particles.\n",
    "\n",
    "First of all we need to **load the lattice**. This can be done in various way, starting from a MADx file or a json file. In this case i produced a json file from the Run 3 simulation with the knobs activated."
   ]
  },
  {
   "cell_type": "code",
   "execution_count": 5,
   "id": "401f04ff-ee95-461c-be23-40ebab40caab",
   "metadata": {},
   "outputs": [],
   "source": [
    "mad = Madx()\n",
    "mad.call('/afs/cern.ch/user/a/afornara/simulations/2022_02_07/temp/lhcmask/python_examples/run3_collisions_python/andrea.madx')\n",
    "mad.use(sequence=\"lhcb1\")"
   ]
  },
  {
   "cell_type": "code",
   "execution_count": 6,
   "id": "cb61259a-cee2-4a05-b345-4c5aff47256e",
   "metadata": {
    "jupyter": {
     "source_hidden": true
    },
    "tags": []
   },
   "outputs": [],
   "source": [
    "#mad.globals.i_mo"
   ]
  },
  {
   "cell_type": "code",
   "execution_count": 7,
   "id": "228a0647-4281-4963-960f-387ea966bd76",
   "metadata": {
    "jupyter": {
     "source_hidden": true
    },
    "tags": []
   },
   "outputs": [],
   "source": [
    "#mad.globals.on_bb_charge\n",
    "#mad.twiss().dframe()"
   ]
  },
  {
   "cell_type": "code",
   "execution_count": 8,
   "id": "c4049bac-be21-48b3-97b6-9796a16722ab",
   "metadata": {
    "jupyter": {
     "source_hidden": true
    },
    "tags": []
   },
   "outputs": [],
   "source": [
    "if False:\n",
    "    with open('/afs/cern.ch/user/a/afornara/simulations/2022_02_07/temp/lhcmask/python_examples/run3_collisions_python/andrea.madx', 'r') as the_lhc:\n",
    "     loaded_lhc = json.load(the_lhc)\n",
    "    line = xt.Line.from_dict(loaded_lhc)"
   ]
  },
  {
   "cell_type": "markdown",
   "id": "da28a87b-917e-4dde-bfd6-154c70ecd5b3",
   "metadata": {},
   "source": [
    "The Line object, here called line for simplicity is the **LHC lattice**, as seen by beam 1."
   ]
  },
  {
   "cell_type": "code",
   "execution_count": 9,
   "id": "218c7a45-49a5-4244-981b-dc6e3d87bbee",
   "metadata": {},
   "outputs": [],
   "source": [
    "#line.element_names\n",
    "line = xt.Line.from_madx_sequence(mad.sequence['lhcb1'],\n",
    "                                  deferred_expressions=True\n",
    "                                  )"
   ]
  },
  {
   "cell_type": "markdown",
   "id": "40407c1c-c90e-4042-971e-25ea73f8daee",
   "metadata": {},
   "source": [
    "The knob containing the Octupole current is named 'i_mo', we can now see what value was decided for it by default by printing it out (notice that we are now always referring to the line, farewell MAD-X.)"
   ]
  },
  {
   "cell_type": "code",
   "execution_count": 10,
   "id": "e5bb55c3-eb41-4fa8-b99f-b1dedfbee489",
   "metadata": {},
   "outputs": [
    {
     "name": "stdout",
     "output_type": "stream",
     "text": [
      "-350.0\n"
     ]
    }
   ],
   "source": [
    "print(line.vars['i_mo']._get_value())"
   ]
  },
  {
   "cell_type": "code",
   "execution_count": 11,
   "id": "7d595486-a3ab-4e21-b9bb-b577281bec5b",
   "metadata": {},
   "outputs": [
    {
     "data": {
      "text/plain": [
       "-0.6894449027659545"
      ]
     },
     "execution_count": 11,
     "metadata": {},
     "output_type": "execute_result"
    }
   ],
   "source": [
    "\n",
    "#Qui ho definito v, lettera a caso, per accedere con dir e con v. alla roba li dentro\n",
    "#v=line.element_dict['mqwa.a4r3.b1..2']\n",
    "#dir(v)\n",
    "#v.order\n",
    "\n",
    "#Scorrere sugli ottupoli\n",
    "sum_nl = 0.0\n",
    "count_nl = 0\n",
    "sum_sl = 0.0\n",
    "count_sl = 0\n",
    "for elem in line.element_dict :\n",
    "    if isinstance(line.element_dict[elem],xt.beam_elements.elements.Multipole):   \n",
    "        if(line.element_dict[elem].order==3):\n",
    "                #i print sono giusti, li commento perché sono lunghi\n",
    "                sum_nl+=line.element_dict[elem].knl[3]\n",
    "                count_nl+=1\n",
    "                sum_sl+=line.element_dict[elem].ksl\n",
    "                count_sl+=1\n",
    "                #print(elem)\n",
    "                #print(line.element_dict[elem].knl)\n",
    "K_OCT = sum_nl/count_nl\n",
    "K_OCT"
   ]
  },
  {
   "cell_type": "code",
   "execution_count": 10,
   "id": "4cd6ca0e-3479-4a8c-bd68-a6227f227d6e",
   "metadata": {},
   "outputs": [],
   "source": [
    "#Come sopra, sono lunghi ma e giusto\n",
    "#line.element_dict\n"
   ]
  },
  {
   "cell_type": "markdown",
   "id": "04c2da8c-24dc-455d-be5d-bfbd5ca28854",
   "metadata": {},
   "source": [
    "For example with the command ```line.element_names``` we can see all the elements present in the lattice, and in particular we discover that this lattice starts at ip3.\n",
    "Now we want to define a particle. There are various ways to define particles, for example these 2."
   ]
  },
  {
   "cell_type": "code",
   "execution_count": 12,
   "id": "d07b1f98-b995-4894-8c54-3e43aa3ffe29",
   "metadata": {},
   "outputs": [],
   "source": [
    "line.particle_ref = xp.Particles(_context=ctx,\n",
    "                        p0c=7000e9,\n",
    "                        x=[1.00951707e-08],px=[1.69518015e-10],\n",
    "                        y=[4.51912859e-12],py=[6.07695199e-14]\n",
    "                        )\n",
    "particles_3 = xp.Particles(_context=ctx,\n",
    "                        p0c=7000e9,\n",
    "                        x=[1.00951707e-08],px=[1.69518015e-10],\n",
    "                        y=[5.65551848e-12],py=[6.07695199e-14]\n",
    "                        )\n",
    "#xp.Particles??\n",
    "#epsilon LHC = 2e-6/betagammarel, per capire l'effetto degli ottupoli fissa la corrente e fai 3 particelle\n",
    "#distanti tot sigma=sqrt(epsilon*beta) l'una dall'altra.\n",
    "#beta dove lo vuoi misurare te lo dice twiss, betagammarel usa il solito ed epsilon l'ho definita\n",
    "#nel primo commento"
   ]
  },
  {
   "cell_type": "markdown",
   "id": "419ef103-7c91-45a0-93d4-e097e610e72e",
   "metadata": {},
   "source": [
    "Or one can create a collection of particles randomly generated, following certain distributions."
   ]
  },
  {
   "cell_type": "code",
   "execution_count": 13,
   "id": "0ac1bfe4-105b-4a77-bb20-9ee4ec394097",
   "metadata": {},
   "outputs": [],
   "source": [
    "n_part = 1\n",
    "particles_2 = xp.Particles(_context=ctx,\n",
    "                        p0c=6500e9,\n",
    "                        x=np.random.uniform(-1e-3, 1e-3, n_part),\n",
    "                        px=np.random.uniform(-1e-5, 1e-5, n_part),\n",
    "                        y=np.random.uniform(-2e-3, 2e-3, n_part),\n",
    "                        py=np.random.uniform(-3e-5, 3e-5, n_part),\n",
    "                        zeta=np.random.uniform(-1e-2, 1e-2, n_part),\n",
    "                        delta=np.random.uniform(-1e-4, 1e-4, n_part),\n",
    "                        )\n",
    "\n"
   ]
  },
  {
   "cell_type": "markdown",
   "id": "2495f48c-2149-4aa1-8b44-c129068c737d",
   "metadata": {},
   "source": [
    "Here comes the tracking! We create an object that is going to track the particles in the CPU over the \"line\" (LHC lattice in this case)."
   ]
  },
  {
   "cell_type": "code",
   "execution_count": 14,
   "id": "a78fa2dd-c66e-455e-989d-2896241bdaff",
   "metadata": {},
   "outputs": [
    {
     "name": "stdout",
     "output_type": "stream",
     "text": [
      "generating ./9ba2c268b5d24cb38df19c6170305636.c\n",
      "the current directory is '/afs/cern.ch/user/a/afornara/simulations/2022_02_07/thick/postprocessing'\n",
      "running build_ext\n",
      "building '9ba2c268b5d24cb38df19c6170305636' extension\n",
      "gcc -pthread -B /home/afornara/py/2022_03_02/miniconda/compiler_compat -Wno-unused-result -Wsign-compare -DNDEBUG -O2 -Wall -fPIC -O2 -isystem /home/afornara/py/2022_03_02/miniconda/include -I/home/afornara/py/2022_03_02/miniconda/include -fPIC -O2 -isystem /home/afornara/py/2022_03_02/miniconda/include -fPIC -I/home/afornara/py/2022_03_02/miniconda/include/python3.9 -c 9ba2c268b5d24cb38df19c6170305636.c -o ./9ba2c268b5d24cb38df19c6170305636.o -std=c99 -O3 -Wno-unused-function\n",
      "gcc -pthread -B /home/afornara/py/2022_03_02/miniconda/compiler_compat -shared -Wl,-rpath,/home/afornara/py/2022_03_02/miniconda/lib -Wl,-rpath-link,/home/afornara/py/2022_03_02/miniconda/lib -L/home/afornara/py/2022_03_02/miniconda/lib -L/home/afornara/py/2022_03_02/miniconda/lib -Wl,-rpath,/home/afornara/py/2022_03_02/miniconda/lib -Wl,-rpath-link,/home/afornara/py/2022_03_02/miniconda/lib -L/home/afornara/py/2022_03_02/miniconda/lib ./9ba2c268b5d24cb38df19c6170305636.o -o ./9ba2c268b5d24cb38df19c6170305636.cpython-39-x86_64-linux-gnu.so -std=c99 -O3\n"
     ]
    }
   ],
   "source": [
    "tracker = xt.Tracker(_context=ctx, line=line)"
   ]
  },
  {
   "cell_type": "markdown",
   "id": "bfb6ed4e-b5d6-4501-9998-b3b523cbc162",
   "metadata": {},
   "source": [
    "We can now specify which particles we want to track and for how many turns. \n",
    "First of all let's see how to change the value of the Octupoles current and what is the effect on the Octupoles strength. \n",
    "- With `tracker.vars['i_mo']._find_dependant_targets())print(tracker.vars['i_mo']._find_dependant_targets()` we can understand what elements are dependant from this knob, i.e. what elements are controlled by the octupole current;\n",
    "- We take for example kof.a12b1. \n",
    "- With `tracker.vars['kof.a12b1']._expr)print(tracker.vars['kof.a12b1']._expr` we get the expression related to this object, and it has i_mo inside;\n",
    "- With `tracker.vars['kof.a12b1']._get_value()tracker.vars['kof.a12b1']._get_value()` we can obtain the numerical value of that expression.\n",
    "\n",
    "As you can see we can control the knob in the line and the expression will vary accordingly. Again, we are in Python and we are controlling the lattice, and modifying it on the run!"
   ]
  },
  {
   "cell_type": "code",
   "execution_count": 15,
   "id": "5a59dca7-54f6-481f-a0c5-dcb3a90044ff",
   "metadata": {},
   "outputs": [
    {
     "name": "stdout",
     "output_type": "stream",
     "text": [
      "The expression is  (((vars['kmax_mo']*vars['i_mo'])/vars['imax_mo'])/23349.486663870644)\n",
      "With i_mo = -250---> -7.370222376545454\n",
      "With i_mo = -350---> -10.318311327163636\n"
     ]
    }
   ],
   "source": [
    "#Let's see the effects on the kof.a12b1\n",
    "print('The expression is ',tracker.vars['kof.a12b1']._expr)\n",
    "#print(tracker.vars['i_mo']._find_dependant_targets())\n",
    "line.vars['i_mo'] = -250\n",
    "print('With i_mo = -250--->',tracker.vars['kof.a12b1']._get_value())\n",
    "line.vars['i_mo'] = -350\n",
    "print('With i_mo = -350--->',tracker.vars['kof.a12b1']._get_value())"
   ]
  },
  {
   "cell_type": "code",
   "execution_count": 30,
   "id": "716f8707-ca44-45a8-b25c-6bb7775f2bd7",
   "metadata": {},
   "outputs": [
    {
     "name": "stdout",
     "output_type": "stream",
     "text": [
      "((((0.166475694088+(0.000596051042311*vars['dqpx.b1']))+(0.000110084106309*vars['dqpy.b1']))+(0.0*vars['dqpx.b1_sq']))+(0.0*vars['dqpy.b1_sq']))\n",
      "13.068923331334\n"
     ]
    }
   ],
   "source": [
    "print(tracker.vars['ksf1.a12b1']._expr)\n",
    "print(line.vars['dqpy.b1_sq']._get_value())"
   ]
  },
  {
   "cell_type": "markdown",
   "id": "0f3f6bcc-f45a-40e9-8c07-9977ca7c7305",
   "metadata": {},
   "source": [
    "## Little study of the closed orbit and relative motion"
   ]
  },
  {
   "cell_type": "markdown",
   "id": "e738be6a-c55e-41fc-bc41-69257ae61c89",
   "metadata": {},
   "source": [
    "We want to twiss, why? We need it to find the Tunes of the machine and in particular find the closed orbit, so that from there we can study the motion around it.\n",
    "The twiss is performed by XSuite tracker.twiss() method.\n",
    "We also show some plots related to the Twiss."
   ]
  },
  {
   "cell_type": "code",
   "execution_count": 15,
   "id": "fc2d47bd-5f6b-4fd2-adf3-3fbec066696b",
   "metadata": {},
   "outputs": [
    {
     "data": {
      "image/png": "[encoded data removed]",
      "text/plain": [
       "<Figure size 460.8x518.4 with 3 Axes>"
      ]
     },
     "metadata": {
      "needs_background": "light"
     },
     "output_type": "display_data"
    },
    {
     "data": {
      "text/plain": [
       "array([120.29057059, 120.29057059, 120.29057059, ..., 223.10537115,\n",
       "       223.10537115, 120.29066114])"
      ]
     },
     "execution_count": 15,
     "metadata": {},
     "output_type": "execute_result"
    }
   ],
   "source": [
    "tw = tracker.twiss(particles_3)\n",
    "\n",
    "fig1 = plt.figure(1, figsize=(6.4, 4.8*1.5))\n",
    "spbet = plt.subplot(3,1,1)\n",
    "spco = plt.subplot(3,1,2, sharex=spbet)\n",
    "spdisp = plt.subplot(3,1,3, sharex=spbet)\n",
    "\n",
    "spbet.plot(tw['s'], tw['betx'])\n",
    "spbet.plot(tw['s'], tw['bety'])\n",
    "\n",
    "spco.plot(tw['s'], tw['x'])\n",
    "spco.plot(tw['s'], tw['y'])\n",
    "\n",
    "spdisp.plot(tw['s'], tw['dx'])\n",
    "spdisp.plot(tw['s'], tw['dy'])\n",
    "\n",
    "spbet.set_ylabel(r'$\\beta_{x,y}$ [m]')\n",
    "spco.set_ylabel(r'(Closed orbit)$_{x,y}$ [m]')\n",
    "spdisp.set_ylabel(r'$D_{x,y}$ [m]')\n",
    "spdisp.set_xlabel('s [m]')\n",
    "\n",
    "fig1.suptitle(\n",
    "    r'$q_x$ = ' f'{tw[\"qx\"]:.5f}' r' $q_y$ = ' f'{tw[\"qy\"]:.5f}' '\\n'\n",
    "    r\"$dq_x$ = \" f'{tw[\"dqx\"]:.2f}' r\" $dq_y$ = \" f'{tw[\"dqy\"]:.2f}'\n",
    "    r' $\\gamma_{tr}$ = '  f'{1/np.sqrt(tw[\"momentum_compaction_factor\"]):.2f}'\n",
    ")\n",
    "\n",
    "\n",
    "\n",
    "plt.show()\n",
    "tw['betx']"
   ]
  },
  {
   "cell_type": "markdown",
   "id": "5418fc64-37ec-4c11-9deb-44d5b60356b1",
   "metadata": {},
   "source": [
    "Now for the tracking:\n",
    "- n_turns is the step that we want to use to define when to sample our particles; for example if n_turns=10 then after 10 turns the variables will be saved;\n",
    "- N_arr is the dimension of the arrays of the variables related to the beam and also tells us how many times we want the 10 turns to be repeated for sampling. So if N_arr = 100 and n_turns = 10 we will track the particles over 10 turns, register the final x,px...values and repeat again for 100 times.\n",
    "For simplicity we will stick to n_turns=1 and N_arr=....\n",
    "\n",
    "How can we use the results of the twiss to see the closed orbit and track it?\n",
    "If we define (as before) `tw = tracker.twiss(particles_3)` then tw will have the particle on closed orbit saved as a particle object via `tw['particle_on_co']`-> we define a particle exactly on the closed orbit and a particle near it (i.e. with x a little bit further, let's say $10^{-5}$)"
   ]
  },
  {
   "cell_type": "code",
   "execution_count": 16,
   "id": "b2d2b187-61b3-4572-859d-c18dde5eb49c",
   "metadata": {
    "tags": []
   },
   "outputs": [],
   "source": [
    "n_turns = 1\n",
    "N_arr=1000\n",
    "x_part0 = np.zeros(N_arr)\n",
    "px_part0 = np.zeros(N_arr)\n",
    "y_part0 = np.zeros(N_arr)\n",
    "py_part0 = np.zeros(N_arr)\n",
    "zeta_part0 = np.zeros(N_arr)\n",
    "delta_part0 = np.zeros(N_arr)\n",
    "\n",
    "x_part1 = np.zeros(N_arr)\n",
    "px_part1 = np.zeros(N_arr)\n",
    "y_part1 = np.zeros(N_arr)\n",
    "py_part1 = np.zeros(N_arr)\n",
    "zeta_part1 = np.zeros(N_arr)\n",
    "delta_part1 = np.zeros(N_arr)\n",
    "\n",
    "tw = tracker.twiss(particles_3)\n",
    "co_part=tw['particle_on_co']\n",
    "near_co_particle=tw['particle_on_co']\n",
    "\n",
    "\n",
    "for ii in range(N_arr):\n",
    "    tracker.track(co_part, num_turns=n_turns,turn_by_turn_monitor=False)\n",
    "    #print(particles_3.x)\n",
    "    x_part0[ii]=co_part.x\n",
    "    px_part0[ii]=co_part.px\n",
    "    y_part0[ii]=co_part.y\n",
    "    py_part0[ii]=co_part.py\n",
    "    zeta_part0[ii]=co_part.zeta\n",
    "    delta_part0[ii]=co_part.delta\n",
    "    #print(zeta_part0[ii],delta_part0[ii])\n",
    "    \n",
    "near_co_particle.x=near_co_particle.x+6*0.00021990181745701876\n",
    "\n",
    "for ii in range(N_arr):\n",
    "    tracker.track(near_co_particle, num_turns=n_turns,turn_by_turn_monitor=False)\n",
    "    #print(particles_3.x)\n",
    "    x_part1[ii]=near_co_particle.x\n",
    "    px_part1[ii]=near_co_particle.px\n",
    "    y_part1[ii]=near_co_particle.y\n",
    "    py_part1[ii]=near_co_particle.py\n",
    "    zeta_part1[ii]=near_co_particle.zeta\n",
    "    delta_part1[ii]=near_co_particle.delta\n",
    "    #print(zeta_part1[ii],delta_part1[ii])\n"
   ]
  },
  {
   "cell_type": "code",
   "execution_count": 17,
   "id": "7472d641-5d9a-4e38-a7c2-a5734e1e7ce0",
   "metadata": {
    "jupyter": {
     "source_hidden": true
    },
    "tags": []
   },
   "outputs": [],
   "source": [
    "if False:\n",
    "    tw = tracker.twiss(particles_3)\n",
    "    print(tw['particle_on_co'].x)\n",
    "    a=tw['particle_on_co']\n",
    "    #a.x=0\n",
    "    ciao = tracker.track(a, num_turns=100)\n",
    "    a.x\n",
    "    near_particle = a \n",
    "    near_particle.x=near_particle.x+1e-5"
   ]
  },
  {
   "cell_type": "markdown",
   "id": "a5bf059f-724e-4692-b3de-2bd184418d27",
   "metadata": {},
   "source": [
    "We can now get a look at the variables!\n",
    "We immediately see that the particle on the closed orbit, blue, is not oscillating, while the near particle is performing betatron motion (zoom over the first 50 turns)."
   ]
  },
  {
   "cell_type": "code",
   "execution_count": 18,
   "id": "20e743ff-83b6-44fb-9c85-d39ff121acf5",
   "metadata": {},
   "outputs": [
    {
     "data": {
      "image/png": "[encoded data removed]",
      "text/plain": [
       "<Figure size 432x288 with 1 Axes>"
      ]
     },
     "metadata": {
      "needs_background": "light"
     },
     "output_type": "display_data"
    }
   ],
   "source": [
    "plt.plot(x_part0,'-o')\n",
    "plt.plot(x_part1,'-o')\n",
    "\n",
    "\n",
    "plt.grid()\n",
    "plt.xlabel('Turns')\n",
    "plt.ylabel('x');\n",
    "plt.xlim(0,50);"
   ]
  },
  {
   "cell_type": "markdown",
   "id": "9ff7b890-fb5a-40cf-93f3-607a4295707f",
   "metadata": {},
   "source": [
    "By looking at the x,px plot we can see the oscillatory motion and the stable motion of the closed orbit particle."
   ]
  },
  {
   "cell_type": "code",
   "execution_count": 19,
   "id": "aa9ee9a2-ea60-4e45-ae78-2e81f04696e9",
   "metadata": {
    "tags": []
   },
   "outputs": [
    {
     "data": {
      "image/png": "[encoded data removed]",
      "text/plain": [
       "<Figure size 432x288 with 1 Axes>"
      ]
     },
     "metadata": {
      "needs_background": "light"
     },
     "output_type": "display_data"
    }
   ],
   "source": [
    "plt.plot(x_part0,px_part0,'.')\n",
    "plt.plot(x_part1,px_part1,'.')\n",
    "plt.grid()\n",
    "plt.xlabel('x')\n",
    "plt.ylabel('px');"
   ]
  },
  {
   "cell_type": "markdown",
   "id": "8ac4ce29-d006-4314-9b7d-d0bff12fc7e7",
   "metadata": {},
   "source": [
    "By looking at the z,$\\delta$ plot we discover something: the energy of the near particle is slightly oscillating! This means that the particle is giving out energy in the transverse direction periodically.\n",
    "In this case, since the numbers are so small we can attribute it to numerical precision, but this behaviour is true in general."
   ]
  },
  {
   "cell_type": "code",
   "execution_count": 26,
   "id": "53d2f2fc-c878-48dd-951c-9399731ecf8d",
   "metadata": {},
   "outputs": [
    {
     "data": {
      "image/png": "[encoded data removed]",
      "text/plain": [
       "<Figure size 432x288 with 1 Axes>"
      ]
     },
     "metadata": {
      "needs_background": "light"
     },
     "output_type": "display_data"
    }
   ],
   "source": [
    "plt.plot(zeta_part0,delta_part0,'.');\n",
    "plt.plot(zeta_part1,delta_part1,'.');\n",
    "#plt.plot(delta_part,'o');"
   ]
  },
  {
   "cell_type": "markdown",
   "id": "4fa09cd8-2b8a-4849-a871-98495d7018f9",
   "metadata": {},
   "source": [
    "As a proof of this \"leakage\" of energy the y,py plot is the following: the transverse motion has been excited."
   ]
  },
  {
   "cell_type": "code",
   "execution_count": 21,
   "id": "53635758-59ce-4e6f-9e4c-ed23b07388b8",
   "metadata": {},
   "outputs": [
    {
     "data": {
      "image/png": "[encoded data removed]",
      "text/plain": [
       "<Figure size 432x288 with 1 Axes>"
      ]
     },
     "metadata": {
      "needs_background": "light"
     },
     "output_type": "display_data"
    }
   ],
   "source": [
    "plt.plot(y_part0,py_part0,'.')\n",
    "plt.plot(y_part1,py_part1,'.')\n",
    "plt.grid()\n",
    "plt.xlabel('y')\n",
    "plt.ylabel('py');"
   ]
  },
  {
   "cell_type": "markdown",
   "id": "149bd25f-3b7f-402f-8a56-f845983d1043",
   "metadata": {},
   "source": [
    "## Tune reconstruction via FFT and Octupoles effect"
   ]
  },
  {
   "cell_type": "markdown",
   "id": "51670961-eb46-459b-b20e-743009b92fc5",
   "metadata": {},
   "source": [
    "Having tracked the particles inside the machine it is possible to analyze their x spectrum to calculate the tune. To do this we perform a Fast Fourier Transform. The tune at this point can be retrieved as a **FRACTIONAL** tune.\n",
    "Looking at the plot you will see a flat line (blue), referring to the continuous spectrum of the closed orbit AND the continuous spectrum of the other particle. The particle on the closed orbit is not oscillating, thus the spectrum is continuous. The spike around 0.31 is the fractional tune of the oscillating particle."
   ]
  },
  {
   "cell_type": "code",
   "execution_count": 22,
   "id": "e188b032-ef9d-475d-8c00-77c25b0d84b2",
   "metadata": {},
   "outputs": [
    {
     "data": {
      "image/png": "[encoded data removed]",
      "text/plain": [
       "<Figure size 432x288 with 1 Axes>"
      ]
     },
     "metadata": {
      "needs_background": "light"
     },
     "output_type": "display_data"
    }
   ],
   "source": [
    "#Max_reco_freq= sampling frequency/2.\n",
    "plt.figure()\n",
    "plt.plot(np.linspace(0,1,len(x_part1)), np.abs(np.fft.fft(x_part1)), 'r')\n",
    "plt.plot(np.linspace(0,1,len(x_part0)), np.abs(np.fft.fft(x_part0)), 'b')\n",
    "plt.xlabel('Q1 from X')\n",
    "plt.ylabel('FFT amplitude [arb. units]')\n",
    "plt.xlim(0,0.5)\n",
    "plt.grid()\n",
    "#print(np.abs(np.fft.fft(x_part)))"
   ]
  },
  {
   "cell_type": "markdown",
   "id": "a32996fe-6ff0-4e97-a1a8-16db936d49cd",
   "metadata": {},
   "source": [
    "We can now see the octupoles effect on the particles. We take as reference the Closed Orbit and some other particles, defined with a certain distance from the first one. We fix:\n",
    "- The octupoles current to -350 Ampere.\n",
    "- The measurement position at IP3 ($\\beta_{x}$=120.29044352)\n",
    "- $\\sigma_{x}$=$\\sqrt{\\frac{\\beta_{x}\\epsilon}{\\gamma}}$, with $\\epsilon=3\\times10^{-6}$"
   ]
  },
  {
   "cell_type": "code",
   "execution_count": 23,
   "id": "68dfd57c-36ec-4b99-be29-65e32f7bd2e3",
   "metadata": {},
   "outputs": [
    {
     "data": {
      "text/plain": [
       "0.00021990181745701876"
      ]
     },
     "execution_count": 23,
     "metadata": {},
     "output_type": "execute_result"
    }
   ],
   "source": [
    "gamma=7000/.938\n",
    "sigma_x=np.sqrt(120.29057045*3e-6/gamma)\n",
    "sigma_x"
   ]
  },
  {
   "cell_type": "markdown",
   "id": "38aad37b-c826-44f8-9acc-15257914dfa0",
   "metadata": {},
   "source": [
    "We will now perform two different trackings: the first one will be with the Octupole current set to zero, the second one with the octupoles on.\n",
    "Setting the current to zero:"
   ]
  },
  {
   "cell_type": "code",
   "execution_count": 24,
   "id": "7e3967c8-b2a5-4946-ab5a-a1937a040eab",
   "metadata": {},
   "outputs": [],
   "source": [
    "line.vars['i_mo'] = 0"
   ]
  },
  {
   "cell_type": "code",
   "execution_count": 40,
   "id": "f0db1b09-dbaf-4bf2-b929-d5598a7fe8bd",
   "metadata": {},
   "outputs": [
    {
     "name": "stdout",
     "output_type": "stream",
     "text": [
      "generating ./697c3518841c4d66afc4b1bc42eef139.c\n",
      "the current directory is '/afs/cern.ch/user/a/afornara/simulations/2022_02_07/thick/postprocessing'\n",
      "running build_ext\n",
      "building '697c3518841c4d66afc4b1bc42eef139' extension\n",
      "gcc -pthread -B /home/afornara/py/2022_03_02/miniconda/compiler_compat -Wno-unused-result -Wsign-compare -DNDEBUG -O2 -Wall -fPIC -O2 -isystem /home/afornara/py/2022_03_02/miniconda/include -I/home/afornara/py/2022_03_02/miniconda/include -fPIC -O2 -isystem /home/afornara/py/2022_03_02/miniconda/include -fPIC -I/home/afornara/py/2022_03_02/miniconda/include/python3.9 -c 697c3518841c4d66afc4b1bc42eef139.c -o ./697c3518841c4d66afc4b1bc42eef139.o -std=c99 -O3 -Wno-unused-function\n",
      "gcc -pthread -B /home/afornara/py/2022_03_02/miniconda/compiler_compat -shared -Wl,-rpath,/home/afornara/py/2022_03_02/miniconda/lib -Wl,-rpath-link,/home/afornara/py/2022_03_02/miniconda/lib -L/home/afornara/py/2022_03_02/miniconda/lib -L/home/afornara/py/2022_03_02/miniconda/lib -Wl,-rpath,/home/afornara/py/2022_03_02/miniconda/lib -Wl,-rpath-link,/home/afornara/py/2022_03_02/miniconda/lib -L/home/afornara/py/2022_03_02/miniconda/lib ./697c3518841c4d66afc4b1bc42eef139.o -o ./697c3518841c4d66afc4b1bc42eef139.cpython-39-x86_64-linux-gnu.so -std=c99 -O3\n"
     ]
    }
   ],
   "source": [
    "tracker2 = xt.Tracker(_context=ctx, line=line)\n",
    "n_turns = 1\n",
    "N_arr=1000\n",
    "#x_part0 = np.zeros(N_arr)\n",
    "#x_part1 = np.zeros(N_arr)\n",
    "x_part2 = np.zeros(N_arr)\n",
    "x_part3 = np.zeros(N_arr)\n",
    "x_part4 = np.zeros(N_arr)\n",
    "x_part5 = np.zeros(N_arr)\n",
    "\n",
    "tw = tracker2.twiss(particles_3)\n",
    "#co_part=tw['particle_on_co']\n",
    "#near_co_particle1=tw['particle_on_co']\n",
    "near_co_particle2=tw['particle_on_co']\n",
    "near_co_particle3=tw['particle_on_co']\n",
    "near_co_particle4=tw['particle_on_co']\n",
    "near_co_particle5=tw['particle_on_co']\n",
    "\n",
    "\n",
    "if False:\n",
    "    for ii in range(N_arr):\n",
    "        tracker2.track(co_part, num_turns=n_turns,turn_by_turn_monitor=False)\n",
    "        #print(particles_3.x)\n",
    "        x_part0[ii]=co_part.x\n",
    "    \n",
    "#near_co_particle1.x=near_co_particle1.x+0.2*sigma_x\n",
    "near_co_particle2.x=near_co_particle2.x+2*sigma_x\n",
    "near_co_particle3.x=near_co_particle3.x+3*sigma_x\n",
    "near_co_particle4.x=near_co_particle4.x+4*sigma_x\n",
    "near_co_particle5.x=near_co_particle5.x+5*sigma_x\n",
    "\n",
    "if False:\n",
    "    for ii in range(N_arr):\n",
    "        tracker2.track(near_co_particle1, num_turns=n_turns,turn_by_turn_monitor=False)\n",
    "        x_part1[ii]=near_co_particle1.x\n",
    "        #print(x_part1[ii])\n",
    "for ii in range(N_arr):\n",
    "    tracker2.track(near_co_particle2, num_turns=n_turns,turn_by_turn_monitor=False)\n",
    "    x_part2[ii]=near_co_particle2.x\n",
    "    #print(x_part2[ii])\n",
    "for ii in range(N_arr):\n",
    "    tracker2.track(near_co_particle3, num_turns=n_turns,turn_by_turn_monitor=False)\n",
    "    x_part3[ii]=near_co_particle3.x\n",
    "    #print(x_part3[ii])\n",
    "for ii in range(N_arr):\n",
    "    tracker2.track(near_co_particle4, num_turns=n_turns,turn_by_turn_monitor=False)\n",
    "    x_part4[ii]=near_co_particle4.x\n",
    "for ii in range(N_arr):\n",
    "    tracker2.track(near_co_particle5, num_turns=n_turns,turn_by_turn_monitor=False)\n",
    "    x_part5[ii]=near_co_particle5.x\n",
    "    \n",
    "#print(x_part1[ii])"
   ]
  },
  {
   "cell_type": "code",
   "execution_count": 23,
   "id": "9474fcdf-ff85-49bd-8a14-a163e1dd1cd8",
   "metadata": {},
   "outputs": [
    {
     "ename": "NameError",
     "evalue": "name 'x_part2' is not defined",
     "output_type": "error",
     "traceback": [
      "\u001b[0;31m---------------------------------------------------------------------------\u001b[0m",
      "\u001b[0;31mNameError\u001b[0m                                 Traceback (most recent call last)",
      "Input \u001b[0;32mIn [23]\u001b[0m, in \u001b[0;36m<cell line: 5>\u001b[0;34m()\u001b[0m\n\u001b[1;32m      2\u001b[0m plt\u001b[38;5;241m.\u001b[39mfigure()\n\u001b[1;32m      3\u001b[0m \u001b[38;5;66;03m#plt.plot(np.linspace(0,1,len(x_part0)), np.abs(np.fft.fft(x_part0)), 'b')\u001b[39;00m\n\u001b[1;32m      4\u001b[0m \u001b[38;5;66;03m#plt.plot(np.linspace(0,1,len(x_part1)), np.abs(np.fft.fft(x_part1)), 'c')\u001b[39;00m\n\u001b[0;32m----> 5\u001b[0m plt\u001b[38;5;241m.\u001b[39mplot(np\u001b[38;5;241m.\u001b[39mlinspace(\u001b[38;5;241m0\u001b[39m,\u001b[38;5;241m1\u001b[39m,\u001b[38;5;28mlen\u001b[39m(\u001b[43mx_part2\u001b[49m)), np\u001b[38;5;241m.\u001b[39mabs(np\u001b[38;5;241m.\u001b[39mfft\u001b[38;5;241m.\u001b[39mfft(x_part2)), \u001b[38;5;124m'\u001b[39m\u001b[38;5;124mm\u001b[39m\u001b[38;5;124m'\u001b[39m)\n\u001b[1;32m      6\u001b[0m plt\u001b[38;5;241m.\u001b[39mplot(np\u001b[38;5;241m.\u001b[39mlinspace(\u001b[38;5;241m0\u001b[39m,\u001b[38;5;241m1\u001b[39m,\u001b[38;5;28mlen\u001b[39m(x_part3)), np\u001b[38;5;241m.\u001b[39mabs(np\u001b[38;5;241m.\u001b[39mfft\u001b[38;5;241m.\u001b[39mfft(x_part3)), \u001b[38;5;124m'\u001b[39m\u001b[38;5;124my\u001b[39m\u001b[38;5;124m'\u001b[39m)\n\u001b[1;32m      7\u001b[0m plt\u001b[38;5;241m.\u001b[39mplot(np\u001b[38;5;241m.\u001b[39mlinspace(\u001b[38;5;241m0\u001b[39m,\u001b[38;5;241m1\u001b[39m,\u001b[38;5;28mlen\u001b[39m(x_part4)), np\u001b[38;5;241m.\u001b[39mabs(np\u001b[38;5;241m.\u001b[39mfft\u001b[38;5;241m.\u001b[39mfft(x_part4)), \u001b[38;5;124m'\u001b[39m\u001b[38;5;124mg\u001b[39m\u001b[38;5;124m'\u001b[39m)\n",
      "\u001b[0;31mNameError\u001b[0m: name 'x_part2' is not defined"
     ]
    },
    {
     "data": {
      "text/plain": [
       "<Figure size 432x288 with 0 Axes>"
      ]
     },
     "metadata": {},
     "output_type": "display_data"
    }
   ],
   "source": [
    "#Max_reco_freq= sampling frequency/2.\n",
    "plt.figure()\n",
    "#plt.plot(np.linspace(0,1,len(x_part0)), np.abs(np.fft.fft(x_part0)), 'b')\n",
    "#plt.plot(np.linspace(0,1,len(x_part1)), np.abs(np.fft.fft(x_part1)), 'c')\n",
    "plt.plot(np.linspace(0,1,len(x_part2)), np.abs(np.fft.fft(x_part2)), 'm')\n",
    "plt.plot(np.linspace(0,1,len(x_part3)), np.abs(np.fft.fft(x_part3)), 'y')\n",
    "plt.plot(np.linspace(0,1,len(x_part4)), np.abs(np.fft.fft(x_part4)), 'g')\n",
    "plt.plot(np.linspace(0,1,len(x_part5)), np.abs(np.fft.fft(x_part5)), 'r')\n",
    "plt.xlabel('Q1 from X')\n",
    "plt.ylabel('FFT amplitude [arb. units]')\n",
    "plt.xlim(0.31,0.32)\n",
    "plt.grid()\n",
    "#print(np.abs(np.fft.fft(x_part)))"
   ]
  },
  {
   "cell_type": "markdown",
   "id": "6efda9e5-98a0-4b44-b3b2-4d80326323b4",
   "metadata": {},
   "source": [
    "Big problem: maybe there's an effect, maybe not, the precision of the Numpy fft is too low for this problem.\n",
    "We need to use a better Fast Fourier Transform, and it is provided by the NAFFlib package."
   ]
  },
  {
   "cell_type": "code",
   "execution_count": 42,
   "id": "acd7e215-673c-466f-92dc-b3fed6a7597a",
   "metadata": {},
   "outputs": [
    {
     "name": "stdout",
     "output_type": "stream",
     "text": [
      "q2 = 0.24999342196841076 , q3 = 0.2489405515015057 , q4 = 0.2499981022714928 , q5 = 0.24999669947021194\n"
     ]
    }
   ],
   "source": [
    "#q0 = NAFFlib.get_tune(x_part0)\n",
    "#q1 = NAFFlib.get_tune(x_part1)\n",
    "q2 = NAFFlib.get_tune(x_part2)\n",
    "q3 = NAFFlib.get_tune(x_part3)\n",
    "q4 = NAFFlib.get_tune(x_part4)\n",
    "q5 = NAFFlib.get_tune(x_part5)\n",
    "print('q2 =', q2, ', q3 =', q3, ', q4 =', q4,', q5 =', q5)\n",
    "tunes = np.zeros(4)\n",
    "positions = np.zeros(4)\n",
    "#tunes[0]=q0\n",
    "#tunes[0]=q1\n",
    "tunes[0]=q2\n",
    "tunes[1]=q3\n",
    "tunes[2]=q4\n",
    "tunes[3]=q5\n",
    "#positions[0]=x_part0[0] \n",
    "#positions[0]=near_co_particle1.x+0.2*sigma_x\n",
    "positions[0]=near_co_particle2.x+2*sigma_x\n",
    "positions[1]=near_co_particle3.x+3*sigma_x\n",
    "positions[2]=near_co_particle4.x+4*sigma_x\n",
    "positions[3]=near_co_particle5.x+5*sigma_x\n",
    "#print(positions[1],tunes[1])"
   ]
  },
  {
   "cell_type": "code",
   "execution_count": 43,
   "id": "45034177-75a7-45cc-afbb-e86188edf833",
   "metadata": {},
   "outputs": [
    {
     "data": {
      "image/png": "[encoded data removed]",
      "text/plain": [
       "<Figure size 432x288 with 1 Axes>"
      ]
     },
     "metadata": {
      "needs_background": "light"
     },
     "output_type": "display_data"
    }
   ],
   "source": [
    "plt.plot(positions,tunes,'.')\n",
    "plt.grid()\n",
    "plt.xlabel('x')\n",
    "plt.ylabel('tunes');\n",
    "#plt.ylim(0.312,0.315)"
   ]
  },
  {
   "cell_type": "markdown",
   "id": "dca5ca4a-c266-4ff9-bd39-8838bcea2aca",
   "metadata": {},
   "source": [
    "We now perform the same thing but with the Octupoles on."
   ]
  },
  {
   "cell_type": "code",
   "execution_count": 44,
   "id": "6cb31eb3-ebe6-4723-99fd-05a5208c89fb",
   "metadata": {
    "tags": []
   },
   "outputs": [],
   "source": [
    "line.vars['i_mo'] = -350"
   ]
  },
  {
   "cell_type": "markdown",
   "id": "accfcd6e-c9cf-4206-8b45-7ea694492165",
   "metadata": {
    "tags": []
   },
   "source": [
    "Now we track a number of particles with some sigmas of distance between each other"
   ]
  },
  {
   "cell_type": "code",
   "execution_count": 45,
   "id": "1350ac93-63ac-464d-acf5-eadcb3cb04ba",
   "metadata": {
    "tags": []
   },
   "outputs": [
    {
     "name": "stdout",
     "output_type": "stream",
     "text": [
      "generating ./ed955a80aa2349b1bd2676b4e5180c5d.c\n",
      "the current directory is '/afs/cern.ch/user/a/afornara/simulations/2022_02_07/thick/postprocessing'\n",
      "running build_ext\n",
      "building 'ed955a80aa2349b1bd2676b4e5180c5d' extension\n",
      "gcc -pthread -B /home/afornara/py/2022_03_02/miniconda/compiler_compat -Wno-unused-result -Wsign-compare -DNDEBUG -O2 -Wall -fPIC -O2 -isystem /home/afornara/py/2022_03_02/miniconda/include -I/home/afornara/py/2022_03_02/miniconda/include -fPIC -O2 -isystem /home/afornara/py/2022_03_02/miniconda/include -fPIC -I/home/afornara/py/2022_03_02/miniconda/include/python3.9 -c ed955a80aa2349b1bd2676b4e5180c5d.c -o ./ed955a80aa2349b1bd2676b4e5180c5d.o -std=c99 -O3 -Wno-unused-function\n",
      "gcc -pthread -B /home/afornara/py/2022_03_02/miniconda/compiler_compat -shared -Wl,-rpath,/home/afornara/py/2022_03_02/miniconda/lib -Wl,-rpath-link,/home/afornara/py/2022_03_02/miniconda/lib -L/home/afornara/py/2022_03_02/miniconda/lib -L/home/afornara/py/2022_03_02/miniconda/lib -Wl,-rpath,/home/afornara/py/2022_03_02/miniconda/lib -Wl,-rpath-link,/home/afornara/py/2022_03_02/miniconda/lib -L/home/afornara/py/2022_03_02/miniconda/lib ./ed955a80aa2349b1bd2676b4e5180c5d.o -o ./ed955a80aa2349b1bd2676b4e5180c5d.cpython-39-x86_64-linux-gnu.so -std=c99 -O3\n"
     ]
    }
   ],
   "source": [
    "tracker3 = xt.Tracker(_context=ctx, line=line)\n",
    "n_turns = 1\n",
    "N_arr=1000\n",
    "#x_part0 = np.zeros(N_arr)\n",
    "#x_part1 = np.zeros(N_arr)\n",
    "x_part2 = np.zeros(N_arr)\n",
    "x_part3 = np.zeros(N_arr)\n",
    "x_part4 = np.zeros(N_arr)\n",
    "x_part5 = np.zeros(N_arr)\n",
    "\n",
    "tw = tracker3.twiss(particles_3)\n",
    "#co_part=tw['particle_on_co']\n",
    "#near_co_particle1=tw['particle_on_co']\n",
    "near_co_particle2=tw['particle_on_co']\n",
    "near_co_particle3=tw['particle_on_co']\n",
    "near_co_particle4=tw['particle_on_co']\n",
    "near_co_particle5=tw['particle_on_co']\n",
    "\n",
    "\n",
    "if False:\n",
    "    for ii in range(N_arr):\n",
    "        tracker3.track(co_part, num_turns=n_turns,turn_by_turn_monitor=False)\n",
    "        #print(particles_3.x)\n",
    "        x_part0[ii]=co_part.x\n",
    "    \n",
    "#near_co_particle1.x=near_co_particle1.x+0.2*sigma_x\n",
    "near_co_particle2.x=near_co_particle2.x+2*sigma_x\n",
    "near_co_particle3.x=near_co_particle3.x+3*sigma_x\n",
    "near_co_particle4.x=near_co_particle4.x+4*sigma_x\n",
    "near_co_particle5.x=near_co_particle5.x+5*sigma_x\n",
    "\n",
    "if False:\n",
    "    for ii in range(N_arr):\n",
    "        tracker3.track(near_co_particle1, num_turns=n_turns,turn_by_turn_monitor=False)\n",
    "        x_part1[ii]=near_co_particle1.x\n",
    "        #print(x_part1[ii])\n",
    "for ii in range(N_arr):\n",
    "    tracker3.track(near_co_particle2, num_turns=n_turns,turn_by_turn_monitor=False)\n",
    "    x_part2[ii]=near_co_particle2.x\n",
    "    #print(x_part2[ii])\n",
    "for ii in range(N_arr):\n",
    "    tracker3.track(near_co_particle3, num_turns=n_turns,turn_by_turn_monitor=False)\n",
    "    x_part3[ii]=near_co_particle3.x\n",
    "    #print(x_part3[ii])\n",
    "for ii in range(N_arr):\n",
    "    tracker3.track(near_co_particle4, num_turns=n_turns,turn_by_turn_monitor=False)\n",
    "    x_part4[ii]=near_co_particle4.x\n",
    "for ii in range(N_arr):\n",
    "    tracker3.track(near_co_particle5, num_turns=n_turns,turn_by_turn_monitor=False)\n",
    "    x_part5[ii]=near_co_particle5.x\n",
    "    \n",
    "#print(x_part1[ii])"
   ]
  },
  {
   "cell_type": "code",
   "execution_count": 46,
   "id": "285668aa-3d24-41f4-b516-f88050fa7a18",
   "metadata": {
    "tags": []
   },
   "outputs": [
    {
     "data": {
      "image/png": "[encoded data removed]",
      "text/plain": [
       "<Figure size 432x288 with 1 Axes>"
      ]
     },
     "metadata": {
      "needs_background": "light"
     },
     "output_type": "display_data"
    }
   ],
   "source": [
    "#Max_reco_freq= sampling frequency/2.\n",
    "plt.figure()\n",
    "#plt.plot(np.linspace(0,1,len(x_part0)), np.abs(np.fft.fft(x_part0)), 'b')\n",
    "#plt.plot(np.linspace(0,1,len(x_part1)), np.abs(np.fft.fft(x_part1)), 'c')\n",
    "plt.plot(np.linspace(0,1,len(x_part2)), np.abs(np.fft.fft(x_part2)), 'm')\n",
    "plt.plot(np.linspace(0,1,len(x_part3)), np.abs(np.fft.fft(x_part3)), 'y')\n",
    "plt.plot(np.linspace(0,1,len(x_part4)), np.abs(np.fft.fft(x_part4)), 'g')\n",
    "plt.plot(np.linspace(0,1,len(x_part5)), np.abs(np.fft.fft(x_part5)), 'r')\n",
    "plt.xlabel('Q1 from X')\n",
    "plt.ylabel('FFT amplitude [arb. units]')\n",
    "plt.xlim(0.27,0.30)\n",
    "plt.grid()\n",
    "#print(np.abs(np.fft.fft(x_part)))"
   ]
  },
  {
   "cell_type": "code",
   "execution_count": 47,
   "id": "54284a00-625e-4723-b3a0-cb1834ba03c5",
   "metadata": {
    "tags": []
   },
   "outputs": [
    {
     "name": "stdout",
     "output_type": "stream",
     "text": [
      "q2 = 0.24999342196841076 , q3 = 0.2489405515015057 , q4 = 0.2499981022714928 , q5 = 0.24999669947021194\n",
      "-0.003406431762772247 0.2489405515015057\n"
     ]
    }
   ],
   "source": [
    "#q0 = NAFFlib.get_tune(x_part0)\n",
    "#q1 = NAFFlib.get_tune(x_part1)\n",
    "q2 = NAFFlib.get_tune(x_part2)\n",
    "q3 = NAFFlib.get_tune(x_part3)\n",
    "q4 = NAFFlib.get_tune(x_part4)\n",
    "q5 = NAFFlib.get_tune(x_part5)\n",
    "print('q2 =', q2, ', q3 =', q3, ', q4 =', q4,', q5 =', q5)\n",
    "tunes = np.zeros(4)\n",
    "positions = np.zeros(4)\n",
    "#tunes[0]=q0\n",
    "#tunes[0]=q1\n",
    "tunes[0]=q2\n",
    "tunes[1]=q3\n",
    "tunes[2]=q4\n",
    "tunes[3]=q5\n",
    "#positions[0]=x_part0[0] \n",
    "#positions[0]=near_co_particle1.x+0.2*sigma_x\n",
    "positions[0]=near_co_particle2.x+2*sigma_x\n",
    "positions[1]=near_co_particle3.x+2.5*sigma_x\n",
    "positions[2]=near_co_particle4.x+4*sigma_x\n",
    "positions[3]=near_co_particle5.x+5*sigma_x\n",
    "print(positions[1],tunes[1])"
   ]
  },
  {
   "cell_type": "code",
   "execution_count": 48,
   "id": "e61aa2b6-753f-447f-a165-4df96380380b",
   "metadata": {
    "tags": []
   },
   "outputs": [
    {
     "data": {
      "text/plain": [
       "-99.23454504473932"
      ]
     },
     "execution_count": 48,
     "metadata": {},
     "output_type": "execute_result"
    },
    {
     "data": {
      "image/png": "[encoded data removed]",
      "text/plain": [
       "<Figure size 432x288 with 1 Axes>"
      ]
     },
     "metadata": {
      "needs_background": "light"
     },
     "output_type": "display_data"
    }
   ],
   "source": [
    "plt.plot(positions,tunes,'.')\n",
    "m = (K_OCT*120.29057045*120.29057045)/(32*np.pi)\n",
    "plt.grid()\n",
    "plt.xlabel('x')\n",
    "plt.ylabel('tunes');\n",
    "#plt.ylim(0.312,0.315)\n",
    "m"
   ]
  },
  {
   "cell_type": "code",
   "execution_count": 34,
   "id": "e5eecc9f-7050-47e3-9847-5b5fb3689419",
   "metadata": {},
   "outputs": [],
   "source": [
    "q2_1 = 0.3153000634927122\n",
    "q3_1 = 0.3153163387772643\n",
    "q4_1 = 0.3153041836968696\n",
    "q5_1 = 0.31531386138726886\n",
    "#q2 = 0.24999342196841076 , q3 = 0.2489405515015057 , q4 = 0.2499981022714928 , q5 = 0.24999669947021194\n"
   ]
  },
  {
   "cell_type": "code",
   "execution_count": 35,
   "id": "5d00959b-97c2-490d-a8f3-b9b9cc18a5be",
   "metadata": {},
   "outputs": [
    {
     "data": {
      "image/png": "[encoded data removed]",
      "text/plain": [
       "<Figure size 432x288 with 1 Axes>"
      ]
     },
     "metadata": {
      "needs_background": "light"
     },
     "output_type": "display_data"
    }
   ],
   "source": [
    "detunes = np.zeros(4)\n",
    "detunes[0]=q2-q2_1\n",
    "detunes[1]=q3-q3_1\n",
    "detunes[2]=q4-q4_1\n",
    "detunes[3]=q5-q5_1\n",
    "plt.plot(positions,detunes,'.')\n",
    "m = (K_OCT*120.29057045*120.29057045)/(32*np.pi)\n",
    "plt.grid()\n",
    "plt.xlabel('x')\n",
    "plt.ylabel('tunes');\n",
    "#plt.ylim(0.312,0.315)"
   ]
  },
  {
   "cell_type": "code",
   "execution_count": 36,
   "id": "f575f94f-b968-4015-a217-649edf314d4d",
   "metadata": {},
   "outputs": [
    {
     "data": {
      "text/plain": [
       "\u001b[0;31mType:\u001b[0m        Particles\n",
       "\u001b[0;31mString form:\u001b[0m <xpart.particles.particles.Particles object at 0x7f0ae1562730>\n",
       "\u001b[0;31mFile:\u001b[0m        ~/py/2022_03_02/miniconda/lib/python3.9/site-packages/xpart/particles/particles.py\n",
       "\u001b[0;31mDocstring:\u001b[0m  \n",
       "Particle objects have the following fields:\n",
       "\n",
       "     - s [m]:  Reference accumulated pathlength\n",
       "     - x [m]:  Horizontal position\n",
       "     - px[1]:  Px / (m/m0 * p0c) = beta_x gamma /(beta0 gamma0)\n",
       "     - y [m]:  Vertical position\n",
       "     - py [1]:  Py / (m/m0 * p0c)\n",
       "     - delta[1]:  Pc / (m/m0 * p0c) - 1\n",
       "     - ptau [1]:  Energy / (m/m0 * p0c) - 1\n",
       "     - psigma [1]:  ptau/beta0\n",
       "     - rvv [1]:  beta/beta0\n",
       "     - rpp [1]:  1/(1+delta) = (m/m0 * p0c) / Pc\n",
       "     - zeta [m]:  beta (s/beta0 - ct )\n",
       "     - tau [m]:\n",
       "     - sigma [m]:  s - beta0 ct = rvv * zeta\n",
       "     - mass0 [eV]:\n",
       "     - q0 [e]:  Reference charge\n",
       "     - p0c [eV]: Reference momentum\n",
       "     - energy0 [eV]: Reference energy\n",
       "     - gamma0 [1]:  Reference relativistic gamma\n",
       "     - beta0 [1]:  Reference relativistix beta\n",
       "     - chi [1]:  q/ q0 * m0/m = qratio / mratio\n",
       "     - mass_ratio [1]:  mass/mass0\n",
       "     - charge_ratio [1]:  q / q0\n",
       "     - particle_id [int]: Identifier of the particle\n",
       "     - at_turn [int]:  Number of tracked turns\n",
       "     - state [int]:  It is ``0`` if the particle is lost, ``1`` otherwise\n",
       "     - weight [int]:  Particle weight in number of particles\n",
       "                      (for collective sims.)\n",
       "     - at_element [int]: Identifier of the last element through which\n",
       "                         the particle has been\n",
       "     - parent_particle_id [int]: Identifier of the parent particle\n",
       "                                 (secondary production processes)\n"
      ]
     },
     "metadata": {},
     "output_type": "display_data"
    }
   ],
   "source": [
    "tw.keys()\n",
    "a = tw['particle_on_co']\n",
    "tw['particle_on_co'].zeta\n",
    "a?"
   ]
  },
  {
   "cell_type": "markdown",
   "id": "04fbf0c3-e6eb-4953-97f3-3245b97dd835",
   "metadata": {},
   "source": [
    "Altro studio interessante: queste linee stanno in config.yaml, i dQx...ci dicono quanto siamo vicini in tune, posso variarli per capire, ad esempio, come i tune si avvicinano l'uno all'altro a croce.\n",
    "A quel punto mi accorgo che i due tune si accoppiano e non riescono a toccarsi->uso i CMRS e CMIS per disaccoppiarli.\n",
    "\n",
    " Knobs associated to sequences                                               \n",
    "121   qknob_1:                                                                      \n",
    "122     lhcb1: dQx.b1_sq                                                            \n",
    "123     lhcb2: dQx.b2_sq                                                            \n",
    "124   qknob_2:                                                                      \n",
    "125     lhcb1: dQy.b1_sq                                                            \n",
    "126     lhcb2: dQy.b2_sq                                                            \n",
    "127   chromknob_1:                                                                  \n",
    "128     lhcb1: dQpx.b1_sq                                                           \n",
    "129     lhcb2: dQpx.b2_sq                                                           \n",
    "130   chromknob_2:                                                                  \n",
    "131     lhcb1: dQpy.b1_sq                                                           \n",
    "132     lhcb2: dQpy.b2_sq                                                           \n",
    "133   cmrknob:                                                                      \n",
    "134     lhcb1: CMRS.b1_sq                                                           \n",
    "135     lhcb2: CMRS.b2_sq                                                           \n",
    "136   cmiknob:                                                                      \n",
    "137     lhcb1: CMIS.b1_sq                                                           \n",
    "138     lhcb2: CMIS.b2_sq               "
   ]
  },
  {
   "cell_type": "code",
   "execution_count": null,
   "id": "1d63dcca-335a-42c2-9d08-18eef7bb06ef",
   "metadata": {},
   "outputs": [],
   "source": []
  },
  {
   "cell_type": "code",
   "execution_count": null,
   "id": "4ee2ec24-1721-430e-a988-d84158a5b931",
   "metadata": {},
   "outputs": [],
   "source": []
  },
  {
   "cell_type": "code",
   "execution_count": null,
   "id": "eb1d8953-ecea-4262-8619-cf0d2cb578a0",
   "metadata": {},
   "outputs": [],
   "source": []
  },
  {
   "cell_type": "code",
   "execution_count": null,
   "id": "183a0178-2475-4fc6-945a-8e4b218482d0",
   "metadata": {},
   "outputs": [],
   "source": []
  },
  {
   "cell_type": "code",
   "execution_count": null,
   "id": "1c10b72a-1ccf-4b98-b51a-5180af638b11",
   "metadata": {},
   "outputs": [],
   "source": []
  },
  {
   "cell_type": "code",
   "execution_count": null,
   "id": "709bc997-dd24-4427-bf7e-8b483da207e7",
   "metadata": {},
   "outputs": [],
   "source": []
  },
  {
   "cell_type": "code",
   "execution_count": null,
   "id": "bacee20a-df15-42f2-a1bc-a0b6346d8638",
   "metadata": {},
   "outputs": [],
   "source": []
  }
 ],
 "metadata": {
  "kernelspec": {
   "display_name": "Python 3 (ipykernel)",
   "language": "python",
   "name": "python3"
  },
  "language_info": {
   "codemirror_mode": {
    "name": "ipython",
    "version": 3
   },
   "file_extension": ".py",
   "mimetype": "text/x-python",
   "name": "python",
   "nbconvert_exporter": "python",
   "pygments_lexer": "ipython3",
   "version": "3.9.7"
  }
 },
 "nbformat": 4,
 "nbformat_minor": 5
}
