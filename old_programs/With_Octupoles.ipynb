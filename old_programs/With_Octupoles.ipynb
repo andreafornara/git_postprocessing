{
 "cells": [
  {
   "cell_type": "code",
   "execution_count": 1,
   "id": "f10669aa-9db1-4516-a952-1732e77b8db2",
   "metadata": {},
   "outputs": [],
   "source": [
    "import numpy as np\n",
    "import xobjects as xo\n",
    "import xtrack as xt\n",
    "import xpart as xp\n",
    "import json\n",
    "import pandas as pd\n",
    "from cpymad.madx import Madx\n",
    "from matplotlib import pyplot as plt\n",
    "%matplotlib inline\n",
    "import NAFFlib"
   ]
  },
  {
   "cell_type": "code",
   "execution_count": 2,
   "id": "65e67d8e-3fa4-410a-bc03-24c741c9c7a9",
   "metadata": {},
   "outputs": [],
   "source": [
    "ctx = xo.ContextCpu()"
   ]
  },
  {
   "cell_type": "code",
   "execution_count": 3,
   "id": "324aa04d-2c0e-4151-86fb-46b9dc14e91c",
   "metadata": {},
   "outputs": [],
   "source": [
    "mad = Madx()\n",
    "mad.call('/afs/cern.ch/user/a/afornara/simulations/2022_02_07/temp/lhcmask/python_examples/run3_collisions_python/andrea.madx')\n",
    "mad.use(sequence=\"lhcb1\")"
   ]
  },
  {
   "cell_type": "code",
   "execution_count": 4,
   "id": "d1449f99-7bde-4e3f-9ef9-2b0b2bbbed18",
   "metadata": {},
   "outputs": [],
   "source": [
    "#line.element_names\n",
    "line = xt.Line.from_madx_sequence(mad.sequence['lhcb1'],\n",
    "                                  deferred_expressions=True\n",
    "                                  )"
   ]
  },
  {
   "cell_type": "code",
   "execution_count": 27,
   "id": "0d7dd7a8-5699-4720-bd38-b65c28c43a28",
   "metadata": {},
   "outputs": [
    {
     "name": "stdout",
     "output_type": "stream",
     "text": [
      "-350.0\n"
     ]
    }
   ],
   "source": [
    "print(line.vars['i_mo']._get_value())"
   ]
  },
  {
   "cell_type": "code",
   "execution_count": 28,
   "id": "b77c219e-8b89-418a-a40a-bfac160d03b9",
   "metadata": {},
   "outputs": [
    {
     "data": {
      "text/plain": [
       "-0.6894449027659545"
      ]
     },
     "execution_count": 28,
     "metadata": {},
     "output_type": "execute_result"
    }
   ],
   "source": [
    "\n",
    "#Scorrere sugli ottupoli\n",
    "sum_nl = 0.0\n",
    "count_nl = 0\n",
    "sum_sl = 0.0\n",
    "count_sl = 0\n",
    "for elem in line.element_dict :\n",
    "    if isinstance(line.element_dict[elem],xt.beam_elements.elements.Multipole):   \n",
    "        if(line.element_dict[elem].order==3):\n",
    "                #i print sono giusti, li commento perché sono lunghi\n",
    "                sum_nl+=line.element_dict[elem].knl[3]\n",
    "                count_nl+=1\n",
    "                sum_sl+=line.element_dict[elem].ksl\n",
    "                count_sl+=1\n",
    "                #print(elem)\n",
    "                #print(line.element_dict[elem].knl)\n",
    "K_OCT = sum_nl/count_nl\n",
    "K_OCT"
   ]
  },
  {
   "cell_type": "code",
   "execution_count": 29,
   "id": "26402f3d-16ca-49bf-87bd-373eb2d58208",
   "metadata": {},
   "outputs": [],
   "source": [
    "particles_3 = xp.Particles(_context=ctx,\n",
    "                        p0c=7000e9,\n",
    "                        x=[1.00951707e-08],px=[1.69518015e-10],\n",
    "                        y=[5.65551848e-12],py=[6.07695199e-14]\n",
    "                        )"
   ]
  },
  {
   "cell_type": "code",
   "execution_count": 30,
   "id": "9d58eac4-edc2-4d80-ad47-e80c2db69eeb",
   "metadata": {},
   "outputs": [
    {
     "name": "stdout",
     "output_type": "stream",
     "text": [
      "generating ./e9ea19cac0714f38b9b64659b5dc1a79.c\n",
      "the current directory is '/afs/cern.ch/user/a/afornara/simulations/2022_02_07/thick/postprocessing'\n",
      "running build_ext\n",
      "building 'e9ea19cac0714f38b9b64659b5dc1a79' extension\n",
      "gcc -pthread -B /home/afornara/py/2022_03_02/miniconda/compiler_compat -Wno-unused-result -Wsign-compare -DNDEBUG -O2 -Wall -fPIC -O2 -isystem /home/afornara/py/2022_03_02/miniconda/include -I/home/afornara/py/2022_03_02/miniconda/include -fPIC -O2 -isystem /home/afornara/py/2022_03_02/miniconda/include -fPIC -I/home/afornara/py/2022_03_02/miniconda/include/python3.9 -c e9ea19cac0714f38b9b64659b5dc1a79.c -o ./e9ea19cac0714f38b9b64659b5dc1a79.o -std=c99 -O3 -Wno-unused-function\n",
      "gcc -pthread -B /home/afornara/py/2022_03_02/miniconda/compiler_compat -shared -Wl,-rpath,/home/afornara/py/2022_03_02/miniconda/lib -Wl,-rpath-link,/home/afornara/py/2022_03_02/miniconda/lib -L/home/afornara/py/2022_03_02/miniconda/lib -L/home/afornara/py/2022_03_02/miniconda/lib -Wl,-rpath,/home/afornara/py/2022_03_02/miniconda/lib -Wl,-rpath-link,/home/afornara/py/2022_03_02/miniconda/lib -L/home/afornara/py/2022_03_02/miniconda/lib ./e9ea19cac0714f38b9b64659b5dc1a79.o -o ./e9ea19cac0714f38b9b64659b5dc1a79.cpython-39-x86_64-linux-gnu.so -std=c99 -O3\n",
      "generating ./0872e26561a741a18501ed560a37ea1f.c\n",
      "the current directory is '/afs/cern.ch/user/a/afornara/simulations/2022_02_07/thick/postprocessing'\n",
      "running build_ext\n",
      "building '0872e26561a741a18501ed560a37ea1f' extension\n",
      "gcc -pthread -B /home/afornara/py/2022_03_02/miniconda/compiler_compat -Wno-unused-result -Wsign-compare -DNDEBUG -O2 -Wall -fPIC -O2 -isystem /home/afornara/py/2022_03_02/miniconda/include -I/home/afornara/py/2022_03_02/miniconda/include -fPIC -O2 -isystem /home/afornara/py/2022_03_02/miniconda/include -fPIC -I/home/afornara/py/2022_03_02/miniconda/include/python3.9 -c 0872e26561a741a18501ed560a37ea1f.c -o ./0872e26561a741a18501ed560a37ea1f.o -std=c99 -O3 -Wno-unused-function\n",
      "gcc -pthread -B /home/afornara/py/2022_03_02/miniconda/compiler_compat -shared -Wl,-rpath,/home/afornara/py/2022_03_02/miniconda/lib -Wl,-rpath-link,/home/afornara/py/2022_03_02/miniconda/lib -L/home/afornara/py/2022_03_02/miniconda/lib -L/home/afornara/py/2022_03_02/miniconda/lib -Wl,-rpath,/home/afornara/py/2022_03_02/miniconda/lib -Wl,-rpath-link,/home/afornara/py/2022_03_02/miniconda/lib -L/home/afornara/py/2022_03_02/miniconda/lib ./0872e26561a741a18501ed560a37ea1f.o -o ./0872e26561a741a18501ed560a37ea1f.cpython-39-x86_64-linux-gnu.so -std=c99 -O3\n"
     ]
    }
   ],
   "source": [
    "tracker3 = xt.Tracker(_context=ctx, line=line)\n",
    "tw = tracker3.twiss(particles_3)\n",
    "gamma=7000/.938\n",
    "sigma_x=np.sqrt(120.29057045*3e-6/gamma)\n",
    "sigma_x\n",
    "tracker3 = xt.Tracker(_context=ctx, line=line)\n",
    "n_turns = 1\n",
    "N_arr=1000\n",
    "#x_part0 = np.zeros(N_arr)\n",
    "#x_part1 = np.zeros(N_arr)\n",
    "x_part2 = np.zeros(N_arr)\n",
    "x_part3 = np.zeros(N_arr)\n",
    "x_part4 = np.zeros(N_arr)\n",
    "x_part5 = np.zeros(N_arr)\n",
    "\n",
    "#co_part=tw['particle_on_co']\n",
    "#near_co_particle1=tw['particle_on_co']\n",
    "near_co_particle2=tw['particle_on_co']\n",
    "near_co_particle3=tw['particle_on_co']\n",
    "near_co_particle4=tw['particle_on_co']\n",
    "near_co_particle5=tw['particle_on_co']\n",
    "\n",
    "\n",
    "if False:\n",
    "    for ii in range(N_arr):\n",
    "        tracker3.track(co_part, num_turns=n_turns,turn_by_turn_monitor=False)\n",
    "        #print(particles_3.x)\n",
    "        x_part0[ii]=co_part.x\n",
    "    \n",
    "#near_co_particle1.x=near_co_particle1.x+0.2*sigma_x\n",
    "near_co_particle2.x=near_co_particle2.x+1*sigma_x\n",
    "near_co_particle3.x=near_co_particle3.x+2*sigma_x\n",
    "near_co_particle4.x=near_co_particle4.x+3*sigma_x\n",
    "near_co_particle5.x=near_co_particle5.x+4*sigma_x\n",
    "\n",
    "if False:\n",
    "    for ii in range(N_arr):\n",
    "        tracker3.track(near_co_particle1, num_turns=n_turns,turn_by_turn_monitor=False)\n",
    "        x_part1[ii]=near_co_particle1.x\n",
    "        #print(x_part1[ii])\n",
    "for ii in range(N_arr):\n",
    "    tracker3.track(near_co_particle2, num_turns=n_turns,turn_by_turn_monitor=False)\n",
    "    x_part2[ii]=near_co_particle2.x\n",
    "    #print(x_part2[ii])\n",
    "for ii in range(N_arr):\n",
    "    tracker3.track(near_co_particle3, num_turns=n_turns,turn_by_turn_monitor=False)\n",
    "    x_part3[ii]=near_co_particle3.x\n",
    "    #print(x_part3[ii])\n",
    "for ii in range(N_arr):\n",
    "    tracker3.track(near_co_particle4, num_turns=n_turns,turn_by_turn_monitor=False)\n",
    "    x_part4[ii]=near_co_particle4.x\n",
    "for ii in range(N_arr):\n",
    "    tracker3.track(near_co_particle5, num_turns=n_turns,turn_by_turn_monitor=False)\n",
    "    x_part5[ii]=near_co_particle5.x\n",
    "    \n",
    "#print(x_part1[ii])\n",
    "\n",
    "\n",
    "\n"
   ]
  },
  {
   "cell_type": "code",
   "execution_count": 31,
   "id": "7eeffe61-25a3-4521-b20b-c5beb6e8819f",
   "metadata": {},
   "outputs": [
    {
     "data": {
      "image/png": "[encoded data removed]",
      "text/plain": [
       "<Figure size 432x288 with 1 Axes>"
      ]
     },
     "metadata": {
      "needs_background": "light"
     },
     "output_type": "display_data"
    }
   ],
   "source": [
    "#Max_reco_freq= sampling frequency/2.\n",
    "plt.figure()\n",
    "#plt.plot(np.linspace(0,1,len(x_part0)), np.abs(np.fft.fft(x_part0)), 'b')\n",
    "#plt.plot(np.linspace(0,1,len(x_part1)), np.abs(np.fft.fft(x_part1)), 'c')\n",
    "plt.plot(np.linspace(0,1,len(x_part2)), np.abs(np.fft.fft(x_part2)), 'm')\n",
    "plt.plot(np.linspace(0,1,len(x_part3)), np.abs(np.fft.fft(x_part3)), 'y')\n",
    "plt.plot(np.linspace(0,1,len(x_part4)), np.abs(np.fft.fft(x_part4)), 'g')\n",
    "plt.plot(np.linspace(0,1,len(x_part5)), np.abs(np.fft.fft(x_part5)), 'r')\n",
    "plt.xlabel('Q1 from X')\n",
    "plt.ylabel('FFT amplitude [arb. units]')\n",
    "plt.xlim(0.27,0.30)\n",
    "plt.grid()\n",
    "#print(np.abs(np.fft.fft(x_part)))"
   ]
  },
  {
   "cell_type": "code",
   "execution_count": 32,
   "id": "bfd8695a-ac2e-4d72-bc5d-c8c977ed8df0",
   "metadata": {},
   "outputs": [
    {
     "name": "stdout",
     "output_type": "stream",
     "text": [
      "q2 = 0.2857148389850159 , q3 = 0.28571386509400204 , q4 = 0.28571453992430335 , q5 = 0.28571422869807245\n"
     ]
    }
   ],
   "source": [
    "#q0 = NAFFlib.get_tune(x_part0)\n",
    "#q1 = NAFFlib.get_tune(x_part1)\n",
    "q2 = NAFFlib.get_tune(x_part2)\n",
    "q3 = NAFFlib.get_tune(x_part3)\n",
    "q4 = NAFFlib.get_tune(x_part4)\n",
    "q5 = NAFFlib.get_tune(x_part5)\n",
    "print('q2 =', q2, ', q3 =', q3, ', q4 =', q4,', q5 =', q5)\n",
    "tunes = np.zeros(4)\n",
    "positions = np.zeros(4)\n",
    "#tunes[0]=q0\n",
    "#tunes[0]=q1\n",
    "tunes[0]=q2\n",
    "tunes[1]=q3\n",
    "tunes[2]=q4\n",
    "tunes[3]=q5\n",
    "#positions[0]=x_part0[0] \n",
    "#positions[0]=near_co_particle1.x+0.2*sigma_x\n",
    "positions[0]=near_co_particle2.x+2*sigma_x\n",
    "positions[1]=near_co_particle3.x+3*sigma_x\n",
    "positions[2]=near_co_particle4.x+4*sigma_x\n",
    "positions[3]=near_co_particle5.x+5*sigma_x\n",
    "#print(positions[1],tunes[1])"
   ]
  },
  {
   "cell_type": "code",
   "execution_count": 33,
   "id": "bb990a9d-9a2b-4c80-86ca-a273dc8cc5ab",
   "metadata": {},
   "outputs": [
    {
     "data": {
      "text/plain": [
       "-99.23454504473932"
      ]
     },
     "execution_count": 33,
     "metadata": {},
     "output_type": "execute_result"
    },
    {
     "data": {
      "image/png": "[encoded data removed]",
      "text/plain": [
       "<Figure size 432x288 with 1 Axes>"
      ]
     },
     "metadata": {
      "needs_background": "light"
     },
     "output_type": "display_data"
    }
   ],
   "source": [
    "plt.plot(positions,tunes,'.')\n",
    "m = (K_OCT*120.29057045*120.29057045)/(32*np.pi)\n",
    "plt.grid()\n",
    "plt.xlabel('x')\n",
    "plt.ylabel('tunes');\n",
    "#plt.ylim(0.312,0.315)\n",
    "m"
   ]
  },
  {
   "cell_type": "code",
   "execution_count": 34,
   "id": "7e8735c8-d88c-4904-b33d-2b85aff69b8d",
   "metadata": {},
   "outputs": [
    {
     "data": {
      "image/png": "[encoded data removed]",
      "text/plain": [
       "<Figure size 432x288 with 1 Axes>"
      ]
     },
     "metadata": {
      "needs_background": "light"
     },
     "output_type": "display_data"
    }
   ],
   "source": [
    "q2_1 = 0.31523204068226496\n",
    "q3_1 = 0.3151628752952443\n",
    "q4_1 = 0.3152718583388446\n",
    "q5_1 = 0.3152134234676828\n",
    "detunes = np.zeros(4)\n",
    "detunes[0]=q2-q2_1\n",
    "detunes[1]=q3-q3_1\n",
    "detunes[2]=q4-q4_1\n",
    "detunes[3]=q5-q5_1\n",
    "plt.plot(positions,detunes,'.')\n",
    "m = (K_OCT*120.29057045*120.29057045)/(32*np.pi)\n",
    "plt.grid()\n",
    "plt.xlabel('x')\n",
    "plt.ylabel('tunes');\n",
    "#plt.ylim(0.312,0.315)"
   ]
  },
  {
   "cell_type": "code",
   "execution_count": null,
   "id": "b58442ba-e230-4dbe-9602-12b99039f647",
   "metadata": {},
   "outputs": [],
   "source": []
  }
 ],
 "metadata": {
  "kernelspec": {
   "display_name": "Python 3 (ipykernel)",
   "language": "python",
   "name": "python3"
  },
  "language_info": {
   "codemirror_mode": {
    "name": "ipython",
    "version": 3
   },
   "file_extension": ".py",
   "mimetype": "text/x-python",
   "name": "python",
   "nbconvert_exporter": "python",
   "pygments_lexer": "ipython3",
   "version": "3.9.7"
  }
 },
 "nbformat": 4,
 "nbformat_minor": 5
}
