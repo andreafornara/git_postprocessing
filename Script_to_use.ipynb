{
 "cells": [
  {
   "cell_type": "code",
   "execution_count": 1,
   "id": "f5c7cf5d-26f3-4fd0-8aa7-1023ef0ebce4",
   "metadata": {},
   "outputs": [],
   "source": [
    "import numpy as np\n",
    "import xobjects as xo\n",
    "import xtrack as xt\n",
    "import xpart as xp\n",
    "import json\n",
    "import pandas as pd\n",
    "from cpymad.madx import Madx\n",
    "#from matplotlib import pyplot as plt\n",
    "import NAFFlib\n",
    "from math import modf\n",
    "#from scipy.constants import physical_constants\n",
    "from matplotlib import pyplot as plt\n",
    "from scipy.stats import linregress"
   ]
  },
  {
   "cell_type": "code",
   "execution_count": 2,
   "id": "df5f5564-6775-46f7-a64f-1dd0839fb7cd",
   "metadata": {},
   "outputs": [
    {
     "name": "stdout",
     "output_type": "stream",
     "text": [
      "generating ./e9e6e8ef28874d219a5470aa4ab91325.c\n",
      "the current directory is '/home/afornara/studies/git_postprocessing'\n",
      "running build_ext\n",
      "building 'e9e6e8ef28874d219a5470aa4ab91325' extension\n",
      "gcc -pthread -B /home/afornara/py/2022_03_04/miniconda/compiler_compat -Wno-unused-result -Wsign-compare -DNDEBUG -O2 -Wall -fPIC -O2 -isystem /home/afornara/py/2022_03_04/miniconda/include -I/home/afornara/py/2022_03_04/miniconda/include -fPIC -O2 -isystem /home/afornara/py/2022_03_04/miniconda/include -fPIC -I/home/afornara/py/2022_03_04/miniconda/include/python3.9 -c e9e6e8ef28874d219a5470aa4ab91325.c -o ./e9e6e8ef28874d219a5470aa4ab91325.o -std=c99 -O3 -Wno-unused-function\n",
      "gcc -pthread -B /home/afornara/py/2022_03_04/miniconda/compiler_compat -shared -Wl,-rpath,/home/afornara/py/2022_03_04/miniconda/lib -Wl,-rpath-link,/home/afornara/py/2022_03_04/miniconda/lib -L/home/afornara/py/2022_03_04/miniconda/lib -L/home/afornara/py/2022_03_04/miniconda/lib -Wl,-rpath,/home/afornara/py/2022_03_04/miniconda/lib -Wl,-rpath-link,/home/afornara/py/2022_03_04/miniconda/lib -L/home/afornara/py/2022_03_04/miniconda/lib ./e9e6e8ef28874d219a5470aa4ab91325.o -o ./e9e6e8ef28874d219a5470aa4ab91325.cpython-39-x86_64-linux-gnu.so -std=c99 -O3\n",
      "[0.]\n",
      "[0.]\n"
     ]
    }
   ],
   "source": [
    "#input\n",
    "i_mo = -350\n",
    "p0c = 7000e9\n",
    "normal_emitt_x = 3e-6\n",
    "normal_emitt_y = 3e-6\n",
    "#proton_mass = physical_constants['proton mass energy equivalent in MeV'][0]/1000 \n",
    "\n",
    "#ctx_gpu = xo.ContextCupy()\n",
    "ctx_cpu = xo.ContextCpu()\n",
    "\n",
    "if False:\n",
    "    mad = Madx()\n",
    "    mad.option(echo=False)\n",
    "    mad.call('andrea.madx')\n",
    "    mad.use(sequence=\"lhcb1\")\n",
    "    line = xt.Line.from_madx_sequence(mad.sequence['lhcb1'],\n",
    "                                  deferred_expressions=True\n",
    "                                  )\n",
    "    with open('line.json', 'w') as fid:\n",
    "        json.dump(line.to_dict(), fid, cls=xo.JEncoder)\n",
    "\n",
    "else:\n",
    "    with open('line.json', 'r') as fid:\n",
    "        loaded_dct = json.load(fid)\n",
    "    line = xt.Line.from_dict(loaded_dct)\n",
    "particle_0 = xp.Particles(_context=ctx_cpu, p0c=p0c)\n",
    "\n",
    "line.vars['i_mo'] = i_mo\n",
    "line.vars['cmrs.b1_sq']=0.5*line.vars['cmrs.b1_sq']\n",
    "\n",
    "\n",
    "tracker_normal = xt.Tracker(_context=ctx_cpu, line=line)\n",
    "tw_normal = tracker_normal.twiss(particle_0)\n",
    "betx_at_ip3 = tw_normal['betx'][0]\n",
    "bety_at_ip3 = tw_normal['bety'][0]\n",
    "sigma_x = np.sqrt(betx_at_ip3*normal_emitt_x/(particle_0.gamma0*particle_0.beta0))\n",
    "sigma_y = np.sqrt(bety_at_ip3*normal_emitt_y/(particle_0.gamma0*particle_0.beta0))\n",
    "#assert np.isclose(sigma_x,219.93e-6)\n",
    "#assert np.isclose(sigma_x,219.93e-6)\n",
    "\n",
    "p0_normal = tw_normal['particle_on_co']\n",
    "print(p0_normal.x)\n",
    "print(tw_normal['particle_on_co'].x)\n",
    "\n",
    "\n",
    "N_particles = 10\n",
    "\n",
    "particles_normal = xp.build_particles(_context=ctx_cpu,\n",
    "                                       particle_ref=p0_normal,\n",
    "                                       x=[mysigma*sigma_x[0] for mysigma\n",
    "                                         in np.linspace(0.2,2.2,N_particles)])\n",
    "\n",
    "\n",
    "\n",
    "\n",
    "\n",
    "N=1000\n",
    "\n",
    "n_turns= 1\n",
    "my_result = {}\n",
    "for ii in ['x','px','y','py','zeta','delta']:\n",
    "    my_result[ii] = []\n",
    "\n",
    "\n",
    "for ii in range(N):\n",
    "    tracker_normal.track(particles_normal, num_turns=n_turns,turn_by_turn_monitor=False)\n",
    "    for jj in ['x','px','y','py','zeta','delta']:\n",
    "        my_result[jj].append(getattr(particles_normal,jj).copy())       \n",
    "        #my_result[jj].append(getattr(particles_normal,jj).copy())\n",
    "\n",
    "for jj in ['x','px','y','py','zeta','delta']:\n",
    "        my_result[jj] = np.array(my_result[jj])\n",
    "        my_result[jj] = np.array(my_result[jj])"
   ]
  },
  {
   "cell_type": "code",
   "execution_count": 12,
   "id": "aabc4080-7d32-45b2-9ec2-571d640f2916",
   "metadata": {},
   "outputs": [
    {
     "data": {
      "text/plain": [
       "array([ 6.76039821e-05,  9.65368030e-05,  9.78874663e-06, -2.47984254e-04,\n",
       "       -5.80345100e-04, -5.97891306e-04,  6.19357507e-05,  9.08659308e-04,\n",
       "        5.07139166e-04, -1.10617951e-03])"
      ]
     },
     "execution_count": 12,
     "metadata": {},
     "output_type": "execute_result"
    }
   ],
   "source": [
    "getattr(particles_normal,'x')"
   ]
  },
  {
   "cell_type": "code",
   "execution_count": 6,
   "id": "29fe4042-8f22-45d3-8ccf-ea5870ef602c",
   "metadata": {},
   "outputs": [
    {
     "data": {
      "text/plain": [
       "2000"
      ]
     },
     "execution_count": 6,
     "metadata": {},
     "output_type": "execute_result"
    }
   ],
   "source": [
    "len(my_result['x'][:,0])"
   ]
  },
  {
   "cell_type": "code",
   "execution_count": null,
   "id": "48ecc62a-f61c-41ee-b1df-afdfc886edec",
   "metadata": {},
   "outputs": [],
   "source": []
  }
 ],
 "metadata": {
  "kernelspec": {
   "display_name": "Python 3 (ipykernel)",
   "language": "python",
   "name": "python3"
  },
  "language_info": {
   "codemirror_mode": {
    "name": "ipython",
    "version": 3
   },
   "file_extension": ".py",
   "mimetype": "text/x-python",
   "name": "python",
   "nbconvert_exporter": "python",
   "pygments_lexer": "ipython3",
   "version": "3.9.7"
  }
 },
 "nbformat": 4,
 "nbformat_minor": 5
}
