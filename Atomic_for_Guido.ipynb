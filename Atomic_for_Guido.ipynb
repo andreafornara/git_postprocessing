{
 "cells": [
  {
   "cell_type": "code",
   "execution_count": 1,
   "id": "d6f7078d-6aa5-408f-9e5f-d8a198a68267",
   "metadata": {},
   "outputs": [],
   "source": [
    "import numpy as np\n",
    "import xobjects as xo\n",
    "import xtrack as xt\n",
    "import xpart as xp\n",
    "import json\n",
    "import pandas as pd\n",
    "from cpymad.madx import Madx\n",
    "#from matplotlib import pyplot as plt\n",
    "import NAFFlib\n",
    "from math import modf\n",
    "#from scipy.constants import physical_constants\n",
    "from matplotlib import pyplot as plt\n",
    "from scipy.stats import linregress"
   ]
  },
  {
   "cell_type": "code",
   "execution_count": 97,
   "id": "ccb56eca-8cbe-493d-893a-5dfe23dd1627",
   "metadata": {},
   "outputs": [
    {
     "name": "stdout",
     "output_type": "stream",
     "text": [
      "generating ./52c70911c7f8465eaba157e4ad51b523.c\n",
      "the current directory is '/home/afornara/studies/git_postprocessing'\n",
      "running build_ext\n",
      "building '52c70911c7f8465eaba157e4ad51b523' extension\n",
      "gcc -pthread -B /home/afornara/py/2022_03_04/miniconda/compiler_compat -Wno-unused-result -Wsign-compare -DNDEBUG -O2 -Wall -fPIC -O2 -isystem /home/afornara/py/2022_03_04/miniconda/include -I/home/afornara/py/2022_03_04/miniconda/include -fPIC -O2 -isystem /home/afornara/py/2022_03_04/miniconda/include -fPIC -I/home/afornara/py/2022_03_04/miniconda/include/python3.9 -c 52c70911c7f8465eaba157e4ad51b523.c -o ./52c70911c7f8465eaba157e4ad51b523.o -std=c99 -O3 -Wno-unused-function\n",
      "gcc -pthread -B /home/afornara/py/2022_03_04/miniconda/compiler_compat -shared -Wl,-rpath,/home/afornara/py/2022_03_04/miniconda/lib -Wl,-rpath-link,/home/afornara/py/2022_03_04/miniconda/lib -L/home/afornara/py/2022_03_04/miniconda/lib -L/home/afornara/py/2022_03_04/miniconda/lib -Wl,-rpath,/home/afornara/py/2022_03_04/miniconda/lib -Wl,-rpath-link,/home/afornara/py/2022_03_04/miniconda/lib -L/home/afornara/py/2022_03_04/miniconda/lib ./52c70911c7f8465eaba157e4ad51b523.o -o ./52c70911c7f8465eaba157e4ad51b523.cpython-39-x86_64-linux-gnu.so -std=c99 -O3\n"
     ]
    }
   ],
   "source": [
    "#--------input and context---------\n",
    "\n",
    "i_mo = -350\n",
    "p0c = 7000e9\n",
    "normal_emitt_x = 3e-6 #m*rad\n",
    "normal_emitt_y = 3e-6 #m*rad\n",
    "N_particles = 11 \n",
    "N=1000\n",
    "n_turns= 1\n",
    "\n",
    "ctx_cpu = xo.ContextCpu()\n",
    "\n",
    "#--------Opening the file---------\n",
    "\n",
    "if False:\n",
    "    mad = Madx()\n",
    "    mad.option(echo=False)\n",
    "    mad.call('andrea.madx')\n",
    "    mad.use(sequence=\"lhcb1\")\n",
    "    line = xt.Line.from_madx_sequence(mad.sequence['lhcb1'],\n",
    "                                  deferred_expressions=True\n",
    "                                  )\n",
    "    with open('line.json', 'w') as fid:\n",
    "        json.dump(line.to_dict(), fid, cls=xo.JEncoder)\n",
    "\n",
    "else:\n",
    "    with open('line.json', 'r') as fid:\n",
    "        loaded_dct = json.load(fid)\n",
    "    line = xt.Line.from_dict(loaded_dct)\n",
    "\n",
    "#-----preparing for tracking------\n",
    "\n",
    "particle_0 = xp.Particles(_context=ctx_cpu, p0c=p0c)\n",
    "line.vars['i_mo'] = i_mo\n",
    "line.vars['cmrs.b1_sq']=0.5*line.vars['cmrs.b1_sq']\n",
    "\n",
    "\n",
    "tracker_normal = xt.Tracker(_context=ctx_cpu, line=line)\n",
    "tw_normal = tracker_normal.twiss(particle_0)\n",
    "\n",
    "\n",
    "betx_at_ip3 = tw_normal['betx'][0]\n",
    "bety_at_ip3 = tw_normal['bety'][0]\n",
    "\n",
    "#----defining the sigma in both directions---------\n",
    "\n",
    "sigma_x = np.sqrt(betx_at_ip3*normal_emitt_x/(particle_0.gamma0*particle_0.beta0))\n",
    "sigma_y = np.sqrt(bety_at_ip3*normal_emitt_y/(particle_0.gamma0*particle_0.beta0))\n",
    "\n",
    "#-----closed orbit particle-----\n",
    "\n",
    "p0_normal = tw_normal['particle_on_co']\n",
    "\n",
    "#-----choose one of the two to have a particle with x or y displacement----------------\n",
    "\n",
    "#particles_normal = xp.build_particles(_context=ctx_cpu,particle_ref=p0_normal,\n",
    "#                                      x=[mysigma*sigma_x[0] for mysigma in np.linspace(0.2,2.2,N_particles)])\n",
    "particles_normal = xp.build_particles(_context=ctx_cpu,particle_ref=p0_normal,\n",
    "                                      y=[mysigma*sigma_y[0] for mysigma in np.linspace(0.2,2.2,N_particles)])\n",
    "\n",
    "#-----tracking------------------\n",
    "\n",
    "my_result = {}\n",
    "for ii in ['x','px','y','py','zeta','delta']:\n",
    "    my_result[ii] = []\n",
    "\n",
    "\n",
    "for ii in range(N):\n",
    "    tracker_normal.track(particles_normal, num_turns=n_turns,turn_by_turn_monitor=False)\n",
    "    for jj in ['x','px','y','py','zeta','delta']:\n",
    "        my_result[jj].append(getattr(particles_normal,jj).copy())       \n",
    "        #my_result[jj].append(getattr(particles_normal,jj).copy())\n",
    "\n",
    "for jj in ['x','px','y','py','zeta','delta']:\n",
    "        my_result[jj] = np.array(my_result[jj])\n",
    "        #my_result[jj] = np.array(my_result[jj])\n",
    "\n",
    "\n",
    "#-------tunes-------\n",
    "\n",
    "qx_normal = []\n",
    "qy_normal = []\n",
    "\n",
    "for ii in range(N_particles):\n",
    "    \n",
    "    qx_normal.append(NAFFlib.get_tune(my_result['x'][:,ii]))\n",
    "    qy_normal.append(NAFFlib.get_tune(my_result['y'][:,ii]))\n",
    "\n",
    "x0 = np.array([mysigma*sigma_x[0] for mysigma in np.linspace(0.2,2.2,N_particles)]) \n",
    "y0 = np.array([mysigma*sigma_y[0] for mysigma in np.linspace(0.2,2.2,N_particles)]) "
   ]
  },
  {
   "cell_type": "code",
   "execution_count": 92,
   "id": "a21015cf-ef0b-447b-8052-4dbbaa5fdf1c",
   "metadata": {},
   "outputs": [
    {
     "data": {
      "text/plain": [
       "[<matplotlib.lines.Line2D at 0x7f266bcd7e20>]"
      ]
     },
     "execution_count": 92,
     "metadata": {},
     "output_type": "execute_result"
    },
    {
     "data": {
      "image/png": "[encoded data removed]",
      "text/plain": [
       "<Figure size 432x288 with 1 Axes>"
      ]
     },
     "metadata": {
      "needs_background": "light"
     },
     "output_type": "display_data"
    }
   ],
   "source": [
    "#print((my_result['y'][:,ii]))\n",
    "\n",
    "plt.plot(my_result['x'][:,5])\n",
    "plt.plot(my_result['y'][:,5])"
   ]
  },
  {
   "cell_type": "code",
   "execution_count": 98,
   "id": "60315aba-3b68-4412-a405-3c33390227b9",
   "metadata": {},
   "outputs": [
    {
     "name": "stdout",
     "output_type": "stream",
     "text": [
      "[0.31793628280901876, 0.31789544263884995, 0.31782737948179146, 0.31773208153055, 0.31760956633414983, 0.31745986045698077, 0.3172830126992925, 0.31707915448527413, 0.31684875976017324, 0.31659246898979365, 0.3163082802312394]\n"
     ]
    }
   ],
   "source": [
    "print(qy_normal)"
   ]
  },
  {
   "cell_type": "code",
   "execution_count": 99,
   "id": "49f7ada1-51be-40b3-88e9-689168bf8cf5",
   "metadata": {},
   "outputs": [],
   "source": [
    "qx_oct = [0.3130392367767762, 0.3130072668477651, 0.31295406648644775, 0.3128796612559198, 0.31278408167925603, 0.31266730805307313, 0.3125293308986112, 0.31237011602780185, 0.31218961238811094, 0.3119877663612319, 0.3117645252777741]\n",
    "qx_no_oct = [0.31305066000753434, 0.3130529022749124, 0.31305663178354837, 0.3130618428745969, 0.3130685303763514, 0.3130766895984234, 0.3130863204690079, 0.31309740543336223, 0.31310996044315864, 0.3131239669885427, 0.31313943088427765]\n",
    "qy_oct = [0.31793628278655894, 0.31789544259934155, 0.31782737942221667, 0.3177320814777581, 0.31760956634590476, 0.31745986045967894, 0.3172830122856016, 0.31707915400236925, 0.3168487597641903, 0.3165924554773461, 0.3163082566310991]\n",
    "qy_no_oct = [0.3179506881505412, 0.3179530622785385, 0.3179570188226742, 0.3179625562382878, 0.31796968217004856, 0.3179783816723068, 0.31798866902724254, 0.31800053237955056, 0.3180139789749532, 0.318029008611634, 0.31804562082779614]"
   ]
  },
  {
   "cell_type": "code",
   "execution_count": 105,
   "id": "263a11e5-8bf4-4cfd-a16b-b35e58a08d7a",
   "metadata": {},
   "outputs": [
    {
     "name": "stdout",
     "output_type": "stream",
     "text": [
      "m =  -220630.16148327294 q =  0.31304988306306725\n",
      "-197165.79593111496\n"
     ]
    },
    {
     "data": {
      "text/plain": [
       "1000"
      ]
     },
     "execution_count": 105,
     "metadata": {},
     "output_type": "execute_result"
    },
    {
     "data": {
      "image/png": "[encoded data removed]",
      "text/plain": [
       "<Figure size 432x288 with 1 Axes>"
      ]
     },
     "metadata": {
      "needs_background": "light"
     },
     "output_type": "display_data"
    }
   ],
   "source": [
    "#Monitor detuning study, x direction\n",
    "x0 = np.array([mysigma*sigma_x[0] for mysigma in np.linspace(0.2,2.2,N_particles)])\n",
    "\n",
    "jx = np.zeros(N_particles)\n",
    "\n",
    "\n",
    "for ii in range(N_particles):\n",
    "    jx[ii] = x0[ii]*x0[ii]/(2*betx_at_ip3)\n",
    "\n",
    "\n",
    "\n",
    "plt.plot(jx,qx_no_oct,'-o');\n",
    "#plt.plot(jx,qx_oct,'-o')\n",
    "plt.grid()\n",
    "#plt.ylim(-0.002,0.005)\n",
    "#print(j[0],dq[0],j[8],dq[8])\n",
    "plt.ylabel('Tunes')\n",
    "plt.xlabel('Jx [m]')\n",
    "\n",
    "\n",
    "slope, intercept, r_value, p_value, std_err = linregress([jx[0],jx[2]],[qx_oct[0],qx_oct[2]])\n",
    "print('m = ',slope/6,'q = ',intercept)\n",
    "m = ((qx_oct[2]-qx_oct[0])+(140786.19331294773*(jy[2]-jy[0])))/(jx[2]-jx[0])\n",
    "print(m/6)\n",
    "\n",
    "#print(tracker_monitor.record_last_track.x[0])\n",
    "#len(tracker_monitor.record_last_track.x[0])\n",
    "len(my_result['x'][:,ii])"
   ]
  },
  {
   "cell_type": "code",
   "execution_count": 104,
   "id": "e78d4c10-3961-403e-9170-2ef138e3a07a",
   "metadata": {},
   "outputs": [
    {
     "name": "stdout",
     "output_type": "stream",
     "text": [
      "-258645.35566926698\n",
      "m =  -282109.72122142493 q =  0.31794989570710175\n"
     ]
    },
    {
     "data": {
      "text/plain": [
       "1000"
      ]
     },
     "execution_count": 104,
     "metadata": {},
     "output_type": "execute_result"
    },
    {
     "data": {
      "image/png": "[encoded data removed]",
      "text/plain": [
       "<Figure size 432x288 with 1 Axes>"
      ]
     },
     "metadata": {
      "needs_background": "light"
     },
     "output_type": "display_data"
    }
   ],
   "source": [
    "#Monitor detuning study, x direction\n",
    "x0 = np.array([mysigma*sigma_x[0] for mysigma in np.linspace(0.2,2.2,N_particles)])\n",
    "\n",
    "jy = np.zeros(N_particles)\n",
    "\n",
    "\n",
    "for ii in range(N_particles):\n",
    "    jy[ii] = y0[ii]*y0[ii]/(2*bety_at_ip3)\n",
    "\n",
    "\n",
    "\n",
    "plt.plot(jy,qy_no_oct,'-o');\n",
    "plt.plot(jy,qy_oct,'-o')\n",
    "plt.grid()\n",
    "#plt.ylim(-0.002,0.005)\n",
    "#print(j[0],dq[0],j[8],dq[8])\n",
    "plt.ylabel('Tune')\n",
    "plt.xlabel('Jy [m]')\n",
    "m = ((qy_oct[2]-qy_oct[0])+(140786.19331294773*(jx[2]-jx[0])))/(jy[2]-jy[0])\n",
    "print(m/6)\n",
    "\n",
    "slope, intercept, r_value, p_value, std_err = linregress([jy[0],jy[2]],[qy_oct[0],qy_oct[2]])\n",
    "#slope = slope/6+140786.19331294773*jx[2]\n",
    "print('m = ',slope/6,'q = ',intercept)\n",
    "\n",
    "#print(tracker_monitor.record_last_track.x[0])\n",
    "#len(tracker_monitor.record_last_track.x[0])\n",
    "len(my_result['x'][:,ii])"
   ]
  },
  {
   "cell_type": "code",
   "execution_count": 102,
   "id": "a738cd6b-4d78-4dcc-a98b-4e8c4cfcf2a2",
   "metadata": {},
   "outputs": [
    {
     "name": "stdout",
     "output_type": "stream",
     "text": [
      "generating ./1fbd3e94e19c4164a39a1e1389257c90.c\n",
      "the current directory is '/home/afornara/studies/git_postprocessing'\n",
      "running build_ext\n",
      "building '1fbd3e94e19c4164a39a1e1389257c90' extension\n",
      "gcc -pthread -B /home/afornara/py/2022_03_04/miniconda/compiler_compat -Wno-unused-result -Wsign-compare -DNDEBUG -O2 -Wall -fPIC -O2 -isystem /home/afornara/py/2022_03_04/miniconda/include -I/home/afornara/py/2022_03_04/miniconda/include -fPIC -O2 -isystem /home/afornara/py/2022_03_04/miniconda/include -fPIC -I/home/afornara/py/2022_03_04/miniconda/include/python3.9 -c 1fbd3e94e19c4164a39a1e1389257c90.c -o ./1fbd3e94e19c4164a39a1e1389257c90.o -std=c99 -O3 -Wno-unused-function\n",
      "gcc -pthread -B /home/afornara/py/2022_03_04/miniconda/compiler_compat -shared -Wl,-rpath,/home/afornara/py/2022_03_04/miniconda/lib -Wl,-rpath-link,/home/afornara/py/2022_03_04/miniconda/lib -L/home/afornara/py/2022_03_04/miniconda/lib -L/home/afornara/py/2022_03_04/miniconda/lib -Wl,-rpath,/home/afornara/py/2022_03_04/miniconda/lib -Wl,-rpath-link,/home/afornara/py/2022_03_04/miniconda/lib -L/home/afornara/py/2022_03_04/miniconda/lib ./1fbd3e94e19c4164a39a1e1389257c90.o -o ./1fbd3e94e19c4164a39a1e1389257c90.cpython-39-x86_64-linux-gnu.so -std=c99 -O3\n"
     ]
    }
   ],
   "source": [
    "tracker1 = xt.Tracker(_context=ctx_cpu, line=line)\n",
    "tw = tracker1.twiss(particle_0)"
   ]
  },
  {
   "cell_type": "code",
   "execution_count": 103,
   "id": "33d69824-6dfe-4b25-a9c5-f8364952d151",
   "metadata": {},
   "outputs": [
    {
     "name": "stdout",
     "output_type": "stream",
     "text": [
      "-227341.61128685813 -225003.01024783653 140786.19331294773\n"
     ]
    }
   ],
   "source": [
    "with open('line.json', 'r') as fid:\n",
    "    loaded_dct = json.load(fid)\n",
    "line = xt.Line.from_dict(loaded_dct)\n",
    "line.vars['i_mo'] = i_mo\n",
    "sum_nl_x = 0.0\n",
    "sum_nl_y = 0.0\n",
    "sum_nl_xy = 0.0\n",
    "ii = 0\n",
    "for elem in line.element_dict :\n",
    "    if isinstance(line.element_dict[elem],xt.beam_elements.elements.Multipole): \n",
    "        if(line.element_dict[elem].order==3):\n",
    "                #print(elem)\n",
    "                #print(line.element_dict[elem].length)\n",
    "                #print(line.element_dict[elem].knl)\n",
    "                sum_nl_x+=line.element_dict[elem].knl[3]*tw['betx'][ii]*tw['betx'][ii]\n",
    "                sum_nl_y+=line.element_dict[elem].knl[3]*tw['bety'][ii]*tw['bety'][ii]\n",
    "                sum_nl_xy+=line.element_dict[elem].knl[3]*tw['betx'][ii]*tw['bety'][ii]\n",
    "        if(line.element_dict[elem].order==2):\n",
    "                line.element_dict[elem].knl[2]=0\n",
    "                #print(line.element_dict[elem].knl)\n",
    "    ii+=1\n",
    "\n",
    "m_x = (sum_nl_x)/(16*np.pi)\n",
    "m_y = (sum_nl_y)/(16*np.pi)\n",
    "m_xy = (-sum_nl_xy)/(8*np.pi)\n",
    "\n",
    "print(m_x,m_y,m_xy)"
   ]
  },
  {
   "cell_type": "markdown",
   "id": "a716892a-3e88-465c-8947-4f3128df3d01",
   "metadata": {},
   "source": [
    "- ```normal_emitt_x = 3e-6 #m*rad``` -> m\n",
    "- ```sigma_x = np.sqrt(betx_at_ip3*normal_emitt_x/(particle_0.gamma0*particle_0.beta0))``` -> sqrt(m*m/no_dimension)-> m \n",
    "- ```jx[ii] = x0[ii]*x0[ii]/(2*betx_at_ip3)``` -> m*m/m -> m\n",
    "- ```sum_nl_x+=line.element_dict[elem].knl[3]*tw['betx'][ii]*tw['betx'][ii]```-> $m^{-3}$(?)*$m^{2}$-> $m^{-1}$\n",
    "Total dqx (no dimension) = ang_coeff ($m^{-1}$) * jx ( m ) -> no dimension = no dimension !"
   ]
  },
  {
   "cell_type": "code",
   "execution_count": 114,
   "id": "1d176c4d-1bad-4f98-84d7-defffd432d59",
   "metadata": {},
   "outputs": [
    {
     "name": "stdout",
     "output_type": "stream",
     "text": [
      "generating ./b22bf00287044556adc68e08dc373456.c\n",
      "the current directory is '/home/afornara/studies/git_postprocessing'\n",
      "running build_ext\n",
      "building 'b22bf00287044556adc68e08dc373456' extension\n",
      "gcc -pthread -B /home/afornara/py/2022_03_04/miniconda/compiler_compat -Wno-unused-result -Wsign-compare -DNDEBUG -O2 -Wall -fPIC -O2 -isystem /home/afornara/py/2022_03_04/miniconda/include -I/home/afornara/py/2022_03_04/miniconda/include -fPIC -O2 -isystem /home/afornara/py/2022_03_04/miniconda/include -fPIC -I/home/afornara/py/2022_03_04/miniconda/include/python3.9 -c b22bf00287044556adc68e08dc373456.c -o ./b22bf00287044556adc68e08dc373456.o -std=c99 -O3 -Wno-unused-function\n",
      "gcc -pthread -B /home/afornara/py/2022_03_04/miniconda/compiler_compat -shared -Wl,-rpath,/home/afornara/py/2022_03_04/miniconda/lib -Wl,-rpath-link,/home/afornara/py/2022_03_04/miniconda/lib -L/home/afornara/py/2022_03_04/miniconda/lib -L/home/afornara/py/2022_03_04/miniconda/lib -Wl,-rpath,/home/afornara/py/2022_03_04/miniconda/lib -Wl,-rpath-link,/home/afornara/py/2022_03_04/miniconda/lib -L/home/afornara/py/2022_03_04/miniconda/lib ./b22bf00287044556adc68e08dc373456.o -o ./b22bf00287044556adc68e08dc373456.cpython-39-x86_64-linux-gnu.so -std=c99 -O3\n"
     ]
    }
   ],
   "source": [
    "#--------input and context---------\n",
    "\n",
    "i_mo = 0\n",
    "p0c = 7000e9\n",
    "normal_emitt_x = 3e-6 #m*rad\n",
    "normal_emitt_y = 3e-6 #m*rad\n",
    "N_particles = 11 \n",
    "N=1000\n",
    "n_turns= 1\n",
    "\n",
    "ctx_cpu = xo.ContextCpu()\n",
    "\n",
    "#-----preparing for tracking------\n",
    "\n",
    "particle_0 = xp.Particles(_context=ctx_cpu, p0c=p0c)\n",
    "line.vars['i_mo'] = i_mo\n",
    "#line.vars['cmrs.b1_sq']=0.5*line.vars['cmrs.b1_sq']\n",
    "\n",
    "\n",
    "tracker_normal = xt.Tracker(_context=ctx_cpu, line=line)\n",
    "tw_normal = tracker_normal.twiss(particle_0)\n",
    "\n",
    "\n",
    "betx_at_ip3 = tw_normal['betx'][0]\n",
    "bety_at_ip3 = tw_normal['bety'][0]\n",
    "\n",
    "#----defining the sigma in both directions---------\n",
    "\n",
    "sigma_x = np.sqrt(betx_at_ip3*normal_emitt_x/(particle_0.gamma0*particle_0.beta0))\n",
    "sigma_y = np.sqrt(bety_at_ip3*normal_emitt_y/(particle_0.gamma0*particle_0.beta0))\n",
    "\n",
    "#-----closed orbit particle-----\n",
    "\n",
    "p0_normal = tw_normal['particle_on_co']\n",
    "\n",
    "#-----choose one of the two to have a particle with x or y displacement----------------\n",
    "\n",
    "particles_normal = xp.build_particles(_context=ctx_cpu,particle_ref=p0_normal,\n",
    "                                      x=[mysigma*sigma_x[0] for mysigma in np.linspace(0.2,2.2,N_particles)])\n",
    "#particles_normal = xp.build_particles(_context=ctx_cpu,particle_ref=p0_normal,\n",
    "#y=[mysigma*sigma_y[0] for mysigma in np.linspace(0.2,2.2,N_particles)])\n",
    "\n",
    "#-----tracking------------------\n",
    "\n",
    "my_result = {}\n",
    "for ii in ['x','px','y','py','zeta','delta']:\n",
    "    my_result[ii] = []\n",
    "\n",
    "\n",
    "for ii in range(N):\n",
    "    tracker_normal.track(particles_normal, num_turns=n_turns,turn_by_turn_monitor=False)\n",
    "    for jj in ['x','px','y','py','zeta','delta']:\n",
    "        my_result[jj].append(getattr(particles_normal,jj).copy())       \n",
    "        #my_result[jj].append(getattr(particles_normal,jj).copy())\n",
    "\n",
    "for jj in ['x','px','y','py','zeta','delta']:\n",
    "        my_result[jj] = np.array(my_result[jj])\n",
    "        #my_result[jj] = np.array(my_result[jj])\n",
    "\n",
    "\n",
    "#-------tunes-------\n",
    "\n",
    "qx_normal = []\n",
    "qy_normal = []\n",
    "\n",
    "for ii in range(N_particles):\n",
    "    \n",
    "    qx_normal.append(NAFFlib.get_tune(my_result['x'][:,ii]))\n",
    "    qy_normal.append(NAFFlib.get_tune(my_result['y'][:,ii]))\n",
    "\n",
    "x0 = np.array([mysigma*sigma_x[0] for mysigma in np.linspace(0.2,2.2,N_particles)]) \n",
    "y0 = np.array([mysigma*sigma_y[0] for mysigma in np.linspace(0.2,2.2,N_particles)]) "
   ]
  },
  {
   "cell_type": "code",
   "execution_count": 115,
   "id": "463b7002-b1dd-4ce9-8140-8666dcd6525c",
   "metadata": {},
   "outputs": [
    {
     "name": "stdout",
     "output_type": "stream",
     "text": [
      "[0.3129999811552932, 0.3129999827272727, 0.31299998534012013, 0.3129999889938052, 0.31299999368836384, 0.31299999942380374, 0.313000006200069, 0.3130000140172004, 0.31300002287519935, 0.31300003277404326, 0.31300004371376666]\n"
     ]
    }
   ],
   "source": [
    "print(qx_normal)"
   ]
  },
  {
   "cell_type": "code",
   "execution_count": 116,
   "id": "a47f9597-58ec-4296-b480-33d49be4bbda",
   "metadata": {},
   "outputs": [],
   "source": [
    "qx_oct = [0.31298915672551, 0.31295665075936835, 0.3129023743775689, 0.31282617538611907, 0.3127278737598104, 0.31260727758286205, 0.3124642016259394, 0.3122984838368747, 0.3121099888219403, 0.3118985963358075, 0.3116642582190187]\n",
    "qx_no_oct = [0.3129999811552932, 0.3129999827272727, 0.31299998534012013, 0.3129999889938052, 0.31299999368836384, 0.31299999942380374, 0.313000006200069, 0.3130000140172004, 0.31300002287519935, 0.31300003277404326, 0.31300004371376666]\n",
    "qy_oct = [0.3179864018161214, 0.31794560413324036, 0.31787778537308836, 0.31778325761735776, 0.3176625376797424, 0.3175165129912427, 0.3173465326847202, 0.31715436878480313, 0.3169429411126197, 0.31671955447878025, 0.3164924105749956]\n",
    "qy_no_oct = [0.31800002580777964, 0.31800002774937036, 0.3180000309853371, 0.31800003551568573, 0.318000041340406, 0.3180000484595221, 0.31800005687302935, 0.31800006658090413, 0.3180000775831715, 0.31800008987983297, 0.3180001034708594]"
   ]
  },
  {
   "cell_type": "code",
   "execution_count": 126,
   "id": "20334b56-6e6b-4435-ab78-86ebbabacec4",
   "metadata": {},
   "outputs": [
    {
     "name": "stdout",
     "output_type": "stream",
     "text": [
      "m =  -204822.67979319234 q =  0.3129990402376886\n",
      "-202149.9212013185\n"
     ]
    },
    {
     "data": {
      "text/plain": [
       "1000"
      ]
     },
     "execution_count": 126,
     "metadata": {},
     "output_type": "execute_result"
    },
    {
     "data": {
      "image/png": "[encoded data removed]",
      "text/plain": [
       "<Figure size 432x288 with 1 Axes>"
      ]
     },
     "metadata": {
      "needs_background": "light"
     },
     "output_type": "display_data"
    }
   ],
   "source": [
    "#Monitor detuning study, x direction\n",
    "x0 = np.array([mysigma*sigma_x[0] for mysigma in np.linspace(0.2,2.2,N_particles)])\n",
    "\n",
    "jx = np.zeros(N_particles)\n",
    "\n",
    "\n",
    "for ii in range(N_particles):\n",
    "    jx[ii] = x0[ii]*x0[ii]/(2*betx_at_ip3)\n",
    "\n",
    "\n",
    "\n",
    "plt.plot(jx,qx_no_oct,'-o');\n",
    "plt.plot(jx,qx_oct,'-o')\n",
    "plt.grid()\n",
    "#plt.ylim(-0.002,0.005)\n",
    "#print(j[0],dq[0],j[8],dq[8])\n",
    "plt.ylabel('Tunes')\n",
    "plt.xlabel('Jx [m]')\n",
    "\n",
    "\n",
    "slope, intercept, r_value, p_value, std_err = linregress([jx[0],jx[9]],[qx_oct[0],qx_oct[9]+m_xy*(jy[9]-jy[0])])\n",
    "print('m = ',slope/6,'q = ',intercept)\n",
    "m = ((qx_oct[4]-qx_oct[0])+(m_xy*(jy[4]-jy[0])))/(jx[4]-jx[0])\n",
    "print(m/6)\n",
    "\n",
    "# qx_oct[4]-qx_oct[0] =  mx/6(jx[4]-jx[0])/2 + mxy(jy[4]-jy[0])/2\n",
    "# (2deltaq-mxy deltajy)/deltajx = mx/6\n",
    "\n",
    "#mx = 2(qx_oct[4]-qx_oct[0])-\n",
    "\n",
    "#2deltaqx=mxdeltajx+mxydeltajy\n",
    "\n",
    "len(my_result['x'][:,ii])"
   ]
  },
  {
   "cell_type": "code",
   "execution_count": 129,
   "id": "f88bd3a2-1770-4db6-8f0e-c3cd36f8694e",
   "metadata": {},
   "outputs": [
    {
     "name": "stdout",
     "output_type": "stream",
     "text": [
      "-256187.91081631472\n",
      "m =  -241724.8328416569 q =  0.3179980660045387\n"
     ]
    },
    {
     "data": {
      "text/plain": [
       "1000"
      ]
     },
     "execution_count": 129,
     "metadata": {},
     "output_type": "execute_result"
    },
    {
     "data": {
      "image/png": "[encoded data removed]",
      "text/plain": [
       "<Figure size 432x288 with 1 Axes>"
      ]
     },
     "metadata": {
      "needs_background": "light"
     },
     "output_type": "display_data"
    }
   ],
   "source": [
    "#Monitor detuning study, y direction\n",
    "jy = np.zeros(N_particles)\n",
    "\n",
    "\n",
    "for ii in range(N_particles):\n",
    "    jy[ii] = y0[ii]*y0[ii]/(2*bety_at_ip3)\n",
    "\n",
    "\n",
    "\n",
    "plt.plot(jy,qy_no_oct,'-o');\n",
    "plt.plot(jy,qy_oct,'-o')\n",
    "plt.grid()\n",
    "plt.ylabel('Detune')\n",
    "plt.xlabel('Jy [m]')\n",
    "m = ((qy_oct[4]-qy_oct[0])+(m_xy*(jx[4]-jx[0])))/(jy[4]-jy[0])\n",
    "print(m/6)\n",
    "\n",
    "slope, intercept, r_value, p_value, std_err = linregress([jy[0],jy[9]],[qy_oct[0],qy_oct[9]+m_xy*(jx[9]-jx[0])])\n",
    "#slope = slope/6+140786.19331294773*jx[2]\n",
    "print('m = ',slope/6,'q = ',intercept)\n",
    "#print(tracker_monitor.record_last_track.x[0])\n",
    "#len(tracker_monitor.record_last_track.x[0])\n",
    "len(my_result['x'][:,ii])"
   ]
  },
  {
   "cell_type": "code",
   "execution_count": null,
   "id": "5ed731cd-ec53-4d36-9385-a292a8734d48",
   "metadata": {},
   "outputs": [],
   "source": []
  },
  {
   "cell_type": "code",
   "execution_count": null,
   "id": "c9444ef4-677d-4d18-b477-2efd1bdcce05",
   "metadata": {},
   "outputs": [],
   "source": []
  }
 ],
 "metadata": {
  "kernelspec": {
   "display_name": "Python 3 (ipykernel)",
   "language": "python",
   "name": "python3"
  },
  "language_info": {
   "codemirror_mode": {
    "name": "ipython",
    "version": 3
   },
   "file_extension": ".py",
   "mimetype": "text/x-python",
   "name": "python",
   "nbconvert_exporter": "python",
   "pygments_lexer": "ipython3",
   "version": "3.9.7"
  }
 },
 "nbformat": 4,
 "nbformat_minor": 5
}
