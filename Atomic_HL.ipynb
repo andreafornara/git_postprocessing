{
 "cells": [
  {
   "cell_type": "code",
   "execution_count": 3,
   "id": "d6f7078d-6aa5-408f-9e5f-d8a198a68267",
   "metadata": {},
   "outputs": [],
   "source": [
    "import numpy as np\n",
    "import xobjects as xo\n",
    "import xtrack as xt\n",
    "import xpart as xp\n",
    "import json\n",
    "import pandas as pd\n",
    "from cpymad.madx import Madx\n",
    "#from matplotlib import pyplot as plt\n",
    "import NAFFlib\n",
    "from math import modf\n",
    "#from scipy.constants import physical_constants\n",
    "from matplotlib import pyplot as plt\n",
    "from scipy.stats import linregress\n",
    "import math"
   ]
  },
  {
   "cell_type": "code",
   "execution_count": 4,
   "id": "ccb56eca-8cbe-493d-893a-5dfe23dd1627",
   "metadata": {},
   "outputs": [
    {
     "name": "stdout",
     "output_type": "stream",
     "text": [
      "-350\n",
      "generating ./7da5919bfb884fa6bae6cf1f99d3c71e.c\n",
      "the current directory is '/afs/cern.ch/user/a/afornara/simulations/git_dir'\n",
      "running build_ext\n",
      "building '7da5919bfb884fa6bae6cf1f99d3c71e' extension\n",
      "gcc -pthread -B /home/afornara/py/2022_17_03/miniconda/compiler_compat -Wno-unused-result -Wsign-compare -DNDEBUG -O2 -Wall -fPIC -O2 -isystem /home/afornara/py/2022_17_03/miniconda/include -I/home/afornara/py/2022_17_03/miniconda/include -fPIC -O2 -isystem /home/afornara/py/2022_17_03/miniconda/include -fPIC -I/home/afornara/py/2022_17_03/miniconda/include/python3.9 -c 7da5919bfb884fa6bae6cf1f99d3c71e.c -o ./7da5919bfb884fa6bae6cf1f99d3c71e.o -std=c99 -O3 -Wno-unused-function\n",
      "gcc -pthread -B /home/afornara/py/2022_17_03/miniconda/compiler_compat -shared -Wl,-rpath,/home/afornara/py/2022_17_03/miniconda/lib -Wl,-rpath-link,/home/afornara/py/2022_17_03/miniconda/lib -L/home/afornara/py/2022_17_03/miniconda/lib -L/home/afornara/py/2022_17_03/miniconda/lib -Wl,-rpath,/home/afornara/py/2022_17_03/miniconda/lib -Wl,-rpath-link,/home/afornara/py/2022_17_03/miniconda/lib -L/home/afornara/py/2022_17_03/miniconda/lib ./7da5919bfb884fa6bae6cf1f99d3c71e.o -o ./7da5919bfb884fa6bae6cf1f99d3c71e.cpython-39-x86_64-linux-gnu.so -std=c99 -O3\n"
     ]
    },
    {
     "name": "stderr",
     "output_type": "stream",
     "text": [
      "Need second attempt on closed orbit search\n"
     ]
    },
    {
     "name": "stdout",
     "output_type": "stream",
     "text": [
      "[2.00829648e-11] [4.06923007e-18] [13329.44159996]\n",
      "121.56359711583254 218.58377591687102\n",
      "[0.00022109] [0.00029647]\n",
      "[2.00829648e-11] [4.06923007e-18] [13329.44159996]\n"
     ]
    }
   ],
   "source": [
    "#--------input and context---------\n",
    "\n",
    "i_mo = -350\n",
    "p0c = 7000e9\n",
    "normal_emitt_x = 3e-6 #m*rad\n",
    "normal_emitt_y = 3e-6 #m*rad\n",
    "N_particles = 11 \n",
    "N=1000\n",
    "n_turns= 1\n",
    "\n",
    "ctx_cpu = xo.ContextCpu()\n",
    "\n",
    "#--------Opening the file---------\n",
    "\n",
    "mad = Madx()\n",
    "mad.option(echo=False)\n",
    "mad.call('lhcandrea5.madx')\n",
    "mad.use(sequence=\"lhcb1\")\n",
    "line = xt.Line.from_madx_sequence(mad.sequence['lhcb1'],\n",
    "                              deferred_expressions=True\n",
    "                              )\n",
    "with open('hl_line.json', 'w') as fid:\n",
    "    json.dump(line.to_dict(), fid, cls=xo.JEncoder)\n",
    "\n",
    "if False:\n",
    "    with open('hl_line.json', 'r') as fid:\n",
    "        loaded_dct = json.load(fid)\n",
    "    line = xt.Line.from_dict(loaded_dct)\n",
    "\n",
    "#-----preparing for tracking------\n",
    "#particle_0 = xp.Particles(_context=ctx_cpu, p0c=p0c)\n",
    "particle_0 = xp.Particles(mass0=xp.PROTON_MASS_EV, q0=1, p0c=p0c, x=1e-3, y=1e-3)\n",
    "line.vars['i_mo'] = i_mo\n",
    "#line.vars['cmrskew']=3*line.vars['cmrskew']\n",
    "print(line.vars['i_mo']._get_value())\n",
    "#print(line.vars['cmrskew']._get_value())\n",
    "\n",
    "tracker_normal = xt.Tracker(_context=ctx_cpu, line=line)\n",
    "ref = tracker_normal.find_closed_orbit(particle_0)\n",
    "print(ref.x,ref.y,ref.zeta)\n",
    "tw_normal = tracker_normal.twiss(ref)\n",
    "\n",
    "\n",
    "betx_at_ip3 = tw_normal['betx'][0]\n",
    "bety_at_ip3 = tw_normal['bety'][0]\n",
    "print(betx_at_ip3,bety_at_ip3)\n",
    "\n",
    "#----defining the sigma in both directions---------\n",
    "\n",
    "sigma_x = np.sqrt(betx_at_ip3*normal_emitt_x/(particle_0.gamma0*particle_0.beta0))\n",
    "sigma_y = np.sqrt(bety_at_ip3*normal_emitt_y/(particle_0.gamma0*particle_0.beta0))\n",
    "print(sigma_x,sigma_y)\n",
    "\n",
    "#-----closed orbit particle-----\n",
    "\n",
    "#p0_normal = tw_normal['particle_on_co']\n",
    "p0_normal = ref \n",
    "print(p0_normal.x,p0_normal.y,p0_normal.zeta)\n",
    "\n",
    "#-----choose one of the two to have a particle with x or y displacement----------------\n",
    "\n",
    "#particles_normal = xp.build_particles(_context=ctx_cpu,particle_ref=p0_normal,\n",
    "#                                     x=[mysigma*sigma_x[0] for mysigma in np.linspace(0.2,2.2,N_particles)])\n",
    "particles_normal = xp.build_particles(_context=ctx_cpu,particle_ref=p0_normal,\n",
    "                                      y=[mysigma*sigma_y[0] for mysigma in np.linspace(0.2,2.2,N_particles)])\n",
    "\n",
    "#-----tracking------------------\n",
    "\n",
    "my_result = {}\n",
    "for ii in ['x','px','y','py','zeta','delta']:\n",
    "    my_result[ii] = []\n",
    "\n",
    "\n",
    "for ii in range(N):\n",
    "    tracker_normal.track(particles_normal, num_turns=n_turns,turn_by_turn_monitor=False)\n",
    "    for jj in ['x','px','y','py','zeta','delta']:\n",
    "        my_result[jj].append(getattr(particles_normal,jj).copy())       \n",
    "        #my_result[jj].append(getattr(particles_normal,jj).copy())\n",
    "\n",
    "for jj in ['x','px','y','py','zeta','delta']:\n",
    "        my_result[jj] = np.array(my_result[jj])\n",
    "        #my_result[jj] = np.array(my_result[jj])\n",
    "\n",
    "\n",
    "#-------tunes-------\n",
    "\n",
    "qx_normal = []\n",
    "qy_normal = []\n",
    "\n",
    "for ii in range(N_particles):\n",
    "    \n",
    "    qx_normal.append(NAFFlib.get_tune(my_result['x'][:,ii]))\n",
    "    qy_normal.append(NAFFlib.get_tune(my_result['y'][:,ii]))\n",
    "\n",
    "x0 = np.array([mysigma*sigma_x[0] for mysigma in np.linspace(0.2,2.2,N_particles)]) \n",
    "y0 = np.array([mysigma*sigma_y[0] for mysigma in np.linspace(0.2,2.2,N_particles)]) "
   ]
  },
  {
   "cell_type": "code",
   "execution_count": 61,
   "id": "a21015cf-ef0b-447b-8052-4dbbaa5fdf1c",
   "metadata": {},
   "outputs": [
    {
     "data": {
      "text/plain": [
       "17819.999999946525"
      ]
     },
     "execution_count": 61,
     "metadata": {},
     "output_type": "execute_result"
    },
    {
     "data": {
      "image/png": "[encoded data removed]",
      "text/plain": [
       "<Figure size 432x288 with 1 Axes>"
      ]
     },
     "metadata": {
      "needs_background": "light"
     },
     "output_type": "display_data"
    }
   ],
   "source": [
    "#print((my_result['y'][:,ii]))\n",
    "\n",
    "plt.plot(my_result['x'][:,3])\n",
    "#plt.plot(my_result['y'][:,5])\n",
    "#plt.plot(tw_normal['s'],tw_normal['y'])\n",
    "#len(tw_normal['betx'])\n",
    "13329.44159996/(0.7480045791245792)"
   ]
  },
  {
   "cell_type": "code",
   "execution_count": 28,
   "id": "60315aba-3b68-4412-a405-3c33390227b9",
   "metadata": {},
   "outputs": [
    {
     "name": "stdout",
     "output_type": "stream",
     "text": [
      "[0.3199647919147489, 0.31985918903987093, 0.31968326137648256, 0.31943712285128767, 0.3191209303598695, 0.318734885986202, 0.31827922992692564, 0.31775424648940914, 0.3171602536699745, 0.31649760994340664, 0.31576670728784345]\n"
     ]
    }
   ],
   "source": [
    "print(qy_normal)"
   ]
  },
  {
   "cell_type": "code",
   "execution_count": 29,
   "id": "49f7ada1-51be-40b3-88e9-689168bf8cf5",
   "metadata": {},
   "outputs": [],
   "source": [
    "qx_oct = [0.3099729853619833, 0.3098918357682501, 0.3097564288224855, 0.3095666905629942, 0.30932260135690787, 0.3090241960273222, 0.3086715645289171, 0.30826485287266264, 0.3078042573649851, 0.3072900293432073, 0.30672245933280956]\n",
    "qx_no_oct = [0.31000247351151017, 0.3100099060222694, 0.310022318009404, 0.3100397233326097, 0.3100621477186556, 0.3100896106017297, 0.3101221338376378, 0.31015974307030975, 0.31020245464808854, 0.3102502971621292, 0.31030330628103214]\n",
    "qy_oct = [0.3199647919147489, 0.31985918903987093, 0.31968326137648256, 0.31943712285128767, 0.3191209303598695, 0.318734885986202, 0.31827922992692564, 0.31775424648940914, 0.3171602536699745, 0.31649760994340664, 0.31576670728784345]\n",
    "qy_no_oct = [0.320002601157878, 0.3200103963990873, 0.3200233851424917, 0.3200415710538225, 0.3200649570182308, 0.3200935416597209, 0.3201273246927187, 0.3201663161732014, 0.32021049937305646, 0.32025989443330893, 0.3203144948520657]"
   ]
  },
  {
   "cell_type": "code",
   "execution_count": 30,
   "id": "263a11e5-8bf4-4cfd-a16b-b35e58a08d7a",
   "metadata": {},
   "outputs": [
    {
     "name": "stdout",
     "output_type": "stream",
     "text": [
      "m =  -561357.0021162002 q =  0.3100000730788931\n",
      "-538358.4126539807\n"
     ]
    },
    {
     "data": {
      "text/plain": [
       "1000"
      ]
     },
     "execution_count": 30,
     "metadata": {},
     "output_type": "execute_result"
    },
    {
     "data": {
      "image/png": "[encoded data removed]",
      "text/plain": [
       "<Figure size 432x288 with 1 Axes>"
      ]
     },
     "metadata": {
      "needs_background": "light"
     },
     "output_type": "display_data"
    }
   ],
   "source": [
    "#Monitor detuning study, x direction\n",
    "x0 = np.array([mysigma*sigma_x[0] for mysigma in np.linspace(0.2,2.2,N_particles)])\n",
    "\n",
    "jx = np.zeros(N_particles)\n",
    "\n",
    "\n",
    "for ii in range(N_particles):\n",
    "    jx[ii] = x0[ii]*x0[ii]/(2*betx_at_ip3)\n",
    "\n",
    "\n",
    "\n",
    "plt.plot(jx,qx_no_oct,'-o');\n",
    "plt.plot(jx,qx_oct,'-o')\n",
    "plt.grid()\n",
    "#plt.xlim(jx[4],jx[10])\n",
    "#print(j[0],dq[0],j[8],dq[8])\n",
    "plt.ylabel('Tunes')\n",
    "plt.xlabel('Jx [m]')\n",
    "\n",
    "\n",
    "slope, intercept, r_value, p_value, std_err = linregress([jx[0],jx[10]],[qx_oct[0],qx_oct[10]])\n",
    "print('m = ',slope/6,'q = ',intercept)\n",
    "m = ((qx_oct[10]-qx_oct[0])+(137991.53677331618*(jy[10]-jy[0])))/(jx[10]-jx[0])\n",
    "print(m/6)\n",
    "\n",
    "#print(tracker_monitor.record_last_track.x[0])\n",
    "#len(tracker_monitor.record_last_track.x[0])\n",
    "len(my_result['x'][:,ii])"
   ]
  },
  {
   "cell_type": "code",
   "execution_count": 32,
   "id": "e78d4c10-3961-403e-9170-2ef138e3a07a",
   "metadata": {},
   "outputs": [
    {
     "name": "stdout",
     "output_type": "stream",
     "text": [
      "-701999.2046298295\n",
      "m =  -729293.3707357375 q =  0.31999998323203216\n"
     ]
    },
    {
     "data": {
      "text/plain": [
       "1000"
      ]
     },
     "execution_count": 32,
     "metadata": {},
     "output_type": "execute_result"
    },
    {
     "data": {
      "image/png": "[encoded data removed]",
      "text/plain": [
       "<Figure size 432x288 with 1 Axes>"
      ]
     },
     "metadata": {
      "needs_background": "light"
     },
     "output_type": "display_data"
    }
   ],
   "source": [
    "#Monitor detuning study, x direction\n",
    "x0 = np.array([mysigma*sigma_x[0] for mysigma in np.linspace(0.2,2.2,N_particles)])\n",
    "\n",
    "jy = np.zeros(N_particles)\n",
    "\n",
    "\n",
    "for ii in range(N_particles):\n",
    "    jy[ii] = y0[ii]*y0[ii]/(2*bety_at_ip3)\n",
    "\n",
    "\n",
    "\n",
    "plt.plot(jy,qy_no_oct,'-o');\n",
    "plt.plot(jy,qy_oct,'-o')\n",
    "plt.grid()\n",
    "#plt.ylim(-0.002,0.005)\n",
    "#print(j[0],dq[0],j[8],dq[8])\n",
    "plt.ylabel('Tune')\n",
    "plt.xlabel('Jy [m]')\n",
    "m = ((qy_oct[10]-qy_oct[0])+(137991.53677331618*(jx[10]-jx[0])))/(jy[10]-jy[0])\n",
    "print(m/6)\n",
    "\n",
    "slope, intercept, r_value, p_value, std_err = linregress([jy[0],jy[2]],[qy_oct[0],qy_oct[2]])\n",
    "#slope = slope/6+140786.19331294773*jx[2]\n",
    "print('m = ',slope/6,'q = ',intercept)\n",
    "\n",
    "#print(tracker_monitor.record_last_track.x[0])\n",
    "#len(tracker_monitor.record_last_track.x[0])\n",
    "len(my_result['x'][:,ii])"
   ]
  },
  {
   "cell_type": "code",
   "execution_count": 3,
   "id": "a738cd6b-4d78-4dcc-a98b-4e8c4cfcf2a2",
   "metadata": {},
   "outputs": [
    {
     "name": "stdout",
     "output_type": "stream",
     "text": [
      "generating ./7daacffd6ebc42afa0038431fad56884.c\n",
      "the current directory is '/home/afornara/studies/22_03_18/git_postprocessing'\n",
      "running build_ext\n",
      "building '7daacffd6ebc42afa0038431fad56884' extension\n",
      "gcc -pthread -B /home/afornara/py/2022_03_18/miniconda/compiler_compat -Wno-unused-result -Wsign-compare -DNDEBUG -O2 -Wall -fPIC -O2 -isystem /home/afornara/py/2022_03_18/miniconda/include -I/home/afornara/py/2022_03_18/miniconda/include -fPIC -O2 -isystem /home/afornara/py/2022_03_18/miniconda/include -fPIC -I/home/afornara/py/2022_03_18/miniconda/include/python3.9 -c 7daacffd6ebc42afa0038431fad56884.c -o ./7daacffd6ebc42afa0038431fad56884.o -std=c99 -O3 -Wno-unused-function\n",
      "gcc -pthread -B /home/afornara/py/2022_03_18/miniconda/compiler_compat -shared -Wl,-rpath,/home/afornara/py/2022_03_18/miniconda/lib -Wl,-rpath-link,/home/afornara/py/2022_03_18/miniconda/lib -L/home/afornara/py/2022_03_18/miniconda/lib -L/home/afornara/py/2022_03_18/miniconda/lib -Wl,-rpath,/home/afornara/py/2022_03_18/miniconda/lib -Wl,-rpath-link,/home/afornara/py/2022_03_18/miniconda/lib -L/home/afornara/py/2022_03_18/miniconda/lib ./7daacffd6ebc42afa0038431fad56884.o -o ./7daacffd6ebc42afa0038431fad56884.cpython-39-x86_64-linux-gnu.so -std=c99 -O3\n"
     ]
    }
   ],
   "source": [
    "tracker1 = xt.Tracker(_context=ctx_cpu, line=line)\n",
    "#tw = tracker1.twiss(particle_0)\n",
    "tw = tracker_normal.twiss(ref)"
   ]
  },
  {
   "cell_type": "code",
   "execution_count": 31,
   "id": "33d69824-6dfe-4b25-a9c5-f8364952d151",
   "metadata": {},
   "outputs": [
    {
     "name": "stdout",
     "output_type": "stream",
     "text": [
      "Iteration number  0 of 23629\n",
      "Iteration number  10000 of 23629\n",
      "Iteration number  20000 of 23629\n",
      "-584122.2820287823 -588765.0485519005 249339.99425447933 -7944383.525684036\n"
     ]
    }
   ],
   "source": [
    "with open('hl_line.json', 'r') as fid:\n",
    "    loaded_dct = json.load(fid)\n",
    "line = xt.Line.from_dict(loaded_dct)\n",
    "line.vars['i_mo'] = -350\n",
    "sum_nl_x = 0.0\n",
    "sum_nl_y = 0.0\n",
    "sum_nl_xy = 0.0\n",
    "alpha_xx= 0.0\n",
    "nu_x = tw[\"qx\"]% 1\n",
    "nu_y = tw[\"qy\"]% 1\n",
    "ii = 0\n",
    "for elem in line.element_dict :\n",
    "    if(ii%10000 == 0):\n",
    "        print('Iteration number ', ii, 'of', len(line.element_dict))\n",
    "    if isinstance(line.element_dict[elem],xt.beam_elements.elements.Multipole): \n",
    "        if(line.element_dict[elem].order==3):\n",
    "                #print(elem)\n",
    "                #print(line.element_dict[elem].length)\n",
    "                #print(line.element_dict[elem].knl)\n",
    "                sum_nl_x+=line.element_dict[elem].knl[3]*tw['betx'][ii]*tw['betx'][ii]\n",
    "                sum_nl_y+=line.element_dict[elem].knl[3]*tw['bety'][ii]*tw['bety'][ii]\n",
    "                sum_nl_xy+=line.element_dict[elem].knl[3]*tw['betx'][ii]*tw['bety'][ii]\n",
    "        if(ii == 1): \n",
    "            break\n",
    "        if(line.element_dict[elem].order==2):\n",
    "            jj = 0  \n",
    "            for elem2 in line.element_dict :\n",
    "                if isinstance(line.element_dict[elem2],xt.beam_elements.elements.Multipole): \n",
    "                    if((line.element_dict[elem2].order==2) and (not math.isclose(line.element_dict[elem2].knl[2], 0))):\n",
    "                        psi_ij_mod_x=np.abs(tw['mux'][jj]-tw['mux'][ii])\n",
    "                        beta_i_beta_j = pow(tw['betx'][ii],3/2)*pow(tw['betx'][jj],3/2)\n",
    "                        S_i_S_j = line.element_dict[elem].knl[2]*line.element_dict[elem2].knl[2]\n",
    "                        I1 = (np.cos(3*(np.pi*nu_x-psi_ij_mod_x)))/(np.sin(3*np.pi*nu_x))\n",
    "                        I2 = 3*(np.cos(np.pi*nu_x-psi_ij_mod_x)/(np.sin(np.pi*nu_x)))\n",
    "                        alpha_xx += beta_i_beta_j*(S_i_S_j)*(I1)*(I2)\n",
    "                        #print(alpha_xx)\n",
    "                        \n",
    "                        #print('elem is',elem2,'and tw[name][elem]=',tw['name'][jj],'with beta=',tw['betx'][jj], 'with knl=',line.element_dict[elem].knl[2])\n",
    "                        #print(line.element_dict[elem].knl)\n",
    "                        #line.element_dict[elem].knl[2]=0\n",
    "                        \n",
    "                jj+=1\n",
    "            \n",
    "    ii+=1\n",
    "\n",
    "m_x = (sum_nl_x)/(16*np.pi)\n",
    "m_y = (sum_nl_y)/(16*np.pi)\n",
    "m_xy = (-sum_nl_xy)/(8*np.pi)\n",
    "alpha_xx_tot = -alpha_xx/(16*np.pi)\n",
    "print(m_x,m_y,m_xy,alpha_xx_tot)"
   ]
  },
  {
   "cell_type": "markdown",
   "id": "a716892a-3e88-465c-8947-4f3128df3d01",
   "metadata": {},
   "source": [
    "- ```normal_emitt_x = 3e-6 #m*rad``` -> m\n",
    "- ```sigma_x = np.sqrt(betx_at_ip3*normal_emitt_x/(particle_0.gamma0*particle_0.beta0))``` -> sqrt(m*m/no_dimension)-> m \n",
    "- ```jx[ii] = x0[ii]*x0[ii]/(2*betx_at_ip3)``` -> m*m/m -> m\n",
    "- ```sum_nl_x+=line.element_dict[elem].knl[3]*tw['betx'][ii]*tw['betx'][ii]```-> $m^{-3}$(?)*$m^{2}$-> $m^{-1}$\n",
    "Total dqx (no dimension) = ang_coeff ($m^{-1}$) * jx ( m ) -> no dimension = no dimension !\n",
    "\n",
    "-392196.17098834756 -395313.78948759823 167414.16164103348"
   ]
  },
  {
   "cell_type": "code",
   "execution_count": 26,
   "id": "fba07f57-5bd3-4ad5-867a-31dd7575bf4e",
   "metadata": {},
   "outputs": [
    {
     "data": {
      "text/plain": [
       "23629"
      ]
     },
     "execution_count": 26,
     "metadata": {},
     "output_type": "execute_result"
    }
   ],
   "source": [
    "len(line.element_dict)"
   ]
  },
  {
   "cell_type": "code",
   "execution_count": 23,
   "id": "a7838e01-67cd-4871-bdd7-e98ff7ada2f7",
   "metadata": {},
   "outputs": [
    {
     "data": {
      "text/plain": [
       "2"
      ]
     },
     "execution_count": 23,
     "metadata": {},
     "output_type": "execute_result"
    }
   ],
   "source": [
    "np.abs(-2)"
   ]
  },
  {
   "cell_type": "code",
   "execution_count": 22,
   "id": "9359d8ec-bab7-4690-af63-e9378023f3eb",
   "metadata": {},
   "outputs": [
    {
     "data": {
      "text/plain": [
       "array([ 0.        ,  0.        ,  0.        , ..., 62.29198464,\n",
       "       62.29198464, 62.31000044])"
      ]
     },
     "execution_count": 22,
     "metadata": {},
     "output_type": "execute_result"
    }
   ],
   "source": [
    "np.abs(tw['mux'][jj]-tw['mux'][ii])"
   ]
  },
  {
   "cell_type": "code",
   "execution_count": 36,
   "id": "138c5ed9-6eb4-4735-a172-3025a663a84c",
   "metadata": {},
   "outputs": [
    {
     "data": {
      "text/plain": [
       "-0.002743268451254721"
      ]
     },
     "execution_count": 36,
     "metadata": {},
     "output_type": "execute_result"
    }
   ],
   "source": []
  },
  {
   "cell_type": "code",
   "execution_count": null,
   "id": "c4b9b2f3-01d2-488e-b749-17f33f8c811a",
   "metadata": {},
   "outputs": [],
   "source": []
  },
  {
   "cell_type": "code",
   "execution_count": null,
   "id": "81844983-f129-4d2a-8fd5-e7d8c6148fc4",
   "metadata": {},
   "outputs": [],
   "source": []
  },
  {
   "cell_type": "code",
   "execution_count": null,
   "id": "ff3a7f89-5f29-4371-8b1d-3db0790ec637",
   "metadata": {},
   "outputs": [],
   "source": []
  },
  {
   "cell_type": "code",
   "execution_count": 7,
   "id": "7ca24d7d-cc90-4a6b-a51f-f9fdd3cbf4e5",
   "metadata": {},
   "outputs": [
    {
     "data": {
      "text/plain": [
       "[<matplotlib.lines.Line2D at 0x7f724f4ff970>]"
      ]
     },
     "execution_count": 7,
     "metadata": {},
     "output_type": "execute_result"
    },
    {
     "data": {
      "image/png": "[encoded data removed]",
      "text/plain": [
       "<Figure size 432x288 with 1 Axes>"
      ]
     },
     "metadata": {
      "needs_background": "light"
     },
     "output_type": "display_data"
    }
   ],
   "source": [
    "tw = tracker_normal.twiss(ref)\n",
    "plt.plot(tw['s'],tw['y'])"
   ]
  },
  {
   "cell_type": "code",
   "execution_count": 8,
   "id": "88c2e87b-e6b2-4065-aa99-1a56e27f53df",
   "metadata": {},
   "outputs": [
    {
     "data": {
      "text/plain": [
       "[<matplotlib.lines.Line2D at 0x7f724f498e80>]"
      ]
     },
     "execution_count": 8,
     "metadata": {},
     "output_type": "execute_result"
    },
    {
     "data": {
      "image/png": "[encoded data removed]",
      "text/plain": [
       "<Figure size 432x288 with 1 Axes>"
      ]
     },
     "metadata": {
      "needs_background": "light"
     },
     "output_type": "display_data"
    }
   ],
   "source": [
    "tw = tracker_normal.twiss(ref)\n",
    "plt.plot(tw['s'],tw['x'])"
   ]
  },
  {
   "cell_type": "code",
   "execution_count": 41,
   "id": "fad45066-33ef-4d97-85c1-8faa2a8ed50c",
   "metadata": {},
   "outputs": [
    {
     "data": {
      "text/plain": [
       "[<matplotlib.lines.Line2D at 0x7f7253cd1ee0>]"
      ]
     },
     "execution_count": 41,
     "metadata": {},
     "output_type": "execute_result"
    },
    {
     "data": {
      "image/png": "[encoded data removed]",
      "text/plain": [
       "<Figure size 432x288 with 1 Axes>"
      ]
     },
     "metadata": {
      "needs_background": "light"
     },
     "output_type": "display_data"
    }
   ],
   "source": [
    "#tracker_normal.vars['on_sep5']=0\n",
    "tw = tracker_normal.twiss(ref)\n",
    "plt.plot(tw['s'],tw['y'])"
   ]
  },
  {
   "cell_type": "code",
   "execution_count": 34,
   "id": "be2c4937-88a5-46ee-adc9-596de42dc600",
   "metadata": {},
   "outputs": [
    {
     "data": {
      "text/plain": [
       "0"
      ]
     },
     "execution_count": 34,
     "metadata": {},
     "output_type": "execute_result"
    }
   ],
   "source": [
    "tracker_normal.vars['on_ip5']._value"
   ]
  },
  {
   "cell_type": "code",
   "execution_count": 42,
   "id": "96c78642-3aad-4848-b181-4590832a9838",
   "metadata": {},
   "outputs": [
    {
     "data": {
      "text/plain": [
       "([<matplotlib.axis.XTick at 0x7f6356fc3ca0>], [Text(15000, 0, 'ip1')])"
      ]
     },
     "execution_count": 42,
     "metadata": {},
     "output_type": "execute_result"
    },
    {
     "data": {
      "image/png": "[encoded data removed]",
      "text/plain": [
       "<Figure size 432x288 with 1 Axes>"
      ]
     },
     "metadata": {
      "needs_background": "light"
     },
     "output_type": "display_data"
    }
   ],
   "source": [
    "plt.plot(tw['s'],tw['x'])\n",
    "plt.xticks([15000],['ip1'])"
   ]
  },
  {
   "cell_type": "code",
   "execution_count": 50,
   "id": "1d9a36e2-76c0-4916-8d2f-66f62492733a",
   "metadata": {},
   "outputs": [
    {
     "data": {
      "text/plain": [
       "[<matplotlib.lines.Line2D at 0x7f72c4c99ca0>]"
      ]
     },
     "execution_count": 50,
     "metadata": {},
     "output_type": "execute_result"
    },
    {
     "data": {
      "image/png": "[encoded data removed]",
      "text/plain": [
       "<Figure size 432x288 with 1 Axes>"
      ]
     },
     "metadata": {
      "needs_background": "light"
     },
     "output_type": "display_data"
    }
   ],
   "source": [
    "#tw.keys()\n",
    "#tw_df = pd.DataFrame(tw)\n",
    "tw_df = pd.DataFrame({'name':list(tw['name']),'x':list(tw['x']),'px':list(tw['px']),'y':list(tw['y']),'py':list(tw['py']),'zeta':list(tw['zeta']),'delta':list(tw['delta']),'betx':list(tw['betx']),'bety':list(tw['bety']),'mux':list(tw['mux']),'muy':list(tw['muy'])})\n",
    "#{k:v for (k,v) in tw.items()}\n",
    "plt.plot(tw_df['zeta'])"
   ]
  },
  {
   "cell_type": "code",
   "execution_count": null,
   "id": "121ff75c-3c94-46c6-99ba-9f840c9bbb99",
   "metadata": {},
   "outputs": [],
   "source": []
  },
  {
   "cell_type": "code",
   "execution_count": 38,
   "id": "8748b194-d06f-4294-852c-79e40e9b9da6",
   "metadata": {},
   "outputs": [
    {
     "data": {
      "text/plain": [
       "dict_keys(['name', 's', 'x', 'px', 'y', 'py', 'zeta', 'delta', 'psigma', 'betx', 'bety', 'alfx', 'alfy', 'gamx', 'gamy', 'betz0', 'dx', 'dpx', 'dy', 'dpy', 'mux', 'muy', 'qx', 'qy', 'qs', 'dqx', 'dqy', 'slip_factor', 'momentum_compaction_factor', 'circumference', 'T_rev', 'R_matrix', 'particle_on_co'])"
      ]
     },
     "execution_count": 38,
     "metadata": {},
     "output_type": "execute_result"
    }
   ],
   "source": [
    "tw.keys()"
   ]
  },
  {
   "cell_type": "code",
   "execution_count": 60,
   "id": "ec75e0f5-9823-4b8a-906d-f07aae6e2330",
   "metadata": {},
   "outputs": [
    {
     "data": {
      "text/plain": [
       "0.7480045791245792"
      ]
     },
     "execution_count": 60,
     "metadata": {},
     "output_type": "execute_result"
    }
   ],
   "source": [
    "tracker_normal.vars['hrf400']._value\n",
    "26658.8832/35640.0"
   ]
  },
  {
   "cell_type": "code",
   "execution_count": null,
   "id": "a631fff6-863f-4a13-82ab-bf6f2a022327",
   "metadata": {},
   "outputs": [],
   "source": []
  },
  {
   "cell_type": "code",
   "execution_count": null,
   "id": "65fe68c3-7a39-4522-842a-e78bb70c7ba6",
   "metadata": {},
   "outputs": [],
   "source": []
  },
  {
   "cell_type": "code",
   "execution_count": null,
   "id": "de7cc524-fef4-428e-b0a2-fd5135a92ead",
   "metadata": {},
   "outputs": [],
   "source": []
  },
  {
   "cell_type": "code",
   "execution_count": 114,
   "id": "1d176c4d-1bad-4f98-84d7-defffd432d59",
   "metadata": {},
   "outputs": [
    {
     "name": "stdout",
     "output_type": "stream",
     "text": [
      "generating ./b22bf00287044556adc68e08dc373456.c\n",
      "the current directory is '/home/afornara/studies/git_postprocessing'\n",
      "running build_ext\n",
      "building 'b22bf00287044556adc68e08dc373456' extension\n",
      "gcc -pthread -B /home/afornara/py/2022_03_04/miniconda/compiler_compat -Wno-unused-result -Wsign-compare -DNDEBUG -O2 -Wall -fPIC -O2 -isystem /home/afornara/py/2022_03_04/miniconda/include -I/home/afornara/py/2022_03_04/miniconda/include -fPIC -O2 -isystem /home/afornara/py/2022_03_04/miniconda/include -fPIC -I/home/afornara/py/2022_03_04/miniconda/include/python3.9 -c b22bf00287044556adc68e08dc373456.c -o ./b22bf00287044556adc68e08dc373456.o -std=c99 -O3 -Wno-unused-function\n",
      "gcc -pthread -B /home/afornara/py/2022_03_04/miniconda/compiler_compat -shared -Wl,-rpath,/home/afornara/py/2022_03_04/miniconda/lib -Wl,-rpath-link,/home/afornara/py/2022_03_04/miniconda/lib -L/home/afornara/py/2022_03_04/miniconda/lib -L/home/afornara/py/2022_03_04/miniconda/lib -Wl,-rpath,/home/afornara/py/2022_03_04/miniconda/lib -Wl,-rpath-link,/home/afornara/py/2022_03_04/miniconda/lib -L/home/afornara/py/2022_03_04/miniconda/lib ./b22bf00287044556adc68e08dc373456.o -o ./b22bf00287044556adc68e08dc373456.cpython-39-x86_64-linux-gnu.so -std=c99 -O3\n"
     ]
    }
   ],
   "source": [
    "#--------input and context---------\n",
    "\n",
    "i_mo = 0\n",
    "p0c = 7000e9\n",
    "normal_emitt_x = 3e-6 #m*rad\n",
    "normal_emitt_y = 3e-6 #m*rad\n",
    "N_particles = 11 \n",
    "N=1000\n",
    "n_turns= 1\n",
    "\n",
    "ctx_cpu = xo.ContextCpu()\n",
    "\n",
    "#-----preparing for tracking------\n",
    "\n",
    "particle_0 = xp.Particles(_context=ctx_cpu, p0c=p0c)\n",
    "line.vars['i_mo'] = i_mo\n",
    "#line.vars['cmrs.b1_sq']=0.5*line.vars['cmrs.b1_sq']\n",
    "\n",
    "\n",
    "tracker_normal = xt.Tracker(_context=ctx_cpu, line=line)\n",
    "tw_normal = tracker_normal.twiss(particle_0)\n",
    "\n",
    "\n",
    "betx_at_ip3 = tw_normal['betx'][0]\n",
    "bety_at_ip3 = tw_normal['bety'][0]\n",
    "\n",
    "#----defining the sigma in both directions---------\n",
    "\n",
    "sigma_x = np.sqrt(betx_at_ip3*normal_emitt_x/(particle_0.gamma0*particle_0.beta0))\n",
    "sigma_y = np.sqrt(bety_at_ip3*normal_emitt_y/(particle_0.gamma0*particle_0.beta0))\n",
    "\n",
    "#-----closed orbit particle-----\n",
    "\n",
    "p0_normal = tw_normal['particle_on_co']\n",
    "\n",
    "#-----choose one of the two to have a particle with x or y displacement----------------\n",
    "\n",
    "particles_normal = xp.build_particles(_context=ctx_cpu,particle_ref=p0_normal,\n",
    "                                      x=[mysigma*sigma_x[0] for mysigma in np.linspace(0.2,2.2,N_particles)])\n",
    "#particles_normal = xp.build_particles(_context=ctx_cpu,particle_ref=p0_normal,\n",
    "#y=[mysigma*sigma_y[0] for mysigma in np.linspace(0.2,2.2,N_particles)])\n",
    "\n",
    "#-----tracking------------------\n",
    "\n",
    "my_result = {}\n",
    "for ii in ['x','px','y','py','zeta','delta']:\n",
    "    my_result[ii] = []\n",
    "\n",
    "\n",
    "for ii in range(N):\n",
    "    tracker_normal.track(particles_normal, num_turns=n_turns,turn_by_turn_monitor=False)\n",
    "    for jj in ['x','px','y','py','zeta','delta']:\n",
    "        my_result[jj].append(getattr(particles_normal,jj).copy())       \n",
    "        #my_result[jj].append(getattr(particles_normal,jj).copy())\n",
    "\n",
    "for jj in ['x','px','y','py','zeta','delta']:\n",
    "        my_result[jj] = np.array(my_result[jj])\n",
    "        #my_result[jj] = np.array(my_result[jj])\n",
    "\n",
    "\n",
    "#-------tunes-------\n",
    "\n",
    "qx_normal = []\n",
    "qy_normal = []\n",
    "\n",
    "for ii in range(N_particles):\n",
    "    \n",
    "    qx_normal.append(NAFFlib.get_tune(my_result['x'][:,ii]))\n",
    "    qy_normal.append(NAFFlib.get_tune(my_result['y'][:,ii]))\n",
    "\n",
    "x0 = np.array([mysigma*sigma_x[0] for mysigma in np.linspace(0.2,2.2,N_particles)]) \n",
    "y0 = np.array([mysigma*sigma_y[0] for mysigma in np.linspace(0.2,2.2,N_particles)]) "
   ]
  },
  {
   "cell_type": "code",
   "execution_count": 115,
   "id": "463b7002-b1dd-4ce9-8140-8666dcd6525c",
   "metadata": {},
   "outputs": [
    {
     "name": "stdout",
     "output_type": "stream",
     "text": [
      "[0.3129999811552932, 0.3129999827272727, 0.31299998534012013, 0.3129999889938052, 0.31299999368836384, 0.31299999942380374, 0.313000006200069, 0.3130000140172004, 0.31300002287519935, 0.31300003277404326, 0.31300004371376666]\n"
     ]
    }
   ],
   "source": [
    "print(qx_normal)"
   ]
  },
  {
   "cell_type": "code",
   "execution_count": 116,
   "id": "a47f9597-58ec-4296-b480-33d49be4bbda",
   "metadata": {},
   "outputs": [],
   "source": [
    "qx_oct = [0.31298915672551, 0.31295665075936835, 0.3129023743775689, 0.31282617538611907, 0.3127278737598104, 0.31260727758286205, 0.3124642016259394, 0.3122984838368747, 0.3121099888219403, 0.3118985963358075, 0.3116642582190187]\n",
    "qx_no_oct = [0.3129999811552932, 0.3129999827272727, 0.31299998534012013, 0.3129999889938052, 0.31299999368836384, 0.31299999942380374, 0.313000006200069, 0.3130000140172004, 0.31300002287519935, 0.31300003277404326, 0.31300004371376666]\n",
    "qy_oct = [0.3179864018161214, 0.31794560413324036, 0.31787778537308836, 0.31778325761735776, 0.3176625376797424, 0.3175165129912427, 0.3173465326847202, 0.31715436878480313, 0.3169429411126197, 0.31671955447878025, 0.3164924105749956]\n",
    "qy_no_oct = [0.31800002580777964, 0.31800002774937036, 0.3180000309853371, 0.31800003551568573, 0.318000041340406, 0.3180000484595221, 0.31800005687302935, 0.31800006658090413, 0.3180000775831715, 0.31800008987983297, 0.3180001034708594]"
   ]
  },
  {
   "cell_type": "code",
   "execution_count": 126,
   "id": "20334b56-6e6b-4435-ab78-86ebbabacec4",
   "metadata": {},
   "outputs": [
    {
     "name": "stdout",
     "output_type": "stream",
     "text": [
      "m =  -204822.67979319234 q =  0.3129990402376886\n",
      "-202149.9212013185\n"
     ]
    },
    {
     "data": {
      "text/plain": [
       "1000"
      ]
     },
     "execution_count": 126,
     "metadata": {},
     "output_type": "execute_result"
    },
    {
     "data": {
      "image/png": "[encoded data removed]",
      "text/plain": [
       "<Figure size 432x288 with 1 Axes>"
      ]
     },
     "metadata": {
      "needs_background": "light"
     },
     "output_type": "display_data"
    }
   ],
   "source": [
    "#Monitor detuning study, x direction\n",
    "x0 = np.array([mysigma*sigma_x[0] for mysigma in np.linspace(0.2,2.2,N_particles)])\n",
    "\n",
    "jx = np.zeros(N_particles)\n",
    "\n",
    "\n",
    "for ii in range(N_particles):\n",
    "    jx[ii] = x0[ii]*x0[ii]/(2*betx_at_ip3)\n",
    "\n",
    "\n",
    "\n",
    "plt.plot(jx,qx_no_oct,'-o');\n",
    "plt.plot(jx,qx_oct,'-o')\n",
    "plt.grid()\n",
    "#plt.ylim(-0.002,0.005)\n",
    "#print(j[0],dq[0],j[8],dq[8])\n",
    "plt.ylabel('Tunes')\n",
    "plt.xlabel('Jx [m]')\n",
    "\n",
    "\n",
    "slope, intercept, r_value, p_value, std_err = linregress([jx[0],jx[9]],[qx_oct[0],qx_oct[9]+m_xy*(jy[9]-jy[0])])\n",
    "print('m = ',slope/6,'q = ',intercept)\n",
    "m = ((qx_oct[4]-qx_oct[0])+(m_xy*(jy[4]-jy[0])))/(jx[4]-jx[0])\n",
    "print(m/6)\n",
    "\n",
    "# qx_oct[4]-qx_oct[0] =  mx/6(jx[4]-jx[0])/2 + mxy(jy[4]-jy[0])/2\n",
    "# (2deltaq-mxy deltajy)/deltajx = mx/6\n",
    "\n",
    "#mx = 2(qx_oct[4]-qx_oct[0])-\n",
    "\n",
    "#2deltaqx=mxdeltajx+mxydeltajy\n",
    "\n",
    "len(my_result['x'][:,ii])"
   ]
  },
  {
   "cell_type": "code",
   "execution_count": 129,
   "id": "f88bd3a2-1770-4db6-8f0e-c3cd36f8694e",
   "metadata": {},
   "outputs": [
    {
     "name": "stdout",
     "output_type": "stream",
     "text": [
      "-256187.91081631472\n",
      "m =  -241724.8328416569 q =  0.3179980660045387\n"
     ]
    },
    {
     "data": {
      "text/plain": [
       "1000"
      ]
     },
     "execution_count": 129,
     "metadata": {},
     "output_type": "execute_result"
    },
    {
     "data": {
      "image/png": "[encoded data removed]",
      "text/plain": [
       "<Figure size 432x288 with 1 Axes>"
      ]
     },
     "metadata": {
      "needs_background": "light"
     },
     "output_type": "display_data"
    }
   ],
   "source": [
    "#Monitor detuning study, y direction\n",
    "jy = np.zeros(N_particles)\n",
    "\n",
    "\n",
    "for ii in range(N_particles):\n",
    "    jy[ii] = y0[ii]*y0[ii]/(2*bety_at_ip3)\n",
    "\n",
    "\n",
    "\n",
    "plt.plot(jy,qy_no_oct,'-o');\n",
    "plt.plot(jy,qy_oct,'-o')\n",
    "plt.grid()\n",
    "plt.ylabel('Detune')\n",
    "plt.xlabel('Jy [m]')\n",
    "m = ((qy_oct[4]-qy_oct[0])+(m_xy*(jx[4]-jx[0])))/(jy[4]-jy[0])\n",
    "print(m/6)\n",
    "\n",
    "slope, intercept, r_value, p_value, std_err = linregress([jy[0],jy[9]],[qy_oct[0],qy_oct[9]+m_xy*(jx[9]-jx[0])])\n",
    "#slope = slope/6+140786.19331294773*jx[2]\n",
    "print('m = ',slope/6,'q = ',intercept)\n",
    "#print(tracker_monitor.record_last_track.x[0])\n",
    "#len(tracker_monitor.record_last_track.x[0])\n",
    "len(my_result['x'][:,ii])"
   ]
  },
  {
   "cell_type": "code",
   "execution_count": null,
   "id": "5ed731cd-ec53-4d36-9385-a292a8734d48",
   "metadata": {},
   "outputs": [],
   "source": []
  },
  {
   "cell_type": "code",
   "execution_count": null,
   "id": "c9444ef4-677d-4d18-b477-2efd1bdcce05",
   "metadata": {},
   "outputs": [],
   "source": []
  }
 ],
 "metadata": {
  "kernelspec": {
   "display_name": "Python 3 (ipykernel)",
   "language": "python",
   "name": "python3"
  },
  "language_info": {
   "codemirror_mode": {
    "name": "ipython",
    "version": 3
   },
   "file_extension": ".py",
   "mimetype": "text/x-python",
   "name": "python",
   "nbconvert_exporter": "python",
   "pygments_lexer": "ipython3",
   "version": "3.9.7"
  }
 },
 "nbformat": 4,
 "nbformat_minor": 5
}
