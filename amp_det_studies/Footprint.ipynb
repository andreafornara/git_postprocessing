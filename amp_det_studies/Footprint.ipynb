{
 "cells": [
  {
   "cell_type": "code",
   "execution_count": 1,
   "id": "53849900-b665-4918-87a0-162a9f4f4218",
   "metadata": {},
   "outputs": [],
   "source": [
    "import numpy as np\n",
    "import xobjects as xo\n",
    "import xtrack as xt\n",
    "import xpart as xp\n",
    "import json\n",
    "import pandas as pd\n",
    "from cpymad.madx import Madx\n",
    "#from matplotlib import pyplot as plt\n",
    "import NAFFlib\n",
    "from math import modf\n",
    "#from scipy.constants import physical_constants\n",
    "from matplotlib import pyplot as plt\n",
    "from scipy.stats import linregress\n",
    "import math"
   ]
  },
  {
   "cell_type": "code",
   "execution_count": 2,
   "id": "014ac339-a497-415f-b94f-ec162a5f659b",
   "metadata": {},
   "outputs": [
    {
     "name": "stdout",
     "output_type": "stream",
     "text": [
      "\n",
      "\n",
      "This code compares the detuning effect of sextupoles (second order) and octupoles (first order) on N simulated particles\n",
      "\n",
      "\n",
      "\n",
      "\n",
      "Octupole Current is i_mo = -350 A\n",
      "\n",
      "\n",
      "\n",
      "\n",
      "Loading the tracker\n",
      "\n",
      "\n",
      "generating ./471438fe11d04e489a2081a9c9ff0adf.c\n",
      "the current directory is '/afs/cern.ch/user/a/afornara/simulations/git_dir'\n",
      "running build_ext\n",
      "building '471438fe11d04e489a2081a9c9ff0adf' extension\n",
      "gcc -pthread -B /afs/cern.ch/user/a/afornara/simulations/2022_03_25/miniconda/compiler_compat -Wno-unused-result -Wsign-compare -DNDEBUG -O2 -Wall -fPIC -O2 -isystem /afs/cern.ch/user/a/afornara/simulations/2022_03_25/miniconda/include -I/afs/cern.ch/user/a/afornara/simulations/2022_03_25/miniconda/include -fPIC -O2 -isystem /afs/cern.ch/user/a/afornara/simulations/2022_03_25/miniconda/include -fPIC -I/afs/cern.ch/user/a/afornara/simulations/2022_03_25/miniconda/include/python3.9 -c 471438fe11d04e489a2081a9c9ff0adf.c -o ./471438fe11d04e489a2081a9c9ff0adf.o -std=c99 -O3 -Wno-unused-function\n",
      "gcc -pthread -B /afs/cern.ch/user/a/afornara/simulations/2022_03_25/miniconda/compiler_compat -shared -Wl,-rpath,/afs/cern.ch/user/a/afornara/simulations/2022_03_25/miniconda/lib -Wl,-rpath-link,/afs/cern.ch/user/a/afornara/simulations/2022_03_25/miniconda/lib -L/afs/cern.ch/user/a/afornara/simulations/2022_03_25/miniconda/lib -L/afs/cern.ch/user/a/afornara/simulations/2022_03_25/miniconda/lib -Wl,-rpath,/afs/cern.ch/user/a/afornara/simulations/2022_03_25/miniconda/lib -Wl,-rpath-link,/afs/cern.ch/user/a/afornara/simulations/2022_03_25/miniconda/lib -L/afs/cern.ch/user/a/afornara/simulations/2022_03_25/miniconda/lib ./471438fe11d04e489a2081a9c9ff0adf.o -o ./471438fe11d04e489a2081a9c9ff0adf.cpython-39-x86_64-linux-gnu.so -std=c99 -O3\n",
      "\n",
      "\n",
      "Sanity check on closed orbit (CO), the values obtained by the tracker are\n",
      "\n",
      "\n",
      "\n",
      "\n",
      "CO.x = [0.], CO.y = [0.], CO.zeta = [0.] \n",
      "\n",
      "\n",
      "\n",
      "\n",
      "Beta values at ip3, betx = 121.56359711583254 m, bety = 218.58377591687102 m\n",
      "\n",
      "\n",
      "Sigma values, sigma_x = [0.00022109], sigma_y = [0.00029647]\n",
      "\n",
      "\n",
      "Calculating Octupolar strength with i_mo = -350 A\n",
      "\n",
      "\n",
      "Calculating Octupolar strength with i_mo = -350 A\n",
      "\n",
      "\n",
      "The Octupolar angular Coefficients are m_x= -584122.2820287822/m, m_y= -588765.0485519005/m\n",
      "\n",
      "\n",
      "Turning off Sextupoles\n",
      "\n",
      "\n",
      "Sextupole Strength is zero\n",
      "\n",
      "\n",
      "Sextupole Strength is zero\n",
      "\n",
      "\n",
      "The Sextupolar angular Coefficients are alpha_xx = 0.0/m, alpha_yy = 0.0\n",
      "\n",
      "\n",
      "The Simulated Angular Coefficient in the x direction is -581788.8277271595/m\n",
      "\n",
      "\n",
      "Theoretical Calculation/Simulation = 100.40108269365342%\n",
      "\n",
      "\n",
      "The Simulated Angular Coefficient in the y direction is -586738.5900331464/m\n",
      "\n",
      "\n",
      "Theoretical Calculation/Simulation = 100.34537672366831%\n"
     ]
    }
   ],
   "source": [
    "print(f\"\\n\\nThis code compares the detuning effect of sextupoles (second order) and octupoles (first order) on N simulated particles\\n\\n\")\n",
    "\n",
    "#defining some functions to calculate sextupoles and octupoles strength\n",
    "\n",
    "def oct_str(direction, I_MO, tw, OCT_ON):\n",
    "    if OCT_ON == False:\n",
    "        print(\"Octupole Strength is zero\")\n",
    "        return 0.0\n",
    "    with open('hl_line.json', 'r') as fid:\n",
    "        loaded_dct = json.load(fid)\n",
    "        line = xt.Line.from_dict(loaded_dct)\n",
    "    line.vars['i_mo'] = I_MO\n",
    "    print(f'\\n\\nCalculating Octupolar strength with i_mo = {I_MO} A')\n",
    "    sum_nl_x = 0.0\n",
    "    sum_nl_y = 0.0\n",
    "    ii = 0\n",
    "    for elem in line.element_dict :\n",
    "        if isinstance(line.element_dict[elem],xt.beam_elements.elements.Multipole): \n",
    "            if(line.element_dict[elem].order==3):\n",
    "                    sum_nl_x+=line.element_dict[elem].knl[3]*tw['betx'][ii]*tw['betx'][ii]\n",
    "                    sum_nl_y+=line.element_dict[elem].knl[3]*tw['bety'][ii]*tw['bety'][ii]\n",
    "        ii += 1\n",
    "    m_x = (3*sum_nl_x)/(6*8*np.pi)\n",
    "    m_y = (3*sum_nl_y)/(6*8*np.pi)\n",
    "    #print(f'\\n\\nOctupolar angular Coefficient = {m_x}/m')\n",
    "    if(direction == 0):\n",
    "        #print(f'\\n\\nOctupolar angular Coefficient = {m_x}/m')\n",
    "        return m_x\n",
    "    if(direction == 1):\n",
    "        #print(f'\\n\\nOctupolar angular Coefficient = {m_y}/m')\n",
    "        return m_y\n",
    "    \n",
    "\n",
    "def sext_strength(direction, tw_normal, sext_name, sext_str, SEXT_ON, doit):\n",
    "    if(Sextupoles_On == False):\n",
    "        print(\"\\n\\nSextupole Strength is zero\")\n",
    "        return 0.0\n",
    "    if(doit == False):\n",
    "        if(direction == 0):\n",
    "            print(f'\\n\\nUsing default x Sextupolar Angular Coefficient')\n",
    "            return 48993.1833747678\n",
    "        if(direction == 1):\n",
    "            print(f'\\n\\nUsing default y Sextupolar Angular Coefficient')\n",
    "            return 40456.86345675422\n",
    "    print(f'\\n\\nCalculating Sextupolar strength')\n",
    "    nu_x = tw_normal['qx']\n",
    "    nu_y = tw_normal['qy']\n",
    "    sext_df = pd.DataFrame(list(zip(sext_name, sext_str)), columns = ['Sextupole Name', 'Sextupole Strength'])\n",
    "    tw_df = pd.DataFrame({'name':list(tw_normal['name']),'x':list(tw_normal['x']),'px':list(tw_normal['px']),'y':list(tw_normal['y']),\n",
    "                         'py':list(tw_normal['py']),'zeta':list(tw_normal['zeta']),'delta':list(tw_normal['delta']),\n",
    "                         'betx':list(tw_normal['betx']),'bety':list(tw_normal['bety']),'mux':list(tw_normal['mux']),'muy':list(tw_normal['muy'])})\n",
    "    jj = 0\n",
    "    l_name = []\n",
    "    l_str = []\n",
    "    l_betx = []\n",
    "    l_bety = []\n",
    "    l_mux = []\n",
    "    l_muy = []\n",
    "    for ii in range(len(tw_df['name'])):\n",
    "        if(tw_df['name'][ii] == sext_df['Sextupole Name'][jj]):\n",
    "            l_name.append(tw_df['name'][ii])\n",
    "            l_str.append(sext_df['Sextupole Strength'][jj])\n",
    "            l_betx.append(tw_df['betx'][ii])\n",
    "            l_mux.append(tw_df['mux'][ii])\n",
    "            l_bety.append(tw_df['bety'][ii])\n",
    "            l_muy.append(tw_df['muy'][ii])\n",
    "            jj += 1\n",
    "            if(jj == 1628):\n",
    "                break\n",
    "    second_order_df = pd.DataFrame(list(zip(l_name, l_str, l_betx, l_bety, l_mux, l_muy)), \n",
    "                                   columns = ['Sextupole Name', 'Sextupole Strength', 'betx', 'bety', 'mux', 'muy'])\n",
    "    alpha_xx= 0.0\n",
    "    alpha_yy= 0.0\n",
    "    for ii in range(len(second_order_df['Sextupole Name'])):\n",
    "        if(ii%100 == 0):\n",
    "            print('Iteration number ', ii, 'of', len(second_order_df['Sextupole Name']))\n",
    "        count = 0\n",
    "        for jj in range(len(second_order_df['Sextupole Name'])):\n",
    "            psi_ij_mod_x=np.abs(2*np.pi*second_order_df['mux'][ii]-2*np.pi*second_order_df['mux'][jj])\n",
    "            psi_ij_mod_y=np.abs(2*np.pi*second_order_df['muy'][ii]-2*np.pi*second_order_df['muy'][jj])\n",
    "\n",
    "            beta_i_beta_j_x = pow(second_order_df['betx'][ii],3/2)*pow(second_order_df['betx'][jj],3/2)\n",
    "            beta_i_beta_j_y = pow(second_order_df['betx'][ii],1/2)*pow(second_order_df['betx'][jj],1/2)*second_order_df['bety'][ii]*second_order_df['bety'][jj]\n",
    "\n",
    "            S_i_S_j = second_order_df['Sextupole Strength'][ii]*second_order_df['Sextupole Strength'][jj]\n",
    "\n",
    "            I1_x = (np.cos(3*(np.pi*nu_x-psi_ij_mod_x)))/(np.sin(3*np.pi*nu_x))\n",
    "            I1_y = (np.cos(2*(np.pi*nu_y-psi_ij_mod_y)+(np.pi*nu_x-psi_ij_mod_x)))/(np.sin(np.pi*(2*nu_y+nu_x)))\n",
    "\n",
    "            I2_x = 3*(np.cos(np.pi*nu_x-psi_ij_mod_x)/(np.sin(np.pi*nu_x)))\n",
    "            I2_y = (np.cos(2*(np.pi*nu_y-psi_ij_mod_y)-(np.pi*nu_x-psi_ij_mod_x))/(np.sin(np.pi*(2*nu_y-nu_x))))\n",
    "\n",
    "            I3_y = 4*(np.cos((np.pi*nu_x)-(psi_ij_mod_x)))/(np.sin(np.pi*nu_x))\n",
    "\n",
    "            alpha_xx += beta_i_beta_j_x*(S_i_S_j)*((I1_x)+(I2_x))\n",
    "            alpha_yy += beta_i_beta_j_y*(S_i_S_j)*((I1_y)-(I2_y)+(I3_y))\n",
    "\n",
    "    alpha_xx_tot = -alpha_xx/(64*np.pi)\n",
    "    alpha_yy_tot = -alpha_yy/(64*np.pi)    \n",
    "    if(direction == 0):\n",
    "        #print(f'\\n\\nSextupolar angular Coefficient, x direction = {alpha_xx_tot}/m')\n",
    "        return alpha_xx_tot\n",
    "    if(direction == 1):\n",
    "        #print(f'\\n\\nSextupolar angular Coefficient, y direction = {alpha_yy_tot}/m')\n",
    "        return alpha_yy_tot\n",
    "\n",
    "\n",
    "    \n",
    "    \n",
    "\n",
    "\n",
    "\n",
    "\n",
    "\n",
    "\n",
    "\n",
    "\n",
    "\n",
    "\n",
    "\n",
    "\n",
    "\n",
    "\n",
    "#Parameters needed \n",
    "i_mo = -350 #Octupole current, Ampere, zero by default\n",
    "p0c = 7000e9 #keV\n",
    "normal_emitt_x = 3e-6 #m*rad\n",
    "normal_emitt_y = 3e-6 #m*rad\n",
    "N_particles = 11 \n",
    "N=1000 #Total number of turns\n",
    "sampling= 1 #Sampling rate, 1 sample every 'sampling' turns\n",
    "\n",
    "#The two linear coefficients we want to study\n",
    "ang_coeff_sext_x = 0.0\n",
    "ang_coeff_sext_y = 0.0\n",
    "ang_coeff_oct_x = 0.0\n",
    "ang_coeff_oct_y = 0.0\n",
    "\n",
    "#You can decide to turn on one or both\n",
    "Octupoles_On = True\n",
    "Sextupoles_On = False\n",
    "Sextupoles_Sum_x = False\n",
    "Sextupoles_Sum_y = False\n",
    "#We need to save sextupole name and strength\n",
    "sext_name = [] \n",
    "sext_str = []\n",
    "\n",
    "\n",
    "if(Octupoles_On == False):\n",
    "    i_mo = 0\n",
    "    print(f\"\\n\\nChanging Octupole Current from -350 A to i_mo = {i_mo} A\\n\\n\")\n",
    "\n",
    "print(f\"\\n\\nOctupole Current is i_mo = {i_mo} A\\n\\n\")\n",
    "ctx_cpu = xo.ContextCpu() #Code is intended for CPU\n",
    "\n",
    "#Opening the line\n",
    "\n",
    "with open('hl_line.json', 'r') as fid:\n",
    "        loaded_dct = json.load(fid)\n",
    "line = xt.Line.from_dict(loaded_dct)\n",
    "\n",
    "#Reference particle\n",
    "particle_0 = xp.Particles(mass0=xp.PROTON_MASS_EV, q0=1, p0c=p0c, x=1e-3, y=1e-3)\n",
    "\n",
    "#Changing the octupole current via knob\n",
    "line.vars['i_mo'] = i_mo\n",
    "\n",
    "print(f'\\n\\nLoading the tracker\\n\\n')\n",
    "tracker_normal = xt.Tracker(_context=ctx_cpu, line=line)\n",
    "ref = tracker_normal.find_closed_orbit(particle_ref = particle_0) \n",
    "print(f'\\n\\nSanity check on closed orbit (CO), the values obtained by the tracker are\\n\\n')\n",
    "print(f'\\n\\nCO.x = {ref.x}, CO.y = {ref.y}, CO.zeta = {ref.zeta} \\n\\n')\n",
    "\n",
    "tw_normal = tracker_normal.twiss(ref)\n",
    "\n",
    "betx_at_ip3 = tw_normal['betx'][0]\n",
    "bety_at_ip3 = tw_normal['bety'][0]\n",
    "\n",
    "sigma_x = np.sqrt(betx_at_ip3*normal_emitt_x/(particle_0.gamma0*particle_0.beta0))\n",
    "sigma_y = np.sqrt(bety_at_ip3*normal_emitt_y/(particle_0.gamma0*particle_0.beta0))\n",
    "\n",
    "tune_x = tw_normal['qx']\n",
    "tune_y = tw_normal['qy']\n",
    "\n",
    "print(f'\\n\\nBeta values at ip3, betx = {betx_at_ip3} m, bety = {bety_at_ip3} m')\n",
    "print(f'\\n\\nSigma values, sigma_x = {sigma_x}, sigma_y = {sigma_y}')\n",
    "\n",
    "ang_coeff_oct_x = oct_str(0,i_mo, tw_normal, Octupoles_On)\n",
    "ang_coeff_oct_y = oct_str(1,i_mo, tw_normal, Octupoles_On)\n",
    "print(f'\\n\\nThe Octupolar angular Coefficients are m_x= {ang_coeff_oct_x}/m, m_y= {ang_coeff_oct_y}/m')\n",
    "\n",
    "\n",
    "#----closed orbit particle----------\n",
    "p0_normal = ref \n",
    "#----particles to track----------\n",
    "particles_x = xp.build_particles(_context=ctx_cpu,particle_ref=p0_normal,\n",
    "                                     x=[mysigma*sigma_x[0] for mysigma in np.linspace(0.2,2.2,N_particles)])\n",
    "\n",
    "particles_y = xp.build_particles(_context=ctx_cpu,particle_ref=p0_normal,\n",
    "                                     y=[mysigma*sigma_y[0] for mysigma in np.linspace(0.2,2.2,N_particles)])\n",
    "\n",
    "\n",
    "#Saving the starting position\n",
    "x0 = []\n",
    "y0 = []\n",
    "ii = 0\n",
    "for ii in range(len(particles_x.x)):\n",
    "    x0.append(particles_x.x[ii])\n",
    "    y0.append(particles_y.y[ii])\n",
    "\n",
    "#------Sextupole section-------------\n",
    "ii = 0\n",
    "if(Sextupoles_On == False):\n",
    "    print('\\n\\nTurning off Sextupoles')\n",
    "for elem in line.element_dict :\n",
    "    if isinstance(line.element_dict[elem],xt.beam_elements.elements.Multipole): \n",
    "        if((line.element_dict[elem].order==2) and (not Sextupoles_On) ):\n",
    "            line.element_dict[elem].knl[2]=0\n",
    "        if(line.element_dict[elem].order==2):\n",
    "            sext_name.append(elem)\n",
    "            sext_str.append(line.element_dict[elem].knl[2])\n",
    "    ii+=1\n",
    "\n",
    "direction = 0\n",
    "ang_coeff_sext_x = sext_strength(direction, tw_normal, sext_name, sext_str, Sextupoles_On,Sextupoles_Sum_x)\n",
    "direction = 1\n",
    "ang_coeff_sext_y = sext_strength(direction, tw_normal, sext_name, sext_str, Sextupoles_On,Sextupoles_Sum_y)\n",
    "print(f'\\n\\nThe Sextupolar angular Coefficients are alpha_xx = {ang_coeff_sext_x}/m, alpha_yy = {ang_coeff_sext_y}')\n",
    "\n",
    "#-----tracking x direction------------------\n",
    "\n",
    "\n",
    "my_result_x = {}\n",
    "for ii in ['x','px','y','py','zeta','delta']:\n",
    "    my_result_x[ii] = []\n",
    "\n",
    "\n",
    "for ii in range(N):\n",
    "    tracker_normal.track(particles_x, num_turns=sampling,turn_by_turn_monitor=False)\n",
    "    for jj in ['x','px','y','py','zeta','delta']:\n",
    "        my_result_x[jj].append(getattr(particles_x,jj).copy())       \n",
    "        \n",
    "        \n",
    "for jj in ['x','px','y','py','zeta','delta']:\n",
    "        my_result_x[jj] = np.array(my_result_x[jj])\n",
    "\n",
    "\n",
    "        \n",
    "#-----tracking y direction------------------\n",
    "\n",
    "my_result_y = {}\n",
    "for ii in ['x','px','y','py','zeta','delta']:\n",
    "    my_result_y[ii] = []\n",
    "\n",
    "\n",
    "for ii in range(N):\n",
    "    tracker_normal.track(particles_y, num_turns=sampling,turn_by_turn_monitor=False)\n",
    "    for jj in ['x','px','y','py','zeta','delta']:\n",
    "        my_result_y[jj].append(getattr(particles_y,jj).copy())       \n",
    "        \n",
    "        \n",
    "for jj in ['x','px','y','py','zeta','delta']:\n",
    "        my_result_y[jj] = np.array(my_result_y[jj])\n",
    "\n",
    "qx_part_x = []\n",
    "qy_part_x = []\n",
    "qx_part_y = []\n",
    "qy_part_y = []\n",
    "\n",
    "for ii in range(N_particles):\n",
    "    \n",
    "    qx_part_x.append(NAFFlib.get_tune(my_result_x['x'][:,ii]))\n",
    "    qy_part_x.append(NAFFlib.get_tune(my_result_x['y'][:,ii]))\n",
    "    qx_part_y.append(NAFFlib.get_tune(my_result_y['x'][:,ii]))\n",
    "    qy_part_y.append(NAFFlib.get_tune(my_result_y['y'][:,ii]))\n",
    "        \n",
    "\n",
    "jx = np.zeros(N_particles)\n",
    "tg_phix = -tw_normal['alfx'][0]\n",
    "phix = np.arctan(tg_phix)\n",
    "for ii in range(N_particles):\n",
    "    jx[ii] = x0[ii]*x0[ii]/(2*betx_at_ip3*np.cos(phix)*np.cos(phix))\n",
    "    \n",
    "\n",
    "jy = np.zeros(N_particles)\n",
    "tg_phiy = -tw_normal['alfy'][0]\n",
    "phiy = np.arctan(tg_phiy)\n",
    "for ii in range(N_particles):\n",
    "    jy[ii] = y0[ii]*y0[ii]/(2*bety_at_ip3*np.cos(phiy)*np.cos(phiy))\n",
    "    \n",
    "slope_x, intercept, r_value, p_value, std_err = linregress([jx[0],jx[6]],[qx_part_x[0],qx_part_x[6]])\n",
    "print(f'\\n\\nThe Simulated Angular Coefficient in the x direction is {slope_x}/m')\n",
    "print(f'\\n\\nTheoretical Calculation/Simulation = {(ang_coeff_sext_x+ang_coeff_oct_x)*100/(slope_x)}%')\n",
    "\n",
    "\n",
    "slope_y, intercept, r_value, p_value, std_err = linregress([jy[0],jy[6]],[qy_part_y[0],qy_part_y[6]])\n",
    "print(f'\\n\\nThe Simulated Angular Coefficient in the y direction is {slope_y}/m')\n",
    "print(f'\\n\\nTheoretical Calculation/Simulation = {(ang_coeff_sext_y+ang_coeff_oct_y)*100/(slope_y)}%')"
   ]
  },
  {
   "cell_type": "code",
   "execution_count": 6,
   "id": "74a8b2e5-6fbc-4f5a-93c8-acef6514d0cb",
   "metadata": {},
   "outputs": [
    {
     "data": {
      "text/plain": [
       "Text(0.5, 0, 'Jx [m]')"
      ]
     },
     "execution_count": 6,
     "metadata": {},
     "output_type": "execute_result"
    },
    {
     "data": {
      "image/png": "[encoded data removed]",
      "text/plain": [
       "<Figure size 432x288 with 1 Axes>"
      ]
     },
     "metadata": {
      "needs_background": "light"
     },
     "output_type": "display_data"
    }
   ],
   "source": [
    "plt.plot(jx,qx_part_x,'-o');\n",
    "plt.grid()\n",
    "plt.ylabel('Tunes')\n",
    "plt.xlabel('Jx [m]')"
   ]
  },
  {
   "cell_type": "markdown",
   "id": "5ca105da-7b37-407c-9dbc-7d109dabe52c",
   "metadata": {},
   "source": [
    "The Sextupolar angular Coefficients are alpha_xx = 0.0/m, alpha_yy = 0.0\n",
    "\n",
    "\n",
    "The Simulated Angular Coefficient in the x direction is -581788.8277271595/m\n",
    "\n",
    "\n",
    "Theoretical Calculation/Simulation = 100.40108269365342%\n",
    "\n",
    "\n",
    "The Simulated Angular Coefficient in the y direction is -586738.5900331464/m\n",
    "\n",
    "\n",
    "Theoretical Calculation/Simulation = 100.34537672366831%\n",
    "\n"
   ]
  },
  {
   "cell_type": "code",
   "execution_count": 8,
   "id": "54e1380e-a750-4b72-ad49-7a57af90dfd7",
   "metadata": {},
   "outputs": [
    {
     "data": {
      "text/plain": [
       "Text(0.5, 0, 'Jx [m]')"
      ]
     },
     "execution_count": 8,
     "metadata": {},
     "output_type": "execute_result"
    },
    {
     "data": {
      "image/png": "[encoded data removed]",
      "text/plain": [
       "<Figure size 432x288 with 1 Axes>"
      ]
     },
     "metadata": {
      "needs_background": "light"
     },
     "output_type": "display_data"
    }
   ],
   "source": [
    "plt.plot(jx,qx_part_x,'-o');\n",
    "plt.grid()\n",
    "plt.ylabel('Tunes')\n",
    "plt.xlabel('Jx [m]')"
   ]
  },
  {
   "cell_type": "code",
   "execution_count": 12,
   "id": "ae84abb1-e80f-41b5-90c4-6b30188de7d0",
   "metadata": {},
   "outputs": [
    {
     "name": "stdout",
     "output_type": "stream",
     "text": [
      "0\n",
      "1\n",
      "1\n",
      "5\n",
      "2\n",
      "8\n",
      "3\n",
      "20\n"
     ]
    }
   ],
   "source": [
    "for nn,ii in enumerate([1,5,8,20]):\n",
    "    print(nn)\n",
    "    print(ii)\n",
    "    \n",
    "    \n",
    "\n",
    "old_sext_x = 48993.1833747678\n",
    "old_sext_y = 40456.86345675422\n",
    "\n",
    "\n",
    "new_sext_x =48993.27298459022\n",
    "new_sext_y =40456.73950230875"
   ]
  },
  {
   "cell_type": "code",
   "execution_count": null,
   "id": "b1b46f43-08a1-4224-bde9-8e919a4144da",
   "metadata": {},
   "outputs": [],
   "source": []
  },
  {
   "cell_type": "code",
   "execution_count": 17,
   "id": "5af11e43-69be-47aa-b0d7-3e0de93f8d32",
   "metadata": {},
   "outputs": [
    {
     "data": {
      "text/plain": [
       "{'sum_nl_x': -29361188.32031564, 'sum_nl_y': -29594559.219537415}"
      ]
     },
     "execution_count": 17,
     "metadata": {},
     "output_type": "execute_result"
    }
   ],
   "source": [
    "aux = {'sum_nl_x':0.0,'sum_nl_y':0.0}\n",
    "for ii,elem in enumerate(line.element_dict) :\n",
    "    #if isinstance(line.element_dict[elem],xt.beam_elements.elements.Multipole):\n",
    "    try:\n",
    "        if line.element_dict[elem].order == 3:\n",
    "            for result,jj in zip(['sum_nl_x','sum_nl_y'],['betx','bety']):\n",
    "                aux[result]+=(line.element_dict[elem].knl[3]\n",
    "                              *tw_normal[jj][ii]**2)\n",
    "    except:\n",
    "        pass        #sum_nl_y+=line.element_dict[elem].knl[3]*tw_normal[jj][ii]*tw_normal['bety'][ii]\n",
    "aux"
   ]
  },
  {
   "cell_type": "code",
   "execution_count": 28,
   "id": "6d6898c6-62be-4404-a9a5-9b0b35584d33",
   "metadata": {},
   "outputs": [
    {
     "data": {
      "text/plain": [
       "[<matplotlib.lines.Line2D at 0x7f7877b0f670>,\n",
       " <matplotlib.lines.Line2D at 0x7f7877b0f6d0>,\n",
       " <matplotlib.lines.Line2D at 0x7f7877b0f7f0>,\n",
       " <matplotlib.lines.Line2D at 0x7f7877b0f910>,\n",
       " <matplotlib.lines.Line2D at 0x7f7877b0fa30>,\n",
       " <matplotlib.lines.Line2D at 0x7f7877b0fb50>,\n",
       " <matplotlib.lines.Line2D at 0x7f7877b0fc70>,\n",
       " <matplotlib.lines.Line2D at 0x7f7877b0fd90>,\n",
       " <matplotlib.lines.Line2D at 0x7f7877b0feb0>,\n",
       " <matplotlib.lines.Line2D at 0x7f7877b0ffd0>,\n",
       " <matplotlib.lines.Line2D at 0x7f7877b0f6a0>]"
      ]
     },
     "execution_count": 32,
     "metadata": {},
     "output_type": "execute_result"
    },
    {
     "data": {
      "image/png": "[encoded data removed]",
      "text/plain": [
       "<Figure size 432x288 with 1 Axes>"
      ]
     },
     "metadata": {
      "needs_background": "light"
     },
     "output_type": "display_data"
    }
   ],
   "source": [
    "plt.plot(my_result_x['x'][3])"
   ]
  },
  {
   "cell_type": "code",
   "execution_count": 42,
   "id": "e5f4e63e-04b7-4d3f-a9a5-b025cae83223",
   "metadata": {},
   "outputs": [
    {
     "data": {
      "text/plain": [
       "[<matplotlib.lines.Line2D at 0x7f77db396640>]"
      ]
     },
     "execution_count": 42,
     "metadata": {},
     "output_type": "execute_result"
    },
    {
     "data": {
      "image/png": "[encoded data removed]",
      "text/plain": [
       "<Figure size 432x288 with 1 Axes>"
      ]
     },
     "metadata": {
      "needs_background": "light"
     },
     "output_type": "display_data"
    }
   ],
   "source": [
    "plt.plot(my_result_x['y'][:,5])"
   ]
  },
  {
   "cell_type": "code",
   "execution_count": null,
   "id": "4c3e9fb3-90d8-4b91-a773-79f234c78e58",
   "metadata": {},
   "outputs": [],
   "source": []
  }
 ],
 "metadata": {
  "kernelspec": {
   "display_name": "Python 3 (ipykernel)",
   "language": "python",
   "name": "python3"
  },
  "language_info": {
   "codemirror_mode": {
    "name": "ipython",
    "version": 3
   },
   "file_extension": ".py",
   "mimetype": "text/x-python",
   "name": "python",
   "nbconvert_exporter": "python",
   "pygments_lexer": "ipython3",
   "version": "3.9.7"
  }
 },
 "nbformat": 4,
 "nbformat_minor": 5
}
