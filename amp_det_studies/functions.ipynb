{
 "cells": [
  {
   "cell_type": "code",
   "execution_count": 3,
   "id": "53849900-b665-4918-87a0-162a9f4f4218",
   "metadata": {},
   "outputs": [],
   "source": [
    "import numpy as np\n",
    "import xobjects as xo\n",
    "import xtrack as xt\n",
    "import xpart as xp\n",
    "import json\n",
    "import pandas as pd\n",
    "from cpymad.madx import Madx\n",
    "#from matplotlib import pyplot as plt\n",
    "import NAFFlib\n",
    "from math import modf\n",
    "#from scipy.constants import physical_constants\n",
    "from matplotlib import pyplot as plt\n",
    "from scipy.stats import linregress\n",
    "import math"
   ]
  },
  {
   "cell_type": "code",
   "execution_count": 19,
   "id": "014ac339-a497-415f-b94f-ec162a5f659b",
   "metadata": {},
   "outputs": [
    {
     "name": "stdout",
     "output_type": "stream",
     "text": [
      "\n",
      "\n",
      "This code compares the detuning effect of sextupoles (second order) and octupoles (first order) on N simulated particles\n",
      "\n",
      "\n",
      "\n",
      "\n",
      "Octupole Current is i_mo = -350 A\n",
      "\n",
      "\n",
      "\n",
      "\n",
      "Loading the tracker\n",
      "\n",
      "\n",
      "generating ./9a779d697c8c4e329e975ac6b9e0990a.c\n",
      "the current directory is '/afs/cern.ch/user/a/afornara/simulations/sim_stud/git_postprocessing'\n",
      "running build_ext\n",
      "building '9a779d697c8c4e329e975ac6b9e0990a' extension\n",
      "gcc -pthread -B /home/afornara/py/2022_03_18/miniconda/compiler_compat -Wno-unused-result -Wsign-compare -DNDEBUG -O2 -Wall -fPIC -O2 -isystem /home/afornara/py/2022_03_18/miniconda/include -I/home/afornara/py/2022_03_18/miniconda/include -fPIC -O2 -isystem /home/afornara/py/2022_03_18/miniconda/include -fPIC -I/home/afornara/py/2022_03_18/miniconda/include/python3.9 -c 9a779d697c8c4e329e975ac6b9e0990a.c -o ./9a779d697c8c4e329e975ac6b9e0990a.o -std=c99 -O3 -Wno-unused-function\n",
      "gcc -pthread -B /home/afornara/py/2022_03_18/miniconda/compiler_compat -shared -Wl,-rpath,/home/afornara/py/2022_03_18/miniconda/lib -Wl,-rpath-link,/home/afornara/py/2022_03_18/miniconda/lib -L/home/afornara/py/2022_03_18/miniconda/lib -L/home/afornara/py/2022_03_18/miniconda/lib -Wl,-rpath,/home/afornara/py/2022_03_18/miniconda/lib -Wl,-rpath-link,/home/afornara/py/2022_03_18/miniconda/lib -L/home/afornara/py/2022_03_18/miniconda/lib ./9a779d697c8c4e329e975ac6b9e0990a.o -o ./9a779d697c8c4e329e975ac6b9e0990a.cpython-39-x86_64-linux-gnu.so -std=c99 -O3\n",
      "\n",
      "\n",
      "Sanity check on closed orbit (CO), the values obtained by the tracker are\n",
      "\n",
      "\n",
      "\n",
      "\n",
      "CO.x = [0.], CO.y = [0.], CO.zeta = [0.] \n",
      "\n",
      "\n",
      "\n",
      "\n",
      "Beta values at ip3, betx = 121.56359711583254 m\n",
      "\n",
      "\n",
      "Sigma values, sigma_x = [0.00022109]\n",
      "\n",
      "\n",
      "Calculating Octupolar strength with i_mo = -350 A\n",
      "\n",
      "\n",
      "The Octupolar angular Coefficient is = = -584122.2820287822/m\n",
      "\n",
      "\n",
      "Turning off Sextupoles\n",
      "\n",
      "\n",
      "Sextupole Strength is zero\n",
      "\n",
      "\n",
      "The Sextupolar angular Coefficient is = = 0.0/m\n",
      "\n",
      "\n",
      "The Simulated Angular Coefficient is -581788.8277271595/m\n",
      "\n",
      "\n",
      "Theoretical Calculation/Simulation = 100.40108269365342%\n"
     ]
    }
   ],
   "source": [
    "print(f\"\\n\\nThis code compares the detuning effect of sextupoles (second order) and octupoles (first order) on N simulated particles\\n\\n\")\n",
    "\n",
    "#defining some functions to calculate sextupoles and octupoles strength\n",
    "\n",
    "def oct_str(I_MO, tw, OCT_ON):\n",
    "    if(OCT_ON == False):\n",
    "        print(\"Octupole Strength is zero\")\n",
    "        return 0.0\n",
    "    with open('hl_line.json', 'r') as fid:\n",
    "        loaded_dct = json.load(fid)\n",
    "        line = xt.Line.from_dict(loaded_dct)\n",
    "    line.vars['i_mo'] = I_MO\n",
    "    print(f'\\n\\nCalculating Octupolar strength with i_mo = {I_MO} A')\n",
    "    alpha_xx = 0.0\n",
    "    sum_nl_x = 0.0\n",
    "    ii = 0\n",
    "    for elem in line.element_dict :\n",
    "        if isinstance(line.element_dict[elem],xt.beam_elements.elements.Multipole): \n",
    "            if(line.element_dict[elem].order==3):\n",
    "                    sum_nl_x+=line.element_dict[elem].knl[3]*tw['betx'][ii]*tw['betx'][ii]\n",
    "        ii += 1\n",
    "    m_x = (3*sum_nl_x)/(6*8*np.pi)\n",
    "    #print(f'\\n\\nOctupolar angular Coefficient = {m_x}/m')\n",
    "    return m_x\n",
    "\n",
    "def sext_strength(nu_x, tw_normal, sext_name, sext_str, SEXT_ON, doit):\n",
    "    if(Sextupoles_On == False):\n",
    "        print(\"\\n\\nSextupole Strength is zero\")\n",
    "        return 0.0\n",
    "    if(doit == False):\n",
    "        print(f'\\n\\nUsing default Angular Coefficient')\n",
    "        return 48993.18607814781\n",
    "    print(f'\\n\\nCalculating Sextupolar strength')\n",
    "    sext_df = pd.DataFrame(list(zip(sext_name, sext_str)), columns = ['Sextupole Name', 'Sextupole Strength'])\n",
    "    tw_df = pd.DataFrame({'name':list(tw_normal['name']),'x':list(tw_normal['x']),'px':list(tw_normal['px']),'y':list(tw_normal['y']),\n",
    "                         'py':list(tw_normal['py']),'zeta':list(tw_normal['zeta']),'delta':list(tw_normal['delta']),\n",
    "                         'betx':list(tw_normal['betx']),'bety':list(tw_normal['bety']),'mux':list(tw_normal['mux']),'muy':list(tw_normal['muy'])})\n",
    "    jj = 0\n",
    "    l_name = []\n",
    "    l_str = []\n",
    "    l_betx = []\n",
    "    l_bety = []\n",
    "    l_mux = []\n",
    "    l_muy = []\n",
    "    for ii in range(len(tw_df['name'])):\n",
    "        if(tw_df['name'][ii] == sext_df['Sextupole Name'][jj]):\n",
    "            l_name.append(tw_df['name'][ii])\n",
    "            l_str.append(sext_df['Sextupole Strength'][jj])\n",
    "            l_betx.append(tw_df['betx'][ii])\n",
    "            l_mux.append(tw_df['mux'][ii])\n",
    "            l_bety.append(tw_df['bety'][ii])\n",
    "            l_muy.append(tw_df['muy'][ii])\n",
    "            jj += 1\n",
    "            if(jj == 1628):\n",
    "                break\n",
    "    second_order_df = pd.DataFrame(list(zip(l_name, l_str, l_betx, l_bety, l_mux, l_muy)), \n",
    "                                   columns = ['Sextupole Name', 'Sextupole Strength', 'betx', 'bety', 'mux', 'muy'])\n",
    "    alpha_xx= 0.0\n",
    "    for ii in range(len(second_order_df['Sextupole Name'])):\n",
    "        if(ii%100 == 0):\n",
    "            print('Iteration number ', ii, 'of', len(second_order_df['Sextupole Name']))\n",
    "        count = 0\n",
    "        for jj in range(len(second_order_df['Sextupole Name'])):\n",
    "            psi_ij_mod_x=np.abs(2*np.pi*second_order_df['mux'][ii]-2*np.pi*second_order_df['mux'][jj])\n",
    "            beta_i_beta_j_x = pow(second_order_df['betx'][ii],3/2)*pow(second_order_df['betx'][jj],3/2)\n",
    "            S_i_S_j = second_order_df['Sextupole Strength'][ii]*second_order_df['Sextupole Strength'][jj]\n",
    "            I1_x = (np.cos(3*(np.pi*nu_x-psi_ij_mod_x)))/(np.sin(3*np.pi*nu_x))\n",
    "            I2_x = 3*(np.cos(np.pi*nu_x-psi_ij_mod_x)/(np.sin(np.pi*nu_x)))\n",
    "            alpha_xx += beta_i_beta_j_x*(S_i_S_j)*((I1_x)+(I2_x))\n",
    "    alpha_xx_tot = -alpha_xx/(64*np.pi)    \n",
    "    #print(f'\\n\\nSextupolar angular Coefficient = {alpha_xx_tot}/m')\n",
    "    return alpha_xx_tot\n",
    "\n",
    "    \n",
    "    \n",
    "\n",
    "\n",
    "\n",
    "\n",
    "\n",
    "\n",
    "\n",
    "\n",
    "\n",
    "\n",
    "\n",
    "\n",
    "\n",
    "\n",
    "#Parameters needed \n",
    "i_mo = -350 #Octupole current, Ampere, zero by default\n",
    "p0c = 7000e9 #keV\n",
    "normal_emitt_x = 3e-6 #m*rad\n",
    "normal_emitt_y = 3e-6 #m*rad\n",
    "N_particles = 11 \n",
    "N=1000 #Total number of turns\n",
    "sampling= 1 #Sampling rate, 1 sample every 'sampling' turns\n",
    "\n",
    "#The two linear coefficients we want to study\n",
    "ang_coeff_sext = 0.0\n",
    "ang_coeff_oct = 0.0\n",
    "\n",
    "#You can decide to turn on one or both\n",
    "Octupoles_On = True\n",
    "Sextupoles_On = False\n",
    "Sextupoles_Sum = False\n",
    "#We need to save sextupole name and strength\n",
    "sext_name = [] \n",
    "sext_str = []\n",
    "\n",
    "\n",
    "if(Octupoles_On == False):\n",
    "    i_mo = 0\n",
    "    print(f\"\\n\\nChanging Octupole Current from -350 A to i_mo = {i_mo} A\\n\\n\")\n",
    "\n",
    "print(f\"\\n\\nOctupole Current is i_mo = {i_mo} A\\n\\n\")\n",
    "ctx_cpu = xo.ContextCpu() #Code is intended for CPU\n",
    "\n",
    "#Opening the line\n",
    "\n",
    "with open('hl_line.json', 'r') as fid:\n",
    "        loaded_dct = json.load(fid)\n",
    "line = xt.Line.from_dict(loaded_dct)\n",
    "\n",
    "#Reference particle\n",
    "particle_0 = xp.Particles(mass0=xp.PROTON_MASS_EV, q0=1, p0c=p0c, x=1e-3, y=1e-3)\n",
    "\n",
    "#Changing the octupole current via knob\n",
    "line.vars['i_mo'] = i_mo\n",
    "\n",
    "print(f'\\n\\nLoading the tracker\\n\\n')\n",
    "tracker_normal = xt.Tracker(_context=ctx_cpu, line=line)\n",
    "ref = tracker_normal.find_closed_orbit(particle_ref = particle_0) \n",
    "print(f'\\n\\nSanity check on closed orbit (CO), the values obtained by the tracker are\\n\\n')\n",
    "print(f'\\n\\nCO.x = {ref.x}, CO.y = {ref.y}, CO.zeta = {ref.zeta} \\n\\n')\n",
    "\n",
    "tw_normal = tracker_normal.twiss(ref)\n",
    "betx_at_ip3 = tw_normal['betx'][0]\n",
    "sigma_x = np.sqrt(betx_at_ip3*normal_emitt_x/(particle_0.gamma0*particle_0.beta0))\n",
    "tune_x = tw_normal['qx']\n",
    "print(f'\\n\\nBeta values at ip3, betx = {betx_at_ip3} m')\n",
    "print(f'\\n\\nSigma values, sigma_x = {sigma_x}')\n",
    "\n",
    "ang_coeff_oct = oct_str(i_mo, tw_normal, Octupoles_On)\n",
    "print(f'\\n\\nThe Octupolar angular Coefficient is = = {ang_coeff_oct}/m')\n",
    "\n",
    "\n",
    "#----closed orbit particle----------\n",
    "p0_normal = ref \n",
    "#----particles to track----------\n",
    "particles_x = xp.build_particles(_context=ctx_cpu,particle_ref=p0_normal,\n",
    "                                     x=[mysigma*sigma_x[0] for mysigma in np.linspace(0.2,2.2,N_particles)])\n",
    "\n",
    "#Saving the starting position\n",
    "x0 = []\n",
    "ii = 0\n",
    "for ii in range(len(particles_x.x)):\n",
    "    x0.append(particles_x.x[ii])\n",
    "\n",
    "#------Sextupole section-------------\n",
    "ii = 0\n",
    "if(Sextupoles_On == False):\n",
    "    print('\\n\\nTurning off Sextupoles')\n",
    "for elem in line.element_dict :\n",
    "    if isinstance(line.element_dict[elem],xt.beam_elements.elements.Multipole): \n",
    "        if((line.element_dict[elem].order==2) and (not Sextupoles_On) ):\n",
    "            line.element_dict[elem].knl[2]=0\n",
    "        if(line.element_dict[elem].order==2):\n",
    "            sext_name.append(elem)\n",
    "            sext_str.append(line.element_dict[elem].knl[2])\n",
    "    ii+=1\n",
    "ang_coeff_sext = sext_strength(tune_x, tw_normal, sext_name, sext_str, Sextupoles_On,Sextupoles_Sum)\n",
    "print(f'\\n\\nThe Sextupolar angular Coefficient is = = {ang_coeff_sext}/m')\n",
    "\n",
    "#-----tracking x direction------------------\n",
    "\n",
    "\n",
    "my_result_x = {}\n",
    "for ii in ['x','px','y','py','zeta','delta']:\n",
    "    my_result_x[ii] = []\n",
    "\n",
    "\n",
    "for ii in range(N):\n",
    "    tracker_normal.track(particles_x, num_turns=sampling,turn_by_turn_monitor=False)\n",
    "    for jj in ['x','px','y','py','zeta','delta']:\n",
    "        my_result_x[jj].append(getattr(particles_x,jj).copy())       \n",
    "        \n",
    "        \n",
    "for jj in ['x','px','y','py','zeta','delta']:\n",
    "        my_result_x[jj] = np.array(my_result_x[jj])\n",
    "\n",
    "\n",
    "\n",
    "qx_part_x = []\n",
    "qy_part_x = []\n",
    "\n",
    "for ii in range(N_particles):  \n",
    "    qx_part_x.append(NAFFlib.get_tune(my_result_x['x'][:,ii]))\n",
    "    qy_part_x.append(NAFFlib.get_tune(my_result_x['y'][:,ii]))\n",
    "\n",
    "jx = np.zeros(N_particles)\n",
    "tg_phix = -tw_normal['alfx'][0]\n",
    "phix = np.arctan(tg_phix)\n",
    "for ii in range(N_particles):\n",
    "    jx[ii] = x0[ii]*x0[ii]/(2*betx_at_ip3*np.cos(phix)*np.cos(phix))\n",
    "    \n",
    "slope, intercept, r_value, p_value, std_err = linregress([jx[0],jx[6]],[qx_part_x[0],qx_part_x[6]])\n",
    "print(f'\\n\\nThe Simulated Angular Coefficient is {slope}/m')\n",
    "print(f'\\n\\nTheoretical Calculation/Simulation = {(ang_coeff_sext+ang_coeff_oct)*100/(slope)}%')"
   ]
  },
  {
   "cell_type": "code",
   "execution_count": 13,
   "id": "5271912a-d715-4e39-a0da-d51a0359bd2c",
   "metadata": {},
   "outputs": [
    {
     "name": "stdout",
     "output_type": "stream",
     "text": [
      "[2.09099412e-06 4.18198824e-06 6.27298236e-06 8.36397648e-06\n",
      " 1.04549706e-05 1.25459647e-05 1.46369588e-05 1.67279530e-05\n",
      " 1.88189471e-05 2.09099412e-05 2.30009353e-05]\n",
      "m =  -537673.0749535396 q =  0.3100000982960055\n"
     ]
    },
    {
     "data": {
      "image/png": "[encoded data removed]",
      "text/plain": [
       "<Figure size 432x288 with 1 Axes>"
      ]
     },
     "metadata": {
      "needs_background": "light"
     },
     "output_type": "display_data"
    }
   ],
   "source": [
    "jx = np.zeros(N_particles)\n",
    "tg_phix = -tw_normal['alfx'][0]\n",
    "phix = np.arctan(tg_phix)\n",
    "for ii in range(N_particles):\n",
    "    jx[ii] = x0[ii]*x0[ii]/(2*betx_at_ip3*np.cos(phix)*np.cos(phix))\n",
    "plt.plot(jx,qx_part_x,'-o');\n",
    "plt.grid()\n",
    "plt.ylabel('Tunes')\n",
    "plt.xlabel('Jx [m]')\n",
    "\n",
    "\n",
    "slope, intercept, r_value, p_value, std_err = linregress([jx[0],jx[6]],[qx_part_x[0],qx_part_x[6]])\n",
    "print('m = ',slope,'q = ',intercept)"
   ]
  },
  {
   "cell_type": "code",
   "execution_count": 10,
   "id": "95336dad-1de0-420c-b227-db5b66be2618",
   "metadata": {},
   "outputs": [
    {
     "data": {
      "text/plain": [
       "0.9910257893089467"
      ]
     },
     "execution_count": 10,
     "metadata": {},
     "output_type": "execute_result"
    }
   ],
   "source": [
    "48993.18509504592/49436.8417286188"
   ]
  },
  {
   "cell_type": "code",
   "execution_count": 13,
   "id": "8fad44b3-d830-49a4-bf5a-eebf123c8eb2",
   "metadata": {},
   "outputs": [
    {
     "data": {
      "text/plain": [
       "0.9958695805710998"
      ]
     },
     "execution_count": 13,
     "metadata": {},
     "output_type": "execute_result"
    }
   ],
   "source": [
    "584122.3063146734/586544.98310883"
   ]
  },
  {
   "cell_type": "code",
   "execution_count": 6,
   "id": "5d984e4e-e9c0-4d3a-bc29-379017e794f9",
   "metadata": {},
   "outputs": [
    {
     "data": {
      "text/plain": [
       "382777.35814152623"
      ]
     },
     "execution_count": 6,
     "metadata": {},
     "output_type": "execute_result"
    }
   ],
   "source": [
    "333784.17206337844+48993.18607814781\n"
   ]
  },
  {
   "cell_type": "code",
   "execution_count": 14,
   "id": "d545e14a-e62a-4fc5-a644-c90e569252d6",
   "metadata": {},
   "outputs": [
    {
     "data": {
      "text/plain": [
       "-535129.0959506343"
      ]
     },
     "execution_count": 14,
     "metadata": {},
     "output_type": "execute_result"
    }
   ],
   "source": [
    "-584122.2820287822+48993.18607814781\n"
   ]
  },
  {
   "cell_type": "code",
   "execution_count": 15,
   "id": "994cb5d8-6e21-4da0-a6f7-a6b176713f9b",
   "metadata": {},
   "outputs": [
    {
     "data": {
      "text/plain": [
       "0.9952685393384723"
      ]
     },
     "execution_count": 15,
     "metadata": {},
     "output_type": "execute_result"
    }
   ],
   "source": [
    "-535129.0959506343/-537673.0749535396"
   ]
  },
  {
   "cell_type": "code",
   "execution_count": null,
   "id": "8c72909f-df95-4713-9215-26c87f5bf103",
   "metadata": {},
   "outputs": [],
   "source": []
  }
 ],
 "metadata": {
  "kernelspec": {
   "display_name": "Python 3 (ipykernel)",
   "language": "python",
   "name": "python3"
  },
  "language_info": {
   "codemirror_mode": {
    "name": "ipython",
    "version": 3
   },
   "file_extension": ".py",
   "mimetype": "text/x-python",
   "name": "python",
   "nbconvert_exporter": "python",
   "pygments_lexer": "ipython3",
   "version": "3.9.7"
  }
 },
 "nbformat": 4,
 "nbformat_minor": 5
}
