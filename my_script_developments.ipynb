{
 "cells": [
  {
   "cell_type": "code",
   "execution_count": 1,
   "id": "93ed7bbc-1518-4fcb-8de2-86838ad78825",
   "metadata": {},
   "outputs": [],
   "source": [
    "import numpy as np\n",
    "import xobjects as xo\n",
    "import xtrack as xt\n",
    "import xpart as xp\n",
    "import json\n",
    "import pandas as pd\n",
    "from cpymad.madx import Madx\n",
    "#from matplotlib import pyplot as plt\n",
    "import NAFFlib\n",
    "from math import modf\n",
    "#from scipy.constants import physical_constants\n",
    "from matplotlib import pyplot as plt\n",
    "from scipy.stats import linregress\n"
   ]
  },
  {
   "cell_type": "code",
   "execution_count": 52,
   "id": "377f323e-cb5c-460b-95b3-2397a854be91",
   "metadata": {},
   "outputs": [
    {
     "name": "stdout",
     "output_type": "stream",
     "text": [
      "generating ./395e63322bf2472f8e9ceff526d232ac.c\n",
      "the current directory is '/home/afornara/studies/git_postprocessing'\n",
      "running build_ext\n",
      "building '395e63322bf2472f8e9ceff526d232ac' extension\n",
      "gcc -pthread -B /home/afornara/py/2022_03_04/miniconda/compiler_compat -Wno-unused-result -Wsign-compare -DNDEBUG -O2 -Wall -fPIC -O2 -isystem /home/afornara/py/2022_03_04/miniconda/include -I/home/afornara/py/2022_03_04/miniconda/include -fPIC -O2 -isystem /home/afornara/py/2022_03_04/miniconda/include -fPIC -I/home/afornara/py/2022_03_04/miniconda/include/python3.9 -c 395e63322bf2472f8e9ceff526d232ac.c -o ./395e63322bf2472f8e9ceff526d232ac.o -std=c99 -O3 -Wno-unused-function\n",
      "gcc -pthread -B /home/afornara/py/2022_03_04/miniconda/compiler_compat -shared -Wl,-rpath,/home/afornara/py/2022_03_04/miniconda/lib -Wl,-rpath-link,/home/afornara/py/2022_03_04/miniconda/lib -L/home/afornara/py/2022_03_04/miniconda/lib -L/home/afornara/py/2022_03_04/miniconda/lib -Wl,-rpath,/home/afornara/py/2022_03_04/miniconda/lib -Wl,-rpath-link,/home/afornara/py/2022_03_04/miniconda/lib -L/home/afornara/py/2022_03_04/miniconda/lib ./395e63322bf2472f8e9ceff526d232ac.o -o ./395e63322bf2472f8e9ceff526d232ac.cpython-39-x86_64-linux-gnu.so -std=c99 -O3\n",
      "generating ./a24a89862477433cb6adca49f0eb1784.c\n",
      "the current directory is '/home/afornara/studies/git_postprocessing'\n",
      "running build_ext\n",
      "building 'a24a89862477433cb6adca49f0eb1784' extension\n",
      "gcc -pthread -B /home/afornara/py/2022_03_04/miniconda/compiler_compat -Wno-unused-result -Wsign-compare -DNDEBUG -O2 -Wall -fPIC -O2 -isystem /home/afornara/py/2022_03_04/miniconda/include -I/home/afornara/py/2022_03_04/miniconda/include -fPIC -O2 -isystem /home/afornara/py/2022_03_04/miniconda/include -fPIC -I/home/afornara/py/2022_03_04/miniconda/include/python3.9 -c a24a89862477433cb6adca49f0eb1784.c -o ./a24a89862477433cb6adca49f0eb1784.o -std=c99 -O3 -Wno-unused-function\n",
      "gcc -pthread -B /home/afornara/py/2022_03_04/miniconda/compiler_compat -shared -Wl,-rpath,/home/afornara/py/2022_03_04/miniconda/lib -Wl,-rpath-link,/home/afornara/py/2022_03_04/miniconda/lib -L/home/afornara/py/2022_03_04/miniconda/lib -L/home/afornara/py/2022_03_04/miniconda/lib -Wl,-rpath,/home/afornara/py/2022_03_04/miniconda/lib -Wl,-rpath-link,/home/afornara/py/2022_03_04/miniconda/lib -L/home/afornara/py/2022_03_04/miniconda/lib ./a24a89862477433cb6adca49f0eb1784.o -o ./a24a89862477433cb6adca49f0eb1784.cpython-39-x86_64-linux-gnu.so -std=c99 -O3\n"
     ]
    }
   ],
   "source": [
    "#input\n",
    "i_mo = -350\n",
    "p0c = 7000e9\n",
    "normal_emitt_x = 3e-6 #m*rad\n",
    "normal_emitt_y = 3e-6\n",
    "#proton_mass = physical_constants['proton mass energy equivalent in MeV'][0]/1000 \n",
    "\n",
    "#ctx_gpu = xo.ContextCupy()\n",
    "ctx_cpu = xo.ContextCpu()\n",
    "\n",
    "if False:\n",
    "    mad = Madx()\n",
    "    mad.option(echo=False)\n",
    "    mad.call('andrea.madx')\n",
    "    mad.use(sequence=\"lhcb1\")\n",
    "    line = xt.Line.from_madx_sequence(mad.sequence['lhcb1'],\n",
    "                                  deferred_expressions=True\n",
    "                                  )\n",
    "    with open('line.json', 'w') as fid:\n",
    "        json.dump(line.to_dict(), fid, cls=xo.JEncoder)\n",
    "\n",
    "else:\n",
    "    with open('line.json', 'r') as fid:\n",
    "        loaded_dct = json.load(fid)\n",
    "    line = xt.Line.from_dict(loaded_dct)\n",
    "\n",
    "    \n",
    "particle_0 = xp.Particles(_context=ctx_cpu, p0c=p0c)\n",
    "\n",
    "line.vars['i_mo'] = i_mo\n",
    "line.vars['cmrs.b1_sq']=0.5*line.vars['cmrs.b1_sq']\n",
    "\n",
    "#Testing two different tracking procedures, one via monitor=True and one via normal tracker\n",
    "\n",
    "\n",
    "tracker_monitor = xt.Tracker(_context=ctx_cpu, line=line)\n",
    "tw_monitor = tracker_monitor.twiss(particle_0)\n",
    "\n",
    "tracker_normal = xt.Tracker(_context=ctx_cpu, line=line)\n",
    "tw_normal = tracker_normal.twiss(particle_0)\n",
    "\n",
    "betx_at_ip3 = tw_normal['betx'][0]\n",
    "bety_at_ip3 = tw_normal['bety'][0]\n",
    "#print(tw_y['bety'][0])\n",
    "#assert np.isclose(tw['betx'][0],120.29057)\n",
    "\n",
    "sigma_x = np.sqrt(betx_at_ip3*normal_emitt_x/(particle_0.gamma0*particle_0.beta0))\n",
    "sigma_y = np.sqrt(bety_at_ip3*normal_emitt_y/(particle_0.gamma0*particle_0.beta0))\n",
    "#assert np.isclose(sigma_x,219.93e-6)\n",
    "#assert np.isclose(sigma_x,219.93e-6)\n",
    "\n",
    "p0_normal = tw_normal['particle_on_co']\n",
    "\n",
    "p0_monitor = tw_monitor['particle_on_co']\n",
    "\n",
    "#10 particles for either option, normal or monitor\n",
    "\n",
    "N_particles = 11\n",
    "\n",
    "#particles_normal = xp.build_particles(_context=ctx_cpu,particle_ref=p0_normal,x=[mysigma*sigma_x[0] for mysigma in np.linspace(0.2,2.2,N_particles)])\n",
    "\n",
    "particles_normal = xp.build_particles(_context=ctx_cpu,particle_ref=p0_normal,y=[mysigma*sigma_y[0] for mysigma in np.linspace(0.2,2.2,N_particles)])\n",
    "\n",
    "#particles_monitor = xp.build_particles(_context=ctx_cpu,particle_ref=p0_monitor,x=[mysigma*sigma_x[0] for mysigma in np.linspace(0.2,2.2,N_particles)])\n",
    "\n",
    "particles_monitor = xp.build_particles(_context=ctx_cpu, particle_ref=p0_monitor,y=[mysigma*sigma_y[0] for mysigma in np.linspace(0.2,2.2,N_particles)])\n",
    "\n",
    "#particles_y = xp.build_particles(_context=ctx_cpu,\n",
    "#                               particle_ref=p0,\n",
    "#                               y=[mysigma*sigma_y[0] for mysigma\n",
    "#                                 in np.linspace(0.2,2.2,N_particles)])\n",
    "\n",
    "\n",
    "\n",
    "#----------Tracking via normal procedure-------------\n",
    "\n",
    "N=1000\n",
    "\n",
    "n_turns= 1\n",
    "my_result = {}\n",
    "for ii in ['x','px','y','py','zeta','delta']:\n",
    "    my_result[ii] = []\n",
    "\n",
    "\n",
    "for ii in range(N):\n",
    "    tracker_normal.track(particles_normal, num_turns=n_turns,turn_by_turn_monitor=False)\n",
    "    for jj in ['x','px','y','py','zeta','delta']:\n",
    "        my_result[jj].append(getattr(particles_normal,jj).copy())       \n",
    "        #my_result[jj].append(getattr(particles_normal,jj).copy())\n",
    "\n",
    "for jj in ['x','px','y','py','zeta','delta']:\n",
    "        my_result[jj] = np.array(my_result[jj])\n",
    "        #my_result[jj] = np.array(my_result[jj])\n",
    "\n",
    "#----------------------Tracking via monitor--------------------\n",
    "\n",
    "\n",
    "#First way of saving the first coordinate of each particle\n",
    "#x0_from_part = []\n",
    "#y0_from_part = []\n",
    "            \n",
    "#for ii in range(N_particles):\n",
    "        #x0_from_part.append(particles_monitor.x[ii])\n",
    "        #y0_from_part.append(particles_monitor.y[ii])            \n",
    "            \n",
    "n_turns2 = 1000\n",
    "\n",
    "tracker_monitor.track(particles_monitor, num_turns=n_turns2,turn_by_turn_monitor=True)\n",
    "\n",
    "if False:\n",
    "    for jj in ['x','px','y','py','zeta','delta']:\n",
    "        my_result_x[jj].append(getattr(particles_monitor,jj).copy())       \n",
    "        my_result_y[jj].append(getattr(particles_monitor,jj).copy())\n",
    "    \n",
    "\n",
    "    for jj in ['x','px','y','py','zeta','delta']:\n",
    "        my_result_x[jj] = np.array(my_result_x[jj])\n",
    "        my_result_y[jj] = np.array(my_result_y[jj])\n",
    "        #first index is turn second index is particle index, my_result['x'][:,1]\n",
    "        #are all turns for the second particle\n",
    "\n",
    "#Here we get the tunes\n",
    "\n",
    "qx_normal = []\n",
    "qx_monitor = []\n",
    "qy_normal = []\n",
    "qy_monitor = []\n",
    "#x0_from_normal = []\n",
    "#x0_from_monitor = []\n",
    "#y0_from_normal = []\n",
    "#y0_from_monitor = []\n",
    "\n",
    "for ii in range(N_particles):\n",
    "    #print(my_result['x'][:,ii])\n",
    "    qx_normal.append(NAFFlib.get_tune(my_result['x'][:,ii]))\n",
    "    qx_monitor.append(NAFFlib.get_tune(tracker_monitor.record_last_track.x[ii]))\n",
    "    #x0_from_normal.append(my_result['x'][0,ii])\n",
    "    #x0_from_monitor.append(tracker_monitor.record_last_track.x[ii][0])   \n",
    "    qy_normal.append(NAFFlib.get_tune(my_result['y'][:,ii]))\n",
    "    qy_monitor.append(NAFFlib.get_tune(tracker_monitor.record_last_track.y[ii]))\n",
    "    #y0_from_normal.append(my_result['y'][0,ii])\n",
    "    #y0_from_monitor.append(tracker_monitor.record_last_track.y[ii][0])\n",
    "\n",
    "x0 = np.array([mysigma*sigma_x[0] for mysigma in np.linspace(0.2,2.2,N_particles)]) \n",
    "y0 = np.array([mysigma*sigma_y[0] for mysigma in np.linspace(0.2,2.2,N_particles)]) \n",
    "    \n",
    "    "
   ]
  },
  {
   "cell_type": "code",
   "execution_count": null,
   "id": "56046bf7-dad7-4b33-9af1-a85fbfa2ab31",
   "metadata": {},
   "outputs": [],
   "source": []
  },
  {
   "cell_type": "code",
   "execution_count": 3,
   "id": "bb846727-ae16-412f-bacb-35d8eac546ba",
   "metadata": {},
   "outputs": [
    {
     "name": "stdout",
     "output_type": "stream",
     "text": [
      "[ 6.76039821e-05  9.75762331e-05  3.99969330e-05 -1.53346197e-04\n",
      " -4.56960710e-04 -6.60848663e-04 -4.15260782e-04  3.51500513e-04\n",
      "  9.75983291e-04  3.61309858e-04 -1.10617951e-03]\n",
      "[ 1.75546652e-06  1.25619271e-06 -3.35853518e-06 -1.24487996e-05\n",
      " -2.27356366e-05 -2.59893018e-05 -1.53756847e-05  4.57141966e-07\n",
      "  3.70520062e-06 -5.99980430e-06 -5.02870387e-08]\n",
      "[0.3130392367767762, 0.3130072668477651, 0.31295406648644775, 0.3128796612559198, 0.31278408167925603, 0.31266730805307313, 0.3125293308986112, 0.31237011602780185, 0.31218961238811094, 0.3119877663612319, 0.3117645252777741]\n",
      "[0.3130414867746483, 0.31300939541029177, 0.3180091139390992, 0.3180571871053323, 0.3181186997745309, 0.31266734193274914, 0.3125299353305245, 0.3183806288864766, 0.3184954895656515, 0.3186230644929122, 0.31176485436727996]\n"
     ]
    }
   ],
   "source": [
    "#x displacement, octupoles -350\n",
    "print(particles_monitor.x)\n",
    "print(particles_monitor.y)\n",
    "print(qx_monitor)\n",
    "print(qy_monitor)"
   ]
  },
  {
   "cell_type": "code",
   "execution_count": 7,
   "id": "9823c940-a534-4a80-8d0a-79852547d78b",
   "metadata": {},
   "outputs": [
    {
     "name": "stdout",
     "output_type": "stream",
     "text": [
      "[7.36970319e-05 1.49671989e-04 2.30096608e-04 3.16899693e-04\n",
      " 4.11641255e-04 5.15368014e-04 6.28450788e-04 7.50408827e-04\n",
      " 8.79731583e-04 1.01371449e-03 1.14833092e-03]\n",
      "[2.15884191e-06 4.43629639e-06 6.96541102e-06 9.87674158e-06\n",
      " 1.32978227e-05 1.73515038e-05 2.21529819e-05 2.78054729e-05\n",
      " 3.43946123e-05 4.19818609e-05 5.05973756e-05]\n",
      "[0.31305066000753434, 0.3130529022749124, 0.31305663178354837, 0.3130618428745969, 0.3130685303763514, 0.3130766895984234, 0.3130863204690079, 0.31309740543336223, 0.31310996044315864, 0.3131239669885427, 0.31313943088427765]\n",
      "[0.3130529253780986, 0.31305516910364556, 0.313058900406338, 0.3130641122406996, 0.31307079747602207, 0.3130789486918201, 0.3130885627647724, 0.31309961914652135, 0.313112129805264, 0.31312607047729085, 0.31314144221607515]\n"
     ]
    }
   ],
   "source": [
    "#x displacement, no octupoles\n",
    "print(particles_monitor.x)\n",
    "print(particles_monitor.y)\n",
    "print(qx_monitor)\n",
    "print(qy_monitor)"
   ]
  },
  {
   "cell_type": "code",
   "execution_count": 23,
   "id": "90edd1e6-22df-4a53-aefa-54dd29c1ee90",
   "metadata": {},
   "outputs": [
    {
     "name": "stdout",
     "output_type": "stream",
     "text": [
      "[-2.27115087e-06 -7.54904937e-06 -1.83741940e-05 -3.05317951e-05\n",
      " -2.63022641e-05 -1.36734174e-06  3.35027094e-05  9.01745705e-05\n",
      "  9.82780012e-06 -4.19979681e-05 -6.44664231e-05]\n",
      "[ 0.00011552  0.00028488  0.00049811  0.00059561  0.00026786 -0.00057989\n",
      " -0.00115639 -0.00017509  0.00146038  0.00036121 -0.00184727]\n",
      "[0.31306068576451307, 0.31308627973606873, 0.3131286280023928, 0.3131878491925681, 0.31326566331831973, 0.3133638176065958, 0.31347564167771036, 0.313595107007103, 0.3137617998941533, 0.31653663937543824, 0.31389873059365053]\n",
      "[0.31793628278655894, 0.31789544259934155, 0.31782737942221667, 0.3177320814777581, 0.31760956634590476, 0.31745986045967894, 0.3172830122856016, 0.31707915400236925, 0.3168487597641903, 0.3165924554773461, 0.3163082566310991]\n"
     ]
    }
   ],
   "source": [
    "#y displacement, octupoles -350\n",
    "print(particles_monitor.x)\n",
    "print(particles_monitor.y)\n",
    "print(qx_monitor)\n",
    "print(qy_monitor)"
   ]
  },
  {
   "cell_type": "code",
   "execution_count": 20,
   "id": "f3a8f0d6-b42d-48ce-95bd-ac1d67594608",
   "metadata": {},
   "outputs": [
    {
     "name": "stdout",
     "output_type": "stream",
     "text": [
      "[-1.81476946e-06 -3.63707420e-06 -5.27908289e-06 -6.51930686e-06\n",
      " -7.11890299e-06 -6.84931498e-06 -5.53486912e-06 -3.11276840e-06\n",
      "  2.90438304e-07  4.27314836e-06  8.08053567e-06]\n",
      "[0.00010412 0.00020429 0.00029644 0.0003762  0.00043882 0.00047907\n",
      " 0.00049129 0.00046943 0.00040725 0.00029862 0.00013802]\n",
      "[0.3130517338590656, 0.313050659596606, 0.3130489610431341, 0.3130466487166661, 0.31304373307034133, 0.31304022489609035, 0.31303613573591327, 0.31303147824804595, 0.3130262665084615, 0.31302051624576827, 0.3130142450331796]\n",
      "[0.3179506881505412, 0.3179530622785385, 0.3179570188226742, 0.3179625562382878, 0.31796968217004856, 0.3179783816723068, 0.31798866902724254, 0.31800053237955056, 0.3180139789749532, 0.318029008611634, 0.31804562082779614]\n"
     ]
    }
   ],
   "source": [
    "#y displacement, no octupoles\n",
    "print(particles_monitor.x)\n",
    "print(particles_monitor.y)\n",
    "print(qx_monitor)\n",
    "print(qy_monitor)"
   ]
  },
  {
   "cell_type": "code",
   "execution_count": 18,
   "id": "73ded750-5ee5-461c-829f-e4078d2eeede",
   "metadata": {},
   "outputs": [
    {
     "name": "stdout",
     "output_type": "stream",
     "text": [
      "m =  92817.85241556173 q =  0.3130499135355326\n"
     ]
    },
    {
     "data": {
      "text/plain": [
       "1000"
      ]
     },
     "execution_count": 18,
     "metadata": {},
     "output_type": "execute_result"
    },
    {
     "data": {
      "image/png": "[encoded data removed]",
      "text/plain": [
       "<Figure size 432x288 with 1 Axes>"
      ]
     },
     "metadata": {
      "needs_background": "light"
     },
     "output_type": "display_data"
    }
   ],
   "source": [
    "#Monitor detuning study, x direction\n",
    "x0 = np.array([mysigma*sigma_x[0] for mysigma in np.linspace(0.2,2.2,N_particles)])\n",
    "\n",
    "dqx = np.zeros(N_particles)\n",
    "jx = np.zeros(N_particles)\n",
    "\n",
    "for ii in range(N_particles):\n",
    "    dqx[ii] = qx_monitor[ii]\n",
    "    jx[ii] = (x0[ii]*x0[ii])/(2*betx_at_ip3)\n",
    "plt.plot(jx,dqx,'-o');\n",
    "#plt.ylim(-0.002,0.005)\n",
    "#print(j[0],dq[0],j[8],dq[8])\n",
    "\n",
    "\n",
    "slope, intercept, r_value, p_value, std_err = linregress([jx[0],jx[2]],[dqx[0],dqx[2]])\n",
    "print('m = ',slope,'q = ',intercept)\n",
    "\n",
    "#print(tracker_monitor.record_last_track.x[0])\n",
    "#len(tracker_monitor.record_last_track.x[0])\n",
    "len(my_result['x'][:,ii])\n",
    "\n"
   ]
  },
  {
   "cell_type": "code",
   "execution_count": 4,
   "id": "8c873756-6700-4b34-baa5-dea76324dc84",
   "metadata": {},
   "outputs": [
    {
     "name": "stdout",
     "output_type": "stream",
     "text": [
      "m =  -1323780.6855884157 q =  0.3130498830485303\n"
     ]
    },
    {
     "data": {
      "text/plain": [
       "array([8.04233218e-12, 3.21693287e-11, 7.23809897e-11, 1.28677315e-10,\n",
       "       2.01058305e-10, 2.89523959e-10, 3.94074277e-10, 5.14709260e-10,\n",
       "       6.51428907e-10, 8.04233218e-10, 9.73122194e-10])"
      ]
     },
     "execution_count": 4,
     "metadata": {},
     "output_type": "execute_result"
    },
    {
     "data": {
      "image/png": "[encoded data removed]",
      "text/plain": [
       "<Figure size 432x288 with 1 Axes>"
      ]
     },
     "metadata": {
      "needs_background": "light"
     },
     "output_type": "display_data"
    }
   ],
   "source": [
    "#Normal detuning study, x direction\n",
    "dqx = np.zeros(N_particles)\n",
    "jx = np.zeros(N_particles)\n",
    "\n",
    "for ii in range(N_particles):\n",
    "    dqx[ii] = qx_normal[ii]\n",
    "    jx[ii] = (x0[ii]*x0[ii])/(2*betx_at_ip3)\n",
    "plt.plot(jx,dqx,'-o');\n",
    "\n",
    "\n",
    "slope, intercept, r_value, p_value, std_err = linregress([jx[0],jx[2]],[dqx[0],dqx[2]])\n",
    "print('m = ',slope,'q = ',intercept)\n",
    "\n",
    "jx"
   ]
  },
  {
   "cell_type": "code",
   "execution_count": 21,
   "id": "267fc3b9-c902-4e34-ac83-34bf49318928",
   "metadata": {},
   "outputs": [
    {
     "name": "stdout",
     "output_type": "stream",
     "text": [
      "m =  98396.08691759058 q =  0.31794989681652464\n"
     ]
    },
    {
     "data": {
      "image/png": "[encoded data removed]",
      "text/plain": [
       "<Figure size 432x288 with 1 Axes>"
      ]
     },
     "metadata": {
      "needs_background": "light"
     },
     "output_type": "display_data"
    }
   ],
   "source": [
    "#Monitor detuning study, y direction\n",
    "\n",
    "dqy = np.zeros(N_particles)\n",
    "jy = np.zeros(N_particles)\n",
    "\n",
    "for ii in range(N_particles):\n",
    "    dqy[ii] = qy_monitor[ii]\n",
    "    jy[ii] = (y0[ii]*y0[ii])/(2*bety_at_ip3)\n",
    "plt.plot(jy,dqy,'-o');\n",
    "#plt.ylim(-0.002,0.005)\n",
    "#print(j[0],dq[0],j[8],dq[8])\n",
    "\n",
    "\n",
    "slope, intercept, r_value, p_value, std_err = linregress([jy[0],jy[2]],[dqy[0],dqy[2]])\n",
    "print('m = ',slope,'q = ',intercept)"
   ]
  },
  {
   "cell_type": "code",
   "execution_count": 30,
   "id": "058b3ff3-879c-46f8-b117-fa4cb3b0e5a7",
   "metadata": {},
   "outputs": [
    {
     "name": "stdout",
     "output_type": "stream",
     "text": [
      "m =  -1692657.7504595378 q =  0.3179498957249222\n"
     ]
    },
    {
     "data": {
      "image/png": "[encoded data removed]",
      "text/plain": [
       "<Figure size 432x288 with 1 Axes>"
      ]
     },
     "metadata": {
      "needs_background": "light"
     },
     "output_type": "display_data"
    }
   ],
   "source": [
    "#Normal detuning study, y direction\n",
    "\n",
    "dqy = np.zeros(N_particles)\n",
    "jy = np.zeros(N_particles)\n",
    "\n",
    "for ii in range(N_particles):\n",
    "    dqy[ii] = qy_normal[ii]\n",
    "    jy[ii] = (y0[ii]*y0[ii])/(2*bety_at_ip3)\n",
    "plt.plot(jy,dqy,'-o');\n",
    "#plt.ylim(-0.002,0.005)\n",
    "#print(j[0],dq[0],j[8],dq[8])\n",
    "\n",
    "\n",
    "slope, intercept, r_value, p_value, std_err = linregress([jy[0],jy[2]],[dqy[0],dqy[2]])\n",
    "print('m = ',slope,'q = ',intercept)"
   ]
  },
  {
   "cell_type": "code",
   "execution_count": 28,
   "id": "e8075147-bba9-4412-939c-974ed93074c5",
   "metadata": {},
   "outputs": [],
   "source": [
    "qx_oct = [0.3130392367767762, 0.3130072668477651, 0.31295406648644775, 0.3128796612559198, 0.31278408167925603, 0.31266730805307313, 0.3125293308986112, 0.31237011602780185, 0.31218961238811094, 0.3119877663612319, 0.3117645252777741]\n",
    "qx_no_oct = [0.31305066000753434, 0.3130529022749124, 0.31305663178354837, 0.3130618428745969, 0.3130685303763514, 0.3130766895984234, 0.3130863204690079, 0.31309740543336223, 0.31310996044315864, 0.3131239669885427, 0.31313943088427765]\n",
    "qy_oct = [0.31793628278655894, 0.31789544259934155, 0.31782737942221667, 0.3177320814777581, 0.31760956634590476, 0.31745986045967894, 0.3172830122856016, 0.31707915400236925, 0.3168487597641903, 0.3165924554773461, 0.3163082566310991]\n",
    "qy_no_oct = [0.3179506881505412, 0.3179530622785385, 0.3179570188226742, 0.3179625562382878, 0.31796968217004856, 0.3179783816723068, 0.31798866902724254, 0.31800053237955056, 0.3180139789749532, 0.318029008611634, 0.31804562082779614]"
   ]
  },
  {
   "cell_type": "code",
   "execution_count": 29,
   "id": "1d6b9115-eef6-48c5-8984-ddb768e624ba",
   "metadata": {},
   "outputs": [
    {
     "name": "stdout",
     "output_type": "stream",
     "text": [
      "-1.142323075814522e-05\n",
      "-4.563542714730584e-05\n",
      "-0.00010256529710062079\n",
      "-0.0001821816186770575\n",
      "-0.0002844486970953741\n",
      "-0.0004093815453502514\n",
      "-0.0005569895703967376\n",
      "-0.0007272894055603829\n",
      "-0.0009203480550477039\n",
      "-0.001136200627310846\n",
      "-0.0013749056065035514\n"
     ]
    }
   ],
   "source": [
    "#plt.plot(jy,qx_no_oct)\n",
    "sext_frac_x = np.zeros(N_particles)\n",
    "sext_frac_y = np.zeros(N_particles)\n",
    "for ii in range(N_particles):\n",
    "    sext_frac_x[ii]=(qx_oct[ii]-qx_no_oct[ii])\n",
    "    sext_frac_y[ii]=qy_oct[ii]/qy_no_oct[ii]\n",
    "    print(sext_frac_x[ii])"
   ]
  },
  {
   "cell_type": "code",
   "execution_count": 149,
   "id": "e17374d2-201c-4b21-a1cf-a04c8d5cf2ef",
   "metadata": {},
   "outputs": [
    {
     "data": {
      "text/plain": [
       "0.3130392367767762"
      ]
     },
     "execution_count": 149,
     "metadata": {},
     "output_type": "execute_result"
    }
   ],
   "source": [
    "qx_oct[0]"
   ]
  },
  {
   "cell_type": "code",
   "execution_count": 150,
   "id": "662ab502-b214-4734-827a-88b74be3c9b3",
   "metadata": {},
   "outputs": [
    {
     "data": {
      "text/plain": [
       "0.31305066000753434"
      ]
     },
     "execution_count": 150,
     "metadata": {},
     "output_type": "execute_result"
    }
   ],
   "source": [
    "qx_no_oct[0]"
   ]
  },
  {
   "cell_type": "code",
   "execution_count": 164,
   "id": "47528442-1ac8-4b0d-bac7-d81565105d3c",
   "metadata": {},
   "outputs": [
    {
     "name": "stdout",
     "output_type": "stream",
     "text": [
      "m =  -1323780.9688996377 q =  0.31304988306306725\n"
     ]
    },
    {
     "data": {
      "text/plain": [
       "1000"
      ]
     },
     "execution_count": 164,
     "metadata": {},
     "output_type": "execute_result"
    },
    {
     "data": {
      "image/png": "[encoded data removed]",
      "text/plain": [
       "<Figure size 432x288 with 1 Axes>"
      ]
     },
     "metadata": {
      "needs_background": "light"
     },
     "output_type": "display_data"
    }
   ],
   "source": [
    "#Monitor detuning study, x direction\n",
    "x0 = np.array([mysigma*sigma_x[0] for mysigma in np.linspace(0.2,2.2,N_particles)])\n",
    "\n",
    "jx = np.zeros(N_particles)\n",
    "\n",
    "\n",
    "for ii in range(N_particles):\n",
    "    jx[ii] = x0[ii]*x0[ii]/(2*betx_at_ip3)\n",
    "\n",
    "\n",
    "\n",
    "plt.plot(jx,qx_no_oct,'-o');\n",
    "plt.plot(jx,qx_oct,'-o')\n",
    "plt.grid()\n",
    "#plt.ylim(-0.002,0.005)\n",
    "#print(j[0],dq[0],j[8],dq[8])\n",
    "plt.ylabel('Detune')\n",
    "plt.xlabel('Jx [m]')\n",
    "\n",
    "\n",
    "slope, intercept, r_value, p_value, std_err = linregress([jx[0],jx[2]],[qx_oct[0],qx_oct[2]])\n",
    "print('m = ',slope,'q = ',intercept)\n",
    "\n",
    "#print(tracker_monitor.record_last_track.x[0])\n",
    "#len(tracker_monitor.record_last_track.x[0])\n",
    "len(my_result['x'][:,ii])"
   ]
  },
  {
   "cell_type": "code",
   "execution_count": 116,
   "id": "2794f5d2-7a6e-4201-9169-90eeb042a1cb",
   "metadata": {},
   "outputs": [
    {
     "data": {
      "text/plain": [
       "array([0.2, 0.4, 0.6, 0.8, 1. , 1.2, 1.4, 1.6, 1.8, 2. , 2.2])"
      ]
     },
     "execution_count": 116,
     "metadata": {},
     "output_type": "execute_result"
    }
   ],
   "source": [
    "np.array([mysigma*1 for mysigma in np.linspace(0.2,2.2,N_particles+1)]) "
   ]
  },
  {
   "cell_type": "code",
   "execution_count": 31,
   "id": "98cf44b9-90ed-4f22-881f-b76603fc0310",
   "metadata": {},
   "outputs": [
    {
     "data": {
      "text/plain": [
       "2.010583046058194e-10"
      ]
     },
     "execution_count": 31,
     "metadata": {},
     "output_type": "execute_result"
    }
   ],
   "source": [
    "jx[4]"
   ]
  },
  {
   "cell_type": "markdown",
   "id": "b4f151e9-fea1-4fb1-beaa-32d714d7fddc",
   "metadata": {},
   "source": [
    "- ```normal_emitt_x = 3e-6 #m*rad``` -> m\n",
    "- ```sigma_x = np.sqrt(betx_at_ip3*normal_emitt_x/(particle_0.gamma0*particle_0.beta0))``` -> sqrt(m*m/no_dimension)-> m \n",
    "- ```jx[ii] = x0[ii]*x0[ii]/(2*betx_at_ip3)``` -> m*m/m -> m\n",
    "- ```sum_nl_x+=line.element_dict[elem].knl[3]*tw['betx'][ii]*tw['betx'][ii]```-> $m^{-3}$(?)*$m^{2}$-> $m^{-1}$\n",
    "Total dqx (no dimension) = ang_coeff ($m^{-1}$) * jx ( m ) -> no dimension = no dimension !"
   ]
  },
  {
   "cell_type": "code",
   "execution_count": null,
   "id": "6ce38e04-2dff-4429-957b-8c645baafdab",
   "metadata": {},
   "outputs": [],
   "source": []
  },
  {
   "cell_type": "code",
   "execution_count": 53,
   "id": "9f5a1f94-76f5-4378-bd53-13217c5b76da",
   "metadata": {},
   "outputs": [
    {
     "name": "stdout",
     "output_type": "stream",
     "text": [
      "generating ./f55de7ab1f1e416db258245b162bedf7.c\n",
      "the current directory is '/home/afornara/studies/git_postprocessing'\n",
      "running build_ext\n",
      "building 'f55de7ab1f1e416db258245b162bedf7' extension\n",
      "gcc -pthread -B /home/afornara/py/2022_03_04/miniconda/compiler_compat -Wno-unused-result -Wsign-compare -DNDEBUG -O2 -Wall -fPIC -O2 -isystem /home/afornara/py/2022_03_04/miniconda/include -I/home/afornara/py/2022_03_04/miniconda/include -fPIC -O2 -isystem /home/afornara/py/2022_03_04/miniconda/include -fPIC -I/home/afornara/py/2022_03_04/miniconda/include/python3.9 -c f55de7ab1f1e416db258245b162bedf7.c -o ./f55de7ab1f1e416db258245b162bedf7.o -std=c99 -O3 -Wno-unused-function\n",
      "gcc -pthread -B /home/afornara/py/2022_03_04/miniconda/compiler_compat -shared -Wl,-rpath,/home/afornara/py/2022_03_04/miniconda/lib -Wl,-rpath-link,/home/afornara/py/2022_03_04/miniconda/lib -L/home/afornara/py/2022_03_04/miniconda/lib -L/home/afornara/py/2022_03_04/miniconda/lib -Wl,-rpath,/home/afornara/py/2022_03_04/miniconda/lib -Wl,-rpath-link,/home/afornara/py/2022_03_04/miniconda/lib -L/home/afornara/py/2022_03_04/miniconda/lib ./f55de7ab1f1e416db258245b162bedf7.o -o ./f55de7ab1f1e416db258245b162bedf7.cpython-39-x86_64-linux-gnu.so -std=c99 -O3\n"
     ]
    }
   ],
   "source": [
    "tracker1 = xt.Tracker(_context=ctx_cpu, line=line)\n"
   ]
  },
  {
   "cell_type": "code",
   "execution_count": 148,
   "id": "c1538291-a7eb-4d21-b9f4-491c6a15809c",
   "metadata": {},
   "outputs": [
    {
     "name": "stdout",
     "output_type": "stream",
     "text": [
      "['XoStruct', '__class__', '__delattr__', '__dict__', '__dir__', '__doc__', '__eq__', '__format__', '__ge__', '__getattribute__', '__gt__', '__hash__', '__init__', '__init_subclass__', '__le__', '__lt__', '__module__', '__ne__', '__new__', '__reduce__', '__reduce_ex__', '__repr__', '__setattr__', '__sizeof__', '__str__', '__subclasshook__', '__weakref__', '_buffer', '_fields', '_knl_setitem', '_ksl_setitem', '_move_to', '_offset', '_reinit_from_xobject', '_rename', '_store_in_to_dict', '_track_kernel_name', '_xobject', '_xofields', 'bal', 'compile_custom_kernels', 'compile_track_kernel', 'copy', 'from_dict', 'get_backtrack_element', 'hxl', 'hyl', 'iscollective', 'knl', 'ksl', 'length', 'order', 'radiation_flag', 'to_dict', 'track', 'track_kernel_description', 'track_kernel_source', 'xoinitialize']\n",
      "{'Multipole_track_particles': <xobjects.context.Kernel object at 0x7f0142052490>}\n",
      "-227341.61128685813 -225003.01024783653 140786.19331294773\n"
     ]
    }
   ],
   "source": [
    "tw = tracker1.twiss(particle_0)\n",
    "#print(tw['betx'][0])\n",
    "#Scorrere sugli ottupoli\n",
    "sum_nl_x = 0.0\n",
    "count_nl_x = 0\n",
    "sum_nl_y = 0.0\n",
    "count_nl_y = 0\n",
    "sum_nl_xy = 0.0\n",
    "count_nl_xy = 0\n",
    "sum_sl = 0.0\n",
    "count_sl = 0\n",
    "ii = 0\n",
    "a = 0\n",
    "for elem in line.element_dict :\n",
    "    \n",
    "    if isinstance(line.element_dict[elem],xt.beam_elements.elements.Multipole): \n",
    "        if(line.element_dict[elem].order==3):\n",
    "                #print('elem is',elem,'and tw[name][elem]=',tw['name'][ii])\n",
    "                if(a==0):\n",
    "                    print(dir(line.element_dict[elem]))\n",
    "                    print(line.element_dict[elem].track_kernel_description)\n",
    "                    a=2\n",
    "                #i print sono giusti, li commento perché sono lunghi\n",
    "                #print('elem is',elem,'and tw[name][elem]=',tw['name'][ii],'with beta=',tw['betx'][ii])\n",
    "                sum_nl_x+=line.element_dict[elem].knl[3]*tw['betx'][ii]*tw['betx'][ii]\n",
    "                count_nl_x+=1\n",
    "                sum_nl_y+=line.element_dict[elem].knl[3]*tw['bety'][ii]*tw['bety'][ii]\n",
    "                sum_nl_xy+=line.element_dict[elem].knl[3]*tw['betx'][ii]*tw['bety'][ii]\n",
    "                \n",
    "                #count_nl_y+=1\n",
    "                #print(elem)\n",
    "                #print(line.element_dict[elem].knl)\n",
    "    ii+=1\n",
    "\n",
    "#print(sum_nl_x,sum_nl_y)\n",
    "#print(count_nl_x,count_nl_y)\n",
    "K_OCT_x = sum_nl_x\n",
    "K_OCT_y = sum_nl_y\n",
    "K_OCT_xy = sum_nl_xy\n",
    "\n",
    "#print(K_OCT_x,K_OCT_y)\n",
    "m_x = (K_OCT_x)/(16*np.pi)\n",
    "m_y = (K_OCT_y)/(16*np.pi)\n",
    "m_xy = (-K_OCT_xy)/(8*np.pi)\n",
    "\n",
    "print(m_x,m_y,m_xy)"
   ]
  },
  {
   "cell_type": "code",
   "execution_count": 153,
   "id": "5d31fee7-e566-423d-9838-7580e71af67f",
   "metadata": {},
   "outputs": [
    {
     "data": {
      "text/plain": [
       "5.822871411029544"
      ]
     },
     "execution_count": 153,
     "metadata": {},
     "output_type": "execute_result"
    }
   ],
   "source": [
    "-1323780.9688996377/-227341.61128685813"
   ]
  },
  {
   "cell_type": "code",
   "execution_count": null,
   "id": "b3a51495-ef43-4883-8d47-8bc4da035651",
   "metadata": {},
   "outputs": [],
   "source": [
    "-227341.61128685813 #at -350\n",
    "-292296.3570789608  #at -450"
   ]
  },
  {
   "cell_type": "code",
   "execution_count": 48,
   "id": "bcab071b-9c7e-4f1d-99aa-05be4cfea507",
   "metadata": {},
   "outputs": [
    {
     "data": {
      "text/plain": [
       "1.2857142857142858"
      ]
     },
     "execution_count": 48,
     "metadata": {},
     "output_type": "execute_result"
    }
   ],
   "source": [
    "450/350"
   ]
  },
  {
   "cell_type": "code",
   "execution_count": 51,
   "id": "b09c7825-ae1c-4f89-8a4f-ddc3bb79cd2a",
   "metadata": {},
   "outputs": [
    {
     "data": {
      "text/plain": [
       "1.2857142844393024"
      ]
     },
     "execution_count": 51,
     "metadata": {},
     "output_type": "execute_result"
    }
   ],
   "source": []
  },
  {
   "cell_type": "code",
   "execution_count": 6,
   "id": "6586418c-414e-4f28-ae6b-e0a1325b89ab",
   "metadata": {},
   "outputs": [
    {
     "name": "stdout",
     "output_type": "stream",
     "text": [
      "m =  -330897.81597411167 q =  0.3130498815373966\n"
     ]
    },
    {
     "data": {
      "image/png": "[encoded data removed]",
      "text/plain": [
       "<Figure size 432x288 with 1 Axes>"
      ]
     },
     "metadata": {
      "needs_background": "light"
     },
     "output_type": "display_data"
    }
   ],
   "source": [
    "dqx = np.zeros(N_particles)\n",
    "jx = np.zeros(N_particles)\n",
    "for ii in range(N_particles):\n",
    "    dqx[ii] = qx[ii]\n",
    "    jx[ii] = (2*tracker_x.record_last_track.x[ii][0]*tracker_x.record_last_track.x[ii][0])/(betx_at_ip3)\n",
    "plt.plot(jx,dqx,'-o');\n",
    "#plt.ylim(-0.002,0.005)\n",
    "#print(j[0],dq[0],j[8],dq[8])\n",
    "\n",
    "\n",
    "slope, intercept, r_value, p_value, std_err = linregress([jx[0],jx[2]],[dqx[0],dqx[2]])\n",
    "print('m = ',slope,'q = ',intercept)"
   ]
  },
  {
   "cell_type": "code",
   "execution_count": 7,
   "id": "d40f63d1-6da8-4cda-93cb-494f183e4215",
   "metadata": {},
   "outputs": [
    {
     "ename": "ValueError",
     "evalue": "Cannot calculate a linear regression if all x values are identical",
     "output_type": "error",
     "traceback": [
      "\u001b[0;31m---------------------------------------------------------------------------\u001b[0m",
      "\u001b[0;31mValueError\u001b[0m                                Traceback (most recent call last)",
      "Input \u001b[0;32mIn [7]\u001b[0m, in \u001b[0;36m<cell line: 11>\u001b[0;34m()\u001b[0m\n\u001b[1;32m      6\u001b[0m plt\u001b[38;5;241m.\u001b[39mplot(jy,dqy,\u001b[38;5;124m'\u001b[39m\u001b[38;5;124m-o\u001b[39m\u001b[38;5;124m'\u001b[39m);\n\u001b[1;32m      7\u001b[0m \u001b[38;5;66;03m#plt.ylim(-0.002,0.005)\u001b[39;00m\n\u001b[1;32m      8\u001b[0m \u001b[38;5;66;03m#print(j[0],dq[0],j[8],dq[8])\u001b[39;00m\n\u001b[0;32m---> 11\u001b[0m slope, intercept, r_value, p_value, std_err \u001b[38;5;241m=\u001b[39m \u001b[43mlinregress\u001b[49m\u001b[43m(\u001b[49m\u001b[43m[\u001b[49m\u001b[43mjy\u001b[49m\u001b[43m[\u001b[49m\u001b[38;5;241;43m0\u001b[39;49m\u001b[43m]\u001b[49m\u001b[43m,\u001b[49m\u001b[43mjy\u001b[49m\u001b[43m[\u001b[49m\u001b[38;5;241;43m2\u001b[39;49m\u001b[43m]\u001b[49m\u001b[43m]\u001b[49m\u001b[43m,\u001b[49m\u001b[43m[\u001b[49m\u001b[43mdqy\u001b[49m\u001b[43m[\u001b[49m\u001b[38;5;241;43m0\u001b[39;49m\u001b[43m]\u001b[49m\u001b[43m,\u001b[49m\u001b[43mdqy\u001b[49m\u001b[43m[\u001b[49m\u001b[38;5;241;43m2\u001b[39;49m\u001b[43m]\u001b[49m\u001b[43m]\u001b[49m\u001b[43m)\u001b[49m\n\u001b[1;32m     12\u001b[0m \u001b[38;5;28mprint\u001b[39m(\u001b[38;5;124m'\u001b[39m\u001b[38;5;124mm = \u001b[39m\u001b[38;5;124m'\u001b[39m,slope,\u001b[38;5;124m'\u001b[39m\u001b[38;5;124mq = \u001b[39m\u001b[38;5;124m'\u001b[39m,intercept)\n",
      "File \u001b[0;32m~/py/2022_03_04/miniconda/lib/python3.9/site-packages/scipy/stats/_stats_mstats_common.py:150\u001b[0m, in \u001b[0;36mlinregress\u001b[0;34m(x, y, alternative)\u001b[0m\n\u001b[1;32m    147\u001b[0m     \u001b[38;5;28;01mraise\u001b[39;00m \u001b[38;5;167;01mValueError\u001b[39;00m(\u001b[38;5;124m\"\u001b[39m\u001b[38;5;124mInputs must not be empty.\u001b[39m\u001b[38;5;124m\"\u001b[39m)\n\u001b[1;32m    149\u001b[0m \u001b[38;5;28;01mif\u001b[39;00m np\u001b[38;5;241m.\u001b[39mamax(x) \u001b[38;5;241m==\u001b[39m np\u001b[38;5;241m.\u001b[39mamin(x) \u001b[38;5;129;01mand\u001b[39;00m \u001b[38;5;28mlen\u001b[39m(x) \u001b[38;5;241m>\u001b[39m \u001b[38;5;241m1\u001b[39m:\n\u001b[0;32m--> 150\u001b[0m     \u001b[38;5;28;01mraise\u001b[39;00m \u001b[38;5;167;01mValueError\u001b[39;00m(\u001b[38;5;124m\"\u001b[39m\u001b[38;5;124mCannot calculate a linear regression \u001b[39m\u001b[38;5;124m\"\u001b[39m\n\u001b[1;32m    151\u001b[0m                      \u001b[38;5;124m\"\u001b[39m\u001b[38;5;124mif all x values are identical\u001b[39m\u001b[38;5;124m\"\u001b[39m)\n\u001b[1;32m    153\u001b[0m n \u001b[38;5;241m=\u001b[39m \u001b[38;5;28mlen\u001b[39m(x)\n\u001b[1;32m    154\u001b[0m xmean \u001b[38;5;241m=\u001b[39m np\u001b[38;5;241m.\u001b[39mmean(x, \u001b[38;5;28;01mNone\u001b[39;00m)\n",
      "\u001b[0;31mValueError\u001b[0m: Cannot calculate a linear regression if all x values are identical"
     ]
    },
    {
     "data": {
      "image/png": "[encoded data removed]",
      "text/plain": [
       "<Figure size 432x288 with 1 Axes>"
      ]
     },
     "metadata": {
      "needs_background": "light"
     },
     "output_type": "display_data"
    }
   ],
   "source": [
    "dqy = np.zeros(N_particles)\n",
    "jy = np.zeros(N_particles)\n",
    "for ii in range(N_particles):\n",
    "    dqy[ii] = qy[ii]-qy[0]\n",
    "    jy[ii] = (2*tracker_x.record_last_track.y[ii][0]*tracker_x.record_last_track.y[ii][0])/(bety_at_ip3)\n",
    "plt.plot(jy,dqy,'-o');\n",
    "#plt.ylim(-0.002,0.005)\n",
    "#print(j[0],dq[0],j[8],dq[8])\n",
    "\n",
    "\n",
    "slope, intercept, r_value, p_value, std_err = linregress([jy[0],jy[2]],[dqy[0],dqy[2]])\n",
    "print('m = ',slope,'q = ',intercept)"
   ]
  },
  {
   "cell_type": "code",
   "execution_count": null,
   "id": "7292ecaa-ef68-4dfb-96fd-162eb789157a",
   "metadata": {},
   "outputs": [],
   "source": [
    "dqx_1 = np.zeros(N_particles)\n",
    "jx = np.zeros(N_particles)\n",
    "dqx_2 = np.zeros(N_particles)\n",
    "jy = np.zeros(N_particles)\n",
    "for ii in range(N_particles):\n",
    "    dqx_1[ii] = qx[ii]-qx[0]\n",
    "    dqx_2[ii] = qx[ii]-qx[0]\n",
    "    jx[ii] = (2*tracker_x.record_last_track.x[ii][0]*tracker_x.record_last_track.x[ii][0])/(betx_at_ip3)\n",
    "    jy[ii] = (2*tracker_x.record_last_track.y[ii][0]*tracker_x.record_last_track.y[ii][0])/(bety_at_ip3) \n",
    "plt.plot(jy,dqx_2,'-o');\n",
    "#plt.ylim(-0.002,0.005)\n",
    "#print(j[0],dq[0],j[8],dq[8])\n",
    "\n",
    "slope, intercept, r_value, p_value, std_err = linregress([jy[0],jy[2]],[dqx[0],dqx[2]])\n",
    "print('m = ',slope,'q = ',intercept)"
   ]
  },
  {
   "cell_type": "code",
   "execution_count": null,
   "id": "f938fe0e-993e-4b1e-82ac-a6fc3c679d2c",
   "metadata": {},
   "outputs": [],
   "source": [
    "dqx = np.zeros(N_particles)\n",
    "jx = np.zeros(N_particles)\n",
    "for ii in range(N_particles):\n",
    "    dqx[ii] = qx[ii]-qx[0]\n",
    "    jx[ii] = (2*x0[ii]*x0[ii])/(betx_at_ip3)\n",
    "plt.plot(jx,dqx,'-o');\n",
    "#plt.ylim(-0.002,0.005)\n",
    "#print(j[0],dq[0],j[8],dq[8])\n",
    "\n",
    "\n",
    "slope, intercept, r_value, p_value, std_err = linregress([jx[0],jx[2]],[dqx[0],dqx[2]])\n",
    "print('m = ',slope,'q = ',intercept)\n"
   ]
  },
  {
   "cell_type": "code",
   "execution_count": null,
   "id": "88bb3e0d-09d6-4741-8315-07503afcacaa",
   "metadata": {},
   "outputs": [],
   "source": [
    "dqy = np.zeros(N_particles)\n",
    "jy = np.zeros(N_particles)\n",
    "for ii in range(N_particles):\n",
    "    dqy[ii] = qy[ii]-qy[0]\n",
    "    jy[ii] = (2*y0[ii]*y0[ii])/(bety_at_ip3)\n",
    "plt.plot(jy,dqy,'-o');\n",
    "#plt.ylim(-0.002,0.005)\n",
    "#print(j[0],dq[0],j[8],dq[8])\n",
    "\n",
    "\n",
    "slope, intercept, r_value, p_value, std_err = linregress([jy[0],jy[2]],[dqy[0],dqy[2]])\n",
    "print('m = ',slope,'q = ',intercept)\n"
   ]
  },
  {
   "cell_type": "code",
   "execution_count": null,
   "id": "9b5b6538-739a-4d92-8b8f-63a8a8e47a7c",
   "metadata": {},
   "outputs": [],
   "source": [
    "dqx_1 = np.zeros(N_particles)\n",
    "jx = np.zeros(N_particles)\n",
    "dqx_2 = np.zeros(N_particles)\n",
    "jy = np.zeros(N_particles)\n",
    "for ii in range(N_particles):\n",
    "    dqx_1[ii] = qx[ii]-qx[0]\n",
    "    dqx_2[ii] = qx[ii]-qx[0]\n",
    "    jx[ii] = (2*x0[ii]*x0[ii])/(betx_at_ip3)\n",
    "    jy[ii] = (2*y0[ii]*y0[ii])/(bety_at_ip3) \n",
    "plt.plot(jy,dqx_2,'-o');\n",
    "#plt.ylim(-0.002,0.005)\n",
    "#print(j[0],dq[0],j[8],dq[8])\n",
    "\n",
    "slope, intercept, r_value, p_value, std_err = linregress([jy[0],jy[2]],[dqx[0],dqx[2]])\n",
    "print('m = ',slope,'q = ',intercept)"
   ]
  },
  {
   "cell_type": "code",
   "execution_count": 7,
   "id": "a2d518c9-00ce-4386-be19-254567a3a4b3",
   "metadata": {},
   "outputs": [
    {
     "name": "stdout",
     "output_type": "stream",
     "text": [
      "[0. 0. 0. 0. 0. 0. 0. 0. 0. 0.]\n",
      "[0.31794199172287396, 0.31793083446686354, 0.31791481539772803, 0.31789392871520683, 0.31786816941110385, 0.3178375375236618, 0.3178020173845922, 0.31776161981082673, 0.31771634036355473, 0.31766618470268393]\n"
     ]
    }
   ],
   "source": [
    "print(jy)\n",
    "print(qy)\n",
    "\n"
   ]
  },
  {
   "cell_type": "code",
   "execution_count": 8,
   "id": "bcd43183-b478-47b0-9b52-6fbf4213faaf",
   "metadata": {},
   "outputs": [
    {
     "name": "stdout",
     "output_type": "stream",
     "text": [
      "ERROR! Session/line number was not unique in database. History logging moved to new session 101\n"
     ]
    },
    {
     "data": {
      "text/plain": [
       "7.080036770955291e-05"
      ]
     },
     "execution_count": 8,
     "metadata": {},
     "output_type": "execute_result"
    }
   ],
   "source": [
    "particles_x.x[0]"
   ]
  },
  {
   "cell_type": "code",
   "execution_count": 9,
   "id": "94de6fbb-1046-4f3d-b0b5-ff038906979d",
   "metadata": {},
   "outputs": [
    {
     "name": "stdout",
     "output_type": "stream",
     "text": [
      "[0.00022103] [0.00029634]\n"
     ]
    }
   ],
   "source": [
    "print(sigma_x,sigma_y)\n"
   ]
  },
  {
   "cell_type": "code",
   "execution_count": 10,
   "id": "f4ef33c8-2990-4a04-8108-0fcd11b16275",
   "metadata": {},
   "outputs": [
    {
     "name": "stdout",
     "output_type": "stream",
     "text": [
      "Particle 1 has tune =  0.3133133133133133\n",
      "Particle 2 has tune =  0.3133133133133133\n",
      "Particle 3 has tune =  0.3133133133133133\n",
      "Particle 4 has tune =  0.3133133133133133\n",
      "Particle 5 has tune =  0.3133133133133133\n",
      "Particle 6 has tune =  0.3133133133133133\n",
      "Particle 7 has tune =  0.3133133133133133\n",
      "Particle 8 has tune =  0.3133133133133133\n",
      "Particle 9 has tune =  0.3133133133133133\n",
      "Particle 10 has tune =  0.3133133133133133\n"
     ]
    },
    {
     "data": {
      "image/png": "[encoded data removed]",
      "text/plain": [
       "<Figure size 432x288 with 1 Axes>"
      ]
     },
     "metadata": {
      "needs_background": "light"
     },
     "output_type": "display_data"
    }
   ],
   "source": [
    "#print(np.max(qx_fft[2]))\n",
    "xs = []\n",
    "tunes_fft = []\n",
    "for ii in range(N_particles):\n",
    "    xs.append(np.linspace(0,1,N))\n",
    "    plt.plot(xs[ii], qx_fft[ii], 'b')\n",
    "    plt.xlim(0.310,0.315)\n",
    "    maxqx = np.max(qx_fft[ii])\n",
    "    for jj in range(N):\n",
    "        if((np.isclose(qx_fft[ii][jj],maxqx))and(xs[ii][jj]<0.5)):\n",
    "            tunes_fft.append(xs[ii][jj])\n",
    "            print('Particle',ii+1,'has tune = ',xs[ii][jj])\n",
    "            "
   ]
  },
  {
   "cell_type": "code",
   "execution_count": 11,
   "id": "e6e776ce-a2c9-4a3e-b0aa-6e9caed27a02",
   "metadata": {},
   "outputs": [
    {
     "data": {
      "text/plain": [
       "Text(0, 0.5, 'Tunes')"
      ]
     },
     "execution_count": 11,
     "metadata": {},
     "output_type": "execute_result"
    },
    {
     "data": {
      "image/png": "[encoded data removed]",
      "text/plain": [
       "<Figure size 432x288 with 1 Axes>"
      ]
     },
     "metadata": {
      "needs_background": "light"
     },
     "output_type": "display_data"
    }
   ],
   "source": [
    "plt.plot(qx,'o');\n",
    "plt.plot(tunes_fft,'o')\n",
    "plt.grid()\n",
    "plt.xlabel('Particle')\n",
    "plt.ylabel('Tunes')"
   ]
  },
  {
   "cell_type": "code",
   "execution_count": null,
   "id": "f16279ea-5386-42d0-8198-c06350503f32",
   "metadata": {},
   "outputs": [],
   "source": []
  },
  {
   "cell_type": "code",
   "execution_count": null,
   "id": "19784af1-89a0-4216-99ac-e815776d085a",
   "metadata": {},
   "outputs": [],
   "source": []
  },
  {
   "cell_type": "code",
   "execution_count": null,
   "id": "fd67be4a-f647-4c5e-a617-0d490c715461",
   "metadata": {},
   "outputs": [],
   "source": []
  }
 ],
 "metadata": {
  "kernelspec": {
   "display_name": "Python 3 (ipykernel)",
   "language": "python",
   "name": "python3"
  },
  "language_info": {
   "codemirror_mode": {
    "name": "ipython",
    "version": 3
   },
   "file_extension": ".py",
   "mimetype": "text/x-python",
   "name": "python",
   "nbconvert_exporter": "python",
   "pygments_lexer": "ipython3",
   "version": "3.9.7"
  }
 },
 "nbformat": 4,
 "nbformat_minor": 5
}
