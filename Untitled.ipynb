{
 "cells": [
  {
   "cell_type": "code",
   "execution_count": 6,
   "id": "d9a869ca-0ecc-4351-b0e6-a9b44e63f26f",
   "metadata": {},
   "outputs": [
    {
     "name": "stdout",
     "output_type": "stream",
     "text": [
      "\n",
      "\n",
      "Before changing Octupole Current, i_mo = -235.0\n",
      "\n",
      "\n",
      "generating ./4847b581f06c480aaa2db484d80640e9.c\n",
      "the current directory is '/afs/cern.ch/user/a/afornara/simulations/git_dir'\n",
      "running build_ext\n",
      "building '4847b581f06c480aaa2db484d80640e9' extension\n",
      "gcc -pthread -B /home/afornara/py/2022_17_03/miniconda/compiler_compat -Wno-unused-result -Wsign-compare -DNDEBUG -O2 -Wall -fPIC -O2 -isystem /home/afornara/py/2022_17_03/miniconda/include -I/home/afornara/py/2022_17_03/miniconda/include -fPIC -O2 -isystem /home/afornara/py/2022_17_03/miniconda/include -fPIC -I/home/afornara/py/2022_17_03/miniconda/include/python3.9 -c 4847b581f06c480aaa2db484d80640e9.c -o ./4847b581f06c480aaa2db484d80640e9.o -std=c99 -O3 -Wno-unused-function\n",
      "gcc -pthread -B /home/afornara/py/2022_17_03/miniconda/compiler_compat -shared -Wl,-rpath,/home/afornara/py/2022_17_03/miniconda/lib -Wl,-rpath-link,/home/afornara/py/2022_17_03/miniconda/lib -L/home/afornara/py/2022_17_03/miniconda/lib -L/home/afornara/py/2022_17_03/miniconda/lib -Wl,-rpath,/home/afornara/py/2022_17_03/miniconda/lib -Wl,-rpath-link,/home/afornara/py/2022_17_03/miniconda/lib -L/home/afornara/py/2022_17_03/miniconda/lib ./4847b581f06c480aaa2db484d80640e9.o -o ./4847b581f06c480aaa2db484d80640e9.cpython-39-x86_64-linux-gnu.so -std=c99 -O3\n",
      "\n",
      "\n",
      "ref.x = [-7.76684697e-26], ref.y = [-4.67354801e-30], ref.zeta = [1.44763153e-07] \n",
      "\n",
      "\n",
      "\n",
      "\n",
      "After changing Octupole Current, i_mo = -350\n",
      "\n",
      "\n",
      "generating ./84712097f8cd45d7ad25faf4649120f6.c\n",
      "the current directory is '/afs/cern.ch/user/a/afornara/simulations/git_dir'\n",
      "running build_ext\n",
      "building '84712097f8cd45d7ad25faf4649120f6' extension\n",
      "gcc -pthread -B /home/afornara/py/2022_17_03/miniconda/compiler_compat -Wno-unused-result -Wsign-compare -DNDEBUG -O2 -Wall -fPIC -O2 -isystem /home/afornara/py/2022_17_03/miniconda/include -I/home/afornara/py/2022_17_03/miniconda/include -fPIC -O2 -isystem /home/afornara/py/2022_17_03/miniconda/include -fPIC -I/home/afornara/py/2022_17_03/miniconda/include/python3.9 -c 84712097f8cd45d7ad25faf4649120f6.c -o ./84712097f8cd45d7ad25faf4649120f6.o -std=c99 -O3 -Wno-unused-function\n",
      "gcc -pthread -B /home/afornara/py/2022_17_03/miniconda/compiler_compat -shared -Wl,-rpath,/home/afornara/py/2022_17_03/miniconda/lib -Wl,-rpath-link,/home/afornara/py/2022_17_03/miniconda/lib -L/home/afornara/py/2022_17_03/miniconda/lib -L/home/afornara/py/2022_17_03/miniconda/lib -Wl,-rpath,/home/afornara/py/2022_17_03/miniconda/lib -Wl,-rpath-link,/home/afornara/py/2022_17_03/miniconda/lib -L/home/afornara/py/2022_17_03/miniconda/lib ./84712097f8cd45d7ad25faf4649120f6.o -o ./84712097f8cd45d7ad25faf4649120f6.cpython-39-x86_64-linux-gnu.so -std=c99 -O3\n"
     ]
    },
    {
     "name": "stderr",
     "output_type": "stream",
     "text": [
      "Need second attempt on closed orbit search\n"
     ]
    },
    {
     "name": "stdout",
     "output_type": "stream",
     "text": [
      "\n",
      "\n",
      "ref.x = [2.00829648e-11], ref.y = [4.06923007e-18], ref.zeta = [13329.44159996] \n",
      "\n",
      "\n"
     ]
    }
   ],
   "source": [
    "import xobjects as xo\n",
    "import xtrack as xt\n",
    "import xpart as xp\n",
    "import json\n",
    "from cpymad.madx import Madx\n",
    "import NAFFlib\n",
    "from math import modf\n",
    "\n",
    "p0c = 7000e9\n",
    "i_mo = -350\n",
    "ctx_cpu = xo.ContextCpu()\n",
    "\n",
    "if False:\n",
    "    mad = Madx()\n",
    "    mad.option(echo=False)\n",
    "    mad.call('lhcandrea5.madx')\n",
    "    mad.use(sequence=\"lhcb1\")\n",
    "    line = xt.Line.from_madx_sequence(mad.sequence['lhcb1'],\n",
    "    deferred_expressions=True)\n",
    "    with open('hl_line.json', 'w') as fid:\n",
    "        json.dump(line.to_dict(), fid, cls=xo.JEncoder)\n",
    "        \n",
    "with open('hl_line.json', 'r') as fid:\n",
    "        loaded_dct = json.load(fid)\n",
    "line = xt.Line.from_dict(loaded_dct)\n",
    "    \n",
    "particle_0 = xp.Particles(mass0=xp.PROTON_MASS_EV, q0=1, p0c=p0c, x=1e-3, y=1e-3)\n",
    "\n",
    "print(f\"\\n\\nBefore changing Octupole Current, i_mo = {line.vars['i_mo']._get_value()}\\n\\n\")\n",
    "tracker_normal = xt.Tracker(_context=ctx_cpu, line=line)\n",
    "ref = tracker_normal.find_closed_orbit(particle_0)\n",
    "print(f'\\n\\nref.x = {ref.x}, ref.y = {ref.y}, ref.zeta = {ref.zeta} \\n\\n')\n",
    "\n",
    "\n",
    "line.vars['i_mo'] = i_mo\n",
    "print(f\"\\n\\nAfter changing Octupole Current, i_mo = {line.vars['i_mo']._get_value()}\\n\\n\")\n",
    "tracker_normal = xt.Tracker(_context=ctx_cpu, line=line)\n",
    "ref = tracker_normal.find_closed_orbit(particle_0)\n",
    "print(f'\\n\\nref.x = {ref.x}, ref.y = {ref.y}, ref.zeta = {ref.zeta} \\n\\n')\n"
   ]
  },
  {
   "cell_type": "code",
   "execution_count": null,
   "id": "83b9244d-4ba4-4faa-b79a-79f3c1bbc5f1",
   "metadata": {},
   "outputs": [],
   "source": [
    "[2.00829648e-11] [4.06923007e-18] [13329.44159996]"
   ]
  }
 ],
 "metadata": {
  "kernelspec": {
   "display_name": "Python 3 (ipykernel)",
   "language": "python",
   "name": "python3"
  },
  "language_info": {
   "codemirror_mode": {
    "name": "ipython",
    "version": 3
   },
   "file_extension": ".py",
   "mimetype": "text/x-python",
   "name": "python",
   "nbconvert_exporter": "python",
   "pygments_lexer": "ipython3",
   "version": "3.9.7"
  }
 },
 "nbformat": 4,
 "nbformat_minor": 5
}
