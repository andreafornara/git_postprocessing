{
 "cells": [
  {
   "cell_type": "code",
   "execution_count": 1,
   "id": "ffaecf4f-f24a-4e96-9030-b77dddd6d67e",
   "metadata": {},
   "outputs": [],
   "source": [
    "import numpy as np\n",
    "import xobjects as xo\n",
    "import xtrack as xt\n",
    "import xpart as xp\n",
    "import json\n",
    "import pandas as pd\n",
    "from cpymad.madx import Madx\n",
    "import NAFFlib\n",
    "from math import modf\n",
    "from matplotlib import pyplot as plt\n",
    "from scipy.stats import linregress\n",
    "import math"
   ]
  },
  {
   "cell_type": "code",
   "execution_count": 164,
   "id": "00eb7503-2644-4aa7-bbbe-d923ee0e00ed",
   "metadata": {},
   "outputs": [
    {
     "name": "stdout",
     "output_type": "stream",
     "text": [
      "\n",
      "\n",
      "Changing Octupole Current, i_mo = 0\n",
      "\n",
      "\n",
      "generating ./af0ff1c881b0474d9a7ec02c41552ad3.c\n",
      "the current directory is '/afs/cern.ch/user/a/afornara/simulations/sim_stud/git_postprocessing'\n",
      "running build_ext\n",
      "building 'af0ff1c881b0474d9a7ec02c41552ad3' extension\n",
      "gcc -pthread -B /home/afornara/py/2022_03_18/miniconda/compiler_compat -Wno-unused-result -Wsign-compare -DNDEBUG -O2 -Wall -fPIC -O2 -isystem /home/afornara/py/2022_03_18/miniconda/include -I/home/afornara/py/2022_03_18/miniconda/include -fPIC -O2 -isystem /home/afornara/py/2022_03_18/miniconda/include -fPIC -I/home/afornara/py/2022_03_18/miniconda/include/python3.9 -c af0ff1c881b0474d9a7ec02c41552ad3.c -o ./af0ff1c881b0474d9a7ec02c41552ad3.o -std=c99 -O3 -Wno-unused-function\n",
      "gcc -pthread -B /home/afornara/py/2022_03_18/miniconda/compiler_compat -shared -Wl,-rpath,/home/afornara/py/2022_03_18/miniconda/lib -Wl,-rpath-link,/home/afornara/py/2022_03_18/miniconda/lib -L/home/afornara/py/2022_03_18/miniconda/lib -L/home/afornara/py/2022_03_18/miniconda/lib -Wl,-rpath,/home/afornara/py/2022_03_18/miniconda/lib -Wl,-rpath-link,/home/afornara/py/2022_03_18/miniconda/lib -L/home/afornara/py/2022_03_18/miniconda/lib ./af0ff1c881b0474d9a7ec02c41552ad3.o -o ./af0ff1c881b0474d9a7ec02c41552ad3.cpython-39-x86_64-linux-gnu.so -std=c99 -O3\n",
      "\n",
      "\n",
      "ref.x = [0.], ref.y = [0.], ref.zeta = [0.] \n",
      "\n",
      "\n",
      "\n",
      "\n",
      "Beta values at ip3, betx = 121.56359692866857, bety = 218.58377620084082\n",
      "\n",
      "\n",
      "\n",
      "\n",
      "Beta values at ip5, betx = 0.14999621704048935, bety = 0.14999999818005813\n",
      "\n",
      "\n",
      "\n",
      "\n",
      "Sigma values, sigma_x = [0.00022109], sigma_y = [0.00029647]\n",
      "\n",
      "\n",
      "[4.42188324e-05 8.84377159e-05 1.32656599e-04 1.76875483e-04\n",
      " 2.21094366e-04 2.65313250e-04 3.09532133e-04 3.53751017e-04\n",
      " 3.97969900e-04 4.42188784e-04 4.86407667e-04]\n",
      "Iteration number  0 of 23629\n",
      "Iteration number  5000 of 23629\n",
      "Iteration number  10000 of 23629\n",
      "Iteration number  15000 of 23629\n",
      "Iteration number  20000 of 23629\n"
     ]
    }
   ],
   "source": [
    "i_mo = 0\n",
    "p0c = 7000e9\n",
    "normal_emitt_x = 3e-6 #m*rad\n",
    "normal_emitt_y = 3e-6 #m*rad\n",
    "N_particles = 11 \n",
    "N=10000\n",
    "n_turns= 1\n",
    "\n",
    "\n",
    "\n",
    "ctx_cpu = xo.ContextCpu()\n",
    "with open('hl_line.json', 'r') as fid:\n",
    "        loaded_dct = json.load(fid)\n",
    "line = xt.Line.from_dict(loaded_dct)\n",
    "particle_0 = xp.Particles(mass0=xp.PROTON_MASS_EV, q0=1, p0c=p0c, x=1e-3, y=1e-3)\n",
    "\n",
    "line.vars['i_mo'] = i_mo\n",
    "print(f\"\\n\\nChanging Octupole Current, i_mo = {line.vars['i_mo']._get_value()}\\n\\n\")\n",
    "tracker_normal = xt.Tracker(_context=ctx_cpu, line=line)\n",
    "ref = tracker_normal.find_closed_orbit(particle_ref = particle_0) \n",
    "print(f'\\n\\nref.x = {ref.x}, ref.y = {ref.y}, ref.zeta = {ref.zeta} \\n\\n')\n",
    "\n",
    "\n",
    "\n",
    "tw_normal = tracker_normal.twiss(ref)\n",
    "betx_at_ip3 = tw_normal['betx'][0]\n",
    "bety_at_ip3 = tw_normal['bety'][0]\n",
    "\n",
    "betx_at_ip5 = tw_normal['betx'][5733]\n",
    "bety_at_ip5 = tw_normal['bety'][5733]\n",
    "\n",
    "sigma_x = np.sqrt(betx_at_ip3*normal_emitt_x/(particle_0.gamma0*particle_0.beta0))\n",
    "sigma_y = np.sqrt(bety_at_ip3*normal_emitt_y/(particle_0.gamma0*particle_0.beta0))\n",
    "\n",
    "print(f'\\n\\nBeta values at ip3, betx = {betx_at_ip3}, bety = {bety_at_ip3}\\n\\n')\n",
    "print(f'\\n\\nBeta values at ip5, betx = {betx_at_ip5}, bety = {bety_at_ip5}\\n\\n')\n",
    "print(f'\\n\\nSigma values, sigma_x = {sigma_x}, sigma_y = {sigma_y}\\n\\n')\n",
    "\n",
    "#----closed orbit particle----------\n",
    "p0_normal = ref \n",
    "#----particles to track----------\n",
    "#particles_x = xp.build_particles(_context=ctx_cpu,particle_ref=p0_normal,\n",
    "#                                     x=[mysigma*sigma_x[0] for mysigma in np.linspace(0.2,2.2,N_particles)])\n",
    "\n",
    "particles_y = xp.build_particles(_context=ctx_cpu,particle_ref=p0_normal,\n",
    "                                     y=[mysigma*sigma_y[0] for mysigma in np.linspace(0.2,2.2,N_particles)])\n",
    "\n",
    "\n",
    "\n",
    "\n",
    "particles_x = xp.build_particles(_context=ctx_cpu,\n",
    "                               tracker=tracker_normal, particle_ref=p0_normal,\n",
    "                               zeta=0, delta=1e-10,\n",
    "                               x_norm=[0.2,0.4,0.6,0.8,1,1.2,1.4,1.6,1.8,2,2.2], # in sigmas\n",
    "                               px_norm=[0,0,0,0,0,0,0,0,0,0,0], # in sigmas\n",
    "                               y_norm=[0,0,0,0,0,0,0,0,0,0,0], # in sigmas\n",
    "                               py_norm=[0,0,0,0,0,0,0,0,0,0,0], # in sigmas\n",
    "                               scale_with_transverse_norm_emitt=(3e-6, 3e-6)\n",
    "                               )\n",
    "#assert on the phase, cosphi must be zero\n",
    "#assert()\n",
    "print(particles_x.x)\n",
    "x0 = particles_x.x\n",
    "\n",
    "\n",
    "ii = 0\n",
    "sext_name = []\n",
    "sext_str = []\n",
    "sext_len = []\n",
    "for elem in line.element_dict :\n",
    "    if(ii%5000 == 0):\n",
    "        print('Iteration number ', ii, 'of', len(line.element_dict))\n",
    "    if isinstance(line.element_dict[elem],xt.beam_elements.elements.Multipole): \n",
    "        if((line.element_dict[elem].order==2) and ( (ii!=471) and (ii!=523) and (ii!=569) and (ii!=619) ) and (False) ):\n",
    "        #if((line.element_dict[elem].order==2) and ( (ii!=425) and (ii != 373) and (ii!=471) and (ii!=523) ) and (True) ):\n",
    "            line.element_dict[elem].knl[2]=0\n",
    "        #if((line.element_dict[elem].order==2) and ( (ii==425) or (ii == 373) or (ii==471) or (ii==523) or (ii==569) or (ii==619) ) and (True) ):\n",
    "            #print(ii,line.element_dict[elem].knl[2])\n",
    "        if(line.element_dict[elem].order==2):\n",
    "            sext_name.append(elem)\n",
    "            sext_str.append(line.element_dict[elem].knl[2])\n",
    "            sext_len.append(line.element_dict[elem].length)\n",
    "            #print(elem,line.element_dict[elem].knl[2],ii)\n",
    "    ii+=1\n",
    "\n",
    "sext_df = pd.DataFrame(list(zip(sext_name, sext_str, sext_len)), columns = ['Sextupole Name', 'Sextupole Strength', 'Sextupole Length'])\n",
    "tw_df = pd.DataFrame({'name':list(tw_normal['name']),'x':list(tw_normal['x']),'px':list(tw_normal['px']),'y':list(tw_normal['y']),'py':list(tw_normal['py']),'zeta':list(tw_normal['zeta']),'delta':list(tw_normal['delta']),'betx':list(tw_normal['betx']),'bety':list(tw_normal['bety']),'mux':list(tw_normal['mux']),'muy':list(tw_normal['muy'])})\n",
    "\n",
    "\n",
    "\n",
    "\n",
    "#-----tracking x direction------------------\n",
    "\n",
    "\n",
    "my_result_x = {}\n",
    "for ii in ['x','px','y','py','zeta','delta']:\n",
    "    my_result_x[ii] = []\n",
    "\n",
    "\n",
    "for ii in range(N):\n",
    "    tracker_normal.track(particles_x, num_turns=n_turns,turn_by_turn_monitor=False)\n",
    "    for jj in ['x','px','y','py','zeta','delta']:\n",
    "        my_result_x[jj].append(getattr(particles_x,jj).copy())       \n",
    "        \n",
    "        \n",
    "for jj in ['x','px','y','py','zeta','delta']:\n",
    "        my_result_x[jj] = np.array(my_result_x[jj])\n",
    "\n",
    "\n",
    "#-----tracking y direction------------------\n",
    "\n",
    "my_result_y = {}\n",
    "for ii in ['x','px','y','py','zeta','delta']:\n",
    "    my_result_y[ii] = []\n",
    "\n",
    "\n",
    "for ii in range(N):\n",
    "    tracker_normal.track(particles_y, num_turns=n_turns,turn_by_turn_monitor=False)\n",
    "    for jj in ['x','px','y','py','zeta','delta']:\n",
    "        my_result_y[jj].append(getattr(particles_y,jj).copy())       \n",
    "        \n",
    "        \n",
    "for jj in ['x','px','y','py','zeta','delta']:\n",
    "        my_result_y[jj] = np.array(my_result_y[jj])\n",
    "\n",
    "qx_part_x = []\n",
    "qy_part_x = []\n",
    "qx_part_y = []\n",
    "qy_part_y = []\n",
    "\n",
    "for ii in range(N_particles):\n",
    "    \n",
    "    qx_part_x.append(NAFFlib.get_tune(my_result_x['x'][:,ii]))\n",
    "    qy_part_x.append(NAFFlib.get_tune(my_result_x['y'][:,ii]))\n",
    "    qx_part_y.append(NAFFlib.get_tune(my_result_y['x'][:,ii]))\n",
    "    qy_part_y.append(NAFFlib.get_tune(my_result_y['y'][:,ii]))\n",
    "\n",
    "#x0 = np.array([mysigma*sigma_x[0] for mysigma in np.linspace(0.2,2.2,N_particles)]) \n",
    "y0 = np.array([mysigma*sigma_y[0] for mysigma in np.linspace(0.2,2.2,N_particles)]) "
   ]
  },
  {
   "cell_type": "code",
   "execution_count": 155,
   "id": "e6f2a43e-aa34-44c5-ae20-5135eca634cd",
   "metadata": {},
   "outputs": [
    {
     "data": {
      "text/plain": [
       "[<matplotlib.lines.Line2D at 0x7f7a11b02ac0>]"
      ]
     },
     "execution_count": 155,
     "metadata": {},
     "output_type": "execute_result"
    },
    {
     "data": {
      "image/png": "[encoded data removed]",
      "text/plain": [
       "<Figure size 432x288 with 1 Axes>"
      ]
     },
     "metadata": {
      "needs_background": "light"
     },
     "output_type": "display_data"
    }
   ],
   "source": [
    "plt.plot(my_result_x['x'][0])"
   ]
  },
  {
   "cell_type": "code",
   "execution_count": 156,
   "id": "c33acde1-0a92-441e-84ee-a624b0c52da1",
   "metadata": {},
   "outputs": [
    {
     "data": {
      "text/plain": [
       "[0.31000039436551624,\n",
       " 0.3100015752290597,\n",
       " 0.3100035421274294,\n",
       " 0.310006294118688,\n",
       " 0.3100098303008915,\n",
       " 0.3100141526628477,\n",
       " 0.3100192508103266,\n",
       " 0.3100251318150061,\n",
       " 0.3100318002777859,\n",
       " 0.3100392452576357,\n",
       " 0.31004746983471365]"
      ]
     },
     "execution_count": 156,
     "metadata": {},
     "output_type": "execute_result"
    }
   ],
   "source": [
    "tw_normal['alfx']\n",
    "\n",
    "\n",
    "\n",
    "particles_x.x\n",
    "qx_part_x"
   ]
  },
  {
   "cell_type": "code",
   "execution_count": 160,
   "id": "6fe83606-9bb1-47c1-b61b-23f9ea986812",
   "metadata": {},
   "outputs": [
    {
     "data": {
      "text/plain": [
       "array([-1.80363439e-07, -2.09478344e-07, -2.38297314e-07, -2.66810702e-07,\n",
       "       -2.95008869e-07, -3.22882186e-07, -3.50421032e-07, -3.77615793e-07,\n",
       "       -4.04456865e-07, -4.30934655e-07, -4.57039574e-07])"
      ]
     },
     "execution_count": 160,
     "metadata": {},
     "output_type": "execute_result"
    }
   ],
   "source": [
    "my_result_x['px'][0]"
   ]
  },
  {
   "cell_type": "code",
   "execution_count": 165,
   "id": "93d04a05-f206-4d76-8016-8c5b8a9919d2",
   "metadata": {},
   "outputs": [
    {
     "name": "stdout",
     "output_type": "stream",
     "text": [
      "[8.34798663e-07 1.66194738e-06 2.44335306e-06 3.08197180e-06\n",
      " 3.40184126e-06 3.15155754e-06 2.05451660e-06 7.09297177e-08\n",
      " 3.12075523e-06 6.49870283e-06 9.02672389e-06]\n",
      "m =  463941.9149564072 q =  0.3099966661732204\n"
     ]
    },
    {
     "data": {
      "image/png": "[encoded data removed]",
      "text/plain": [
       "<Figure size 432x288 with 1 Axes>"
      ]
     },
     "metadata": {
      "needs_background": "light"
     },
     "output_type": "display_data"
    }
   ],
   "source": [
    "jx = np.zeros(N_particles)\n",
    "x_prime_control = np.zeros(N_particles)\n",
    "\n",
    "for ii in range(N_particles):\n",
    "    jx[ii] = x0[ii]*x0[ii]/(2*betx_at_ip3)\n",
    "    x_prime_control[ii] = 2.29567535*np.sqrt(2*jx[ii]/betx_at_ip3)\n",
    "\n",
    "\n",
    "print(x_prime_control)\n",
    "plt.plot(jx,qx_part_x,'-o');\n",
    "plt.grid()\n",
    "plt.ylabel('Tunes')\n",
    "plt.xlabel('Jx [m]')\n",
    "\n",
    "\n",
    "slope, intercept, r_value, p_value, std_err = linregress([jx[0],jx[6]],[qx_part_x[0],qx_part_x[6]])\n",
    "print('m = ',slope,'q = ',intercept)"
   ]
  },
  {
   "cell_type": "code",
   "execution_count": 71,
   "id": "4759a376-bae3-4834-ac50-ab71803a954a",
   "metadata": {},
   "outputs": [
    {
     "name": "stdout",
     "output_type": "stream",
     "text": [
      "m =  1179.143840178406 q =  0.3200000027848029\n"
     ]
    },
    {
     "data": {
      "image/png": "[encoded data removed]",
      "text/plain": [
       "<Figure size 432x288 with 1 Axes>"
      ]
     },
     "metadata": {
      "needs_background": "light"
     },
     "output_type": "display_data"
    }
   ],
   "source": [
    "jy = np.zeros(N_particles)\n",
    "\n",
    "\n",
    "for ii in range(N_particles):\n",
    "    jy[ii] = y0[ii]*y0[ii]/(2*bety_at_ip3)\n",
    "\n",
    "plt.plot(jy,qy_part_y,'-o');\n",
    "plt.grid()\n",
    "plt.ylabel('Tune')\n",
    "plt.xlabel('Jy [m]')\n",
    "\n",
    "slope, intercept, r_value, p_value, std_err = linregress([jy[0],jy[10]],[qy_part_y[0],qy_part_y[10]])\n",
    "print('m = ',slope,'q = ',intercept)"
   ]
  },
  {
   "cell_type": "code",
   "execution_count": 114,
   "id": "ac0655d9-2188-4052-8f61-dc9b2fa57247",
   "metadata": {},
   "outputs": [
    {
     "name": "stdout",
     "output_type": "stream",
     "text": [
      "alpha_xx =  76833.60210734757 q =  0.3100000000174902\n"
     ]
    },
    {
     "data": {
      "image/png": "[encoded data removed]",
      "text/plain": [
       "<Figure size 432x288 with 1 Axes>"
      ]
     },
     "metadata": {
      "needs_background": "light"
     },
     "output_type": "display_data"
    }
   ],
   "source": [
    "jx = np.zeros(N_particles)\n",
    "\n",
    "\n",
    "for ii in range(N_particles):\n",
    "    jx[ii] = x0[ii]*x0[ii]/(2*betx_at_ip3)\n",
    "\n",
    "\n",
    "\n",
    "plt.plot(jx,qx_part_x,'-o');\n",
    "plt.grid()\n",
    "plt.ylabel('Tunes')\n",
    "plt.xlabel('Jx [m]')\n",
    "\n",
    "\n",
    "slope, intercept, r_value, p_value, std_err = linregress([jx[0],jx[10]],[qx_part_x[0],qx_part_x[10]])\n",
    "print('alpha_xx = ',slope/4,'q = ',intercept)"
   ]
  },
  {
   "cell_type": "code",
   "execution_count": 155,
   "id": "1daefbbc-1858-418f-b10a-9fd1d73e688c",
   "metadata": {},
   "outputs": [
    {
     "name": "stdout",
     "output_type": "stream",
     "text": [
      "m =  474.7806970849174 q =  0.32000000278319146\n"
     ]
    },
    {
     "data": {
      "image/png": "[encoded data removed]",
      "text/plain": [
       "<Figure size 432x288 with 1 Axes>"
      ]
     },
     "metadata": {
      "needs_background": "light"
     },
     "output_type": "display_data"
    }
   ],
   "source": [
    "jy = np.zeros(N_particles)\n",
    "\n",
    "\n",
    "for ii in range(N_particles):\n",
    "    jy[ii] = y0[ii]*y0[ii]/(2*bety_at_ip3)\n",
    "\n",
    "plt.plot(jy,qy_part_y,'-o');\n",
    "plt.grid()\n",
    "plt.ylabel('Tune')\n",
    "plt.xlabel('Jy [m]')\n",
    "\n",
    "slope, intercept, r_value, p_value, std_err = linregress([jy[0],jy[10]],[qy_part_y[0],qy_part_y[10]])\n",
    "print('m = ',slope/4,'q = ',intercept)"
   ]
  },
  {
   "cell_type": "code",
   "execution_count": 4,
   "id": "60ad408e-4164-45f4-aae2-cdfff41209e4",
   "metadata": {},
   "outputs": [
    {
     "name": "stdout",
     "output_type": "stream",
     "text": [
      "generating ./7834c613cf46400c8d203e6b579f687e.c\n",
      "the current directory is '/afs/cern.ch/user/a/afornara/simulations/git_dir'\n",
      "running build_ext\n",
      "building '7834c613cf46400c8d203e6b579f687e' extension\n",
      "gcc -pthread -B /home/afornara/py/2022_17_03/miniconda/compiler_compat -Wno-unused-result -Wsign-compare -DNDEBUG -O2 -Wall -fPIC -O2 -isystem /home/afornara/py/2022_17_03/miniconda/include -I/home/afornara/py/2022_17_03/miniconda/include -fPIC -O2 -isystem /home/afornara/py/2022_17_03/miniconda/include -fPIC -I/home/afornara/py/2022_17_03/miniconda/include/python3.9 -c 7834c613cf46400c8d203e6b579f687e.c -o ./7834c613cf46400c8d203e6b579f687e.o -std=c99 -O3 -Wno-unused-function\n",
      "gcc -pthread -B /home/afornara/py/2022_17_03/miniconda/compiler_compat -shared -Wl,-rpath,/home/afornara/py/2022_17_03/miniconda/lib -Wl,-rpath-link,/home/afornara/py/2022_17_03/miniconda/lib -L/home/afornara/py/2022_17_03/miniconda/lib -L/home/afornara/py/2022_17_03/miniconda/lib -Wl,-rpath,/home/afornara/py/2022_17_03/miniconda/lib -Wl,-rpath-link,/home/afornara/py/2022_17_03/miniconda/lib -L/home/afornara/py/2022_17_03/miniconda/lib ./7834c613cf46400c8d203e6b579f687e.o -o ./7834c613cf46400c8d203e6b579f687e.cpython-39-x86_64-linux-gnu.so -std=c99 -O3\n"
     ]
    }
   ],
   "source": [
    "tracker1 = xt.Tracker(_context=ctx_cpu, line=line)\n",
    "tw = tracker_normal.twiss(ref)"
   ]
  },
  {
   "cell_type": "code",
   "execution_count": 166,
   "id": "e3e4ac14-8623-4985-9967-7c00c4fff3e1",
   "metadata": {},
   "outputs": [
    {
     "data": {
      "text/html": [
       "<div>\n",
       "<style scoped>\n",
       "    .dataframe tbody tr th:only-of-type {\n",
       "        vertical-align: middle;\n",
       "    }\n",
       "\n",
       "    .dataframe tbody tr th {\n",
       "        vertical-align: top;\n",
       "    }\n",
       "\n",
       "    .dataframe thead th {\n",
       "        text-align: right;\n",
       "    }\n",
       "</style>\n",
       "<table border=\"1\" class=\"dataframe\">\n",
       "  <thead>\n",
       "    <tr style=\"text-align: right;\">\n",
       "      <th></th>\n",
       "      <th>name</th>\n",
       "      <th>x</th>\n",
       "      <th>px</th>\n",
       "      <th>y</th>\n",
       "      <th>py</th>\n",
       "      <th>zeta</th>\n",
       "      <th>delta</th>\n",
       "      <th>betx</th>\n",
       "      <th>bety</th>\n",
       "      <th>mux</th>\n",
       "      <th>muy</th>\n",
       "    </tr>\n",
       "  </thead>\n",
       "  <tbody>\n",
       "    <tr>\n",
       "      <th>0</th>\n",
       "      <td>lhcb1$start</td>\n",
       "      <td>0.0</td>\n",
       "      <td>0.0</td>\n",
       "      <td>0.0</td>\n",
       "      <td>0.0</td>\n",
       "      <td>0.0</td>\n",
       "      <td>0.0</td>\n",
       "      <td>121.563597</td>\n",
       "      <td>218.583776</td>\n",
       "      <td>0.000000</td>\n",
       "      <td>0.000000</td>\n",
       "    </tr>\n",
       "    <tr>\n",
       "      <th>1</th>\n",
       "      <td>ip3</td>\n",
       "      <td>0.0</td>\n",
       "      <td>0.0</td>\n",
       "      <td>0.0</td>\n",
       "      <td>0.0</td>\n",
       "      <td>0.0</td>\n",
       "      <td>0.0</td>\n",
       "      <td>121.563597</td>\n",
       "      <td>218.583776</td>\n",
       "      <td>0.000000</td>\n",
       "      <td>0.000000</td>\n",
       "    </tr>\n",
       "    <tr>\n",
       "      <th>2</th>\n",
       "      <td>drift_0</td>\n",
       "      <td>0.0</td>\n",
       "      <td>0.0</td>\n",
       "      <td>0.0</td>\n",
       "      <td>0.0</td>\n",
       "      <td>0.0</td>\n",
       "      <td>0.0</td>\n",
       "      <td>121.563597</td>\n",
       "      <td>218.583776</td>\n",
       "      <td>0.000000</td>\n",
       "      <td>0.000000</td>\n",
       "    </tr>\n",
       "    <tr>\n",
       "      <th>3</th>\n",
       "      <td>mcbwv.4r3.b1</td>\n",
       "      <td>0.0</td>\n",
       "      <td>0.0</td>\n",
       "      <td>0.0</td>\n",
       "      <td>0.0</td>\n",
       "      <td>0.0</td>\n",
       "      <td>0.0</td>\n",
       "      <td>47.818854</td>\n",
       "      <td>345.899049</td>\n",
       "      <td>0.044476</td>\n",
       "      <td>0.012184</td>\n",
       "    </tr>\n",
       "    <tr>\n",
       "      <th>4</th>\n",
       "      <td>drift_1</td>\n",
       "      <td>0.0</td>\n",
       "      <td>0.0</td>\n",
       "      <td>0.0</td>\n",
       "      <td>0.0</td>\n",
       "      <td>0.0</td>\n",
       "      <td>0.0</td>\n",
       "      <td>47.818854</td>\n",
       "      <td>345.899049</td>\n",
       "      <td>0.044476</td>\n",
       "      <td>0.012184</td>\n",
       "    </tr>\n",
       "    <tr>\n",
       "      <th>...</th>\n",
       "      <td>...</td>\n",
       "      <td>...</td>\n",
       "      <td>...</td>\n",
       "      <td>...</td>\n",
       "      <td>...</td>\n",
       "      <td>...</td>\n",
       "      <td>...</td>\n",
       "      <td>...</td>\n",
       "      <td>...</td>\n",
       "      <td>...</td>\n",
       "      <td>...</td>\n",
       "    </tr>\n",
       "    <tr>\n",
       "      <th>23624</th>\n",
       "      <td>bpmw.4l3.b1</td>\n",
       "      <td>0.0</td>\n",
       "      <td>0.0</td>\n",
       "      <td>0.0</td>\n",
       "      <td>0.0</td>\n",
       "      <td>0.0</td>\n",
       "      <td>0.0</td>\n",
       "      <td>250.598562</td>\n",
       "      <td>118.349578</td>\n",
       "      <td>62.289477</td>\n",
       "      <td>60.297718</td>\n",
       "    </tr>\n",
       "    <tr>\n",
       "      <th>23625</th>\n",
       "      <td>drift_11744</td>\n",
       "      <td>0.0</td>\n",
       "      <td>0.0</td>\n",
       "      <td>0.0</td>\n",
       "      <td>0.0</td>\n",
       "      <td>0.0</td>\n",
       "      <td>0.0</td>\n",
       "      <td>250.598562</td>\n",
       "      <td>118.349578</td>\n",
       "      <td>62.289477</td>\n",
       "      <td>60.297718</td>\n",
       "    </tr>\n",
       "    <tr>\n",
       "      <th>23626</th>\n",
       "      <td>mcbwh.4l3.b1</td>\n",
       "      <td>0.0</td>\n",
       "      <td>0.0</td>\n",
       "      <td>0.0</td>\n",
       "      <td>0.0</td>\n",
       "      <td>0.0</td>\n",
       "      <td>0.0</td>\n",
       "      <td>225.459573</td>\n",
       "      <td>132.514130</td>\n",
       "      <td>62.291985</td>\n",
       "      <td>60.302477</td>\n",
       "    </tr>\n",
       "    <tr>\n",
       "      <th>23627</th>\n",
       "      <td>drift_11745</td>\n",
       "      <td>0.0</td>\n",
       "      <td>0.0</td>\n",
       "      <td>0.0</td>\n",
       "      <td>0.0</td>\n",
       "      <td>0.0</td>\n",
       "      <td>0.0</td>\n",
       "      <td>225.459573</td>\n",
       "      <td>132.514130</td>\n",
       "      <td>62.291985</td>\n",
       "      <td>60.302477</td>\n",
       "    </tr>\n",
       "    <tr>\n",
       "      <th>23628</th>\n",
       "      <td>lhcb1$end</td>\n",
       "      <td>0.0</td>\n",
       "      <td>0.0</td>\n",
       "      <td>0.0</td>\n",
       "      <td>0.0</td>\n",
       "      <td>0.0</td>\n",
       "      <td>0.0</td>\n",
       "      <td>121.564119</td>\n",
       "      <td>218.583776</td>\n",
       "      <td>62.310000</td>\n",
       "      <td>60.320000</td>\n",
       "    </tr>\n",
       "  </tbody>\n",
       "</table>\n",
       "<p>23629 rows × 11 columns</p>\n",
       "</div>"
      ],
      "text/plain": [
       "               name    x   px    y   py  zeta  delta        betx        bety  \\\n",
       "0       lhcb1$start  0.0  0.0  0.0  0.0   0.0    0.0  121.563597  218.583776   \n",
       "1               ip3  0.0  0.0  0.0  0.0   0.0    0.0  121.563597  218.583776   \n",
       "2           drift_0  0.0  0.0  0.0  0.0   0.0    0.0  121.563597  218.583776   \n",
       "3      mcbwv.4r3.b1  0.0  0.0  0.0  0.0   0.0    0.0   47.818854  345.899049   \n",
       "4           drift_1  0.0  0.0  0.0  0.0   0.0    0.0   47.818854  345.899049   \n",
       "...             ...  ...  ...  ...  ...   ...    ...         ...         ...   \n",
       "23624   bpmw.4l3.b1  0.0  0.0  0.0  0.0   0.0    0.0  250.598562  118.349578   \n",
       "23625   drift_11744  0.0  0.0  0.0  0.0   0.0    0.0  250.598562  118.349578   \n",
       "23626  mcbwh.4l3.b1  0.0  0.0  0.0  0.0   0.0    0.0  225.459573  132.514130   \n",
       "23627   drift_11745  0.0  0.0  0.0  0.0   0.0    0.0  225.459573  132.514130   \n",
       "23628     lhcb1$end  0.0  0.0  0.0  0.0   0.0    0.0  121.564119  218.583776   \n",
       "\n",
       "             mux        muy  \n",
       "0       0.000000   0.000000  \n",
       "1       0.000000   0.000000  \n",
       "2       0.000000   0.000000  \n",
       "3       0.044476   0.012184  \n",
       "4       0.044476   0.012184  \n",
       "...          ...        ...  \n",
       "23624  62.289477  60.297718  \n",
       "23625  62.289477  60.297718  \n",
       "23626  62.291985  60.302477  \n",
       "23627  62.291985  60.302477  \n",
       "23628  62.310000  60.320000  \n",
       "\n",
       "[23629 rows x 11 columns]"
      ]
     },
     "execution_count": 166,
     "metadata": {},
     "output_type": "execute_result"
    }
   ],
   "source": [
    "tw_df"
   ]
  },
  {
   "cell_type": "code",
   "execution_count": 5,
   "id": "0c4a1cc3-fa3e-45a2-9611-a39b3eb76655",
   "metadata": {},
   "outputs": [
    {
     "data": {
      "text/html": [
       "<div>\n",
       "<style scoped>\n",
       "    .dataframe tbody tr th:only-of-type {\n",
       "        vertical-align: middle;\n",
       "    }\n",
       "\n",
       "    .dataframe tbody tr th {\n",
       "        vertical-align: top;\n",
       "    }\n",
       "\n",
       "    .dataframe thead th {\n",
       "        text-align: right;\n",
       "    }\n",
       "</style>\n",
       "<table border=\"1\" class=\"dataframe\">\n",
       "  <thead>\n",
       "    <tr style=\"text-align: right;\">\n",
       "      <th></th>\n",
       "      <th>Sextupole Name</th>\n",
       "      <th>Sextupole Strength</th>\n",
       "      <th>Sextupole Length</th>\n",
       "    </tr>\n",
       "  </thead>\n",
       "  <tbody>\n",
       "    <tr>\n",
       "      <th>0</th>\n",
       "      <td>mcs.a8r3.b1</td>\n",
       "      <td>-0.0</td>\n",
       "      <td>0.11</td>\n",
       "    </tr>\n",
       "    <tr>\n",
       "      <th>1</th>\n",
       "      <td>mcs.b8r3.b1</td>\n",
       "      <td>-0.0</td>\n",
       "      <td>0.11</td>\n",
       "    </tr>\n",
       "    <tr>\n",
       "      <th>2</th>\n",
       "      <td>mcs.a9r3.b1</td>\n",
       "      <td>-0.0</td>\n",
       "      <td>0.11</td>\n",
       "    </tr>\n",
       "    <tr>\n",
       "      <th>3</th>\n",
       "      <td>mcs.b9r3.b1</td>\n",
       "      <td>-0.0</td>\n",
       "      <td>0.11</td>\n",
       "    </tr>\n",
       "    <tr>\n",
       "      <th>4</th>\n",
       "      <td>mcs.a10r3.b1</td>\n",
       "      <td>-0.0</td>\n",
       "      <td>0.11</td>\n",
       "    </tr>\n",
       "    <tr>\n",
       "      <th>...</th>\n",
       "      <td>...</td>\n",
       "      <td>...</td>\n",
       "      <td>...</td>\n",
       "    </tr>\n",
       "    <tr>\n",
       "      <th>1623</th>\n",
       "      <td>mcs.a10l3.b1</td>\n",
       "      <td>-0.0</td>\n",
       "      <td>0.11</td>\n",
       "    </tr>\n",
       "    <tr>\n",
       "      <th>1624</th>\n",
       "      <td>mcs.b9l3.b1</td>\n",
       "      <td>-0.0</td>\n",
       "      <td>0.11</td>\n",
       "    </tr>\n",
       "    <tr>\n",
       "      <th>1625</th>\n",
       "      <td>mcs.a9l3.b1</td>\n",
       "      <td>-0.0</td>\n",
       "      <td>0.11</td>\n",
       "    </tr>\n",
       "    <tr>\n",
       "      <th>1626</th>\n",
       "      <td>mcs.b8l3.b1</td>\n",
       "      <td>-0.0</td>\n",
       "      <td>0.11</td>\n",
       "    </tr>\n",
       "    <tr>\n",
       "      <th>1627</th>\n",
       "      <td>mcs.a8l3.b1</td>\n",
       "      <td>-0.0</td>\n",
       "      <td>0.11</td>\n",
       "    </tr>\n",
       "  </tbody>\n",
       "</table>\n",
       "<p>1628 rows × 3 columns</p>\n",
       "</div>"
      ],
      "text/plain": [
       "     Sextupole Name  Sextupole Strength  Sextupole Length\n",
       "0       mcs.a8r3.b1                -0.0              0.11\n",
       "1       mcs.b8r3.b1                -0.0              0.11\n",
       "2       mcs.a9r3.b1                -0.0              0.11\n",
       "3       mcs.b9r3.b1                -0.0              0.11\n",
       "4      mcs.a10r3.b1                -0.0              0.11\n",
       "...             ...                 ...               ...\n",
       "1623   mcs.a10l3.b1                -0.0              0.11\n",
       "1624    mcs.b9l3.b1                -0.0              0.11\n",
       "1625    mcs.a9l3.b1                -0.0              0.11\n",
       "1626    mcs.b8l3.b1                -0.0              0.11\n",
       "1627    mcs.a8l3.b1                -0.0              0.11\n",
       "\n",
       "[1628 rows x 3 columns]"
      ]
     },
     "execution_count": 5,
     "metadata": {},
     "output_type": "execute_result"
    }
   ],
   "source": [
    "sext_df"
   ]
  },
  {
   "cell_type": "code",
   "execution_count": 6,
   "id": "f9be55ee-2524-412c-a47f-82cfc6a535b2",
   "metadata": {},
   "outputs": [],
   "source": [
    "\n",
    "#tw_df = pd.DataFrame({'name':list(tw_normal['name']),'x':list(tw_normal['x']),'px':list(tw_normal['px']),'y':list(tw_normal['y']),'py':list(tw_normal['py']),'zeta':list(tw_normal['zeta']),'delta':list(tw_normal['delta']),'betx':list(tw_normal['betx']),'bety':list(tw_normal['bety']),'mux':list(tw_normal['mux']),'muy':list(tw_normal['muy'])})\n",
    "jj = 0\n",
    "\n",
    "l_name = []\n",
    "l_str = []\n",
    "l_len = []\n",
    "l_betx = []\n",
    "l_bety = []\n",
    "l_mux = []\n",
    "l_muy = []\n",
    "for ii in range(len(tw_df['name'])):\n",
    "    if(tw_df['name'][ii] == sext_df['Sextupole Name'][jj]):\n",
    "        l_name.append(tw_df['name'][ii])\n",
    "        l_str.append(sext_df['Sextupole Strength'][jj])\n",
    "        l_len.append(sext_df['Sextupole Length'][jj])\n",
    "        l_betx.append(tw_df['betx'][ii])\n",
    "        l_mux.append(tw_df['mux'][ii])\n",
    "        l_bety.append(tw_df['bety'][ii])\n",
    "        l_muy.append(tw_df['muy'][ii])\n",
    "        jj += 1\n",
    "        if(jj == 1628):\n",
    "            break\n",
    "\n",
    "second_order_df = pd.DataFrame(list(zip(l_name, l_str, l_len, l_betx, l_bety, l_mux, l_muy)), columns = ['Sextupole Name', 'Sextupole Strength', 'Sextupole Length', 'betx', 'bety', 'mux', 'muy'])"
   ]
  },
  {
   "cell_type": "code",
   "execution_count": 51,
   "id": "fc56be9c-885d-459c-95c9-a86dab8a7bbe",
   "metadata": {},
   "outputs": [
    {
     "name": "stdout",
     "output_type": "stream",
     "text": [
      "Iteration number  0 of 1628\n",
      "Iteration number  100 of 1628\n",
      "Iteration number  200 of 1628\n",
      "Iteration number  300 of 1628\n",
      "Iteration number  400 of 1628\n",
      "Iteration number  500 of 1628\n",
      "Iteration number  600 of 1628\n",
      "Iteration number  700 of 1628\n",
      "Iteration number  800 of 1628\n",
      "Iteration number  900 of 1628\n",
      "Iteration number  1000 of 1628\n",
      "Iteration number  1100 of 1628\n",
      "Iteration number  1200 of 1628\n",
      "Iteration number  1300 of 1628\n",
      "Iteration number  1400 of 1628\n",
      "Iteration number  1500 of 1628\n",
      "Iteration number  1600 of 1628\n",
      "195972.74038018368\n"
     ]
    }
   ],
   "source": [
    "#with open('hl_line.json', 'r') as fid:\n",
    " #   loaded_dct = json.load(fid)\n",
    "#line = xt.Line.from_dict(loaded_dct)\n",
    "#line.vars['i_mo'] = 0\n",
    "alpha_xx= 0.0\n",
    "alpha_yy= 0.0\n",
    "nu_x = tw_normal[\"qx\"]\n",
    "nu_y = tw_normal[\"qy\"]\n",
    "alpha_xx_list = []\n",
    "l_components = []\n",
    "l_comp_name = []\n",
    "l_comp_str = []\n",
    "l_comp_betx = []\n",
    "l_comp_mux = []\n",
    "l_comp_psi_ij_mod = []\n",
    "l_comp_I1 = []\n",
    "l_comp_I2 = []\n",
    "l_comp_Sij = []\n",
    "l_comp_betxij = []\n",
    "#alpha_mat = np.zeros( (6, 6) )\n",
    "#row = 0\n",
    "#col = 0\n",
    "for ii in range(len(second_order_df['Sextupole Name'])):\n",
    "    if(ii%100 == 0):\n",
    "        print('Iteration number ', ii, 'of', len(second_order_df['Sextupole Name']))\n",
    "    count = 0\n",
    "    for jj in range(len(second_order_df['Sextupole Name'])):\n",
    "        \n",
    "        #if(jj >= ii):\n",
    "        psi_ij_mod_x=np.abs(2*np.pi*second_order_df['mux'][ii]-2*np.pi*second_order_df['mux'][jj])\n",
    "        beta_i_beta_j_x = pow(second_order_df['betx'][ii],3/2)*pow(second_order_df['betx'][jj],3/2)\n",
    "        S_i_S_j = second_order_df['Sextupole Strength'][ii]*second_order_df['Sextupole Strength'][jj]\n",
    "        I1_x = (np.cos(3*(np.pi*nu_x-psi_ij_mod_x)))/(np.sin(3*np.pi*nu_x))\n",
    "        I2_x = 3*(np.cos(np.pi*nu_x-psi_ij_mod_x)/(np.sin(np.pi*nu_x)))\n",
    "        alpha_xx += beta_i_beta_j_x*(S_i_S_j)*((I1_x)+(I2_x))\n",
    "        \n",
    "        if((second_order_df['Sextupole Strength'][jj] != 0) and (second_order_df['Sextupole Strength'][ii] != 0) and (True)):\n",
    "            #alpha_mat[row][col] = beta_i_beta_j_x*(S_i_S_j)*((I1_x)+(I2_x))\n",
    "        #print(alpha_xx)\n",
    "            alpha_xx_list.append(alpha_xx)\n",
    "            l_components.append(beta_i_beta_j_x*(S_i_S_j)*((I1_x)+(I2_x)))\n",
    "            l_comp_name.append(second_order_df['Sextupole Name'][ii])\n",
    "            l_comp_str.append(second_order_df['Sextupole Strength'][jj])\n",
    "            l_comp_betx.append(second_order_df['betx'][jj])\n",
    "            l_comp_mux.append(second_order_df['mux'][jj])\n",
    "            l_comp_I1.append(I1_x)\n",
    "            l_comp_I2.append(I2_x)\n",
    "            l_comp_Sij.append(S_i_S_j)\n",
    "            l_comp_betxij.append(beta_i_beta_j_x)\n",
    "            l_comp_psi_ij_mod.append(psi_ij_mod_x)\n",
    "            if False:\n",
    "                print(f\"ii= {ii}\")\n",
    "                print(f\"jj= {jj}\")\n",
    "                print(f\"\\n\\nSextupole jj name = {second_order_df['Sextupole Strength'][jj]}\")\n",
    "                print(f\"Phase difference, psi_ij_mod_x = {psi_ij_mod_x}\")\n",
    "                print(f\"Betx of jj element, betx[jj] = {second_order_df['betx'][jj]}\")\n",
    "                print(f\"Sextupole strength product = {S_i_S_j}\")\n",
    "                print(f\"I1_x = {I1_x}\")\n",
    "                print(f\"I2_x = {I2_x}\")\n",
    "                print(f\"alpha_xx = {alpha_xx}\")\n",
    "                alpha_xx_tot = -alpha_xx/(16*np.pi)\n",
    "                print(f\"alpha_xx_tot = {alpha_xx_tot}\\n\\n\")\n",
    "                print('---------------------------------------------------------------------')\n",
    "alpha_xx_tot = -alpha_xx/(16*np.pi)    \n",
    "print(alpha_xx_tot)\n",
    "#alpha_xx_list\n",
    "components_df = pd.DataFrame(list(zip(l_components,l_comp_I1,l_comp_I2,l_comp_Sij,l_comp_betxij,l_comp_psi_ij_mod, l_comp_name, l_comp_str, l_comp_betx, l_comp_mux)), columns = ['Component','I1_x','I2_x','Sij','betxij','Deltamux','Sextupole Name', 'Sextupole Strength', 'betx', 'mux'])"
   ]
  },
  {
   "cell_type": "code",
   "execution_count": 61,
   "id": "11d41ad7-0422-47ef-ab6d-09e550c74541",
   "metadata": {},
   "outputs": [
    {
     "data": {
      "text/plain": [
       "195972.74038018368"
      ]
     },
     "execution_count": 61,
     "metadata": {},
     "output_type": "execute_result"
    }
   ],
   "source": [
    "195972.74038018368"
   ]
  },
  {
   "cell_type": "code",
   "execution_count": 58,
   "id": "e5904ad2-330b-41b1-81bd-d7df21017257",
   "metadata": {},
   "outputs": [
    {
     "data": {
      "text/plain": [
       "0.25"
      ]
     },
     "execution_count": 58,
     "metadata": {},
     "output_type": "execute_result"
    }
   ],
   "source": []
  },
  {
   "cell_type": "code",
   "execution_count": null,
   "id": "a675448f-8b06-4d62-9c74-ac03e645d685",
   "metadata": {},
   "outputs": [
    {
     "data": {
      "text/plain": [
       "[<matplotlib.lines.Line2D at 0x7f7a89869790>]"
      ]
     },
     "execution_count": 33,
     "metadata": {},
     "output_type": "execute_result"
    },
    {
     "data": {
      "image/png": "[encoded data removed]",
      "text/plain": [
       "<Figure size 432x288 with 1 Axes>"
      ]
     },
     "metadata": {
      "needs_background": "light"
     },
     "output_type": "display_data"
    }
   ],
   "source": [
    "plt.plot(second_order_df['mux'])"
   ]
  },
  {
   "cell_type": "code",
   "execution_count": 8,
   "id": "86c7b0ff-6fbd-4046-a5d2-83c721f83cc2",
   "metadata": {},
   "outputs": [
    {
     "data": {
      "text/plain": [
       "121104"
      ]
     },
     "execution_count": 8,
     "metadata": {},
     "output_type": "execute_result"
    },
    {
     "data": {
      "image/png": "[encoded data removed]",
      "text/plain": [
       "<Figure size 432x288 with 1 Axes>"
      ]
     },
     "metadata": {
      "needs_background": "light"
     },
     "output_type": "display_data"
    }
   ],
   "source": [
    "alpha_xx_tot_list = []\n",
    "for ii in range(len(alpha_xx_list)):\n",
    "    alpha_xx_tot_list.append(-alpha_xx_list[ii]/(16*np.pi))\n",
    "\n",
    "x = np.linspace(0, len(alpha_xx_tot_list),len(alpha_xx_tot_list))\n",
    "plt.plot(x,alpha_xx_tot_list)\n",
    "#plt.xlim(18840,18860)\n",
    "#plt.ylim(-315,315)\n",
    "if False:\n",
    "    for ii in range(len(alpha_xx_list)):\n",
    "        if(alpha_xx_list[ii]!=0):\n",
    "            print(ii,alpha_xx_tot_list[ii])\n",
    "\n",
    "len(alpha_xx_tot_list)\n",
    "#alpha_xx_list"
   ]
  },
  {
   "cell_type": "code",
   "execution_count": 9,
   "id": "305300b2-a6b3-47fe-bd8d-b8f209294c63",
   "metadata": {},
   "outputs": [
    {
     "data": {
      "text/html": [
       "<div>\n",
       "<style scoped>\n",
       "    .dataframe tbody tr th:only-of-type {\n",
       "        vertical-align: middle;\n",
       "    }\n",
       "\n",
       "    .dataframe tbody tr th {\n",
       "        vertical-align: top;\n",
       "    }\n",
       "\n",
       "    .dataframe thead th {\n",
       "        text-align: right;\n",
       "    }\n",
       "</style>\n",
       "<table border=\"1\" class=\"dataframe\">\n",
       "  <thead>\n",
       "    <tr style=\"text-align: right;\">\n",
       "      <th></th>\n",
       "      <th>Component</th>\n",
       "      <th>I1_x</th>\n",
       "      <th>I2_x</th>\n",
       "      <th>Sij</th>\n",
       "      <th>betxij</th>\n",
       "      <th>Deltamux</th>\n",
       "      <th>Sextupole Name</th>\n",
       "      <th>Sextupole Strength</th>\n",
       "      <th>betx</th>\n",
       "      <th>mux</th>\n",
       "    </tr>\n",
       "  </thead>\n",
       "  <tbody>\n",
       "    <tr>\n",
       "      <th>0</th>\n",
       "      <td>-7884.823754</td>\n",
       "      <td>-4.473831</td>\n",
       "      <td>2.038792</td>\n",
       "      <td>0.000588</td>\n",
       "      <td>5.508781e+06</td>\n",
       "      <td>0.000000</td>\n",
       "      <td>ms.11r3.b1</td>\n",
       "      <td>0.024245</td>\n",
       "      <td>176.611301</td>\n",
       "      <td>1.007487</td>\n",
       "    </tr>\n",
       "    <tr>\n",
       "      <th>1</th>\n",
       "      <td>-4879.680132</td>\n",
       "      <td>3.509874</td>\n",
       "      <td>3.529266</td>\n",
       "      <td>-0.001221</td>\n",
       "      <td>5.676763e+05</td>\n",
       "      <td>0.740975</td>\n",
       "      <td>ms.11r3.b1</td>\n",
       "      <td>-0.050368</td>\n",
       "      <td>38.819390</td>\n",
       "      <td>1.125417</td>\n",
       "    </tr>\n",
       "    <tr>\n",
       "      <th>2</th>\n",
       "      <td>14573.709622</td>\n",
       "      <td>1.232862</td>\n",
       "      <td>3.292710</td>\n",
       "      <td>0.000588</td>\n",
       "      <td>5.478556e+06</td>\n",
       "      <td>1.406731</td>\n",
       "      <td>ms.11r3.b1</td>\n",
       "      <td>0.024245</td>\n",
       "      <td>175.964709</td>\n",
       "      <td>1.231375</td>\n",
       "    </tr>\n",
       "    <tr>\n",
       "      <th>3</th>\n",
       "      <td>1316.836148</td>\n",
       "      <td>-3.573702</td>\n",
       "      <td>1.064947</td>\n",
       "      <td>-0.001221</td>\n",
       "      <td>4.298357e+05</td>\n",
       "      <td>2.246701</td>\n",
       "      <td>ms.11r3.b1</td>\n",
       "      <td>-0.050368</td>\n",
       "      <td>32.249020</td>\n",
       "      <td>1.365061</td>\n",
       "    </tr>\n",
       "    <tr>\n",
       "      <th>4</th>\n",
       "      <td>9362.657875</td>\n",
       "      <td>4.446875</td>\n",
       "      <td>-1.550861</td>\n",
       "      <td>0.000588</td>\n",
       "      <td>5.500067e+06</td>\n",
       "      <td>2.986486</td>\n",
       "      <td>ms.11r3.b1</td>\n",
       "      <td>0.024245</td>\n",
       "      <td>176.425025</td>\n",
       "      <td>1.482801</td>\n",
       "    </tr>\n",
       "    <tr>\n",
       "      <th>...</th>\n",
       "      <td>...</td>\n",
       "      <td>...</td>\n",
       "      <td>...</td>\n",
       "      <td>...</td>\n",
       "      <td>...</td>\n",
       "      <td>...</td>\n",
       "      <td>...</td>\n",
       "      <td>...</td>\n",
       "      <td>...</td>\n",
       "      <td>...</td>\n",
       "    </tr>\n",
       "    <tr>\n",
       "      <th>121099</th>\n",
       "      <td>86.258682</td>\n",
       "      <td>3.621811</td>\n",
       "      <td>-2.455313</td>\n",
       "      <td>0.002537</td>\n",
       "      <td>2.914792e+04</td>\n",
       "      <td>3.288254</td>\n",
       "      <td>ms.11l3.b1</td>\n",
       "      <td>-0.050368</td>\n",
       "      <td>32.314763</td>\n",
       "      <td>61.071509</td>\n",
       "    </tr>\n",
       "    <tr>\n",
       "      <th>121100</th>\n",
       "      <td>-15.761301</td>\n",
       "      <td>0.047351</td>\n",
       "      <td>-0.012489</td>\n",
       "      <td>-0.001221</td>\n",
       "      <td>3.702222e+05</td>\n",
       "      <td>2.548135</td>\n",
       "      <td>ms.11l3.b1</td>\n",
       "      <td>0.024245</td>\n",
       "      <td>175.915529</td>\n",
       "      <td>61.189302</td>\n",
       "    </tr>\n",
       "    <tr>\n",
       "      <th>121101</th>\n",
       "      <td>0.426867</td>\n",
       "      <td>-2.690603</td>\n",
       "      <td>2.696403</td>\n",
       "      <td>0.002537</td>\n",
       "      <td>2.900665e+04</td>\n",
       "      <td>1.706579</td>\n",
       "      <td>ms.11l3.b1</td>\n",
       "      <td>-0.050368</td>\n",
       "      <td>32.210263</td>\n",
       "      <td>61.323240</td>\n",
       "    </tr>\n",
       "    <tr>\n",
       "      <th>121102</th>\n",
       "      <td>-3728.372867</td>\n",
       "      <td>4.583768</td>\n",
       "      <td>3.627172</td>\n",
       "      <td>-0.001221</td>\n",
       "      <td>3.718395e+05</td>\n",
       "      <td>0.969162</td>\n",
       "      <td>ms.11l3.b1</td>\n",
       "      <td>0.024245</td>\n",
       "      <td>176.427481</td>\n",
       "      <td>61.440604</td>\n",
       "    </tr>\n",
       "    <tr>\n",
       "      <th>121103</th>\n",
       "      <td>-155.535567</td>\n",
       "      <td>-4.473831</td>\n",
       "      <td>2.038792</td>\n",
       "      <td>0.002537</td>\n",
       "      <td>2.517748e+04</td>\n",
       "      <td>0.000000</td>\n",
       "      <td>ms.11l3.b1</td>\n",
       "      <td>-0.050368</td>\n",
       "      <td>29.309209</td>\n",
       "      <td>61.594851</td>\n",
       "    </tr>\n",
       "  </tbody>\n",
       "</table>\n",
       "<p>121104 rows × 10 columns</p>\n",
       "</div>"
      ],
      "text/plain": [
       "           Component      I1_x      I2_x       Sij        betxij  Deltamux  \\\n",
       "0       -7884.823754 -4.473831  2.038792  0.000588  5.508781e+06  0.000000   \n",
       "1       -4879.680132  3.509874  3.529266 -0.001221  5.676763e+05  0.740975   \n",
       "2       14573.709622  1.232862  3.292710  0.000588  5.478556e+06  1.406731   \n",
       "3        1316.836148 -3.573702  1.064947 -0.001221  4.298357e+05  2.246701   \n",
       "4        9362.657875  4.446875 -1.550861  0.000588  5.500067e+06  2.986486   \n",
       "...              ...       ...       ...       ...           ...       ...   \n",
       "121099     86.258682  3.621811 -2.455313  0.002537  2.914792e+04  3.288254   \n",
       "121100    -15.761301  0.047351 -0.012489 -0.001221  3.702222e+05  2.548135   \n",
       "121101      0.426867 -2.690603  2.696403  0.002537  2.900665e+04  1.706579   \n",
       "121102  -3728.372867  4.583768  3.627172 -0.001221  3.718395e+05  0.969162   \n",
       "121103   -155.535567 -4.473831  2.038792  0.002537  2.517748e+04  0.000000   \n",
       "\n",
       "       Sextupole Name  Sextupole Strength        betx        mux  \n",
       "0          ms.11r3.b1            0.024245  176.611301   1.007487  \n",
       "1          ms.11r3.b1           -0.050368   38.819390   1.125417  \n",
       "2          ms.11r3.b1            0.024245  175.964709   1.231375  \n",
       "3          ms.11r3.b1           -0.050368   32.249020   1.365061  \n",
       "4          ms.11r3.b1            0.024245  176.425025   1.482801  \n",
       "...               ...                 ...         ...        ...  \n",
       "121099     ms.11l3.b1           -0.050368   32.314763  61.071509  \n",
       "121100     ms.11l3.b1            0.024245  175.915529  61.189302  \n",
       "121101     ms.11l3.b1           -0.050368   32.210263  61.323240  \n",
       "121102     ms.11l3.b1            0.024245  176.427481  61.440604  \n",
       "121103     ms.11l3.b1           -0.050368   29.309209  61.594851  \n",
       "\n",
       "[121104 rows x 10 columns]"
      ]
     },
     "execution_count": 9,
     "metadata": {},
     "output_type": "execute_result"
    }
   ],
   "source": [
    "components_df"
   ]
  },
  {
   "cell_type": "code",
   "execution_count": 26,
   "id": "8402f8b2-bda2-4f79-a2fb-859c84b18b56",
   "metadata": {},
   "outputs": [
    {
     "data": {
      "text/plain": [
       "0         156.863584\n",
       "1          97.078152\n",
       "2        -289.934741\n",
       "3         -26.197623\n",
       "4        -186.264160\n",
       "             ...    \n",
       "121099     -1.716062\n",
       "121100      0.313561\n",
       "121101     -0.008492\n",
       "121102     74.173621\n",
       "121103      3.094282\n",
       "Name: Component, Length: 121104, dtype: float64"
      ]
     },
     "execution_count": 26,
     "metadata": {},
     "output_type": "execute_result"
    }
   ],
   "source": [
    "components_df['Component']/(-16*np.pi)"
   ]
  },
  {
   "cell_type": "code",
   "execution_count": 27,
   "id": "33c3ff1b-05fa-4f48-b404-5bfe5a378b4e",
   "metadata": {},
   "outputs": [
    {
     "data": {
      "text/plain": [
       "348.0"
      ]
     },
     "execution_count": 27,
     "metadata": {},
     "output_type": "execute_result"
    }
   ],
   "source": [
    "(np.cos(3*(np.pi*nu_x)))/(np.sin(3*np.pi*nu_x))\n",
    "np.sqrt(121104)"
   ]
  },
  {
   "cell_type": "code",
   "execution_count": 29,
   "id": "ed1b56a3-1b25-4c15-bd9a-3a3a0b6994f2",
   "metadata": {},
   "outputs": [
    {
     "name": "stdout",
     "output_type": "stream",
     "text": [
      "[[-7.88482375e+03 -4.87968013e+03  1.45737096e+04 ...  1.37627158e+03\n",
      "   5.43128093e+03  2.11074742e+03]\n",
      " [-4.87968013e+03 -3.61379519e+02 -4.28641954e+03 ...  7.47818680e+02\n",
      "   1.80655352e+03  2.79205996e+02]\n",
      " [ 1.45737096e+04 -4.28641954e+03 -7.79853892e+03 ... -2.63089883e+03\n",
      "   1.86789101e+04  1.03899834e+03]\n",
      " ...\n",
      " [ 1.37627158e+03  7.47818680e+02 -2.63089883e+03 ... -2.06443039e+02\n",
      "  -3.66426267e+03  4.26867271e-01]\n",
      " [ 5.43128093e+03  1.80655352e+03  1.86789101e+04 ... -3.66426267e+03\n",
      "  -7.86022938e+03 -3.72837287e+03]\n",
      " [ 2.11074742e+03  2.79205996e+02  1.03899834e+03 ...  4.26867271e-01\n",
      "  -3.72837287e+03 -1.55535567e+02]]\n"
     ]
    },
    {
     "data": {
      "text/plain": [
       "<matplotlib.colorbar.Colorbar at 0x7f7a8c774c40>"
      ]
     },
     "execution_count": 29,
     "metadata": {},
     "output_type": "execute_result"
    },
    {
     "data": {
      "image/png": "[encoded data removed]",
      "text/plain": [
       "<Figure size 288x288 with 2 Axes>"
      ]
     },
     "metadata": {
      "needs_background": "light"
     },
     "output_type": "display_data"
    }
   ],
   "source": [
    "N_active = 348\n",
    "alpha_mat = np.zeros( (N_active,N_active) )\n",
    "psi_ij_mat = np.zeros( (N_active,N_active) )\n",
    "\n",
    "kk = 0\n",
    "for ii in range(N_active):\n",
    "    for jj in range(N_active):\n",
    "        alpha_mat[ii][jj] = components_df['Component'][kk]\n",
    "        psi_ij_mat[ii][jj] = components_df['Deltamux'][kk]\n",
    "        kk+=1\n",
    "print(alpha_mat)\n",
    "plt.matshow(alpha_mat,cmap=plt.cm.jet)\n",
    "plt.colorbar()"
   ]
  },
  {
   "cell_type": "code",
   "execution_count": 30,
   "id": "5bde92ad-00cf-4602-af54-bc9270f3670e",
   "metadata": {},
   "outputs": [
    {
     "data": {
      "text/plain": [
       "array([[-7.88482375e+03, -4.87968013e+03,  1.45737096e+04, ...,\n",
       "         1.37627158e+03,  5.43128093e+03,  2.11074742e+03],\n",
       "       [-4.87968013e+03, -3.61379519e+02, -4.28641954e+03, ...,\n",
       "         7.47818680e+02,  1.80655352e+03,  2.79205996e+02],\n",
       "       [ 1.45737096e+04, -4.28641954e+03, -7.79853892e+03, ...,\n",
       "        -2.63089883e+03,  1.86789101e+04,  1.03899834e+03],\n",
       "       ...,\n",
       "       [ 1.37627158e+03,  7.47818680e+02, -2.63089883e+03, ...,\n",
       "        -2.06443039e+02, -3.66426267e+03,  4.26867271e-01],\n",
       "       [ 5.43128093e+03,  1.80655352e+03,  1.86789101e+04, ...,\n",
       "        -3.66426267e+03, -7.86022938e+03, -3.72837287e+03],\n",
       "       [ 2.11074742e+03,  2.79205996e+02,  1.03899834e+03, ...,\n",
       "         4.26867271e-01, -3.72837287e+03, -1.55535567e+02]])"
      ]
     },
     "execution_count": 30,
     "metadata": {},
     "output_type": "execute_result"
    }
   ],
   "source": [
    "alpha_mat"
   ]
  },
  {
   "cell_type": "code",
   "execution_count": 37,
   "id": "19f1690e-5c84-45d9-bc76-f19e1653c675",
   "metadata": {},
   "outputs": [
    {
     "data": {
      "text/plain": [
       "<matplotlib.colorbar.Colorbar at 0x7f7a896ca370>"
      ]
     },
     "execution_count": 37,
     "metadata": {},
     "output_type": "execute_result"
    },
    {
     "data": {
      "image/png": "[encoded data removed]",
      "text/plain": [
       "<Figure size 288x288 with 2 Axes>"
      ]
     },
     "metadata": {
      "needs_background": "light"
     },
     "output_type": "display_data"
    }
   ],
   "source": [
    "plt.matshow(psi_ij_mat,cmap=plt.cm.Blues)\n",
    "plt.colorbar()"
   ]
  },
  {
   "cell_type": "code",
   "execution_count": 62,
   "id": "e0d005e6-4d1e-4067-a744-7376ed099e8e",
   "metadata": {},
   "outputs": [
    {
     "data": {
      "text/plain": [
       "array([[  0.        ,   0.7409754 ,   1.40673136, ..., 378.97505207,\n",
       "        379.71246952, 380.68163147],\n",
       "       [  0.7409754 ,   0.        ,   0.66575597, ..., 378.23407667,\n",
       "        378.97149412, 379.94065608],\n",
       "       [  1.40673136,   0.66575597,   0.        , ..., 377.5683207 ,\n",
       "        378.30573816, 379.27490011],\n",
       "       ...,\n",
       "       [378.97505207, 378.23407667, 377.5683207 , ...,   0.        ,\n",
       "          0.73741745,   1.7065794 ],\n",
       "       [379.71246952, 378.97149412, 378.30573816, ...,   0.73741745,\n",
       "          0.        ,   0.96916195],\n",
       "       [380.68163147, 379.94065608, 379.27490011, ...,   1.7065794 ,\n",
       "          0.96916195,   0.        ]])"
      ]
     },
     "execution_count": 62,
     "metadata": {},
     "output_type": "execute_result"
    }
   ],
   "source": [
    "psi_ij_mat"
   ]
  },
  {
   "cell_type": "code",
   "execution_count": null,
   "id": "44e8ec1d-d4e6-4d20-be82-f1f9c7b038d0",
   "metadata": {},
   "outputs": [],
   "source": []
  },
  {
   "cell_type": "code",
   "execution_count": null,
   "id": "3690266b-8619-48a3-923f-33cb2c5d1d60",
   "metadata": {},
   "outputs": [],
   "source": []
  },
  {
   "cell_type": "code",
   "execution_count": 306,
   "id": "cefb7e8a-4e1c-47b2-aace-c67862186c2e",
   "metadata": {},
   "outputs": [
    {
     "name": "stdout",
     "output_type": "stream",
     "text": [
      "Iteration number  0 of 1628\n",
      "Iteration number  100 of 1628\n",
      "Iteration number  200 of 1628\n",
      "Iteration number  300 of 1628\n",
      "Iteration number  400 of 1628\n",
      "Iteration number  500 of 1628\n",
      "Iteration number  600 of 1628\n",
      "Iteration number  700 of 1628\n",
      "Iteration number  800 of 1628\n",
      "Iteration number  900 of 1628\n",
      "Iteration number  1000 of 1628\n",
      "Iteration number  1100 of 1628\n",
      "Iteration number  1200 of 1628\n",
      "Iteration number  1300 of 1628\n",
      "Iteration number  1400 of 1628\n",
      "Iteration number  1500 of 1628\n",
      "Iteration number  1600 of 1628\n",
      "114.92214162381116\n"
     ]
    }
   ],
   "source": [
    "#with open('hl_line.json', 'r') as fid:\n",
    " #   loaded_dct = json.load(fid)\n",
    "#line = xt.Line.from_dict(loaded_dct)\n",
    "#line.vars['i_mo'] = 0\n",
    "alpha_xx_new= 0.0\n",
    "alpha_yy= 0.0\n",
    "I1_x = 0.0\n",
    "I2_x = 0.0\n",
    "I3_x = 0.0\n",
    "I4_x = 0.0\n",
    "nu_x = tw_normal[\"qx\"]\n",
    "nu_y = tw_normal[\"qy\"]\n",
    "alpha_xx_new_list = []\n",
    "l_components = []\n",
    "l_comp_name = []\n",
    "l_comp_str = []\n",
    "l_comp_betx = []\n",
    "l_comp_mux = []\n",
    "l_comp_psi_ij_mod = []\n",
    "l_comp_I1 = []\n",
    "l_comp_I2 = []\n",
    "l_comp_Sij = []\n",
    "l_comp_betxij = []\n",
    "#alpha_mat = np.zeros( (6, 6) )\n",
    "#row = 0\n",
    "#col = 0\n",
    "for ii in range(len(second_order_df['Sextupole Name'])):\n",
    "    if(ii%100 == 0):\n",
    "        print('Iteration number ', ii, 'of', len(second_order_df['Sextupole Name']))\n",
    "    count = 0\n",
    "    for jj in range(len(second_order_df['Sextupole Name'])):\n",
    "        \n",
    "        psi_ij_mod_x=np.abs(2*np.pi*second_order_df['mux'][ii]-2*np.pi*second_order_df['mux'][jj])\n",
    "        psi_ij_mod_y=np.abs(2*np.pi*second_order_df['muy'][ii]-2*np.pi*second_order_df['muy'][jj])\n",
    "        a3_j_a3_k = second_order_df['Sextupole Strength'][ii]*second_order_df['Sextupole Strength'][jj]\n",
    "        beta_i_beta_j_x = pow(second_order_df['betx'][ii],3/2)*pow(second_order_df['betx'][jj],3/2)\n",
    "        beta_i_beta_j_y = np.sqrt(second_order_df['bety'][ii]*second_order_df['bety'][jj])\n",
    "        \n",
    "        T_jk_31 = (np.cos(3*(np.pi*nu_x-psi_ij_mod_x)+(np.pi*nu_y-psi_ij_mod_y)))/(np.sin(3*np.pi*nu_x)+(np.pi*nu_y-psi_ij_mod_y))\n",
    "        T_jk_3_minus_1 = (np.cos(3*(np.pi*nu_x-psi_ij_mod_x)-(np.pi*nu_y-psi_ij_mod_y)))/(np.sin(3*np.pi*nu_x)-(np.pi*nu_y-psi_ij_mod_y))\n",
    "        T_jk_11 = (np.cos((np.pi*nu_x-psi_ij_mod_x)+(np.pi*nu_y-psi_ij_mod_y)))/(np.sin(np.pi*nu_x)+(np.pi*nu_y-psi_ij_mod_y))\n",
    "        T_jk_1_minus_1 = (np.cos((np.pi*nu_x-psi_ij_mod_x)-(np.pi*nu_y-psi_ij_mod_y)))/(np.sin(np.pi*nu_x)-(np.pi*nu_y-psi_ij_mod_y))\n",
    "        \n",
    "        \n",
    "        I1_x = -6*beta_i_beta_j_x*beta_i_beta_j_y*T_jk_31 \n",
    "        I2_x = 6*beta_i_beta_j_x*beta_i_beta_j_y*T_jk_3_minus_1 \n",
    "        I3_x = -54*beta_i_beta_j_x*beta_i_beta_j_y*T_jk_11 \n",
    "        I4_x = 54*beta_i_beta_j_x*beta_i_beta_j_y*T_jk_11 \n",
    "   \n",
    "        alpha_xx_new += (a3_j_a3_k)*(I1_x+I2_x+I3_x+I4_x)\n",
    "        if((second_order_df['Sextupole Strength'][jj] != 0) and (second_order_df['Sextupole Strength'][ii] != 0) and (True)):\n",
    "            #alpha_mat[row][col] = beta_i_beta_j_x*(S_i_S_j)*((I1_x)+(I2_x))\n",
    "        #print(alpha_xx)\n",
    "            alpha_xx_new_list.append(alpha_xx_new)\n",
    "            l_components.append((a3_j_a3_k)*(I1_x+I2_x+I3_x+I4_x))\n",
    "            l_comp_name.append(second_order_df['Sextupole Name'][ii])\n",
    "            l_comp_str.append(second_order_df['Sextupole Strength'][jj])\n",
    "            l_comp_betx.append(second_order_df['betx'][jj])\n",
    "            l_comp_mux.append(second_order_df['mux'][jj])\n",
    "            l_comp_I1.append(I1_x)\n",
    "            l_comp_I2.append(I2_x)\n",
    "            l_comp_Sij.append(S_i_S_j)\n",
    "            l_comp_betxij.append(beta_i_beta_j_x)\n",
    "            l_comp_psi_ij_mod.append(psi_ij_mod_x)\n",
    "            if False:\n",
    "                print(f\"ii= {ii}\")\n",
    "                print(f\"jj= {jj}\")\n",
    "                print(f\"\\n\\nSextupole jj name = {second_order_df['Sextupole Strength'][jj]}\")\n",
    "                print(f\"Phase difference, psi_ij_mod_x = {psi_ij_mod_x}\")\n",
    "                print(f\"Betx of jj element, betx[jj] = {second_order_df['betx'][jj]}\")\n",
    "                print(f\"Sextupole strength product = {S_i_S_j}\")\n",
    "                print(f\"I1_x = {I1_x}\")\n",
    "                print(f\"I2_x = {I2_x}\")\n",
    "                print(f\"alpha_xx = {alpha_xx}\")\n",
    "                alpha_xx_tot = -alpha_xx/(16*np.pi)\n",
    "                print(f\"alpha_xx_tot = {alpha_xx_tot}\\n\\n\")\n",
    "                print('---------------------------------------------------------------------')\n",
    "alpha_xx_new_tot = alpha_xx_new/(64*np.pi)    \n",
    "print(alpha_xx_new_tot)\n",
    "#alpha_xx_list\n",
    "new_components_df = pd.DataFrame(list(zip(l_components,l_comp_I1,l_comp_I2,l_comp_Sij,l_comp_betxij,l_comp_psi_ij_mod, l_comp_name, l_comp_str, l_comp_betx, l_comp_mux)), columns = ['Component','I1_x','I2_x','Sij','betxij','Deltamux','Sextupole Name', 'Sextupole Strength', 'betx', 'mux'])"
   ]
  },
  {
   "cell_type": "code",
   "execution_count": 25,
   "id": "7eb94363-8735-4ea8-8fa9-68ec2bfbb3bb",
   "metadata": {},
   "outputs": [
    {
     "ename": "NameError",
     "evalue": "name 'new_components_df' is not defined",
     "output_type": "error",
     "traceback": [
      "\u001b[0;31m---------------------------------------------------------------------------\u001b[0m",
      "\u001b[0;31mNameError\u001b[0m                                 Traceback (most recent call last)",
      "Input \u001b[0;32mIn [25]\u001b[0m, in \u001b[0;36m<cell line: 1>\u001b[0;34m()\u001b[0m\n\u001b[0;32m----> 1\u001b[0m \u001b[43mnew_components_df\u001b[49m\n",
      "\u001b[0;31mNameError\u001b[0m: name 'new_components_df' is not defined"
     ]
    }
   ],
   "source": [
    "new_components_df"
   ]
  },
  {
   "cell_type": "code",
   "execution_count": 308,
   "id": "96adfed7-d3b2-4ff6-827e-ff48f933935c",
   "metadata": {},
   "outputs": [
    {
     "data": {
      "text/plain": [
       "[<matplotlib.lines.Line2D at 0x7f73fd15e190>]"
      ]
     },
     "execution_count": 308,
     "metadata": {},
     "output_type": "execute_result"
    },
    {
     "data": {
      "image/png": "[encoded data removed]",
      "text/plain": [
       "<Figure size 432x288 with 1 Axes>"
      ]
     },
     "metadata": {
      "needs_background": "light"
     },
     "output_type": "display_data"
    }
   ],
   "source": [
    "plt.plot(alpha_xx_new_list)"
   ]
  },
  {
   "cell_type": "code",
   "execution_count": 321,
   "id": "abdc86a1-6876-4e97-9cd3-28e93c87c965",
   "metadata": {},
   "outputs": [
    {
     "data": {
      "text/plain": [
       "926.2174296892164"
      ]
     },
     "execution_count": 321,
     "metadata": {},
     "output_type": "execute_result"
    }
   ],
   "source": [
    "21784633.94629037/(3.36*7000)"
   ]
  },
  {
   "cell_type": "code",
   "execution_count": 285,
   "id": "17fc4c94-3220-4e63-969d-7f5352e6628c",
   "metadata": {},
   "outputs": [
    {
     "data": {
      "text/plain": [
       "710696053.4712423"
      ]
     },
     "execution_count": 285,
     "metadata": {},
     "output_type": "execute_result"
    }
   ],
   "source": [
    "26658.8832*26658.8832"
   ]
  },
  {
   "cell_type": "code",
   "execution_count": 310,
   "id": "6ea31fc4-86bb-4d4b-8a2a-78269e19ae5f",
   "metadata": {},
   "outputs": [
    {
     "name": "stdout",
     "output_type": "stream",
     "text": [
      "[[3435.42472399 2225.97872123 1347.73666886 -238.96676673]\n",
      " [2225.97872123  496.08494383 1884.00187098  185.54074635]\n",
      " [1347.73666886 1884.00187098 3411.36027935 2225.93243788]\n",
      " [-238.96676673  185.54074635 2225.93243788  503.15027072]]\n"
     ]
    },
    {
     "data": {
      "text/plain": [
       "<matplotlib.colorbar.Colorbar at 0x7f73e2de6550>"
      ]
     },
     "execution_count": 310,
     "metadata": {},
     "output_type": "execute_result"
    },
    {
     "data": {
      "image/png": "[encoded data removed]",
      "text/plain": [
       "<Figure size 288x288 with 2 Axes>"
      ]
     },
     "metadata": {
      "needs_background": "light"
     },
     "output_type": "display_data"
    }
   ],
   "source": [
    "N_active = 4\n",
    "new_alpha_mat = np.zeros( (N_active,N_active) )\n",
    "new_psi_ij_mat = np.zeros( (N_active,N_active) )\n",
    "\n",
    "kk = 0\n",
    "for ii in range(N_active):\n",
    "    for jj in range(N_active):\n",
    "        new_alpha_mat[ii][jj] = new_components_df['Component'][kk]\n",
    "        new_psi_ij_mat[ii][jj] = new_components_df['Deltamux'][kk]\n",
    "        kk+=1\n",
    "print(new_alpha_mat)\n",
    "plt.matshow(new_alpha_mat,cmap=plt.cm.jet)\n",
    "plt.colorbar()"
   ]
  },
  {
   "cell_type": "code",
   "execution_count": null,
   "id": "e144d8e6-95ff-44a9-9132-6f877dd38f49",
   "metadata": {},
   "outputs": [],
   "source": []
  },
  {
   "cell_type": "code",
   "execution_count": 46,
   "id": "73c017a8-a6a4-4d1c-9233-64355782688e",
   "metadata": {},
   "outputs": [
    {
     "name": "stdout",
     "output_type": "stream",
     "text": [
      "Iteration number  0 of 23629\n",
      "Iteration number  5000 of 23629\n",
      "Iteration number  10000 of 23629\n",
      "Iteration number  15000 of 23629\n",
      "Iteration number  20000 of 23629\n"
     ]
    }
   ],
   "source": [
    "ii = 0\n",
    "for elem in line.element_dict :\n",
    "    if(ii%5000 == 0):\n",
    "        print('Iteration number ', ii, 'of', len(line.element_dict))\n",
    "    if isinstance(line.element_dict[elem],xt.beam_elements.elements.Multipole): \n",
    "        if(line.element_dict[elem].order==6):\n",
    "            print(elem,line.element_dict[elem].ksl)\n",
    "    ii+=1"
   ]
  },
  {
   "cell_type": "code",
   "execution_count": null,
   "id": "706ca5bf-8bf8-4c56-a5db-ecae30d1a7ba",
   "metadata": {},
   "outputs": [],
   "source": []
  },
  {
   "cell_type": "code",
   "execution_count": null,
   "id": "4c4fb3fb-6a80-41ed-9779-01c391685556",
   "metadata": {},
   "outputs": [],
   "source": []
  },
  {
   "cell_type": "code",
   "execution_count": null,
   "id": "72b457e4-59a5-46ea-bf39-a6485c0f1d55",
   "metadata": {},
   "outputs": [],
   "source": []
  },
  {
   "cell_type": "code",
   "execution_count": null,
   "id": "e4dd5701-e0e6-4022-b950-8e05d7045bec",
   "metadata": {},
   "outputs": [],
   "source": [
    "i=0\n",
    "my_list = [] \n",
    "for nn in (sext_df['Sextupole Name'].values):\n",
    "    if nn.startswith('ms.'):\n",
    "        my_list.append(nn)#print(nn)\n",
    "        i+=1\n",
    "        \n",
    "#my_list\n",
    "for nn in my_list:\n",
    "    if ('r4' in nn) or ('l5' in nn):#settore 4-5\n",
    "        #print(nn)"
   ]
  },
  {
   "cell_type": "code",
   "execution_count": null,
   "id": "c67a82f3-3fab-4df9-97cd-c9f9da8f05a6",
   "metadata": {},
   "outputs": [],
   "source": []
  },
  {
   "cell_type": "code",
   "execution_count": null,
   "id": "97ee299d-4286-4d84-b4e1-63bf71082d76",
   "metadata": {},
   "outputs": [],
   "source": []
  },
  {
   "cell_type": "code",
   "execution_count": null,
   "id": "50dfbc8c-9820-4a63-8bde-bbd7763c6369",
   "metadata": {},
   "outputs": [],
   "source": [
    "with open('hl_line.json', 'r') as fid:\n",
    "    loaded_dct = json.load(fid)\n",
    "line = xt.Line.from_dict(loaded_dct)\n",
    "line.vars['i_mo'] = 0\n",
    "alpha_xx= 0.0\n",
    "alpha_yy= 0.0\n",
    "nu_x = tw[\"qx\"]\n",
    "nu_y = tw[\"qy\"]\n",
    "ii = 0\n",
    "for elem in line.element_dict :\n",
    "    if(ii%5000 == 0):\n",
    "        print('Iteration number ', ii, 'of', len(line.element_dict))\n",
    "    if isinstance(line.element_dict[elem],xt.beam_elements.elements.Multipole): \n",
    "        if(line.element_dict[elem].order==2):\n",
    "            jj = 0  \n",
    "            for elem2 in line.element_dict :\n",
    "                if isinstance(line.element_dict[elem2],xt.beam_elements.elements.Multipole): \n",
    "                    if((line.element_dict[elem2].order==2) and (not math.isclose(line.element_dict[elem].knl[2], 0)) \n",
    "                       and (not math.isclose(line.element_dict[elem2].knl[2], 0))):\n",
    "                        \n",
    "                        psi_ij_mod_x=np.abs(2*np.pi*tw['mux'][ii]-2*np.pi*tw['mux'][jj])\n",
    "      \n",
    "                        beta_i_beta_j_x = pow(tw['betx'][ii],3/2)*pow(tw['betx'][jj],3/2)\n",
    "        \n",
    "                        S_i_S_j = line.element_dict[elem].knl[2]*line.element_dict[elem2].knl[2]\n",
    "                \n",
    "                        I1_x = (np.cos(3*(np.pi*nu_x-psi_ij_mod_x)))/(np.sin(3*np.pi*nu_x))\n",
    "                    \n",
    "                        I2_x = 3*(np.cos(np.pi*nu_x-psi_ij_mod_x)/(np.sin(np.pi*nu_x)))\n",
    "\n",
    "                        alpha_xx += beta_i_beta_j_x*(S_i_S_j)*((I1_x)+(I2_x))\n",
    "                        \n",
    "                        \n",
    "                        if((jj==373)and(True)):\n",
    "                           \n",
    "                            print('psi_ij_mod_x = ',psi_ij_mod_x,'beta_i_beta_j_x = ',beta_i_beta_j_x,'S_i_S_j =',S_i_S_j,'I1_x = ',I1_x, 'I2_x = ', I2_x)\n",
    "                            #print('psi_ij_mod_y = ',psi_ij_mod_y,'beta_i_beta_j_y = ',beta_i_beta_j_y,'S_i_S_j =',S_i_S_j,'I1_y = ',I1_y, 'I2_y = ', I2_y)\n",
    "                            alpha_xx_tot = -alpha_xx/(16*np.pi)\n",
    "                            alpha_yy_tot = -alpha_yy/(16*np.pi)\n",
    "                            print('elem is',elem2,'and tw[name][elem]=',tw['name'][jj],'with beta=',tw['betx'][jj], 'with knl=',\n",
    "                                  line.element_dict[elem2].knl[2], 'ii =', ii, 'jj = ', jj)\n",
    "                            print('alpha_xx_tot = ',alpha_xx_tot)\n",
    "                            #print('alpha_yy_tot = ',alpha_yy_tot)\n",
    "                            print('---------------------------------------------------------------------')\n",
    "                        \n",
    "                jj+=1\n",
    "            \n",
    "    ii+=1\n",
    "    \n",
    "alpha_xx_tot = -alpha_xx/(16*np.pi)\n",
    "print(alpha_xx_tot)"
   ]
  },
  {
   "cell_type": "code",
   "execution_count": null,
   "id": "6c6ed0dc-febb-47f3-8d8a-3177c285d66a",
   "metadata": {},
   "outputs": [],
   "source": []
  },
  {
   "cell_type": "code",
   "execution_count": null,
   "id": "1d13a522-2778-4926-9074-ec6d0346c0eb",
   "metadata": {},
   "outputs": [],
   "source": []
  },
  {
   "cell_type": "code",
   "execution_count": null,
   "id": "89cddd33-b687-452a-87ad-ea42432d59cc",
   "metadata": {},
   "outputs": [],
   "source": []
  },
  {
   "cell_type": "code",
   "execution_count": null,
   "id": "aaf989d4-7f72-4b51-8c62-5bae8df13d5a",
   "metadata": {},
   "outputs": [],
   "source": []
  },
  {
   "cell_type": "code",
   "execution_count": null,
   "id": "f0c14f3b-912f-4f00-b7d2-ea897b0b4839",
   "metadata": {},
   "outputs": [],
   "source": []
  },
  {
   "cell_type": "code",
   "execution_count": null,
   "id": "95de73c0-2b98-4e34-8816-efe623bcabf3",
   "metadata": {},
   "outputs": [],
   "source": []
  },
  {
   "cell_type": "code",
   "execution_count": null,
   "id": "9dcbfde4-069f-4075-bc5a-b8d67f2aaa36",
   "metadata": {},
   "outputs": [],
   "source": []
  },
  {
   "cell_type": "code",
   "execution_count": null,
   "id": "ef98b560-ef85-4ac9-a3fc-db609a3ce95f",
   "metadata": {},
   "outputs": [],
   "source": []
  },
  {
   "cell_type": "code",
   "execution_count": null,
   "id": "365b2b68-c38a-4dbd-860b-1f7ed63adc58",
   "metadata": {},
   "outputs": [],
   "source": []
  },
  {
   "cell_type": "code",
   "execution_count": 119,
   "id": "1e7e1f61-982b-4a54-9875-0412c54c885f",
   "metadata": {},
   "outputs": [
    {
     "name": "stdout",
     "output_type": "stream",
     "text": [
      "generating ./56bfe4d2c34f4cd7bb515eeb301e8886.c\n",
      "the current directory is '/afs/cern.ch/user/a/afornara/simulations/git_dir'\n",
      "running build_ext\n",
      "building '56bfe4d2c34f4cd7bb515eeb301e8886' extension\n",
      "gcc -pthread -B /home/afornara/py/2022_17_03/miniconda/compiler_compat -Wno-unused-result -Wsign-compare -DNDEBUG -O2 -Wall -fPIC -O2 -isystem /home/afornara/py/2022_17_03/miniconda/include -I/home/afornara/py/2022_17_03/miniconda/include -fPIC -O2 -isystem /home/afornara/py/2022_17_03/miniconda/include -fPIC -I/home/afornara/py/2022_17_03/miniconda/include/python3.9 -c 56bfe4d2c34f4cd7bb515eeb301e8886.c -o ./56bfe4d2c34f4cd7bb515eeb301e8886.o -std=c99 -O3 -Wno-unused-function\n",
      "gcc -pthread -B /home/afornara/py/2022_17_03/miniconda/compiler_compat -shared -Wl,-rpath,/home/afornara/py/2022_17_03/miniconda/lib -Wl,-rpath-link,/home/afornara/py/2022_17_03/miniconda/lib -L/home/afornara/py/2022_17_03/miniconda/lib -L/home/afornara/py/2022_17_03/miniconda/lib -Wl,-rpath,/home/afornara/py/2022_17_03/miniconda/lib -Wl,-rpath-link,/home/afornara/py/2022_17_03/miniconda/lib -L/home/afornara/py/2022_17_03/miniconda/lib ./56bfe4d2c34f4cd7bb515eeb301e8886.o -o ./56bfe4d2c34f4cd7bb515eeb301e8886.cpython-39-x86_64-linux-gnu.so -std=c99 -O3\n",
      "Iteration number  0 of 23629\n",
      "psi_ij_mod_x =  0.0 beta_i_beta_j_x =  5508780.520187101 S_i_S_j = 0.0005878012555849695 I1_x =  -4.47382084807091 I2_x =  2.0387924674227436\n",
      "elem is ms.11r3.b1 and tw[name][elem]= ms.11r3.b1 with beta= 176.6113010499798 with knl= 0.024244612918852087 ii = 373 jj =  373\n",
      "alpha_xx_tot =  156.8628679630252\n",
      "---------------------------------------------------------------------\n",
      "psi_ij_mod_x =  0.740975397769648 beta_i_beta_j_x =  567676.332299575 S_i_S_j = -0.0012211554834347163 I1_x =  3.509868036676697 I2_x =  3.529266181377978\n",
      "elem is ms.11r3.b1 and tw[name][elem]= ms.11r3.b1 with beta= 176.6113010499798 with knl= 0.024244612918852087 ii = 425 jj =  373\n",
      "alpha_xx_tot =  873.7304802048483\n",
      "---------------------------------------------------------------------\n",
      "psi_ij_mod_x =  1.4067313649834823 beta_i_beta_j_x =  5478555.889538802 S_i_S_j = 0.0005878012555849695 I1_x =  1.23285715621723 I2_x =  3.292710330545068\n",
      "elem is ms.11r3.b1 and tw[name][elem]= ms.11r3.b1 with beta= 176.6113010499798 with knl= 0.024244612918852087 ii = 471 jj =  373\n",
      "alpha_xx_tot =  807.2944755928978\n",
      "---------------------------------------------------------------------\n",
      "psi_ij_mod_x =  2.2466998485668306 beta_i_beta_j_x =  429838.02806599543 S_i_S_j = -0.0012211554834347163 I1_x =  -3.573707023149909 I2_x =  1.0649525154987358\n",
      "elem is ms.11r3.b1 and tw[name][elem]= ms.11r3.b1 with beta= 176.6113010499798 with knl= 0.024244612918852087 ii = 523 jj =  373\n",
      "alpha_xx_tot =  467.2664035674265\n",
      "---------------------------------------------------------------------\n"
     ]
    },
    {
     "ename": "KeyboardInterrupt",
     "evalue": "",
     "output_type": "error",
     "traceback": [
      "\u001b[0;31m---------------------------------------------------------------------------\u001b[0m",
      "\u001b[0;31mKeyboardInterrupt\u001b[0m                         Traceback (most recent call last)",
      "Input \u001b[0;32mIn [119]\u001b[0m, in \u001b[0;36m<cell line: 14>\u001b[0;34m()\u001b[0m\n\u001b[1;32m     20\u001b[0m \u001b[38;5;28;01mfor\u001b[39;00m elem2 \u001b[38;5;129;01min\u001b[39;00m line\u001b[38;5;241m.\u001b[39melement_dict :\n\u001b[1;32m     21\u001b[0m     \u001b[38;5;28;01mif\u001b[39;00m \u001b[38;5;28misinstance\u001b[39m(line\u001b[38;5;241m.\u001b[39melement_dict[elem2],xt\u001b[38;5;241m.\u001b[39mbeam_elements\u001b[38;5;241m.\u001b[39melements\u001b[38;5;241m.\u001b[39mMultipole): \n\u001b[1;32m     22\u001b[0m         \u001b[38;5;28;01mif\u001b[39;00m((line\u001b[38;5;241m.\u001b[39melement_dict[elem2]\u001b[38;5;241m.\u001b[39morder\u001b[38;5;241m==\u001b[39m\u001b[38;5;241m2\u001b[39m) \u001b[38;5;129;01mand\u001b[39;00m (\u001b[38;5;129;01mnot\u001b[39;00m math\u001b[38;5;241m.\u001b[39misclose(line\u001b[38;5;241m.\u001b[39melement_dict[elem]\u001b[38;5;241m.\u001b[39mknl[\u001b[38;5;241m2\u001b[39m], \u001b[38;5;241m0\u001b[39m)) \n\u001b[0;32m---> 23\u001b[0m            \u001b[38;5;129;01mand\u001b[39;00m (\u001b[38;5;129;01mnot\u001b[39;00m math\u001b[38;5;241m.\u001b[39misclose(\u001b[43mline\u001b[49m\u001b[38;5;241;43m.\u001b[39;49m\u001b[43melement_dict\u001b[49m\u001b[43m[\u001b[49m\u001b[43melem2\u001b[49m\u001b[43m]\u001b[49m\u001b[38;5;241;43m.\u001b[39;49m\u001b[43mknl\u001b[49m[\u001b[38;5;241m2\u001b[39m], \u001b[38;5;241m0\u001b[39m))):\n\u001b[1;32m     25\u001b[0m             psi_ij_mod_x\u001b[38;5;241m=\u001b[39mnp\u001b[38;5;241m.\u001b[39mabs(\u001b[38;5;241m2\u001b[39m\u001b[38;5;241m*\u001b[39mnp\u001b[38;5;241m.\u001b[39mpi\u001b[38;5;241m*\u001b[39mtw[\u001b[38;5;124m'\u001b[39m\u001b[38;5;124mmux\u001b[39m\u001b[38;5;124m'\u001b[39m][ii]\u001b[38;5;241m-\u001b[39m\u001b[38;5;241m2\u001b[39m\u001b[38;5;241m*\u001b[39mnp\u001b[38;5;241m.\u001b[39mpi\u001b[38;5;241m*\u001b[39mtw[\u001b[38;5;124m'\u001b[39m\u001b[38;5;124mmux\u001b[39m\u001b[38;5;124m'\u001b[39m][jj])\n\u001b[1;32m     27\u001b[0m             \u001b[38;5;66;03m#psi_ij_mod_y=np.abs(2*np.pi*tw['muy'][jj]-2*np.pi*tw['muy'][ii])\u001b[39;00m\n",
      "File \u001b[0;32m~/py/2022_17_03/miniconda/lib/python3.9/site-packages/xtrack/beam_elements/elements.py:294\u001b[0m, in \u001b[0;36mMultipole.knl\u001b[0;34m(self)\u001b[0m\n\u001b[1;32m    291\u001b[0m idxes \u001b[38;5;241m=\u001b[39m np\u001b[38;5;241m.\u001b[39marray([ii \u001b[38;5;28;01mfor\u001b[39;00m ii \u001b[38;5;129;01min\u001b[39;00m \u001b[38;5;28mrange\u001b[39m(\u001b[38;5;241m0\u001b[39m, bal_length, \u001b[38;5;241m2\u001b[39m)])\n\u001b[1;32m    292\u001b[0m _bal \u001b[38;5;241m=\u001b[39m \u001b[38;5;28mself\u001b[39m\u001b[38;5;241m.\u001b[39m_buffer\u001b[38;5;241m.\u001b[39mcontext\u001b[38;5;241m.\u001b[39mnparray_from_context_array(\u001b[38;5;28mself\u001b[39m\u001b[38;5;241m.\u001b[39mbal)\n\u001b[1;32m    293\u001b[0m _knl \u001b[38;5;241m=\u001b[39m \u001b[38;5;28mself\u001b[39m\u001b[38;5;241m.\u001b[39m_buffer\u001b[38;5;241m.\u001b[39mcontext\u001b[38;5;241m.\u001b[39mnparray_to_context_array(np\u001b[38;5;241m.\u001b[39marray(\n\u001b[0;32m--> 294\u001b[0m     [_bal[idx] \u001b[38;5;241m*\u001b[39m factorial(idx \u001b[38;5;241m/\u001b[39m\u001b[38;5;241m/\u001b[39m \u001b[38;5;241m2\u001b[39m, exact\u001b[38;5;241m=\u001b[39m\u001b[38;5;28;01mTrue\u001b[39;00m) \u001b[38;5;28;01mfor\u001b[39;00m idx \u001b[38;5;129;01min\u001b[39;00m idxes]))\n\u001b[1;32m    295\u001b[0m \u001b[38;5;28;01mreturn\u001b[39;00m \u001b[38;5;28mself\u001b[39m\u001b[38;5;241m.\u001b[39m_buffer\u001b[38;5;241m.\u001b[39mcontext\u001b[38;5;241m.\u001b[39mlinked_array_type\u001b[38;5;241m.\u001b[39mfrom_array(\n\u001b[1;32m    296\u001b[0m                                 _knl,\n\u001b[1;32m    297\u001b[0m                                 mode\u001b[38;5;241m=\u001b[39m\u001b[38;5;124m'\u001b[39m\u001b[38;5;124msetitem_from_container\u001b[39m\u001b[38;5;124m'\u001b[39m,\n\u001b[1;32m    298\u001b[0m                                 container\u001b[38;5;241m=\u001b[39m\u001b[38;5;28mself\u001b[39m,\n\u001b[1;32m    299\u001b[0m                                 container_setitem_name\u001b[38;5;241m=\u001b[39m\u001b[38;5;124m'\u001b[39m\u001b[38;5;124m_knl_setitem\u001b[39m\u001b[38;5;124m'\u001b[39m)\n",
      "File \u001b[0;32m~/py/2022_17_03/miniconda/lib/python3.9/site-packages/xtrack/beam_elements/elements.py:294\u001b[0m, in \u001b[0;36m<listcomp>\u001b[0;34m(.0)\u001b[0m\n\u001b[1;32m    291\u001b[0m idxes \u001b[38;5;241m=\u001b[39m np\u001b[38;5;241m.\u001b[39marray([ii \u001b[38;5;28;01mfor\u001b[39;00m ii \u001b[38;5;129;01min\u001b[39;00m \u001b[38;5;28mrange\u001b[39m(\u001b[38;5;241m0\u001b[39m, bal_length, \u001b[38;5;241m2\u001b[39m)])\n\u001b[1;32m    292\u001b[0m _bal \u001b[38;5;241m=\u001b[39m \u001b[38;5;28mself\u001b[39m\u001b[38;5;241m.\u001b[39m_buffer\u001b[38;5;241m.\u001b[39mcontext\u001b[38;5;241m.\u001b[39mnparray_from_context_array(\u001b[38;5;28mself\u001b[39m\u001b[38;5;241m.\u001b[39mbal)\n\u001b[1;32m    293\u001b[0m _knl \u001b[38;5;241m=\u001b[39m \u001b[38;5;28mself\u001b[39m\u001b[38;5;241m.\u001b[39m_buffer\u001b[38;5;241m.\u001b[39mcontext\u001b[38;5;241m.\u001b[39mnparray_to_context_array(np\u001b[38;5;241m.\u001b[39marray(\n\u001b[0;32m--> 294\u001b[0m     [_bal[idx] \u001b[38;5;241m*\u001b[39m \u001b[43mfactorial\u001b[49m\u001b[43m(\u001b[49m\u001b[43midx\u001b[49m\u001b[43m \u001b[49m\u001b[38;5;241;43m/\u001b[39;49m\u001b[38;5;241;43m/\u001b[39;49m\u001b[43m \u001b[49m\u001b[38;5;241;43m2\u001b[39;49m\u001b[43m,\u001b[49m\u001b[43m \u001b[49m\u001b[43mexact\u001b[49m\u001b[38;5;241;43m=\u001b[39;49m\u001b[38;5;28;43;01mTrue\u001b[39;49;00m\u001b[43m)\u001b[49m \u001b[38;5;28;01mfor\u001b[39;00m idx \u001b[38;5;129;01min\u001b[39;00m idxes]))\n\u001b[1;32m    295\u001b[0m \u001b[38;5;28;01mreturn\u001b[39;00m \u001b[38;5;28mself\u001b[39m\u001b[38;5;241m.\u001b[39m_buffer\u001b[38;5;241m.\u001b[39mcontext\u001b[38;5;241m.\u001b[39mlinked_array_type\u001b[38;5;241m.\u001b[39mfrom_array(\n\u001b[1;32m    296\u001b[0m                                 _knl,\n\u001b[1;32m    297\u001b[0m                                 mode\u001b[38;5;241m=\u001b[39m\u001b[38;5;124m'\u001b[39m\u001b[38;5;124msetitem_from_container\u001b[39m\u001b[38;5;124m'\u001b[39m,\n\u001b[1;32m    298\u001b[0m                                 container\u001b[38;5;241m=\u001b[39m\u001b[38;5;28mself\u001b[39m,\n\u001b[1;32m    299\u001b[0m                                 container_setitem_name\u001b[38;5;241m=\u001b[39m\u001b[38;5;124m'\u001b[39m\u001b[38;5;124m_knl_setitem\u001b[39m\u001b[38;5;124m'\u001b[39m)\n",
      "File \u001b[0;32m~/py/2022_17_03/miniconda/lib/python3.9/site-packages/scipy/special/_basic.py:2362\u001b[0m, in \u001b[0;36mfactorial\u001b[0;34m(n, exact)\u001b[0m\n\u001b[1;32m   2360\u001b[0m     \u001b[38;5;28;01mif\u001b[39;00m np\u001b[38;5;241m.\u001b[39misnan(n):\n\u001b[1;32m   2361\u001b[0m         \u001b[38;5;28;01mreturn\u001b[39;00m n\n\u001b[0;32m-> 2362\u001b[0m     \u001b[38;5;28;01mreturn\u001b[39;00m \u001b[38;5;241m0\u001b[39m \u001b[38;5;28;01mif\u001b[39;00m n \u001b[38;5;241m<\u001b[39m \u001b[38;5;241m0\u001b[39m \u001b[38;5;28;01melse\u001b[39;00m \u001b[43mmath\u001b[49m\u001b[38;5;241;43m.\u001b[39;49m\u001b[43mfactorial\u001b[49m(n)\n\u001b[1;32m   2363\u001b[0m \u001b[38;5;28;01melse\u001b[39;00m:\n\u001b[1;32m   2364\u001b[0m     n \u001b[38;5;241m=\u001b[39m asarray(n)\n",
      "\u001b[0;31mKeyboardInterrupt\u001b[0m: "
     ]
    }
   ],
   "source": [
    "with open('hl_line.json', 'r') as fid:\n",
    "    loaded_dct = json.load(fid)\n",
    "line = xt.Line.from_dict(loaded_dct)\n",
    "line.vars['i_mo'] = 0\n",
    "alpha_xx= 0.0\n",
    "alpha_yy= 0.0\n",
    "nu_x = tw[\"qx\"]\n",
    "nu_y = tw[\"qy\"]\n",
    "ii = 0\n",
    "for elem in line.element_dict :\n",
    "    if(ii%5000 == 0):\n",
    "        print('Iteration number ', ii, 'of', len(line.element_dict))\n",
    "    if isinstance(line.element_dict[elem],xt.beam_elements.elements.Multipole): \n",
    "        if(line.element_dict[elem].order==2):\n",
    "            jj = 0  \n",
    "            for elem2 in line.element_dict :\n",
    "                if isinstance(line.element_dict[elem2],xt.beam_elements.elements.Multipole): \n",
    "                    if((line.element_dict[elem2].order==2) and (not math.isclose(line.element_dict[elem].knl[2], 0)) \n",
    "                       and (not math.isclose(line.element_dict[elem2].knl[2], 0))):\n",
    "                        \n",
    "                        psi_ij_mod_x=np.abs(2*np.pi*tw['mux'][ii]-2*np.pi*tw['mux'][jj])\n",
    "                        \n",
    "                        #psi_ij_mod_y=np.abs(2*np.pi*tw['muy'][jj]-2*np.pi*tw['muy'][ii])\n",
    "                        \n",
    "                        beta_i_beta_j_x = pow(tw['betx'][ii],3/2)*pow(tw['betx'][jj],3/2)\n",
    "                        \n",
    "                        #beta_i_beta_j_y = pow(tw['bety'][ii],3/2)*pow(tw['bety'][jj],3/2)\n",
    "               \n",
    "                        S_i_S_j = line.element_dict[elem].knl[2]*line.element_dict[elem2].knl[2]\n",
    "                \n",
    "                        I1_x = (np.cos(3*(np.pi*nu_x-psi_ij_mod_x)))/(np.sin(3*np.pi*nu_x))\n",
    "                    \n",
    "                        I2_x = 3*(np.cos(np.pi*nu_x-psi_ij_mod_x)/(np.sin(np.pi*nu_x)))\n",
    "                        \n",
    "                        #I1_y = (np.cos(3*(np.pi*nu_y-psi_ij_mod_y)))/(np.sin(3*np.pi*nu_y))\n",
    "                    \n",
    "                        #I2_y = 3*(np.cos(np.pi*nu_y-psi_ij_mod_y)/(np.sin(np.pi*nu_y)))\n",
    "                        \n",
    "                        alpha_xx += beta_i_beta_j_x*(S_i_S_j)*((I1_x)+(I2_x))\n",
    "                        \n",
    "                        #alpha_yy += beta_i_beta_j_y*(S_i_S_j)*((I1_y)+(I2_y))\n",
    "                        \n",
    "                        if((jj==373)and(True)):\n",
    "                           \n",
    "                            print('psi_ij_mod_x = ',psi_ij_mod_x,'beta_i_beta_j_x = ',beta_i_beta_j_x,'S_i_S_j =',S_i_S_j,'I1_x = ',I1_x, 'I2_x = ', I2_x)\n",
    "                            #print('psi_ij_mod_y = ',psi_ij_mod_y,'beta_i_beta_j_y = ',beta_i_beta_j_y,'S_i_S_j =',S_i_S_j,'I1_y = ',I1_y, 'I2_y = ', I2_y)\n",
    "                            alpha_xx_tot = -alpha_xx/(16*np.pi)\n",
    "                            alpha_yy_tot = -alpha_yy/(16*np.pi)\n",
    "                            print('elem is',elem2,'and tw[name][elem]=',tw['name'][jj],'with beta=',tw['betx'][jj], 'with knl=',\n",
    "                                  line.element_dict[elem2].knl[2], 'ii =', ii, 'jj = ', jj)\n",
    "                            print('alpha_xx_tot = ',alpha_xx_tot)\n",
    "                            #print('alpha_yy_tot = ',alpha_yy_tot)\n",
    "                            print('---------------------------------------------------------------------')\n",
    "                        \n",
    "                jj+=1\n",
    "            \n",
    "    ii+=1\n",
    "    \n",
    "alpha_xx_tot = -alpha_xx/(16*np.pi)\n",
    "print(alpha_xx_tot)"
   ]
  },
  {
   "cell_type": "code",
   "execution_count": 116,
   "id": "25ec474c-a139-444f-9e30-676f046358c3",
   "metadata": {},
   "outputs": [
    {
     "data": {
      "text/plain": [
       "436.86524010331584"
      ]
     },
     "execution_count": 116,
     "metadata": {},
     "output_type": "execute_result"
    }
   ],
   "source": [
    "195971.52679533127\n",
    "\n",
    "\n",
    "873.7304802066317/2"
   ]
  },
  {
   "cell_type": "code",
   "execution_count": 78,
   "id": "e8d6a317-31d4-44e5-a82f-9f756f6a0c8a",
   "metadata": {},
   "outputs": [
    {
     "name": "stdout",
     "output_type": "stream",
     "text": [
      "generating ./65d64294e0584b11b65636e01bcb8385.c\n",
      "the current directory is '/afs/cern.ch/user/a/afornara/simulations/git_dir'\n",
      "running build_ext\n",
      "building '65d64294e0584b11b65636e01bcb8385' extension\n",
      "gcc -pthread -B /home/afornara/py/2022_17_03/miniconda/compiler_compat -Wno-unused-result -Wsign-compare -DNDEBUG -O2 -Wall -fPIC -O2 -isystem /home/afornara/py/2022_17_03/miniconda/include -I/home/afornara/py/2022_17_03/miniconda/include -fPIC -O2 -isystem /home/afornara/py/2022_17_03/miniconda/include -fPIC -I/home/afornara/py/2022_17_03/miniconda/include/python3.9 -c 65d64294e0584b11b65636e01bcb8385.c -o ./65d64294e0584b11b65636e01bcb8385.o -std=c99 -O3 -Wno-unused-function\n",
      "gcc -pthread -B /home/afornara/py/2022_17_03/miniconda/compiler_compat -shared -Wl,-rpath,/home/afornara/py/2022_17_03/miniconda/lib -Wl,-rpath-link,/home/afornara/py/2022_17_03/miniconda/lib -L/home/afornara/py/2022_17_03/miniconda/lib -L/home/afornara/py/2022_17_03/miniconda/lib -Wl,-rpath,/home/afornara/py/2022_17_03/miniconda/lib -Wl,-rpath-link,/home/afornara/py/2022_17_03/miniconda/lib -L/home/afornara/py/2022_17_03/miniconda/lib ./65d64294e0584b11b65636e01bcb8385.o -o ./65d64294e0584b11b65636e01bcb8385.cpython-39-x86_64-linux-gnu.so -std=c99 -O3\n",
      "Iteration number  0 of 23629\n",
      "psi_ij_mod_x =  0.0 beta_i_beta_j =  5508780.520180858 S_i_S_j 0.0005878012555849695 I1  -4.4738340426413 I2 2.038791549583257\n",
      "elem is ms.11r3.b1 elem2 is ms.11r3.b1 and tw[name][elem]= ms.11r3.b1 with beta= 176.61130104991307 with knl= 0.024244612918852087 ii = 373 jj =  373\n",
      "alpha_xx =  -162.83883454845102\n",
      "---------------------------------------------------------------------\n",
      "psi_ij_mod_x =  0.7409753977694047 beta_i_beta_j =  567676.3323000295 S_i_S_j -0.0012211554834347163 I1  3.509876044202858 I2 3.5292655041861463\n",
      "elem is ms.12r3.b1 elem2 is ms.11r3.b1 and tw[name][elem]= ms.11r3.b1 with beta= 176.61130104991307 with knl= 0.024244612918852087 ii = 425 jj =  373\n",
      "alpha_xx =  34.861314450373605\n",
      "---------------------------------------------------------------------\n"
     ]
    },
    {
     "ename": "KeyboardInterrupt",
     "evalue": "",
     "output_type": "error",
     "traceback": [
      "\u001b[0;31m---------------------------------------------------------------------------\u001b[0m",
      "\u001b[0;31mKeyboardInterrupt\u001b[0m                         Traceback (most recent call last)",
      "Input \u001b[0;32mIn [78]\u001b[0m, in \u001b[0;36m<cell line: 13>\u001b[0;34m()\u001b[0m\n\u001b[1;32m     19\u001b[0m \u001b[38;5;28;01mfor\u001b[39;00m elem2 \u001b[38;5;129;01min\u001b[39;00m line\u001b[38;5;241m.\u001b[39melement_dict :\n\u001b[1;32m     20\u001b[0m     \u001b[38;5;28;01mif\u001b[39;00m \u001b[38;5;28misinstance\u001b[39m(line\u001b[38;5;241m.\u001b[39melement_dict[elem2],xt\u001b[38;5;241m.\u001b[39mbeam_elements\u001b[38;5;241m.\u001b[39melements\u001b[38;5;241m.\u001b[39mMultipole): \n\u001b[0;32m---> 21\u001b[0m         \u001b[38;5;28;01mif\u001b[39;00m((line\u001b[38;5;241m.\u001b[39melement_dict[elem2]\u001b[38;5;241m.\u001b[39morder\u001b[38;5;241m==\u001b[39m\u001b[38;5;241m2\u001b[39m) \u001b[38;5;129;01mand\u001b[39;00m (\u001b[38;5;129;01mnot\u001b[39;00m math\u001b[38;5;241m.\u001b[39misclose(\u001b[43mline\u001b[49m\u001b[38;5;241;43m.\u001b[39;49m\u001b[43melement_dict\u001b[49m\u001b[43m[\u001b[49m\u001b[43melem\u001b[49m\u001b[43m]\u001b[49m\u001b[38;5;241;43m.\u001b[39;49m\u001b[43mknl\u001b[49m[\u001b[38;5;241m2\u001b[39m], \u001b[38;5;241m0\u001b[39m)) \n\u001b[1;32m     22\u001b[0m            \u001b[38;5;129;01mand\u001b[39;00m (\u001b[38;5;129;01mnot\u001b[39;00m math\u001b[38;5;241m.\u001b[39misclose(line\u001b[38;5;241m.\u001b[39melement_dict[elem2]\u001b[38;5;241m.\u001b[39mknl[\u001b[38;5;241m2\u001b[39m], \u001b[38;5;241m0\u001b[39m))):\n\u001b[1;32m     24\u001b[0m             psi_ij_mod_x\u001b[38;5;241m=\u001b[39mnp\u001b[38;5;241m.\u001b[39mabs(\u001b[38;5;241m2\u001b[39m\u001b[38;5;241m*\u001b[39mnp\u001b[38;5;241m.\u001b[39mpi\u001b[38;5;241m*\u001b[39mtw[\u001b[38;5;124m'\u001b[39m\u001b[38;5;124mmux\u001b[39m\u001b[38;5;124m'\u001b[39m][jj]\u001b[38;5;241m-\u001b[39m\u001b[38;5;241m2\u001b[39m\u001b[38;5;241m*\u001b[39mnp\u001b[38;5;241m.\u001b[39mpi\u001b[38;5;241m*\u001b[39mtw[\u001b[38;5;124m'\u001b[39m\u001b[38;5;124mmux\u001b[39m\u001b[38;5;124m'\u001b[39m][ii])\n\u001b[1;32m     26\u001b[0m             beta_i_beta_j \u001b[38;5;241m=\u001b[39m \u001b[38;5;28mpow\u001b[39m(tw[\u001b[38;5;124m'\u001b[39m\u001b[38;5;124mbetx\u001b[39m\u001b[38;5;124m'\u001b[39m][ii],\u001b[38;5;241m3\u001b[39m\u001b[38;5;241m/\u001b[39m\u001b[38;5;241m2\u001b[39m)\u001b[38;5;241m*\u001b[39m\u001b[38;5;28mpow\u001b[39m(tw[\u001b[38;5;124m'\u001b[39m\u001b[38;5;124mbetx\u001b[39m\u001b[38;5;124m'\u001b[39m][jj],\u001b[38;5;241m3\u001b[39m\u001b[38;5;241m/\u001b[39m\u001b[38;5;241m2\u001b[39m)\n",
      "File \u001b[0;32m~/py/2022_17_03/miniconda/lib/python3.9/site-packages/xtrack/beam_elements/elements.py:292\u001b[0m, in \u001b[0;36mMultipole.knl\u001b[0;34m(self)\u001b[0m\n\u001b[1;32m    290\u001b[0m bal_length \u001b[38;5;241m=\u001b[39m \u001b[38;5;28mlen\u001b[39m(\u001b[38;5;28mself\u001b[39m\u001b[38;5;241m.\u001b[39mbal)\n\u001b[1;32m    291\u001b[0m idxes \u001b[38;5;241m=\u001b[39m np\u001b[38;5;241m.\u001b[39marray([ii \u001b[38;5;28;01mfor\u001b[39;00m ii \u001b[38;5;129;01min\u001b[39;00m \u001b[38;5;28mrange\u001b[39m(\u001b[38;5;241m0\u001b[39m, bal_length, \u001b[38;5;241m2\u001b[39m)])\n\u001b[0;32m--> 292\u001b[0m _bal \u001b[38;5;241m=\u001b[39m \u001b[38;5;28mself\u001b[39m\u001b[38;5;241m.\u001b[39m_buffer\u001b[38;5;241m.\u001b[39mcontext\u001b[38;5;241m.\u001b[39mnparray_from_context_array(\u001b[38;5;28;43mself\u001b[39;49m\u001b[38;5;241;43m.\u001b[39;49m\u001b[43mbal\u001b[49m)\n\u001b[1;32m    293\u001b[0m _knl \u001b[38;5;241m=\u001b[39m \u001b[38;5;28mself\u001b[39m\u001b[38;5;241m.\u001b[39m_buffer\u001b[38;5;241m.\u001b[39mcontext\u001b[38;5;241m.\u001b[39mnparray_to_context_array(np\u001b[38;5;241m.\u001b[39marray(\n\u001b[1;32m    294\u001b[0m     [_bal[idx] \u001b[38;5;241m*\u001b[39m factorial(idx \u001b[38;5;241m/\u001b[39m\u001b[38;5;241m/\u001b[39m \u001b[38;5;241m2\u001b[39m, exact\u001b[38;5;241m=\u001b[39m\u001b[38;5;28;01mTrue\u001b[39;00m) \u001b[38;5;28;01mfor\u001b[39;00m idx \u001b[38;5;129;01min\u001b[39;00m idxes]))\n\u001b[1;32m    295\u001b[0m \u001b[38;5;28;01mreturn\u001b[39;00m \u001b[38;5;28mself\u001b[39m\u001b[38;5;241m.\u001b[39m_buffer\u001b[38;5;241m.\u001b[39mcontext\u001b[38;5;241m.\u001b[39mlinked_array_type\u001b[38;5;241m.\u001b[39mfrom_array(\n\u001b[1;32m    296\u001b[0m                                 _knl,\n\u001b[1;32m    297\u001b[0m                                 mode\u001b[38;5;241m=\u001b[39m\u001b[38;5;124m'\u001b[39m\u001b[38;5;124msetitem_from_container\u001b[39m\u001b[38;5;124m'\u001b[39m,\n\u001b[1;32m    298\u001b[0m                                 container\u001b[38;5;241m=\u001b[39m\u001b[38;5;28mself\u001b[39m,\n\u001b[1;32m    299\u001b[0m                                 container_setitem_name\u001b[38;5;241m=\u001b[39m\u001b[38;5;124m'\u001b[39m\u001b[38;5;124m_knl_setitem\u001b[39m\u001b[38;5;124m'\u001b[39m)\n",
      "File \u001b[0;32m~/py/2022_17_03/miniconda/lib/python3.9/site-packages/xobjects/dress.py:26\u001b[0m, in \u001b[0;36m_FieldOfDressed.__get__\u001b[0;34m(self, container, ContainerType)\u001b[0m\n\u001b[1;32m     24\u001b[0m         \u001b[38;5;28;01mreturn\u001b[39;00m \u001b[38;5;28mgetattr\u001b[39m(container\u001b[38;5;241m.\u001b[39m_xobject, \u001b[38;5;28mself\u001b[39m\u001b[38;5;241m.\u001b[39mname)\u001b[38;5;241m.\u001b[39mto_nplike()[:lim]\n\u001b[1;32m     25\u001b[0m     \u001b[38;5;28;01melse\u001b[39;00m:\n\u001b[0;32m---> 26\u001b[0m         \u001b[38;5;28;01mreturn\u001b[39;00m \u001b[38;5;28;43mgetattr\u001b[39;49m\u001b[43m(\u001b[49m\u001b[43mcontainer\u001b[49m\u001b[38;5;241;43m.\u001b[39;49m\u001b[43m_xobject\u001b[49m\u001b[43m,\u001b[49m\u001b[43m \u001b[49m\u001b[38;5;28;43mself\u001b[39;49m\u001b[38;5;241;43m.\u001b[39;49m\u001b[43mname\u001b[49m\u001b[43m)\u001b[49m\u001b[38;5;241;43m.\u001b[39;49m\u001b[43mto_nplike\u001b[49m\u001b[43m(\u001b[49m\u001b[43m)\u001b[49m\n\u001b[1;32m     27\u001b[0m \u001b[38;5;28;01melif\u001b[39;00m \u001b[38;5;28mhasattr\u001b[39m(container, \u001b[38;5;124m\"\u001b[39m\u001b[38;5;124m_dressed_\u001b[39m\u001b[38;5;124m\"\u001b[39m \u001b[38;5;241m+\u001b[39m \u001b[38;5;28mself\u001b[39m\u001b[38;5;241m.\u001b[39mname):\n\u001b[1;32m     28\u001b[0m     \u001b[38;5;28;01mreturn\u001b[39;00m \u001b[38;5;28mgetattr\u001b[39m(container, \u001b[38;5;124m\"\u001b[39m\u001b[38;5;124m_dressed_\u001b[39m\u001b[38;5;124m\"\u001b[39m \u001b[38;5;241m+\u001b[39m \u001b[38;5;28mself\u001b[39m\u001b[38;5;241m.\u001b[39mname)\n",
      "File \u001b[0;32m~/py/2022_17_03/miniconda/lib/python3.9/site-packages/xobjects/array.py:585\u001b[0m, in \u001b[0;36mArray.to_nplike\u001b[0;34m(self)\u001b[0m\n\u001b[1;32m    583\u001b[0m cshape \u001b[38;5;241m=\u001b[39m [shape[ii] \u001b[38;5;28;01mfor\u001b[39;00m ii \u001b[38;5;129;01min\u001b[39;00m \u001b[38;5;28mself\u001b[39m\u001b[38;5;241m.\u001b[39m_order]\n\u001b[1;32m    584\u001b[0m \u001b[38;5;28;01mif\u001b[39;00m \u001b[38;5;28mhasattr\u001b[39m(\u001b[38;5;28mself\u001b[39m\u001b[38;5;241m.\u001b[39m_itemtype, \u001b[38;5;124m\"\u001b[39m\u001b[38;5;124m_dtype\u001b[39m\u001b[38;5;124m\"\u001b[39m):\n\u001b[0;32m--> 585\u001b[0m     arr \u001b[38;5;241m=\u001b[39m \u001b[38;5;28;43mself\u001b[39;49m\u001b[38;5;241;43m.\u001b[39;49m\u001b[43m_buffer\u001b[49m\u001b[38;5;241;43m.\u001b[39;49m\u001b[43mto_nplike\u001b[49m\u001b[43m(\u001b[49m\n\u001b[1;32m    586\u001b[0m \u001b[43m        \u001b[49m\u001b[38;5;28;43mself\u001b[39;49m\u001b[38;5;241;43m.\u001b[39;49m\u001b[43m_offset\u001b[49m\u001b[43m \u001b[49m\u001b[38;5;241;43m+\u001b[39;49m\u001b[43m \u001b[49m\u001b[38;5;28;43mself\u001b[39;49m\u001b[38;5;241;43m.\u001b[39;49m\u001b[43m_data_offset\u001b[49m\u001b[43m,\u001b[49m\u001b[43m \u001b[49m\u001b[38;5;28;43mself\u001b[39;49m\u001b[38;5;241;43m.\u001b[39;49m\u001b[43m_itemtype\u001b[49m\u001b[38;5;241;43m.\u001b[39;49m\u001b[43m_dtype\u001b[49m\u001b[43m,\u001b[49m\u001b[43m \u001b[49m\u001b[43mcshape\u001b[49m\n\u001b[1;32m    587\u001b[0m \u001b[43m    \u001b[49m\u001b[43m)\u001b[49m\u001b[38;5;241m.\u001b[39mtranspose(\u001b[38;5;28mself\u001b[39m\u001b[38;5;241m.\u001b[39m_order)\n\u001b[1;32m    588\u001b[0m     \u001b[38;5;28;01massert\u001b[39;00m arr\u001b[38;5;241m.\u001b[39mstrides \u001b[38;5;241m==\u001b[39m \u001b[38;5;28mself\u001b[39m\u001b[38;5;241m.\u001b[39m_strides\n\u001b[1;32m    589\u001b[0m     \u001b[38;5;28;01mreturn\u001b[39;00m arr\n",
      "File \u001b[0;32m~/py/2022_17_03/miniconda/lib/python3.9/site-packages/xobjects/context_cpu.py:466\u001b[0m, in \u001b[0;36mBufferNumpy.to_nplike\u001b[0;34m(self, offset, dtype, shape)\u001b[0m\n\u001b[1;32m    463\u001b[0m count \u001b[38;5;241m=\u001b[39m np\u001b[38;5;241m.\u001b[39mprod(shape)\n\u001b[1;32m    464\u001b[0m \u001b[38;5;66;03m# dtype=np.dtype(dtype)\u001b[39;00m\n\u001b[1;32m    465\u001b[0m \u001b[38;5;66;03m# return self.buffer[offset:].view(dtype)[:count].reshape(*shape)\u001b[39;00m\n\u001b[0;32m--> 466\u001b[0m \u001b[38;5;28;01mreturn\u001b[39;00m \u001b[43mnp\u001b[49m\u001b[38;5;241;43m.\u001b[39;49m\u001b[43mfrombuffer\u001b[49m\u001b[43m(\u001b[49m\n\u001b[1;32m    467\u001b[0m \u001b[43m    \u001b[49m\u001b[38;5;28;43mself\u001b[39;49m\u001b[38;5;241;43m.\u001b[39;49m\u001b[43mbuffer\u001b[49m\u001b[43m,\u001b[49m\u001b[43m \u001b[49m\u001b[43mdtype\u001b[49m\u001b[38;5;241;43m=\u001b[39;49m\u001b[43mdtype\u001b[49m\u001b[43m,\u001b[49m\u001b[43m \u001b[49m\u001b[43mcount\u001b[49m\u001b[38;5;241;43m=\u001b[39;49m\u001b[43mcount\u001b[49m\u001b[43m,\u001b[49m\u001b[43m \u001b[49m\u001b[43moffset\u001b[49m\u001b[38;5;241;43m=\u001b[39;49m\u001b[43moffset\u001b[49m\n\u001b[1;32m    468\u001b[0m \u001b[43m\u001b[49m\u001b[43m)\u001b[49m\u001b[38;5;241m.\u001b[39mreshape(\u001b[38;5;241m*\u001b[39mshape)\n",
      "\u001b[0;31mKeyboardInterrupt\u001b[0m: "
     ]
    }
   ],
   "source": [
    "tracker1 = xt.Tracker(_context=ctx_cpu, line=line)\n",
    "tw = tracker_normal.twiss(ref)\n",
    "\n",
    "\n",
    "with open('hl_line.json', 'r') as fid:\n",
    "    loaded_dct = json.load(fid)\n",
    "line = xt.Line.from_dict(loaded_dct)\n",
    "line.vars['i_mo'] = 0\n",
    "alpha_xx= 0.0\n",
    "nu_x = tw[\"qx\"]% 1\n",
    "nu_y = tw[\"qy\"]% 1\n",
    "ii = 0\n",
    "for elem in line.element_dict :\n",
    "    if(ii%5000 == 0):\n",
    "        print('Iteration number ', ii, 'of', len(line.element_dict))\n",
    "    if isinstance(line.element_dict[elem],xt.beam_elements.elements.Multipole): \n",
    "        if(line.element_dict[elem].order==2):\n",
    "            jj = 0  \n",
    "            for elem2 in line.element_dict :\n",
    "                if isinstance(line.element_dict[elem2],xt.beam_elements.elements.Multipole): \n",
    "                    if((line.element_dict[elem2].order==2) and (not math.isclose(line.element_dict[elem].knl[2], 0)) \n",
    "                       and (not math.isclose(line.element_dict[elem2].knl[2], 0))):\n",
    "                        \n",
    "                        psi_ij_mod_x=np.abs(2*np.pi*tw['mux'][jj]-2*np.pi*tw['mux'][ii])\n",
    "                        \n",
    "                        beta_i_beta_j = pow(tw['betx'][ii],3/2)*pow(tw['betx'][jj],3/2)\n",
    "               \n",
    "                        S_i_S_j = line.element_dict[elem].knl[2]*line.element_dict[elem2].knl[2]\n",
    "                \n",
    "                        I1 = (np.cos(3*(np.pi*nu_x-psi_ij_mod_x)))/(np.sin(3*np.pi*nu_x))\n",
    "                    \n",
    "                        I2 = 3*(np.cos(np.pi*nu_x-psi_ij_mod_x)/(np.sin(np.pi*nu_x)))\n",
    "                        \n",
    "                        alpha_xx = beta_i_beta_j*(S_i_S_j)*((3/(np.tan(nu_x)))+(1/np.tan(3*nu_x)))\n",
    "                        alpha_xx = -alpha_xx/(64*np.pi)\n",
    "                        if(jj==373):\n",
    "                            print('psi_ij_mod_x = ',psi_ij_mod_x,'beta_i_beta_j = ',beta_i_beta_j,'S_i_S_j',S_i_S_j,'I1 ',I1, 'I2', I2)\n",
    "                            print('elem is',elem,'elem2 is',elem2,'and tw[name][elem]=',tw['name'][jj],'with beta=',tw['betx'][jj], 'with knl=',\n",
    "                                  line.element_dict[elem2].knl[2], 'ii =', ii, 'jj = ', jj)\n",
    "                            print('alpha_xx = ',alpha_xx)\n",
    "                            print('---------------------------------------------------------------------')\n",
    "                jj+=1\n",
    "            \n",
    "    ii+=1\n",
    "    \n",
    "alpha_xx_tot = -alpha_xx/(16*np.pi)\n",
    "print(alpha_xx_tot)"
   ]
  },
  {
   "cell_type": "code",
   "execution_count": null,
   "id": "86306e0f-8a60-46cd-a886-ec9c64ed5b44",
   "metadata": {},
   "outputs": [],
   "source": []
  },
  {
   "cell_type": "code",
   "execution_count": 20,
   "id": "979993af-1253-4019-ac96-e78ab03a54cc",
   "metadata": {},
   "outputs": [
    {
     "data": {
      "text/plain": [
       "2.8284271247461903"
      ]
     },
     "execution_count": 20,
     "metadata": {},
     "output_type": "execute_result"
    }
   ],
   "source": []
  },
  {
   "cell_type": "code",
   "execution_count": null,
   "id": "f9d284c3-1ec0-4932-9328-4e76f72e7227",
   "metadata": {},
   "outputs": [],
   "source": []
  },
  {
   "cell_type": "code",
   "execution_count": null,
   "id": "01b572f5-4761-49f2-b0ed-95a3edee965b",
   "metadata": {},
   "outputs": [],
   "source": []
  },
  {
   "cell_type": "code",
   "execution_count": null,
   "id": "6631296b-875d-44f7-adb7-9e85908f2894",
   "metadata": {},
   "outputs": [],
   "source": []
  },
  {
   "cell_type": "code",
   "execution_count": null,
   "id": "3cbe95f7-5a7b-4eff-ba25-75aa38964e0e",
   "metadata": {},
   "outputs": [],
   "source": [
    "206586878.711114"
   ]
  },
  {
   "cell_type": "code",
   "execution_count": null,
   "id": "f355f0ac-647f-4766-a60e-86ff54f64f18",
   "metadata": {},
   "outputs": [],
   "source": []
  },
  {
   "cell_type": "code",
   "execution_count": null,
   "id": "979ee0e7-6bd3-4ee3-8cd8-926477ecec9a",
   "metadata": {},
   "outputs": [],
   "source": []
  }
 ],
 "metadata": {
  "kernelspec": {
   "display_name": "Python 3 (ipykernel)",
   "language": "python",
   "name": "python3"
  },
  "language_info": {
   "codemirror_mode": {
    "name": "ipython",
    "version": 3
   },
   "file_extension": ".py",
   "mimetype": "text/x-python",
   "name": "python",
   "nbconvert_exporter": "python",
   "pygments_lexer": "ipython3",
   "version": "3.9.7"
  }
 },
 "nbformat": 4,
 "nbformat_minor": 5
}
