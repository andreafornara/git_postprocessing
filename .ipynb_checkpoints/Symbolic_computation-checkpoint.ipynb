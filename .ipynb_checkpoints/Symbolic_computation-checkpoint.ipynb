{
 "cells": [
  {
   "cell_type": "code",
   "execution_count": 1,
   "id": "88267508-b1c4-4f09-8cef-9da8046cc1f6",
   "metadata": {},
   "outputs": [],
   "source": [
    "import sympy as sp\n",
    "from sympy.vector import CoordSys3D"
   ]
  },
  {
   "cell_type": "markdown",
   "id": "dd8a2830-5caa-4a91-afca-8c36af11655a",
   "metadata": {},
   "source": [
    "We want to learn about symbolic computation. Let's start with something easy. We will do simple roots."
   ]
  },
  {
   "cell_type": "code",
   "execution_count": 16,
   "id": "e48e42ed-555a-42a5-b998-b54c2affb74b",
   "metadata": {},
   "outputs": [
    {
     "data": {
      "text/latex": [
       "$\\displaystyle \\sqrt{3}$"
      ],
      "text/plain": [
       "sqrt(3)"
      ]
     },
     "execution_count": 16,
     "metadata": {},
     "output_type": "execute_result"
    }
   ],
   "source": [
    "sp.sqrt(3)"
   ]
  },
  {
   "cell_type": "code",
   "execution_count": 17,
   "id": "4e3555bb-d719-4fec-9641-b1817c27d81d",
   "metadata": {},
   "outputs": [
    {
     "data": {
      "text/latex": [
       "$\\displaystyle 2 \\sqrt{2}$"
      ],
      "text/plain": [
       "2*sqrt(2)"
      ]
     },
     "execution_count": 17,
     "metadata": {},
     "output_type": "execute_result"
    }
   ],
   "source": [
    "sp.sqrt(8)"
   ]
  },
  {
   "cell_type": "markdown",
   "id": "38db4fee-a78b-456d-afaa-4a97e05be63e",
   "metadata": {},
   "source": [
    "As you can see the second one has been simplified by sympy, nice.\n",
    "Now let's have a look at symbols."
   ]
  },
  {
   "cell_type": "code",
   "execution_count": 18,
   "id": "4452eb38-0e06-48df-bda9-c23b03fed0a9",
   "metadata": {},
   "outputs": [],
   "source": [
    "x,y = sp.symbols('x y')"
   ]
  },
  {
   "cell_type": "markdown",
   "id": "4305ca18-191f-4df0-a9f5-e9d0892a2408",
   "metadata": {},
   "source": [
    "So now x and y have become a symbol -> we can compute:"
   ]
  },
  {
   "cell_type": "code",
   "execution_count": 19,
   "id": "ef001e3f-357e-4fff-ad53-e37afddd2642",
   "metadata": {},
   "outputs": [
    {
     "data": {
      "text/latex": [
       "$\\displaystyle x + y$"
      ],
      "text/plain": [
       "x + y"
      ]
     },
     "execution_count": 19,
     "metadata": {},
     "output_type": "execute_result"
    }
   ],
   "source": [
    "x+y"
   ]
  },
  {
   "cell_type": "code",
   "execution_count": 20,
   "id": "89d064f0-dcfa-4e65-b72a-39289dea9bf8",
   "metadata": {},
   "outputs": [
    {
     "data": {
      "text/latex": [
       "$\\displaystyle x^{y}$"
      ],
      "text/plain": [
       "x**y"
      ]
     },
     "execution_count": 20,
     "metadata": {},
     "output_type": "execute_result"
    }
   ],
   "source": [
    "pow(x,y)"
   ]
  },
  {
   "cell_type": "markdown",
   "id": "a4a8b1de-61cc-4c75-9adf-616c243224e6",
   "metadata": {},
   "source": [
    "What about derivatives? We want to derive the following:"
   ]
  },
  {
   "cell_type": "code",
   "execution_count": 21,
   "id": "cd58c46a-3413-4576-ab87-ec7ddf7dc292",
   "metadata": {},
   "outputs": [
    {
     "data": {
      "text/latex": [
       "$\\displaystyle e^{x} \\sin{\\left(x \\right)}$"
      ],
      "text/plain": [
       "exp(x)*sin(x)"
      ]
     },
     "execution_count": 21,
     "metadata": {},
     "output_type": "execute_result"
    }
   ],
   "source": [
    "sp.sin(x)*sp.exp(x)"
   ]
  },
  {
   "cell_type": "markdown",
   "id": "d8664953-71a0-4543-95b7-7541f97897c7",
   "metadata": {},
   "source": [
    "We can derive in x or in y, and the result will obviously change:"
   ]
  },
  {
   "cell_type": "code",
   "execution_count": 22,
   "id": "82a0f754-2e04-4557-b550-7e4357f0c6b0",
   "metadata": {},
   "outputs": [
    {
     "data": {
      "text/latex": [
       "$\\displaystyle e^{x} \\sin{\\left(x \\right)} + e^{x} \\cos{\\left(x \\right)}$"
      ],
      "text/plain": [
       "exp(x)*sin(x) + exp(x)*cos(x)"
      ]
     },
     "execution_count": 22,
     "metadata": {},
     "output_type": "execute_result"
    }
   ],
   "source": [
    "sp.diff(sp.sin(x)*sp.exp(x), x)"
   ]
  },
  {
   "cell_type": "code",
   "execution_count": 23,
   "id": "fd61e5b2-5f78-4215-8f66-d76a90afffc5",
   "metadata": {},
   "outputs": [
    {
     "data": {
      "text/latex": [
       "$\\displaystyle 0$"
      ],
      "text/plain": [
       "0"
      ]
     },
     "execution_count": 23,
     "metadata": {},
     "output_type": "execute_result"
    }
   ],
   "source": [
    "sp.diff(sp.sin(x)*sp.exp(x), y)"
   ]
  },
  {
   "cell_type": "markdown",
   "id": "3b062764-fc86-4497-9c7f-12453390ac2b",
   "metadata": {},
   "source": [
    "Same with the integral:"
   ]
  },
  {
   "cell_type": "code",
   "execution_count": 24,
   "id": "e2617d9c-1757-4de7-8bbe-239ab2c8bf19",
   "metadata": {},
   "outputs": [
    {
     "data": {
      "text/latex": [
       "$\\displaystyle e^{x} \\sin{\\left(x \\right)} + e^{x} \\cos{\\left(x \\right)}$"
      ],
      "text/plain": [
       "exp(x)*sin(x) + exp(x)*cos(x)"
      ]
     },
     "execution_count": 24,
     "metadata": {},
     "output_type": "execute_result"
    }
   ],
   "source": [
    "sp.exp(x)*sp.sin(x) + sp.exp(x)*sp.cos(x)"
   ]
  },
  {
   "cell_type": "code",
   "execution_count": 25,
   "id": "ef57a89e-44d1-4fea-9e51-6db93b9e5255",
   "metadata": {},
   "outputs": [
    {
     "data": {
      "text/latex": [
       "$\\displaystyle e^{x} \\sin{\\left(x \\right)}$"
      ],
      "text/plain": [
       "exp(x)*sin(x)"
      ]
     },
     "execution_count": 25,
     "metadata": {},
     "output_type": "execute_result"
    }
   ],
   "source": [
    "sp.integrate(sp.exp(x)*sp.sin(x) + sp.exp(x)*sp.cos(x), x)"
   ]
  },
  {
   "cell_type": "markdown",
   "id": "5ae88999-92ee-435d-9878-ae5bd659212d",
   "metadata": {},
   "source": [
    "We can also perform infinite integrals."
   ]
  },
  {
   "cell_type": "code",
   "execution_count": 26,
   "id": "aced50cd-eeee-4d87-af03-59193b8bf147",
   "metadata": {},
   "outputs": [
    {
     "data": {
      "text/latex": [
       "$\\displaystyle \\sin{\\left(x^{2} \\right)}$"
      ],
      "text/plain": [
       "sin(x**2)"
      ]
     },
     "execution_count": 26,
     "metadata": {},
     "output_type": "execute_result"
    }
   ],
   "source": [
    "sp.sin(x**2)"
   ]
  },
  {
   "cell_type": "code",
   "execution_count": 27,
   "id": "edf3cce5-c6d8-48dd-86c4-da790405618f",
   "metadata": {},
   "outputs": [
    {
     "data": {
      "text/latex": [
       "$\\displaystyle \\frac{\\sqrt{2} \\sqrt{\\pi}}{2}$"
      ],
      "text/plain": [
       "sqrt(2)*sqrt(pi)/2"
      ]
     },
     "execution_count": 27,
     "metadata": {},
     "output_type": "execute_result"
    }
   ],
   "source": [
    "sp.integrate(sp.sin(x**2), (x, -sp.oo, sp.oo))"
   ]
  },
  {
   "cell_type": "markdown",
   "id": "329e081b-b011-42d8-8aac-821589ae47db",
   "metadata": {},
   "source": [
    "We want to solve a partial differential equation. To do this we can try to use a new symbol, t."
   ]
  },
  {
   "cell_type": "code",
   "execution_count": 28,
   "id": "b4fd08ba-b8b8-45eb-983d-d73e24e68596",
   "metadata": {},
   "outputs": [
    {
     "data": {
      "text/latex": [
       "$\\displaystyle - y{\\left(t \\right)} + \\frac{d^{2}}{d t^{2}} y{\\left(t \\right)} = e^{t}$"
      ],
      "text/plain": [
       "Eq(-y(t) + Derivative(y(t), (t, 2)), exp(t))"
      ]
     },
     "execution_count": 28,
     "metadata": {},
     "output_type": "execute_result"
    }
   ],
   "source": [
    "t = sp.symbols('t')\n",
    "y = sp.Function('y')\n",
    "sp.Eq(y(t).diff(t, t) - y(t), sp.exp(t)) "
   ]
  },
  {
   "cell_type": "code",
   "execution_count": 29,
   "id": "2b09eaeb-4d46-4a2a-9637-a51fdef8b57d",
   "metadata": {},
   "outputs": [
    {
     "data": {
      "text/latex": [
       "$\\displaystyle y{\\left(t \\right)} = C_{2} e^{- t} + \\left(C_{1} + \\frac{t}{2}\\right) e^{t}$"
      ],
      "text/plain": [
       "Eq(y(t), C2*exp(-t) + (C1 + t/2)*exp(t))"
      ]
     },
     "execution_count": 29,
     "metadata": {},
     "output_type": "execute_result"
    }
   ],
   "source": [
    "sp.dsolve(sp.Eq(y(t).diff(t, t) - y(t), sp.exp(t)), y(t))"
   ]
  },
  {
   "cell_type": "markdown",
   "id": "f7427205-1b60-47a5-93ec-ac8f3a02a3b6",
   "metadata": {},
   "source": [
    "We can also study matrices!"
   ]
  },
  {
   "cell_type": "code",
   "execution_count": 30,
   "id": "4385e654-6cf7-4ac4-869f-8704d035b183",
   "metadata": {},
   "outputs": [
    {
     "data": {
      "text/latex": [
       "$\\displaystyle \\left[\\begin{matrix}1 & 2\\\\3 & 4\\end{matrix}\\right]$"
      ],
      "text/plain": [
       "Matrix([\n",
       "[1, 2],\n",
       "[3, 4]])"
      ]
     },
     "execution_count": 30,
     "metadata": {},
     "output_type": "execute_result"
    }
   ],
   "source": [
    "A=sp.Matrix([[1,2],[3,4]])\n",
    "A"
   ]
  },
  {
   "cell_type": "code",
   "execution_count": 31,
   "id": "b96ae82d-8228-4f37-ad76-0a2d438fe57c",
   "metadata": {},
   "outputs": [
    {
     "data": {
      "text/latex": [
       "$\\displaystyle \\left[\\begin{matrix}1 & 2\\\\3 & 4\\end{matrix}\\right]$"
      ],
      "text/plain": [
       "Matrix([\n",
       "[1, 2],\n",
       "[3, 4]])"
      ]
     },
     "execution_count": 31,
     "metadata": {},
     "output_type": "execute_result"
    }
   ],
   "source": [
    "B=sp.Matrix([[1,2],[3,4]])\n",
    "B"
   ]
  },
  {
   "cell_type": "code",
   "execution_count": 32,
   "id": "0e0a35ac-c044-4bd6-8d03-1ecd48e633de",
   "metadata": {},
   "outputs": [
    {
     "data": {
      "text/latex": [
       "$\\displaystyle \\left[\\begin{matrix}2 & 4\\\\6 & 8\\end{matrix}\\right]$"
      ],
      "text/plain": [
       "Matrix([\n",
       "[2, 4],\n",
       "[6, 8]])"
      ]
     },
     "execution_count": 32,
     "metadata": {},
     "output_type": "execute_result"
    }
   ],
   "source": [
    "A+B"
   ]
  },
  {
   "cell_type": "code",
   "execution_count": 33,
   "id": "6c326928-14c7-40eb-9711-5d9fbfb8e25c",
   "metadata": {},
   "outputs": [
    {
     "data": {
      "text/latex": [
       "$\\displaystyle \\left[\\begin{matrix}7 & 10\\\\15 & 22\\end{matrix}\\right]$"
      ],
      "text/plain": [
       "Matrix([\n",
       "[ 7, 10],\n",
       "[15, 22]])"
      ]
     },
     "execution_count": 33,
     "metadata": {},
     "output_type": "execute_result"
    }
   ],
   "source": [
    "A*B"
   ]
  },
  {
   "cell_type": "markdown",
   "id": "837f316d-e245-497a-90e1-2fed7f802dc2",
   "metadata": {},
   "source": [
    "We can think of a complicated matrix."
   ]
  },
  {
   "cell_type": "code",
   "execution_count": 34,
   "id": "9176fdad-300d-4e7c-80e9-3fc5ed42394a",
   "metadata": {},
   "outputs": [
    {
     "data": {
      "text/latex": [
       "$\\displaystyle \\theta$"
      ],
      "text/plain": [
       "theta"
      ]
     },
     "execution_count": 34,
     "metadata": {},
     "output_type": "execute_result"
    }
   ],
   "source": [
    "theta = sp.symbols('theta')\n",
    "theta"
   ]
  },
  {
   "cell_type": "code",
   "execution_count": 35,
   "id": "f9c17006-8042-44b9-a747-810b26aedcc4",
   "metadata": {},
   "outputs": [
    {
     "data": {
      "text/latex": [
       "$\\displaystyle \\left[\\begin{matrix}\\cos{\\left(\\theta \\right)} & \\sin{\\left(\\theta \\right)}\\\\- \\sin{\\left(\\theta \\right)} & \\cos{\\left(\\theta \\right)}\\end{matrix}\\right]$"
      ],
      "text/plain": [
       "Matrix([\n",
       "[ cos(theta), sin(theta)],\n",
       "[-sin(theta), cos(theta)]])"
      ]
     },
     "execution_count": 35,
     "metadata": {},
     "output_type": "execute_result"
    }
   ],
   "source": [
    "R = sp.Matrix([[sp.cos(theta),sp.sin(theta)],[-sp.sin(theta),sp.cos(theta)]])\n",
    "R"
   ]
  },
  {
   "cell_type": "code",
   "execution_count": 36,
   "id": "df7a1e69-90f7-4767-9061-f18819130659",
   "metadata": {},
   "outputs": [
    {
     "data": {
      "text/latex": [
       "$\\displaystyle \\left[\\begin{matrix}- \\left(\\left(- \\sin^{2}{\\left(\\theta \\right)} + \\cos^{2}{\\left(\\theta \\right)}\\right) \\sin{\\left(\\theta \\right)} + 2 \\sin{\\left(\\theta \\right)} \\cos^{2}{\\left(\\theta \\right)}\\right) \\sin{\\left(\\theta \\right)} + \\left(\\left(- \\sin^{2}{\\left(\\theta \\right)} + \\cos^{2}{\\left(\\theta \\right)}\\right) \\cos{\\left(\\theta \\right)} - 2 \\sin^{2}{\\left(\\theta \\right)} \\cos{\\left(\\theta \\right)}\\right) \\cos{\\left(\\theta \\right)} & \\left(\\left(- \\sin^{2}{\\left(\\theta \\right)} + \\cos^{2}{\\left(\\theta \\right)}\\right) \\sin{\\left(\\theta \\right)} + 2 \\sin{\\left(\\theta \\right)} \\cos^{2}{\\left(\\theta \\right)}\\right) \\cos{\\left(\\theta \\right)} + \\left(\\left(- \\sin^{2}{\\left(\\theta \\right)} + \\cos^{2}{\\left(\\theta \\right)}\\right) \\cos{\\left(\\theta \\right)} - 2 \\sin^{2}{\\left(\\theta \\right)} \\cos{\\left(\\theta \\right)}\\right) \\sin{\\left(\\theta \\right)}\\\\\\left(- \\left(- \\sin^{2}{\\left(\\theta \\right)} + \\cos^{2}{\\left(\\theta \\right)}\\right) \\sin{\\left(\\theta \\right)} - 2 \\sin{\\left(\\theta \\right)} \\cos^{2}{\\left(\\theta \\right)}\\right) \\cos{\\left(\\theta \\right)} - \\left(\\left(- \\sin^{2}{\\left(\\theta \\right)} + \\cos^{2}{\\left(\\theta \\right)}\\right) \\cos{\\left(\\theta \\right)} - 2 \\sin^{2}{\\left(\\theta \\right)} \\cos{\\left(\\theta \\right)}\\right) \\sin{\\left(\\theta \\right)} & \\left(- \\left(- \\sin^{2}{\\left(\\theta \\right)} + \\cos^{2}{\\left(\\theta \\right)}\\right) \\sin{\\left(\\theta \\right)} - 2 \\sin{\\left(\\theta \\right)} \\cos^{2}{\\left(\\theta \\right)}\\right) \\sin{\\left(\\theta \\right)} + \\left(\\left(- \\sin^{2}{\\left(\\theta \\right)} + \\cos^{2}{\\left(\\theta \\right)}\\right) \\cos{\\left(\\theta \\right)} - 2 \\sin^{2}{\\left(\\theta \\right)} \\cos{\\left(\\theta \\right)}\\right) \\cos{\\left(\\theta \\right)}\\end{matrix}\\right]$"
      ],
      "text/plain": [
       "Matrix([\n",
       "[-((-sin(theta)**2 + cos(theta)**2)*sin(theta) + 2*sin(theta)*cos(theta)**2)*sin(theta) + ((-sin(theta)**2 + cos(theta)**2)*cos(theta) - 2*sin(theta)**2*cos(theta))*cos(theta),  ((-sin(theta)**2 + cos(theta)**2)*sin(theta) + 2*sin(theta)*cos(theta)**2)*cos(theta) + ((-sin(theta)**2 + cos(theta)**2)*cos(theta) - 2*sin(theta)**2*cos(theta))*sin(theta)],\n",
       "[(-(-sin(theta)**2 + cos(theta)**2)*sin(theta) - 2*sin(theta)*cos(theta)**2)*cos(theta) - ((-sin(theta)**2 + cos(theta)**2)*cos(theta) - 2*sin(theta)**2*cos(theta))*sin(theta), (-(-sin(theta)**2 + cos(theta)**2)*sin(theta) - 2*sin(theta)*cos(theta)**2)*sin(theta) + ((-sin(theta)**2 + cos(theta)**2)*cos(theta) - 2*sin(theta)**2*cos(theta))*cos(theta)]])"
      ]
     },
     "execution_count": 36,
     "metadata": {},
     "output_type": "execute_result"
    }
   ],
   "source": [
    "C=R*R*R*R\n",
    "C"
   ]
  },
  {
   "cell_type": "code",
   "execution_count": 37,
   "id": "9c1ccec1-5e31-4564-b39d-0320967d1857",
   "metadata": {},
   "outputs": [
    {
     "data": {
      "text/latex": [
       "$\\displaystyle \\left[\\begin{matrix}8 \\sin^{4}{\\left(\\theta \\right)} - 8 \\sin^{2}{\\left(\\theta \\right)} + 1 & \\sin{\\left(4 \\theta \\right)}\\\\- \\sin{\\left(4 \\theta \\right)} & 8 \\sin^{4}{\\left(\\theta \\right)} - 8 \\sin^{2}{\\left(\\theta \\right)} + 1\\end{matrix}\\right]$"
      ],
      "text/plain": [
       "Matrix([\n",
       "[8*sin(theta)**4 - 8*sin(theta)**2 + 1,                          sin(4*theta)],\n",
       "[                        -sin(4*theta), 8*sin(theta)**4 - 8*sin(theta)**2 + 1]])"
      ]
     },
     "execution_count": 37,
     "metadata": {},
     "output_type": "execute_result"
    }
   ],
   "source": [
    "sp.simplify(C)"
   ]
  },
  {
   "cell_type": "markdown",
   "id": "4b229878-98b3-4d73-b5d9-ceffad90278e",
   "metadata": {},
   "source": [
    "I want to expand the sines and cosines."
   ]
  },
  {
   "cell_type": "code",
   "execution_count": 38,
   "id": "05a0d550-7bfc-4b90-9e49-5fd42e0e483a",
   "metadata": {},
   "outputs": [
    {
     "data": {
      "text/latex": [
       "$\\displaystyle f{\\left(0 \\right)} + x \\left. \\frac{d}{d \\xi} f{\\left(\\xi \\right)} \\right|_{\\substack{ \\xi=0 }} + O\\left(x^{2}\\right)$"
      ],
      "text/plain": [
       "f(0) + x*Subs(Derivative(f(xi), xi), xi, 0) + O(x**2)"
      ]
     },
     "execution_count": 38,
     "metadata": {},
     "output_type": "execute_result"
    }
   ],
   "source": [
    "x, h = sp.symbols(\"x,h\")\n",
    "f = sp.Function(\"f\")\n",
    "\n",
    "(f(x).series(x, x0=0, n=2))"
   ]
  },
  {
   "cell_type": "code",
   "execution_count": 39,
   "id": "e5d0fd31-aa96-42d4-962b-a1458d57ed5e",
   "metadata": {},
   "outputs": [],
   "source": [
    "m11_22 = sp.cos(theta).series(theta, x0=0, n=2)\n",
    "m12_21 = sp.sin(theta).series(theta, x0=0, n=2)"
   ]
  },
  {
   "cell_type": "code",
   "execution_count": 40,
   "id": "2196670f-fc14-460f-b82a-4c952a36816a",
   "metadata": {},
   "outputs": [
    {
     "data": {
      "text/latex": [
       "$\\displaystyle \\left[\\begin{matrix}1 + O\\left(\\theta^{2}\\right) & \\theta + O\\left(\\theta^{2}\\right)\\\\\\theta + O\\left(\\theta^{2}\\right) & 1 + O\\left(\\theta^{2}\\right)\\end{matrix}\\right]$"
      ],
      "text/plain": [
       "Matrix([\n",
       "[    1 + O(theta**2), theta + O(theta**2)],\n",
       "[theta + O(theta**2),     1 + O(theta**2)]])"
      ]
     },
     "execution_count": 40,
     "metadata": {},
     "output_type": "execute_result"
    }
   ],
   "source": [
    "R = sp.Matrix([[m11_22,m12_21],[m12_21,m11_22]])\n",
    "R"
   ]
  },
  {
   "cell_type": "code",
   "execution_count": 41,
   "id": "828d6656-5e04-40b3-a3a2-6b404f00e836",
   "metadata": {},
   "outputs": [
    {
     "data": {
      "text/latex": [
       "$\\displaystyle \\left[\\begin{matrix}1 + O\\left(\\theta^{2}\\right) & 4 \\theta + O\\left(\\theta^{2}\\right)\\\\4 \\theta + O\\left(\\theta^{2}\\right) & 1 + O\\left(\\theta^{2}\\right)\\end{matrix}\\right]$"
      ],
      "text/plain": [
       "Matrix([\n",
       "[      1 + O(theta**2), 4*theta + O(theta**2)],\n",
       "[4*theta + O(theta**2),       1 + O(theta**2)]])"
      ]
     },
     "execution_count": 41,
     "metadata": {},
     "output_type": "execute_result"
    }
   ],
   "source": [
    "C=R*R*R*R\n",
    "C_simp = sp.simplify(C)\n",
    "C_simp"
   ]
  },
  {
   "cell_type": "code",
   "execution_count": 42,
   "id": "b560cf67-817c-4262-acf5-c2aaf7ae0457",
   "metadata": {},
   "outputs": [
    {
     "name": "stdout",
     "output_type": "stream",
     "text": [
      "{1 + O(θ): 2}\n"
     ]
    }
   ],
   "source": [
    "sp.pprint(C_simp.eigenvals())"
   ]
  },
  {
   "cell_type": "code",
   "execution_count": 43,
   "id": "a66fc0b9-74a1-495e-ae29-7d62eeb1d04a",
   "metadata": {},
   "outputs": [
    {
     "data": {
      "text/plain": [
       "'\\\\int\\\\limits_{0}^{\\\\pi} \\\\cos^{2}{\\\\left(x \\\\right)}\\\\, dx'"
      ]
     },
     "execution_count": 43,
     "metadata": {},
     "output_type": "execute_result"
    }
   ],
   "source": [
    "sp.latex(sp.Integral(sp.cos(x)**2, (x, 0, sp.pi)))"
   ]
  },
  {
   "cell_type": "code",
   "execution_count": 44,
   "id": "c8d4d03c-2386-4ec6-8a1c-f651582d1d15",
   "metadata": {},
   "outputs": [],
   "source": [
    "inte=sp.Integral(sp.cos(x)**2, (x, 0, sp.pi))"
   ]
  },
  {
   "cell_type": "code",
   "execution_count": 45,
   "id": "4c191db2-be19-42ee-9889-53c0b0e6562f",
   "metadata": {},
   "outputs": [
    {
     "data": {
      "text/plain": [
       "'\\\\int\\\\limits_{0}^{\\\\pi} \\\\cos^{2}{\\\\left(x \\\\right)}\\\\, dx'"
      ]
     },
     "execution_count": 45,
     "metadata": {},
     "output_type": "execute_result"
    }
   ],
   "source": [
    "sp.latex(inte)"
   ]
  },
  {
   "cell_type": "markdown",
   "id": "719a70bc-1017-4844-b8c5-3b39c3cbdb41",
   "metadata": {},
   "source": [
    "$\\int\\limits_{0}^{\\pi}\\cos^{2}(x) dx$"
   ]
  },
  {
   "cell_type": "code",
   "execution_count": null,
   "id": "34e9270e-1296-4f3e-958a-78365f6eb0fc",
   "metadata": {},
   "outputs": [],
   "source": []
  },
  {
   "cell_type": "code",
   "execution_count": null,
   "id": "337f48ed-3870-46a1-8eab-2112e9a69fb6",
   "metadata": {},
   "outputs": [],
   "source": []
  },
  {
   "cell_type": "markdown",
   "id": "eeab2005-1cf1-4a59-a3b5-d145f8e65b24",
   "metadata": {},
   "source": [
    "# Chapter 1 : Learning about straight line Hamiltonian"
   ]
  },
  {
   "cell_type": "markdown",
   "id": "15a078c6-fed6-441a-b4a6-9ccb6c462e90",
   "metadata": {},
   "source": [
    "Thanks to SymPy we can try to perform symbolic calculations. We want to perform the Hamiltonian calculation to obtain the Octupolar amplitude detuning effect on the tune to reproduce the results of the presentation and then move on to sextupoles."
   ]
  },
  {
   "cell_type": "code",
   "execution_count": 1,
   "id": "dfec807b-e38e-439b-832e-0df33dddf583",
   "metadata": {},
   "outputs": [],
   "source": [
    "import sympy as sp\n",
    "import numpy as np"
   ]
  },
  {
   "cell_type": "markdown",
   "id": "b71dd7d6-1538-4638-9690-62da3affa7a5",
   "metadata": {},
   "source": [
    "We define symbols with SymPy, everything is real valued.\n",
    "Our hypoteses are:\n",
    "We can expand the classic $b_{m}+ia_{m}$ expression of the Hamiltonian with the following assumptions:\n",
    "- We denote with $A_{n}$ and $B_{n}$ the coefficients of the integrated field that is assumed **constant** over the magnet;\n",
    "- $A_{n}$ = 0 $\\forall n$ (Normal Octupole);\n",
    "- $B_{n}$ $\\in \\mathbb{R}$ $\\forall n$ "
   ]
  },
  {
   "cell_type": "code",
   "execution_count": 20,
   "id": "85c675ae-f5df-40aa-bef3-eb2943846e3d",
   "metadata": {},
   "outputs": [],
   "source": [
    "Hn, B, rho, n, i, x, y = sp.symbols('Hn B rho n i x y')\n",
    "B = sp.symbols('B', real=True)\n",
    "rho = sp.symbols('rho', real=True)\n",
    "n = sp.symbols('n', integer=True)\n",
    "x = sp.symbols('x', real=True)\n",
    "y = sp.symbols('y', real=True)\n",
    "Bn = sp.symbols('B_{4}', real=True)\n",
    "K4L = sp.symbols('K_{4}L', real=True)\n",
    "K3L = sp.symbols('K_{3}L', real=True)"
   ]
  },
  {
   "cell_type": "markdown",
   "id": "3d739f19-53fe-40ec-a6c0-6999e697c5ba",
   "metadata": {},
   "source": [
    "The general formula is:\n",
    "$\\begin{equation} H_{n}=\\frac{1}{B\\rho}Re[\\frac{1}{n}[B_{n}+iA_{n}](x + iy)^{n}] \\end{equation}$\n",
    "\n",
    "We want the octupoles, so we calculate it for n = 4."
   ]
  },
  {
   "cell_type": "code",
   "execution_count": 3,
   "id": "6acdc4b7-bcad-4a55-b586-be18f5eaceeb",
   "metadata": {},
   "outputs": [
    {
     "data": {
      "text/latex": [
       "$\\displaystyle \\frac{K_{4}L \\left(x^{4} - 6 x^{2} y^{2} + y^{4}\\right)}{24}$"
      ],
      "text/plain": [
       "K_{4}L*(x**4 - 6*x**2*y**2 + y**4)/24"
      ]
     },
     "execution_count": 3,
     "metadata": {},
     "output_type": "execute_result"
    }
   ],
   "source": [
    "n = 4\n",
    "Hn = 1/(B*rho)*sp.Rational(1,n*sp.factorial(n-1))*sp.re((((Bn)*(x + sp.I*y)**n)))\n",
    "Hn = Hn.subs({Bn/(B*rho):K4L})\n",
    "Hn"
   ]
  },
  {
   "cell_type": "markdown",
   "id": "c5ab151d-62ba-4657-a76d-0a339f624137",
   "metadata": {},
   "source": [
    "Now we want everything expressed as a function of the action-angle variables, i.e. $J_{x,y}$ and $\\phi_{x,y}$:\n",
    "$\\begin{equation} x,y=\\sqrt{2 \\beta_{x,y} J_{x,y}}cos(\\phi_{x,y}) \\end{equation}$."
   ]
  },
  {
   "cell_type": "code",
   "execution_count": 4,
   "id": "7b8d122e-6e64-4faf-8de6-0dd4fd5990f6",
   "metadata": {},
   "outputs": [],
   "source": [
    "Jx = sp.symbols('J_{x}', real=True)\n",
    "Jy = sp.symbols('J_{y}', real=True)\n",
    "betx = sp.symbols(r'\\beta_{x}', real=True)\n",
    "bety = sp.symbols(r'\\beta_{y}', real=True)\n",
    "phix = sp.symbols(r'\\phi_{x}', real=True)\n",
    "phiy = sp.symbols(r'\\phi_{y}', real=True)"
   ]
  },
  {
   "cell_type": "markdown",
   "id": "c8750058-be47-45cb-a179-fd5463da3158",
   "metadata": {},
   "source": [
    "We change the variables from x , y to $J_{x,y}$ and $\\phi_{x,y}$ by using the subs function on the Hamiltonian."
   ]
  },
  {
   "cell_type": "code",
   "execution_count": 5,
   "id": "e505c041-a481-42e6-90d9-56a04f6ae7bb",
   "metadata": {},
   "outputs": [
    {
     "data": {
      "text/latex": [
       "$\\displaystyle \\frac{K_{4}L \\left(4 J_{x}^{2} \\beta_{x}^{2} \\cos^{4}{\\left(\\phi_{x} \\right)} - 24 J_{x} J_{y} \\beta_{x} \\beta_{y} \\cos^{2}{\\left(\\phi_{x} \\right)} \\cos^{2}{\\left(\\phi_{y} \\right)} + 4 J_{y}^{2} \\beta_{y}^{2} \\cos^{4}{\\left(\\phi_{y} \\right)}\\right)}{24}$"
      ],
      "text/plain": [
       "K_{4}L*(4*J_{x}**2*\\beta_{x}**2*cos(\\phi_{x})**4 - 24*J_{x}*J_{y}*\\beta_{x}*\\beta_{y}*cos(\\phi_{x})**2*cos(\\phi_{y})**2 + 4*J_{y}**2*\\beta_{y}**2*cos(\\phi_{y})**4)/24"
      ]
     },
     "execution_count": 5,
     "metadata": {},
     "output_type": "execute_result"
    }
   ],
   "source": [
    "Hn_action = Hn.subs({x:sp.sqrt(2*Jx*betx)*sp.cos(phix), y: sp.sqrt(2*Jy*bety)*sp.cos(phiy)})\n",
    "Hn_action"
   ]
  },
  {
   "cell_type": "markdown",
   "id": "03c451fb-5f28-4431-b72a-fb5cd80a314b",
   "metadata": {},
   "source": [
    "We now want to obtain the tune by performing a partial derivative of this expression with respect to $J_{x}$ or $J_{y}$"
   ]
  },
  {
   "cell_type": "code",
   "execution_count": 6,
   "id": "a10352fd-f4ec-493f-95cc-0d9b7be8090d",
   "metadata": {},
   "outputs": [
    {
     "data": {
      "text/latex": [
       "$\\displaystyle \\frac{K_{4}L \\left(8 J_{x} \\beta_{x}^{2} \\cos^{4}{\\left(\\phi_{x} \\right)} - 24 J_{y} \\beta_{x} \\beta_{y} \\cos^{2}{\\left(\\phi_{x} \\right)} \\cos^{2}{\\left(\\phi_{y} \\right)}\\right)}{48 \\pi}$"
      ],
      "text/plain": [
       "K_{4}L*(8*J_{x}*\\beta_{x}**2*cos(\\phi_{x})**4 - 24*J_{y}*\\beta_{x}*\\beta_{y}*cos(\\phi_{x})**2*cos(\\phi_{y})**2)/(48*pi)"
      ]
     },
     "execution_count": 6,
     "metadata": {},
     "output_type": "execute_result"
    }
   ],
   "source": [
    "Qx = 1/(2*sp.pi)*sp.diff(Hn_action,Jx)\n",
    "Qx"
   ]
  },
  {
   "cell_type": "markdown",
   "id": "4beefb51-a9b4-4b8c-981c-d3c4527a52a4",
   "metadata": {},
   "source": [
    "We need to get rid of the cosines, in order to do this we integrate Qx from 0 to 2$\\pi$ in both directions:\n",
    "$\\begin{equation} \\frac{1}{(2\\pi)^{2}}\\int_{0}^{2\\pi} Q_{x} \\,d\\phi_{x}d\\phi_{y} \\end{equation}$"
   ]
  },
  {
   "cell_type": "code",
   "execution_count": 7,
   "id": "6334e02e-39e3-4306-9197-e9e483918473",
   "metadata": {},
   "outputs": [
    {
     "data": {
      "text/latex": [
       "$\\displaystyle \\frac{K_{4}L \\left(12 \\pi^{2} J_{x} \\beta_{x}^{2} - 24 \\pi^{2} J_{y} \\beta_{x} \\beta_{y}\\right)}{192 \\pi^{3}}$"
      ],
      "text/plain": [
       "K_{4}L*(12*pi**2*J_{x}*\\beta_{x}**2 - 24*pi**2*J_{y}*\\beta_{x}*\\beta_{y})/(192*pi**3)"
      ]
     },
     "execution_count": 7,
     "metadata": {},
     "output_type": "execute_result"
    }
   ],
   "source": [
    "Qx_mean = sp.integrate(Qx/(2*sp.pi)**2, (phix,0,2*sp.pi),(phiy,0,2*sp.pi))\n",
    "Qx_mean"
   ]
  },
  {
   "cell_type": "markdown",
   "id": "0936366e-0a8d-4ca4-bc37-e45ae833c0da",
   "metadata": {},
   "source": [
    "Ugly expression, SymPy lends a hand..."
   ]
  },
  {
   "cell_type": "code",
   "execution_count": 8,
   "id": "ccd458fb-e7d9-4199-8c80-48086d422588",
   "metadata": {},
   "outputs": [
    {
     "data": {
      "text/latex": [
       "$\\displaystyle \\frac{K_{4}L \\beta_{x} \\left(J_{x} \\beta_{x} - 2 J_{y} \\beta_{y}\\right)}{16 \\pi}$"
      ],
      "text/plain": [
       "K_{4}L*\\beta_{x}*(J_{x}*\\beta_{x} - 2*J_{y}*\\beta_{y})/(16*pi)"
      ]
     },
     "execution_count": 8,
     "metadata": {},
     "output_type": "execute_result"
    }
   ],
   "source": [
    "sp.simplify(Qx_mean)"
   ]
  },
  {
   "cell_type": "markdown",
   "id": "cb3a3213-4d7f-4b9e-b86b-6f9865755109",
   "metadata": {},
   "source": [
    "There we go, the detuning with amplitude in the x direction due to x amplitude is given by:"
   ]
  },
  {
   "cell_type": "code",
   "execution_count": 11,
   "id": "ca3bb669-b284-427f-9554-4f16d88428ca",
   "metadata": {},
   "outputs": [
    {
     "data": {
      "text/latex": [
       "$\\displaystyle \\frac{K_{4}L \\beta_{x}^{2}}{16 \\pi}$"
      ],
      "text/plain": [
       "K_{4}L*\\beta_{x}**2/(16*pi)"
      ]
     },
     "execution_count": 11,
     "metadata": {},
     "output_type": "execute_result"
    }
   ],
   "source": [
    "det_x_oct_x =  sp.diff(Qx_mean,Jx)\n",
    "det_x_oct_x"
   ]
  },
  {
   "cell_type": "markdown",
   "id": "65a5f220-0d31-47b3-9f5e-356b4d957725",
   "metadata": {},
   "source": [
    "The cross term is:"
   ]
  },
  {
   "cell_type": "code",
   "execution_count": 12,
   "id": "8a4a8d5d-cb72-481e-9198-781317c4af70",
   "metadata": {},
   "outputs": [
    {
     "data": {
      "text/latex": [
       "$\\displaystyle - \\frac{K_{4}L \\beta_{x} \\beta_{y}}{8 \\pi}$"
      ],
      "text/plain": [
       "-K_{4}L*\\beta_{x}*\\beta_{y}/(8*pi)"
      ]
     },
     "execution_count": 12,
     "metadata": {},
     "output_type": "execute_result"
    }
   ],
   "source": [
    "det_x_oct_y =  sp.diff(Qx_mean,Jy)\n",
    "det_x_oct_y"
   ]
  },
  {
   "cell_type": "markdown",
   "id": "aaa5a37d-e0c4-46fb-9e99-766c38c5c490",
   "metadata": {},
   "source": [
    "And we can also perform the same calculation for the Y direction:"
   ]
  },
  {
   "cell_type": "code",
   "execution_count": 17,
   "id": "2508b6b1-b5ff-469f-a66c-e09e89f2d9ce",
   "metadata": {},
   "outputs": [
    {
     "data": {
      "text/latex": [
       "$\\displaystyle \\frac{K_{4}L \\beta_{y}^{2}}{16 \\pi}$"
      ],
      "text/plain": [
       "K_{4}L*\\beta_{y}**2/(16*pi)"
      ]
     },
     "execution_count": 17,
     "metadata": {},
     "output_type": "execute_result"
    }
   ],
   "source": [
    "Qy = 1/(2*sp.pi)*sp.diff(Hn_action,Jy)\n",
    "Qy_mean = sp.integrate(Qy/(2*sp.pi)**2, (phix,0,2*sp.pi),(phiy,0,2*sp.pi))\n",
    "sp.simplify(Qy_mean)\n",
    "det_y_oct_y =  sp.diff(Qy_mean,Jy)\n",
    "det_y_oct_y"
   ]
  },
  {
   "cell_type": "markdown",
   "id": "fa33a132-30af-49af-b510-2e75f50677ca",
   "metadata": {},
   "source": [
    "So we have obtained the results of the presentation regarding the octupoles. We want to study the sextupole effect."
   ]
  },
  {
   "cell_type": "code",
   "execution_count": 21,
   "id": "f6584302-d615-4e1b-bbb7-f55124c5c7bb",
   "metadata": {},
   "outputs": [
    {
     "data": {
      "text/latex": [
       "$\\displaystyle \\frac{K_{3}L \\left(x^{3} - 3 x y^{2}\\right)}{6}$"
      ],
      "text/plain": [
       "K_{3}L*(x**3 - 3*x*y**2)/6"
      ]
     },
     "execution_count": 21,
     "metadata": {},
     "output_type": "execute_result"
    }
   ],
   "source": [
    "n = 3\n",
    "Hn = 1/(B*rho)*sp.Rational(1,n*sp.factorial(n-1))*sp.re((((Bn)*(x + sp.I*y)**n)))\n",
    "Hn = Hn.subs({Bn/(B*rho):K3L})\n",
    "Hn"
   ]
  },
  {
   "cell_type": "code",
   "execution_count": 22,
   "id": "9f7dae52-887e-4f46-8b3f-24f9b1f63730",
   "metadata": {},
   "outputs": [
    {
     "data": {
      "text/latex": [
       "$\\displaystyle \\frac{K_{3}L \\left(- 6 \\sqrt{2} J_{y} \\beta_{y} \\sqrt{J_{x} \\beta_{x}} \\cos{\\left(\\phi_{x} \\right)} \\cos^{2}{\\left(\\phi_{y} \\right)} + 2 \\sqrt{2} \\left(J_{x} \\beta_{x}\\right)^{\\frac{3}{2}} \\cos^{3}{\\left(\\phi_{x} \\right)}\\right)}{6}$"
      ],
      "text/plain": [
       "K_{3}L*(-6*sqrt(2)*J_{y}*\\beta_{y}*sqrt(J_{x}*\\beta_{x})*cos(\\phi_{x})*cos(\\phi_{y})**2 + 2*sqrt(2)*(J_{x}*\\beta_{x})**(3/2)*cos(\\phi_{x})**3)/6"
      ]
     },
     "execution_count": 22,
     "metadata": {},
     "output_type": "execute_result"
    }
   ],
   "source": [
    "Hn_action = Hn.subs({x:sp.sqrt(2*Jx*betx)*sp.cos(phix), y: sp.sqrt(2*Jy*bety)*sp.cos(phiy)})\n",
    "Hn_action"
   ]
  },
  {
   "cell_type": "code",
   "execution_count": 25,
   "id": "8132f9b4-ef6e-41ac-9846-b5b86a1df315",
   "metadata": {},
   "outputs": [
    {
     "data": {
      "text/latex": [
       "$\\displaystyle 0$"
      ],
      "text/plain": [
       "0"
      ]
     },
     "execution_count": 25,
     "metadata": {},
     "output_type": "execute_result"
    }
   ],
   "source": [
    "Qx = 1/(2*sp.pi)*sp.diff(Hn_action,Jx)\n",
    "Qx_mean = sp.integrate(Qx/(2*sp.pi)**2, (phix,0,2*sp.pi),(phiy,0,2*sp.pi))\n",
    "Qx_mean"
   ]
  },
  {
   "cell_type": "code",
   "execution_count": null,
   "id": "e8359aba-9683-4e2d-b221-cd763c771cc3",
   "metadata": {},
   "outputs": [],
   "source": []
  }
 ],
 "metadata": {
  "kernelspec": {
   "display_name": "Python 3 (ipykernel)",
   "language": "python",
   "name": "python3"
  },
  "language_info": {
   "codemirror_mode": {
    "name": "ipython",
    "version": 3
   },
   "file_extension": ".py",
   "mimetype": "text/x-python",
   "name": "python",
   "nbconvert_exporter": "python",
   "pygments_lexer": "ipython3",
   "version": "3.9.7"
  }
 },
 "nbformat": 4,
 "nbformat_minor": 5
}
