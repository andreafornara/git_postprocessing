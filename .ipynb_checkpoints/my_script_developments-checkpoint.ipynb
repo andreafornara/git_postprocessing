{
 "cells": [
  {
   "cell_type": "code",
   "execution_count": 1,
   "id": "93ed7bbc-1518-4fcb-8de2-86838ad78825",
   "metadata": {},
   "outputs": [],
   "source": [
    "import numpy as np\n",
    "import xobjects as xo\n",
    "import xtrack as xt\n",
    "import xpart as xp\n",
    "import json\n",
    "import pandas as pd\n",
    "from cpymad.madx import Madx\n",
    "#from matplotlib import pyplot as plt\n",
    "import NAFFlib\n",
    "from math import modf\n",
    "#from scipy.constants import physical_constants\n",
    "from matplotlib import pyplot as plt\n",
    "from scipy.stats import linregress\n"
   ]
  },
  {
   "cell_type": "code",
   "execution_count": 2,
   "id": "377f323e-cb5c-460b-95b3-2397a854be91",
   "metadata": {},
   "outputs": [
    {
     "name": "stdout",
     "output_type": "stream",
     "text": [
      "generating ./4f0e4841f7a948e1a0263e9e94928349.c\n",
      "the current directory is '/home/afornara/studies/git_postprocessing'\n",
      "running build_ext\n",
      "building '4f0e4841f7a948e1a0263e9e94928349' extension\n",
      "gcc -pthread -B /home/afornara/py/2022_03_04/miniconda/compiler_compat -Wno-unused-result -Wsign-compare -DNDEBUG -O2 -Wall -fPIC -O2 -isystem /home/afornara/py/2022_03_04/miniconda/include -I/home/afornara/py/2022_03_04/miniconda/include -fPIC -O2 -isystem /home/afornara/py/2022_03_04/miniconda/include -fPIC -I/home/afornara/py/2022_03_04/miniconda/include/python3.9 -c 4f0e4841f7a948e1a0263e9e94928349.c -o ./4f0e4841f7a948e1a0263e9e94928349.o -std=c99 -O3 -Wno-unused-function\n",
      "gcc -pthread -B /home/afornara/py/2022_03_04/miniconda/compiler_compat -shared -Wl,-rpath,/home/afornara/py/2022_03_04/miniconda/lib -Wl,-rpath-link,/home/afornara/py/2022_03_04/miniconda/lib -L/home/afornara/py/2022_03_04/miniconda/lib -L/home/afornara/py/2022_03_04/miniconda/lib -Wl,-rpath,/home/afornara/py/2022_03_04/miniconda/lib -Wl,-rpath-link,/home/afornara/py/2022_03_04/miniconda/lib -L/home/afornara/py/2022_03_04/miniconda/lib ./4f0e4841f7a948e1a0263e9e94928349.o -o ./4f0e4841f7a948e1a0263e9e94928349.cpython-39-x86_64-linux-gnu.so -std=c99 -O3\n",
      "generating ./858da1f762d64f4ba32bea20d6043b84.c\n",
      "the current directory is '/home/afornara/studies/git_postprocessing'\n",
      "running build_ext\n",
      "building '858da1f762d64f4ba32bea20d6043b84' extension\n",
      "gcc -pthread -B /home/afornara/py/2022_03_04/miniconda/compiler_compat -Wno-unused-result -Wsign-compare -DNDEBUG -O2 -Wall -fPIC -O2 -isystem /home/afornara/py/2022_03_04/miniconda/include -I/home/afornara/py/2022_03_04/miniconda/include -fPIC -O2 -isystem /home/afornara/py/2022_03_04/miniconda/include -fPIC -I/home/afornara/py/2022_03_04/miniconda/include/python3.9 -c 858da1f762d64f4ba32bea20d6043b84.c -o ./858da1f762d64f4ba32bea20d6043b84.o -std=c99 -O3 -Wno-unused-function\n",
      "gcc -pthread -B /home/afornara/py/2022_03_04/miniconda/compiler_compat -shared -Wl,-rpath,/home/afornara/py/2022_03_04/miniconda/lib -Wl,-rpath-link,/home/afornara/py/2022_03_04/miniconda/lib -L/home/afornara/py/2022_03_04/miniconda/lib -L/home/afornara/py/2022_03_04/miniconda/lib -Wl,-rpath,/home/afornara/py/2022_03_04/miniconda/lib -Wl,-rpath-link,/home/afornara/py/2022_03_04/miniconda/lib -L/home/afornara/py/2022_03_04/miniconda/lib ./858da1f762d64f4ba32bea20d6043b84.o -o ./858da1f762d64f4ba32bea20d6043b84.cpython-39-x86_64-linux-gnu.so -std=c99 -O3\n"
     ]
    }
   ],
   "source": [
    "#input\n",
    "i_mo = -350\n",
    "p0c = 7000e9\n",
    "normal_emitt_x = 3e-6\n",
    "normal_emitt_y = 3e-6\n",
    "#proton_mass = physical_constants['proton mass energy equivalent in MeV'][0]/1000 \n",
    "\n",
    "#ctx_gpu = xo.ContextCupy()\n",
    "ctx_cpu = xo.ContextCpu()\n",
    "\n",
    "if False:\n",
    "    mad = Madx()\n",
    "    mad.option(echo=False)\n",
    "    mad.call('andrea.madx')\n",
    "    mad.use(sequence=\"lhcb1\")\n",
    "    line = xt.Line.from_madx_sequence(mad.sequence['lhcb1'],\n",
    "                                  deferred_expressions=True\n",
    "                                  )\n",
    "    with open('line.json', 'w') as fid:\n",
    "        json.dump(line.to_dict(), fid, cls=xo.JEncoder)\n",
    "\n",
    "else:\n",
    "    with open('line.json', 'r') as fid:\n",
    "        loaded_dct = json.load(fid)\n",
    "    line = xt.Line.from_dict(loaded_dct)\n",
    "\n",
    "    \n",
    "particle_0 = xp.Particles(_context=ctx_cpu, p0c=p0c)\n",
    "\n",
    "line.vars['i_mo'] = i_mo\n",
    "line.vars['cmrs.b1_sq']=0.5*line.vars['cmrs.b1_sq']\n",
    "\n",
    "#Testing two different tracking procedures, one via monitor=True and one via normal tracker\n",
    "\n",
    "\n",
    "tracker_monitor = xt.Tracker(_context=ctx_cpu, line=line)\n",
    "tw_monitor = tracker_monitor.twiss(particle_0)\n",
    "\n",
    "tracker_normal = xt.Tracker(_context=ctx_cpu, line=line)\n",
    "tw_normal = tracker_normal.twiss(particle_0)\n",
    "\n",
    "betx_at_ip3 = tw_normal['betx'][0]\n",
    "bety_at_ip3 = tw_normal['bety'][0]\n",
    "#print(tw_y['bety'][0])\n",
    "#assert np.isclose(tw['betx'][0],120.29057)\n",
    "\n",
    "sigma_x = np.sqrt(betx_at_ip3*normal_emitt_x/(particle_0.gamma0*particle_0.beta0))\n",
    "sigma_y = np.sqrt(bety_at_ip3*normal_emitt_y/(particle_0.gamma0*particle_0.beta0))\n",
    "#assert np.isclose(sigma_x,219.93e-6)\n",
    "#assert np.isclose(sigma_x,219.93e-6)\n",
    "\n",
    "p0_normal = tw_normal['particle_on_co']\n",
    "\n",
    "p0_monitor = tw_monitor['particle_on_co']\n",
    "\n",
    "#10 particles for either option, normal or monitor\n",
    "\n",
    "N_particles = 10\n",
    "\n",
    "particles_normal = xp.build_particles(_context=ctx_cpu,\n",
    "                                       particle_ref=p0_normal,\n",
    "                                       y=[mysigma*sigma_y[0] for mysigma\n",
    "                                         in np.linspace(0.2,2.2,N_particles)])\n",
    "\n",
    "particles_monitor = xp.build_particles(_context=ctx_cpu,\n",
    "                                       particle_ref=p0_monitor,\n",
    "                                       y=[mysigma*sigma_y[0] for mysigma\n",
    "                                           in np.linspace(0.2,2.2,N_particles)])\n",
    "\n",
    "#particles_y = xp.build_particles(_context=ctx_cpu,\n",
    "#                               particle_ref=p0,\n",
    "#                               y=[mysigma*sigma_y[0] for mysigma\n",
    "#                                 in np.linspace(0.2,2.2,N_particles)])\n",
    "\n",
    "\n",
    "\n",
    "#----------Tracking via normal procedure-------------\n",
    "\n",
    "N=1000\n",
    "\n",
    "n_turns= 1\n",
    "my_result = {}\n",
    "for ii in ['x','px','y','py','zeta','delta']:\n",
    "    my_result[ii] = []\n",
    "\n",
    "\n",
    "for ii in range(N):\n",
    "    tracker_normal.track(particles_normal, num_turns=n_turns,turn_by_turn_monitor=False)\n",
    "    for jj in ['x','px','y','py','zeta','delta']:\n",
    "        my_result[jj].append(getattr(particles_normal,jj).copy())       \n",
    "        #my_result[jj].append(getattr(particles_normal,jj).copy())\n",
    "\n",
    "for jj in ['x','px','y','py','zeta','delta']:\n",
    "        my_result[jj] = np.array(my_result[jj])\n",
    "        #my_result[jj] = np.array(my_result[jj])\n",
    "\n",
    "#----------------------Tracking via monitor--------------------\n",
    "\n",
    "\n",
    "#First way of saving the first coordinate of each particle\n",
    "#x0_from_part = []\n",
    "#y0_from_part = []\n",
    "            \n",
    "#for ii in range(N_particles):\n",
    "        #x0_from_part.append(particles_monitor.x[ii])\n",
    "        #y0_from_part.append(particles_monitor.y[ii])            \n",
    "            \n",
    "n_turns2 = 1000\n",
    "\n",
    "tracker_monitor.track(particles_monitor, num_turns=n_turns2,turn_by_turn_monitor=True)\n",
    "\n",
    "if False:\n",
    "    for jj in ['x','px','y','py','zeta','delta']:\n",
    "        my_result_x[jj].append(getattr(particles_monitor,jj).copy())       \n",
    "        my_result_y[jj].append(getattr(particles_monitor,jj).copy())\n",
    "    \n",
    "\n",
    "    for jj in ['x','px','y','py','zeta','delta']:\n",
    "        my_result_x[jj] = np.array(my_result_x[jj])\n",
    "        my_result_y[jj] = np.array(my_result_y[jj])\n",
    "        #first index is turn second index is particle index, my_result['x'][:,1]\n",
    "        #are all turns for the second particle\n",
    "\n",
    "#Here we get the tunes\n",
    "\n",
    "qx_normal = []\n",
    "qx_monitor = []\n",
    "qy_normal = []\n",
    "qy_monitor = []\n",
    "#x0_from_normal = []\n",
    "#x0_from_monitor = []\n",
    "#y0_from_normal = []\n",
    "#y0_from_monitor = []\n",
    "\n",
    "for ii in range(N_particles):\n",
    "    #print(my_result['x'][:,ii])\n",
    "    qx_normal.append(NAFFlib.get_tune(my_result['x'][:,ii]))\n",
    "    qx_monitor.append(NAFFlib.get_tune(tracker_monitor.record_last_track.x[ii]))\n",
    "    #x0_from_normal.append(my_result['x'][0,ii])\n",
    "    #x0_from_monitor.append(tracker_monitor.record_last_track.x[ii][0])   \n",
    "    qy_normal.append(NAFFlib.get_tune(my_result['y'][:,ii]))\n",
    "    qy_monitor.append(NAFFlib.get_tune(tracker_monitor.record_last_track.y[ii]))\n",
    "    #y0_from_normal.append(my_result['y'][0,ii])\n",
    "    #y0_from_monitor.append(tracker_monitor.record_last_track.y[ii][0])\n",
    "\n",
    "x0 = np.array([mysigma*sigma_x[0] for mysigma in np.linspace(0.2,2.2,N_particles)]) \n",
    "y0 = np.array([mysigma*sigma_y[0] for mysigma in np.linspace(0.2,2.2,N_particles)]) \n",
    "    \n",
    "    "
   ]
  },
  {
   "cell_type": "code",
   "execution_count": 3,
   "id": "73ded750-5ee5-461c-829f-e4078d2eeede",
   "metadata": {},
   "outputs": [
    {
     "name": "stdout",
     "output_type": "stream",
     "text": [
      "m =  -42857.63108225492 q =  0.3130520785343714\n"
     ]
    },
    {
     "data": {
      "text/plain": [
       "1000"
      ]
     },
     "execution_count": 3,
     "metadata": {},
     "output_type": "execute_result"
    },
    {
     "data": {
      "image/png": "[encoded data removed]",
      "text/plain": [
       "<Figure size 432x288 with 1 Axes>"
      ]
     },
     "metadata": {
      "needs_background": "light"
     },
     "output_type": "display_data"
    }
   ],
   "source": [
    "#Monitor detuning study, x direction\n",
    "x0 = np.array([mysigma*sigma_x[0] for mysigma in np.linspace(0.2,2.2,N_particles)])\n",
    "\n",
    "dqx = np.zeros(N_particles)\n",
    "jx = np.zeros(N_particles)\n",
    "\n",
    "for ii in range(N_particles):\n",
    "    dqx[ii] = qx_monitor[ii]\n",
    "    jx[ii] = (x0[ii]*x0[ii])/(2*betx_at_ip3)\n",
    "plt.plot(jx,dqx,'-o');\n",
    "#plt.ylim(-0.002,0.005)\n",
    "#print(j[0],dq[0],j[8],dq[8])\n",
    "\n",
    "\n",
    "slope, intercept, r_value, p_value, std_err = linregress([jx[0],jx[2]],[dqx[0],dqx[2]])\n",
    "print('m = ',slope,'q = ',intercept)\n",
    "\n",
    "#print(tracker_monitor.record_last_track.x[0])\n",
    "#len(tracker_monitor.record_last_track.x[0])\n",
    "len(my_result['x'][:,ii])\n",
    "\n"
   ]
  },
  {
   "cell_type": "code",
   "execution_count": 4,
   "id": "8c873756-6700-4b34-baa5-dea76324dc84",
   "metadata": {},
   "outputs": [
    {
     "name": "stdout",
     "output_type": "stream",
     "text": [
      "m =  -42798.5795645171 q =  0.31305210333826955\n"
     ]
    },
    {
     "data": {
      "text/plain": [
       "array([8.04233218e-12, 3.58429866e-11, 8.35012514e-11, 1.51017127e-10,\n",
       "       2.38390612e-10, 3.45621708e-10, 4.72710414e-10, 6.19656730e-10,\n",
       "       7.86460657e-10, 9.73122194e-10])"
      ]
     },
     "execution_count": 4,
     "metadata": {},
     "output_type": "execute_result"
    },
    {
     "data": {
      "image/png": "[encoded data removed]",
      "text/plain": [
       "<Figure size 432x288 with 1 Axes>"
      ]
     },
     "metadata": {
      "needs_background": "light"
     },
     "output_type": "display_data"
    }
   ],
   "source": [
    "#Normal detuning study, x direction\n",
    "dqx = np.zeros(N_particles)\n",
    "jx = np.zeros(N_particles)\n",
    "\n",
    "for ii in range(N_particles):\n",
    "    dqx[ii] = qx_normal[ii]\n",
    "    jx[ii] = (x0[ii]*x0[ii])/(2*betx_at_ip3)\n",
    "plt.plot(jx,dqx,'-o');\n",
    "\n",
    "\n",
    "slope, intercept, r_value, p_value, std_err = linregress([jx[0],jx[2]],[dqx[0],dqx[2]])\n",
    "print('m = ',slope,'q = ',intercept)\n",
    "\n",
    "jx"
   ]
  },
  {
   "cell_type": "code",
   "execution_count": 5,
   "id": "267fc3b9-c902-4e34-ac83-34bf49318928",
   "metadata": {},
   "outputs": [
    {
     "name": "stdout",
     "output_type": "stream",
     "text": [
      "m =  98394.95012233294 q =  0.31794989682566704\n"
     ]
    },
    {
     "data": {
      "image/png": "[encoded data removed]",
      "text/plain": [
       "<Figure size 432x288 with 1 Axes>"
      ]
     },
     "metadata": {
      "needs_background": "light"
     },
     "output_type": "display_data"
    }
   ],
   "source": [
    "#Monitor detuning study, y direction\n",
    "\n",
    "dqy = np.zeros(N_particles)\n",
    "jy = np.zeros(N_particles)\n",
    "\n",
    "for ii in range(N_particles):\n",
    "    dqy[ii] = qy_monitor[ii]\n",
    "    jy[ii] = (y0[ii]*y0[ii])/(2*bety_at_ip3)\n",
    "plt.plot(jy,dqy,'-o');\n",
    "#plt.ylim(-0.002,0.005)\n",
    "#print(j[0],dq[0],j[8],dq[8])\n",
    "\n",
    "\n",
    "slope, intercept, r_value, p_value, std_err = linregress([jy[0],jy[2]],[dqy[0],dqy[2]])\n",
    "print('m = ',slope,'q = ',intercept)"
   ]
  },
  {
   "cell_type": "code",
   "execution_count": 6,
   "id": "058b3ff3-879c-46f8-b117-fa4cb3b0e5a7",
   "metadata": {},
   "outputs": [
    {
     "name": "stdout",
     "output_type": "stream",
     "text": [
      "m =  98395.04544971877 q =  0.3179498968429579\n"
     ]
    },
    {
     "data": {
      "image/png": "[encoded data removed]",
      "text/plain": [
       "<Figure size 432x288 with 1 Axes>"
      ]
     },
     "metadata": {
      "needs_background": "light"
     },
     "output_type": "display_data"
    }
   ],
   "source": [
    "#Normal detuning study, y direction\n",
    "\n",
    "dqy = np.zeros(N_particles)\n",
    "jy = np.zeros(N_particles)\n",
    "\n",
    "for ii in range(N_particles):\n",
    "    dqy[ii] = qy_normal[ii]\n",
    "    jy[ii] = (y0[ii]*y0[ii])/(2*bety_at_ip3)\n",
    "plt.plot(jy,dqy,'-o');\n",
    "#plt.ylim(-0.002,0.005)\n",
    "#print(j[0],dq[0],j[8],dq[8])\n",
    "\n",
    "\n",
    "slope, intercept, r_value, p_value, std_err = linregress([jy[0],jy[2]],[dqy[0],dqy[2]])\n",
    "print('m = ',slope,'q = ',intercept)"
   ]
  },
  {
   "cell_type": "code",
   "execution_count": null,
   "id": "e8075147-bba9-4412-939c-974ed93074c5",
   "metadata": {},
   "outputs": [],
   "source": []
  },
  {
   "cell_type": "code",
   "execution_count": null,
   "id": "1d6b9115-eef6-48c5-8984-ddb768e624ba",
   "metadata": {},
   "outputs": [],
   "source": []
  },
  {
   "cell_type": "code",
   "execution_count": null,
   "id": "662ab502-b214-4734-827a-88b74be3c9b3",
   "metadata": {},
   "outputs": [],
   "source": []
  },
  {
   "cell_type": "code",
   "execution_count": 17,
   "id": "9f5a1f94-76f5-4378-bd53-13217c5b76da",
   "metadata": {},
   "outputs": [
    {
     "name": "stdout",
     "output_type": "stream",
     "text": [
      "generating ./4ee07d601bf54546b0c846486303d998.c\n",
      "the current directory is '/home/afornara/studies/git_postprocessing'\n",
      "running build_ext\n",
      "building '4ee07d601bf54546b0c846486303d998' extension\n",
      "gcc -pthread -B /home/afornara/py/2022_03_04/miniconda/compiler_compat -Wno-unused-result -Wsign-compare -DNDEBUG -O2 -Wall -fPIC -O2 -isystem /home/afornara/py/2022_03_04/miniconda/include -I/home/afornara/py/2022_03_04/miniconda/include -fPIC -O2 -isystem /home/afornara/py/2022_03_04/miniconda/include -fPIC -I/home/afornara/py/2022_03_04/miniconda/include/python3.9 -c 4ee07d601bf54546b0c846486303d998.c -o ./4ee07d601bf54546b0c846486303d998.o -std=c99 -O3 -Wno-unused-function\n",
      "gcc -pthread -B /home/afornara/py/2022_03_04/miniconda/compiler_compat -shared -Wl,-rpath,/home/afornara/py/2022_03_04/miniconda/lib -Wl,-rpath-link,/home/afornara/py/2022_03_04/miniconda/lib -L/home/afornara/py/2022_03_04/miniconda/lib -L/home/afornara/py/2022_03_04/miniconda/lib -Wl,-rpath,/home/afornara/py/2022_03_04/miniconda/lib -Wl,-rpath-link,/home/afornara/py/2022_03_04/miniconda/lib -L/home/afornara/py/2022_03_04/miniconda/lib ./4ee07d601bf54546b0c846486303d998.o -o ./4ee07d601bf54546b0c846486303d998.cpython-39-x86_64-linux-gnu.so -std=c99 -O3\n"
     ]
    }
   ],
   "source": [
    "tracker1 = xt.Tracker(_context=ctx_cpu, line=line)\n"
   ]
  },
  {
   "cell_type": "code",
   "execution_count": 18,
   "id": "c1538291-a7eb-4d21-b9f4-491c6a15809c",
   "metadata": {},
   "outputs": [
    {
     "name": "stdout",
     "output_type": "stream",
     "text": [
      "-113670.80564342906 -112501.50512391826 70393.09665647386\n"
     ]
    }
   ],
   "source": [
    "tw = tracker1.twiss(particle_0)\n",
    "#print(tw['betx'][0])\n",
    "#Scorrere sugli ottupoli\n",
    "sum_nl_x = 0.0\n",
    "count_nl_x = 0\n",
    "sum_nl_y = 0.0\n",
    "count_nl_y = 0\n",
    "sum_nl_xy = 0.0\n",
    "count_nl_xy = 0\n",
    "sum_sl = 0.0\n",
    "count_sl = 0\n",
    "ii = 0\n",
    "for elem in line.element_dict :\n",
    "    #print('elem is',elem,'and tw[name][elem]=',tw['name'][ii])\n",
    "    if isinstance(line.element_dict[elem],xt.beam_elements.elements.Multipole): \n",
    "        if(line.element_dict[elem].order==3):\n",
    "                #i print sono giusti, li commento perché sono lunghi\n",
    "                #print('elem is',elem,'and tw[name][elem]=',tw['name'][ii],'with beta=',tw['betx'][ii])\n",
    "                sum_nl_x+=line.element_dict[elem].knl[3]*tw['betx'][ii]*tw['betx'][ii]\n",
    "                count_nl_x+=1\n",
    "                sum_nl_y+=line.element_dict[elem].knl[3]*tw['bety'][ii]*tw['bety'][ii]\n",
    "                sum_nl_xy+=line.element_dict[elem].knl[3]*tw['betx'][ii]*tw['bety'][ii]\n",
    "                \n",
    "                count_nl_y+=1\n",
    "                #print(elem)\n",
    "                #print(line.element_dict[elem].knl)\n",
    "    ii+=1\n",
    "\n",
    "#print(sum_nl_x,sum_nl_y)\n",
    "#print(count_nl_x,count_nl_y)\n",
    "K_OCT_x = sum_nl_x\n",
    "K_OCT_y = sum_nl_y\n",
    "K_OCT_xy = sum_nl_xy\n",
    "\n",
    "#print(K_OCT_x,K_OCT_y)\n",
    "m_x = (K_OCT_x)/(32*np.pi)\n",
    "m_y = (K_OCT_y)/(32*np.pi)\n",
    "m_xy = (-K_OCT_xy)/(16*np.pi)\n",
    "\n",
    "print(m_x,m_y,m_xy)\n",
    "\n",
    "\n",
    "\n",
    "\n"
   ]
  },
  {
   "cell_type": "code",
   "execution_count": null,
   "id": "5d31fee7-e566-423d-9838-7580e71af67f",
   "metadata": {},
   "outputs": [],
   "source": []
  },
  {
   "cell_type": "code",
   "execution_count": null,
   "id": "b3a51495-ef43-4883-8d47-8bc4da035651",
   "metadata": {},
   "outputs": [],
   "source": []
  },
  {
   "cell_type": "code",
   "execution_count": null,
   "id": "bcab071b-9c7e-4f1d-99aa-05be4cfea507",
   "metadata": {},
   "outputs": [],
   "source": []
  },
  {
   "cell_type": "code",
   "execution_count": null,
   "id": "b09c7825-ae1c-4f89-8a4f-ddc3bb79cd2a",
   "metadata": {},
   "outputs": [],
   "source": []
  },
  {
   "cell_type": "code",
   "execution_count": 6,
   "id": "6586418c-414e-4f28-ae6b-e0a1325b89ab",
   "metadata": {},
   "outputs": [
    {
     "name": "stdout",
     "output_type": "stream",
     "text": [
      "m =  -330897.81597411167 q =  0.3130498815373966\n"
     ]
    },
    {
     "data": {
      "image/png": "[encoded data removed]",
      "text/plain": [
       "<Figure size 432x288 with 1 Axes>"
      ]
     },
     "metadata": {
      "needs_background": "light"
     },
     "output_type": "display_data"
    }
   ],
   "source": [
    "dqx = np.zeros(N_particles)\n",
    "jx = np.zeros(N_particles)\n",
    "for ii in range(N_particles):\n",
    "    dqx[ii] = qx[ii]\n",
    "    jx[ii] = (2*tracker_x.record_last_track.x[ii][0]*tracker_x.record_last_track.x[ii][0])/(betx_at_ip3)\n",
    "plt.plot(jx,dqx,'-o');\n",
    "#plt.ylim(-0.002,0.005)\n",
    "#print(j[0],dq[0],j[8],dq[8])\n",
    "\n",
    "\n",
    "slope, intercept, r_value, p_value, std_err = linregress([jx[0],jx[2]],[dqx[0],dqx[2]])\n",
    "print('m = ',slope,'q = ',intercept)"
   ]
  },
  {
   "cell_type": "code",
   "execution_count": 7,
   "id": "d40f63d1-6da8-4cda-93cb-494f183e4215",
   "metadata": {},
   "outputs": [
    {
     "ename": "ValueError",
     "evalue": "Cannot calculate a linear regression if all x values are identical",
     "output_type": "error",
     "traceback": [
      "\u001b[0;31m---------------------------------------------------------------------------\u001b[0m",
      "\u001b[0;31mValueError\u001b[0m                                Traceback (most recent call last)",
      "Input \u001b[0;32mIn [7]\u001b[0m, in \u001b[0;36m<cell line: 11>\u001b[0;34m()\u001b[0m\n\u001b[1;32m      6\u001b[0m plt\u001b[38;5;241m.\u001b[39mplot(jy,dqy,\u001b[38;5;124m'\u001b[39m\u001b[38;5;124m-o\u001b[39m\u001b[38;5;124m'\u001b[39m);\n\u001b[1;32m      7\u001b[0m \u001b[38;5;66;03m#plt.ylim(-0.002,0.005)\u001b[39;00m\n\u001b[1;32m      8\u001b[0m \u001b[38;5;66;03m#print(j[0],dq[0],j[8],dq[8])\u001b[39;00m\n\u001b[0;32m---> 11\u001b[0m slope, intercept, r_value, p_value, std_err \u001b[38;5;241m=\u001b[39m \u001b[43mlinregress\u001b[49m\u001b[43m(\u001b[49m\u001b[43m[\u001b[49m\u001b[43mjy\u001b[49m\u001b[43m[\u001b[49m\u001b[38;5;241;43m0\u001b[39;49m\u001b[43m]\u001b[49m\u001b[43m,\u001b[49m\u001b[43mjy\u001b[49m\u001b[43m[\u001b[49m\u001b[38;5;241;43m2\u001b[39;49m\u001b[43m]\u001b[49m\u001b[43m]\u001b[49m\u001b[43m,\u001b[49m\u001b[43m[\u001b[49m\u001b[43mdqy\u001b[49m\u001b[43m[\u001b[49m\u001b[38;5;241;43m0\u001b[39;49m\u001b[43m]\u001b[49m\u001b[43m,\u001b[49m\u001b[43mdqy\u001b[49m\u001b[43m[\u001b[49m\u001b[38;5;241;43m2\u001b[39;49m\u001b[43m]\u001b[49m\u001b[43m]\u001b[49m\u001b[43m)\u001b[49m\n\u001b[1;32m     12\u001b[0m \u001b[38;5;28mprint\u001b[39m(\u001b[38;5;124m'\u001b[39m\u001b[38;5;124mm = \u001b[39m\u001b[38;5;124m'\u001b[39m,slope,\u001b[38;5;124m'\u001b[39m\u001b[38;5;124mq = \u001b[39m\u001b[38;5;124m'\u001b[39m,intercept)\n",
      "File \u001b[0;32m~/py/2022_03_04/miniconda/lib/python3.9/site-packages/scipy/stats/_stats_mstats_common.py:150\u001b[0m, in \u001b[0;36mlinregress\u001b[0;34m(x, y, alternative)\u001b[0m\n\u001b[1;32m    147\u001b[0m     \u001b[38;5;28;01mraise\u001b[39;00m \u001b[38;5;167;01mValueError\u001b[39;00m(\u001b[38;5;124m\"\u001b[39m\u001b[38;5;124mInputs must not be empty.\u001b[39m\u001b[38;5;124m\"\u001b[39m)\n\u001b[1;32m    149\u001b[0m \u001b[38;5;28;01mif\u001b[39;00m np\u001b[38;5;241m.\u001b[39mamax(x) \u001b[38;5;241m==\u001b[39m np\u001b[38;5;241m.\u001b[39mamin(x) \u001b[38;5;129;01mand\u001b[39;00m \u001b[38;5;28mlen\u001b[39m(x) \u001b[38;5;241m>\u001b[39m \u001b[38;5;241m1\u001b[39m:\n\u001b[0;32m--> 150\u001b[0m     \u001b[38;5;28;01mraise\u001b[39;00m \u001b[38;5;167;01mValueError\u001b[39;00m(\u001b[38;5;124m\"\u001b[39m\u001b[38;5;124mCannot calculate a linear regression \u001b[39m\u001b[38;5;124m\"\u001b[39m\n\u001b[1;32m    151\u001b[0m                      \u001b[38;5;124m\"\u001b[39m\u001b[38;5;124mif all x values are identical\u001b[39m\u001b[38;5;124m\"\u001b[39m)\n\u001b[1;32m    153\u001b[0m n \u001b[38;5;241m=\u001b[39m \u001b[38;5;28mlen\u001b[39m(x)\n\u001b[1;32m    154\u001b[0m xmean \u001b[38;5;241m=\u001b[39m np\u001b[38;5;241m.\u001b[39mmean(x, \u001b[38;5;28;01mNone\u001b[39;00m)\n",
      "\u001b[0;31mValueError\u001b[0m: Cannot calculate a linear regression if all x values are identical"
     ]
    },
    {
     "data": {
      "image/png": "[encoded data removed]",
      "text/plain": [
       "<Figure size 432x288 with 1 Axes>"
      ]
     },
     "metadata": {
      "needs_background": "light"
     },
     "output_type": "display_data"
    }
   ],
   "source": [
    "dqy = np.zeros(N_particles)\n",
    "jy = np.zeros(N_particles)\n",
    "for ii in range(N_particles):\n",
    "    dqy[ii] = qy[ii]-qy[0]\n",
    "    jy[ii] = (2*tracker_x.record_last_track.y[ii][0]*tracker_x.record_last_track.y[ii][0])/(bety_at_ip3)\n",
    "plt.plot(jy,dqy,'-o');\n",
    "#plt.ylim(-0.002,0.005)\n",
    "#print(j[0],dq[0],j[8],dq[8])\n",
    "\n",
    "\n",
    "slope, intercept, r_value, p_value, std_err = linregress([jy[0],jy[2]],[dqy[0],dqy[2]])\n",
    "print('m = ',slope,'q = ',intercept)"
   ]
  },
  {
   "cell_type": "code",
   "execution_count": null,
   "id": "7292ecaa-ef68-4dfb-96fd-162eb789157a",
   "metadata": {},
   "outputs": [],
   "source": [
    "dqx_1 = np.zeros(N_particles)\n",
    "jx = np.zeros(N_particles)\n",
    "dqx_2 = np.zeros(N_particles)\n",
    "jy = np.zeros(N_particles)\n",
    "for ii in range(N_particles):\n",
    "    dqx_1[ii] = qx[ii]-qx[0]\n",
    "    dqx_2[ii] = qx[ii]-qx[0]\n",
    "    jx[ii] = (2*tracker_x.record_last_track.x[ii][0]*tracker_x.record_last_track.x[ii][0])/(betx_at_ip3)\n",
    "    jy[ii] = (2*tracker_x.record_last_track.y[ii][0]*tracker_x.record_last_track.y[ii][0])/(bety_at_ip3) \n",
    "plt.plot(jy,dqx_2,'-o');\n",
    "#plt.ylim(-0.002,0.005)\n",
    "#print(j[0],dq[0],j[8],dq[8])\n",
    "\n",
    "slope, intercept, r_value, p_value, std_err = linregress([jy[0],jy[2]],[dqx[0],dqx[2]])\n",
    "print('m = ',slope,'q = ',intercept)"
   ]
  },
  {
   "cell_type": "code",
   "execution_count": null,
   "id": "f938fe0e-993e-4b1e-82ac-a6fc3c679d2c",
   "metadata": {},
   "outputs": [],
   "source": [
    "dqx = np.zeros(N_particles)\n",
    "jx = np.zeros(N_particles)\n",
    "for ii in range(N_particles):\n",
    "    dqx[ii] = qx[ii]-qx[0]\n",
    "    jx[ii] = (2*x0[ii]*x0[ii])/(betx_at_ip3)\n",
    "plt.plot(jx,dqx,'-o');\n",
    "#plt.ylim(-0.002,0.005)\n",
    "#print(j[0],dq[0],j[8],dq[8])\n",
    "\n",
    "\n",
    "slope, intercept, r_value, p_value, std_err = linregress([jx[0],jx[2]],[dqx[0],dqx[2]])\n",
    "print('m = ',slope,'q = ',intercept)\n"
   ]
  },
  {
   "cell_type": "code",
   "execution_count": null,
   "id": "88bb3e0d-09d6-4741-8315-07503afcacaa",
   "metadata": {},
   "outputs": [],
   "source": [
    "dqy = np.zeros(N_particles)\n",
    "jy = np.zeros(N_particles)\n",
    "for ii in range(N_particles):\n",
    "    dqy[ii] = qy[ii]-qy[0]\n",
    "    jy[ii] = (2*y0[ii]*y0[ii])/(bety_at_ip3)\n",
    "plt.plot(jy,dqy,'-o');\n",
    "#plt.ylim(-0.002,0.005)\n",
    "#print(j[0],dq[0],j[8],dq[8])\n",
    "\n",
    "\n",
    "slope, intercept, r_value, p_value, std_err = linregress([jy[0],jy[2]],[dqy[0],dqy[2]])\n",
    "print('m = ',slope,'q = ',intercept)\n"
   ]
  },
  {
   "cell_type": "code",
   "execution_count": null,
   "id": "9b5b6538-739a-4d92-8b8f-63a8a8e47a7c",
   "metadata": {},
   "outputs": [],
   "source": [
    "dqx_1 = np.zeros(N_particles)\n",
    "jx = np.zeros(N_particles)\n",
    "dqx_2 = np.zeros(N_particles)\n",
    "jy = np.zeros(N_particles)\n",
    "for ii in range(N_particles):\n",
    "    dqx_1[ii] = qx[ii]-qx[0]\n",
    "    dqx_2[ii] = qx[ii]-qx[0]\n",
    "    jx[ii] = (2*x0[ii]*x0[ii])/(betx_at_ip3)\n",
    "    jy[ii] = (2*y0[ii]*y0[ii])/(bety_at_ip3) \n",
    "plt.plot(jy,dqx_2,'-o');\n",
    "#plt.ylim(-0.002,0.005)\n",
    "#print(j[0],dq[0],j[8],dq[8])\n",
    "\n",
    "slope, intercept, r_value, p_value, std_err = linregress([jy[0],jy[2]],[dqx[0],dqx[2]])\n",
    "print('m = ',slope,'q = ',intercept)"
   ]
  },
  {
   "cell_type": "code",
   "execution_count": 7,
   "id": "a2d518c9-00ce-4386-be19-254567a3a4b3",
   "metadata": {},
   "outputs": [
    {
     "name": "stdout",
     "output_type": "stream",
     "text": [
      "[0. 0. 0. 0. 0. 0. 0. 0. 0. 0.]\n",
      "[0.31794199172287396, 0.31793083446686354, 0.31791481539772803, 0.31789392871520683, 0.31786816941110385, 0.3178375375236618, 0.3178020173845922, 0.31776161981082673, 0.31771634036355473, 0.31766618470268393]\n"
     ]
    }
   ],
   "source": [
    "print(jy)\n",
    "print(qy)\n",
    "\n"
   ]
  },
  {
   "cell_type": "code",
   "execution_count": 8,
   "id": "bcd43183-b478-47b0-9b52-6fbf4213faaf",
   "metadata": {},
   "outputs": [
    {
     "name": "stdout",
     "output_type": "stream",
     "text": [
      "ERROR! Session/line number was not unique in database. History logging moved to new session 101\n"
     ]
    },
    {
     "data": {
      "text/plain": [
       "7.080036770955291e-05"
      ]
     },
     "execution_count": 8,
     "metadata": {},
     "output_type": "execute_result"
    }
   ],
   "source": [
    "particles_x.x[0]"
   ]
  },
  {
   "cell_type": "code",
   "execution_count": 9,
   "id": "94de6fbb-1046-4f3d-b0b5-ff038906979d",
   "metadata": {},
   "outputs": [
    {
     "name": "stdout",
     "output_type": "stream",
     "text": [
      "[0.00022103] [0.00029634]\n"
     ]
    }
   ],
   "source": [
    "print(sigma_x,sigma_y)\n"
   ]
  },
  {
   "cell_type": "code",
   "execution_count": 10,
   "id": "f4ef33c8-2990-4a04-8108-0fcd11b16275",
   "metadata": {},
   "outputs": [
    {
     "name": "stdout",
     "output_type": "stream",
     "text": [
      "Particle 1 has tune =  0.3133133133133133\n",
      "Particle 2 has tune =  0.3133133133133133\n",
      "Particle 3 has tune =  0.3133133133133133\n",
      "Particle 4 has tune =  0.3133133133133133\n",
      "Particle 5 has tune =  0.3133133133133133\n",
      "Particle 6 has tune =  0.3133133133133133\n",
      "Particle 7 has tune =  0.3133133133133133\n",
      "Particle 8 has tune =  0.3133133133133133\n",
      "Particle 9 has tune =  0.3133133133133133\n",
      "Particle 10 has tune =  0.3133133133133133\n"
     ]
    },
    {
     "data": {
      "image/png": "[encoded data removed]",
      "text/plain": [
       "<Figure size 432x288 with 1 Axes>"
      ]
     },
     "metadata": {
      "needs_background": "light"
     },
     "output_type": "display_data"
    }
   ],
   "source": [
    "#print(np.max(qx_fft[2]))\n",
    "xs = []\n",
    "tunes_fft = []\n",
    "for ii in range(N_particles):\n",
    "    xs.append(np.linspace(0,1,N))\n",
    "    plt.plot(xs[ii], qx_fft[ii], 'b')\n",
    "    plt.xlim(0.310,0.315)\n",
    "    maxqx = np.max(qx_fft[ii])\n",
    "    for jj in range(N):\n",
    "        if((np.isclose(qx_fft[ii][jj],maxqx))and(xs[ii][jj]<0.5)):\n",
    "            tunes_fft.append(xs[ii][jj])\n",
    "            print('Particle',ii+1,'has tune = ',xs[ii][jj])\n",
    "            "
   ]
  },
  {
   "cell_type": "code",
   "execution_count": 11,
   "id": "e6e776ce-a2c9-4a3e-b0aa-6e9caed27a02",
   "metadata": {},
   "outputs": [
    {
     "data": {
      "text/plain": [
       "Text(0, 0.5, 'Tunes')"
      ]
     },
     "execution_count": 11,
     "metadata": {},
     "output_type": "execute_result"
    },
    {
     "data": {
      "image/png": "[encoded data removed]",
      "text/plain": [
       "<Figure size 432x288 with 1 Axes>"
      ]
     },
     "metadata": {
      "needs_background": "light"
     },
     "output_type": "display_data"
    }
   ],
   "source": [
    "plt.plot(qx,'o');\n",
    "plt.plot(tunes_fft,'o')\n",
    "plt.grid()\n",
    "plt.xlabel('Particle')\n",
    "plt.ylabel('Tunes')"
   ]
  },
  {
   "cell_type": "code",
   "execution_count": null,
   "id": "f16279ea-5386-42d0-8198-c06350503f32",
   "metadata": {},
   "outputs": [],
   "source": []
  },
  {
   "cell_type": "code",
   "execution_count": null,
   "id": "19784af1-89a0-4216-99ac-e815776d085a",
   "metadata": {},
   "outputs": [],
   "source": []
  },
  {
   "cell_type": "code",
   "execution_count": null,
   "id": "fd67be4a-f647-4c5e-a617-0d490c715461",
   "metadata": {},
   "outputs": [],
   "source": []
  }
 ],
 "metadata": {
  "kernelspec": {
   "display_name": "Python 3 (ipykernel)",
   "language": "python",
   "name": "python3"
  },
  "language_info": {
   "codemirror_mode": {
    "name": "ipython",
    "version": 3
   },
   "file_extension": ".py",
   "mimetype": "text/x-python",
   "name": "python",
   "nbconvert_exporter": "python",
   "pygments_lexer": "ipython3",
   "version": "3.9.7"
  }
 },
 "nbformat": 4,
 "nbformat_minor": 5
}
