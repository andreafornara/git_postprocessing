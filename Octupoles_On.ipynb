{
 "cells": [
  {
   "cell_type": "code",
   "execution_count": 2,
   "id": "f10669aa-9db1-4516-a952-1732e77b8db2",
   "metadata": {},
   "outputs": [],
   "source": [
    "import numpy as np\n",
    "import xobjects as xo\n",
    "import xtrack as xt\n",
    "import xpart as xp\n",
    "import json\n",
    "import pandas as pd\n",
    "from cpymad.madx import Madx\n",
    "from matplotlib import pyplot as plt\n",
    "%matplotlib inline\n",
    "import NAFFlib"
   ]
  },
  {
   "cell_type": "code",
   "execution_count": 3,
   "id": "65e67d8e-3fa4-410a-bc03-24c741c9c7a9",
   "metadata": {},
   "outputs": [],
   "source": [
    "ctx = xo.ContextCpu()"
   ]
  },
  {
   "cell_type": "code",
   "execution_count": 4,
   "id": "324aa04d-2c0e-4151-86fb-46b9dc14e91c",
   "metadata": {},
   "outputs": [
    {
     "name": "stderr",
     "output_type": "stream",
     "text": [
      "GC Warning: Repeated allocation of very large block (appr. size 323584):\n",
      "\tMay lead to memory leak and poor performance\n",
      "GC Warning: Repeated allocation of very large block (appr. size 491520):\n",
      "\tMay lead to memory leak and poor performance\n"
     ]
    }
   ],
   "source": [
    "mad = Madx()\n",
    "mad.call('andrea.madx')\n",
    "mad.use(sequence=\"lhcb1\")"
   ]
  },
  {
   "cell_type": "code",
   "execution_count": 5,
   "id": "d1449f99-7bde-4e3f-9ef9-2b0b2bbbed18",
   "metadata": {},
   "outputs": [],
   "source": [
    "#line.element_names\n",
    "line = xt.Line.from_madx_sequence(mad.sequence['lhcb1'],\n",
    "                                  deferred_expressions=True\n",
    "                                  )"
   ]
  },
  {
   "cell_type": "code",
   "execution_count": 6,
   "id": "0d7dd7a8-5699-4720-bd38-b65c28c43a28",
   "metadata": {},
   "outputs": [
    {
     "name": "stdout",
     "output_type": "stream",
     "text": [
      "-350.0\n",
      "350\n"
     ]
    }
   ],
   "source": [
    "print(line.vars['i_mo']._get_value())\n",
    "line.vars['i_mo'] = 350\n",
    "print(line.vars['i_mo']._get_value())"
   ]
  },
  {
   "cell_type": "code",
   "execution_count": 26,
   "id": "26402f3d-16ca-49bf-87bd-373eb2d58208",
   "metadata": {},
   "outputs": [],
   "source": [
    "particles_3 = xp.Particles(_context=ctx,\n",
    "                        p0c=7000e9,\n",
    "                        x=[1.00951707e-08],px=[1.69518015e-10],\n",
    "                        y=[5.65551848e-12],py=[6.07695199e-14]\n",
    "                        )"
   ]
  },
  {
   "cell_type": "code",
   "execution_count": 27,
   "id": "ade94ec0-8a74-4257-a076-cb9a5aca4f00",
   "metadata": {},
   "outputs": [
    {
     "name": "stdout",
     "output_type": "stream",
     "text": [
      "generating ./24fc3010fe224ffd8a9505a510b10107.c\n",
      "the current directory is '/home/afornara/studies/git_postprocessing'\n",
      "running build_ext\n",
      "building '24fc3010fe224ffd8a9505a510b10107' extension\n",
      "gcc -pthread -B /home/afornara/py/2022_03_04/miniconda/compiler_compat -Wno-unused-result -Wsign-compare -DNDEBUG -O2 -Wall -fPIC -O2 -isystem /home/afornara/py/2022_03_04/miniconda/include -I/home/afornara/py/2022_03_04/miniconda/include -fPIC -O2 -isystem /home/afornara/py/2022_03_04/miniconda/include -fPIC -I/home/afornara/py/2022_03_04/miniconda/include/python3.9 -c 24fc3010fe224ffd8a9505a510b10107.c -o ./24fc3010fe224ffd8a9505a510b10107.o -std=c99 -O3 -Wno-unused-function\n",
      "gcc -pthread -B /home/afornara/py/2022_03_04/miniconda/compiler_compat -shared -Wl,-rpath,/home/afornara/py/2022_03_04/miniconda/lib -Wl,-rpath-link,/home/afornara/py/2022_03_04/miniconda/lib -L/home/afornara/py/2022_03_04/miniconda/lib -L/home/afornara/py/2022_03_04/miniconda/lib -Wl,-rpath,/home/afornara/py/2022_03_04/miniconda/lib -Wl,-rpath-link,/home/afornara/py/2022_03_04/miniconda/lib -L/home/afornara/py/2022_03_04/miniconda/lib ./24fc3010fe224ffd8a9505a510b10107.o -o ./24fc3010fe224ffd8a9505a510b10107.cpython-39-x86_64-linux-gnu.so -std=c99 -O3\n"
     ]
    }
   ],
   "source": [
    "tracker1 = xt.Tracker(_context=ctx, line=line)"
   ]
  },
  {
   "cell_type": "code",
   "execution_count": 28,
   "id": "cb34cb06-7868-47e4-8178-cf9b131cf85a",
   "metadata": {},
   "outputs": [
    {
     "data": {
      "text/plain": [
       "14088.220762532888"
      ]
     },
     "execution_count": 28,
     "metadata": {},
     "output_type": "execute_result"
    }
   ],
   "source": [
    "tw = tracker1.twiss(particles_3)\n",
    "#print(tw['betx'][0])\n",
    "#Scorrere sugli ottupoli\n",
    "sum_nl = 0.0\n",
    "count_nl = 0\n",
    "sum_sl = 0.0\n",
    "count_sl = 0\n",
    "ii = 0\n",
    "for elem in line.element_dict :\n",
    "    #print('elem is',elem,'and tw[name][elem]=',tw['name'][ii])\n",
    "    if isinstance(line.element_dict[elem],xt.beam_elements.elements.Multipole): \n",
    "        if(line.element_dict[elem].order==3):\n",
    "                #i print sono giusti, li commento perché sono lunghi\n",
    "                #print('elem is',elem,'and tw[name][elem]=',tw['name'][ii],'with beta=',tw['betx'][ii])\n",
    "                sum_nl+=line.element_dict[elem].knl[3]*tw['betx'][ii]*tw['betx'][ii]\n",
    "                count_nl+=1\n",
    "                sum_sl+=line.element_dict[elem].ksl\n",
    "                count_sl+=1\n",
    "                #print(elem)\n",
    "                #print(line.element_dict[elem].knl)\n",
    "    ii+=1\n",
    "K_OCT = sum_nl/count_nl\n",
    "K_OCT"
   ]
  },
  {
   "cell_type": "code",
   "execution_count": 36,
   "id": "3a0d0e52-18ec-4d02-8e37-ce6871b77166",
   "metadata": {},
   "outputs": [
    {
     "data": {
      "text/plain": [
       "array([216.21285239, 216.21285239, 216.21285239, ..., 131.08576058,\n",
       "       131.08576058, 216.21336057])"
      ]
     },
     "execution_count": 36,
     "metadata": {},
     "output_type": "execute_result"
    }
   ],
   "source": [
    "tw = tracker1.twiss(particles_3)\n",
    "dir(tw)\n",
    "tw['name'][1]\n",
    "tw['bety']"
   ]
  },
  {
   "cell_type": "code",
   "execution_count": null,
   "id": "10a4a7f6-113c-4999-9467-5d0eda00c105",
   "metadata": {},
   "outputs": [],
   "source": [
    "tracker1 = xt.Tracker(_context=ctx, line=line)\n",
    "tw1 = tracker1.twiss(particles_3)\n",
    "tracker2 = xt.Tracker(_context=ctx, line=line)\n",
    "tw2 = tracker2.twiss(particles_3)\n",
    "tracker3 = xt.Tracker(_context=ctx, line=line)\n",
    "tw3 = tracker3.twiss(particles_3)\n",
    "tracker4 = xt.Tracker(_context=ctx, line=line)\n",
    "tw4 = tracker4.twiss(particles_3)\n",
    "tracker5 = xt.Tracker(_context=ctx, line=line)\n",
    "tw5 = tracker5.twiss(particles_3)"
   ]
  },
  {
   "cell_type": "code",
   "execution_count": null,
   "id": "1591a644-2ee5-4def-a3f3-05fa86b7024a",
   "metadata": {},
   "outputs": [],
   "source": [
    "gamma=7000/.938\n",
    "sigma_x=np.sqrt(120.29057045*3e-6/gamma)\n",
    "sigma_x\n",
    "n_turns = 1\n",
    "N_arr=10000\n",
    "#x_part0 = np.zeros(N_arr)\n",
    "#x_part1 = np.zeros(N_arr)\n",
    "x_part2 = np.zeros(N_arr)\n",
    "x_part3 = np.zeros(N_arr)\n",
    "x_part4 = np.zeros(N_arr)\n",
    "x_part5 = np.zeros(N_arr)\n",
    "px_part2 = np.zeros(N_arr)\n",
    "px_part3 = np.zeros(N_arr)\n",
    "px_part4 = np.zeros(N_arr)\n",
    "px_part5 = np.zeros(N_arr)\n",
    "y_part2 = np.zeros(N_arr)\n",
    "y_part3 = np.zeros(N_arr)\n",
    "y_part4 = np.zeros(N_arr)\n",
    "y_part5 = np.zeros(N_arr)\n",
    "py_part2 = np.zeros(N_arr)\n",
    "py_part3 = np.zeros(N_arr)\n",
    "py_part4 = np.zeros(N_arr)\n",
    "py_part5 = np.zeros(N_arr)\n",
    "zeta_part2 = np.zeros(N_arr)\n",
    "zeta_part3 = np.zeros(N_arr)\n",
    "zeta_part4 = np.zeros(N_arr)\n",
    "zeta_part5 = np.zeros(N_arr)\n",
    "delta_part2 = np.zeros(N_arr)\n",
    "delta_part3 = np.zeros(N_arr)\n",
    "delta_part4 = np.zeros(N_arr)\n",
    "delta_part5 = np.zeros(N_arr)\n",
    "\n",
    "co_part=tw['particle_on_co']\n",
    "#near_co_particle1=tw1['particle_on_co']\n",
    "near_co_particle2=tw2['particle_on_co']\n",
    "near_co_particle3=tw3['particle_on_co']\n",
    "near_co_particle4=tw4['particle_on_co']\n",
    "near_co_particle5=tw5['particle_on_co']\n",
    "\n",
    "\n",
    "if False:\n",
    "    for ii in range(N_arr):\n",
    "        tracker.track(co_part, num_turns=n_turns,turn_by_turn_monitor=False)\n",
    "        #print(particles_3.x)\n",
    "        x_part0[ii]=co_part.x\n",
    "    \n",
    "#near_co_particle1.x=near_co_particle1.x+0.2*sigma_x\n",
    "near_co_particle2.x=near_co_particle2.x+1*sigma_x\n",
    "near_co_particle3.x=near_co_particle3.x+2*sigma_x\n",
    "near_co_particle4.x=near_co_particle4.x+3*sigma_x\n",
    "near_co_particle5.x=near_co_particle5.x+4*sigma_x\n",
    "\n",
    "positions = np.zeros(4)\n",
    "#co_position=near_co_particle2.x\n",
    "positions[0]=near_co_particle2.x-co_part.x\n",
    "positions[1]=near_co_particle3.x-co_part.x\n",
    "positions[2]=near_co_particle4.x-co_part.x\n",
    "positions[3]=near_co_particle5.x-co_part.x\n",
    "print(positions[0],positions[1],positions[2],positions[3])\n",
    "\n",
    "if False:\n",
    "    for ii in range(N_arr):\n",
    "        tracker1.track(near_co_particle1, num_turns=n_turns,turn_by_turn_monitor=False)\n",
    "        x_part1[ii]=near_co_particle1.x\n",
    "        print(x_part1[ii])\n",
    "for ii in range(N_arr):\n",
    "    tracker2.track(near_co_particle2, num_turns=n_turns,turn_by_turn_monitor=False)\n",
    "    x_part2[ii]=near_co_particle2.x\n",
    "    px_part2[ii]=near_co_particle2.px\n",
    "    y_part2[ii]=near_co_particle2.y\n",
    "    py_part2[ii]=near_co_particle2.py\n",
    "    zeta_part2[ii]=near_co_particle2.zeta\n",
    "    delta_part2[ii]=near_co_particle2.delta\n",
    "    #print(x_part2[ii])\n",
    "for ii in range(N_arr):\n",
    "    tracker3.track(near_co_particle3, num_turns=n_turns,turn_by_turn_monitor=False)\n",
    "    x_part3[ii]=near_co_particle3.x\n",
    "    px_part3[ii]=near_co_particle3.px\n",
    "    y_part3[ii]=near_co_particle3.y\n",
    "    py_part3[ii]=near_co_particle3.py\n",
    "    zeta_part3[ii]=near_co_particle3.zeta\n",
    "    delta_part3[ii]=near_co_particle3.delta\n",
    "    #print(x_part3[ii])\n",
    "for ii in range(N_arr):\n",
    "    tracker4.track(near_co_particle4, num_turns=n_turns,turn_by_turn_monitor=False)\n",
    "    x_part4[ii]=near_co_particle4.x\n",
    "    px_part4[ii]=near_co_particle4.px\n",
    "    y_part4[ii]=near_co_particle4.y\n",
    "    py_part4[ii]=near_co_particle4.py\n",
    "    zeta_part4[ii]=near_co_particle4.zeta\n",
    "    delta_part4[ii]=near_co_particle4.delta\n",
    "for ii in range(N_arr):\n",
    "    tracker5.track(near_co_particle5, num_turns=n_turns,turn_by_turn_monitor=False)\n",
    "    x_part5[ii]=near_co_particle5.x\n",
    "    px_part5[ii]=near_co_particle5.px\n",
    "    y_part5[ii]=near_co_particle5.y\n",
    "    py_part5[ii]=near_co_particle5.py\n",
    "    zeta_part5[ii]=near_co_particle5.zeta\n",
    "    delta_part5[ii]=near_co_particle5.delta \n",
    "   \n",
    "    #print(x_part5[ii])\n",
    "    \n",
    "print(positions[0],positions[1],positions[2])"
   ]
  },
  {
   "cell_type": "code",
   "execution_count": null,
   "id": "8eb896e7-9b67-4bbc-b6d6-aec8a77e8d5e",
   "metadata": {},
   "outputs": [],
   "source": [
    "plt.plot(x_part2,px_part2,'.')\n",
    "plt.grid()\n",
    "plt.xlabel('x')\n",
    "plt.ylabel('px');"
   ]
  },
  {
   "cell_type": "code",
   "execution_count": null,
   "id": "a0d9ed77-3971-4f05-a96c-5f94f29e62a9",
   "metadata": {},
   "outputs": [],
   "source": [
    "plt.plot(x_part3,px_part3,'.')\n",
    "plt.grid()\n",
    "plt.xlabel('x')\n",
    "plt.ylabel('px');"
   ]
  },
  {
   "cell_type": "code",
   "execution_count": null,
   "id": "b521daf0-f317-436c-8c4a-f9723812e42e",
   "metadata": {},
   "outputs": [],
   "source": [
    "plt.plot(x_part4,px_part4,'.')\n",
    "plt.grid()\n",
    "plt.xlabel('x')\n",
    "plt.ylabel('px');"
   ]
  },
  {
   "cell_type": "code",
   "execution_count": null,
   "id": "c4f33fb4-d344-430d-bf4d-60f3d36eea63",
   "metadata": {},
   "outputs": [],
   "source": [
    "plt.plot(x_part5,px_part5,'.')\n",
    "plt.grid()\n",
    "plt.xlabel('x[m]')\n",
    "plt.ylabel('px');"
   ]
  },
  {
   "cell_type": "code",
   "execution_count": null,
   "id": "1e576802-ccd0-481e-b7ca-aba66f9177bf",
   "metadata": {},
   "outputs": [],
   "source": [
    "plt.plot(y_part2,py_part2,'.')\n",
    "plt.grid()\n",
    "plt.xlabel('y')\n",
    "plt.ylabel('py');"
   ]
  },
  {
   "cell_type": "code",
   "execution_count": null,
   "id": "db68e1ce-1e2b-4880-8985-57cf427527ff",
   "metadata": {},
   "outputs": [],
   "source": [
    "plt.plot(y_part3,py_part3,'.')\n",
    "plt.grid()\n",
    "plt.xlabel('y')\n",
    "plt.ylabel('py');"
   ]
  },
  {
   "cell_type": "code",
   "execution_count": null,
   "id": "a9292e1e-8c81-4d93-a845-0435a7b13b74",
   "metadata": {},
   "outputs": [],
   "source": [
    "plt.plot(y_part4,py_part4,'.')\n",
    "plt.grid()\n",
    "plt.xlabel('y')\n",
    "plt.ylabel('py');"
   ]
  },
  {
   "cell_type": "code",
   "execution_count": null,
   "id": "fde9537f-5ede-4530-81ac-6d525dcd37d5",
   "metadata": {},
   "outputs": [],
   "source": [
    "plt.plot(y_part5,py_part5,'.')\n",
    "plt.grid()\n",
    "plt.xlabel('y')\n",
    "plt.ylabel('py');"
   ]
  },
  {
   "cell_type": "code",
   "execution_count": null,
   "id": "44d19e2a-a50a-44a8-938b-9ee3c3d6d405",
   "metadata": {},
   "outputs": [],
   "source": [
    "plt.plot(zeta_part2,delta_part2,'.')\n",
    "plt.grid()\n",
    "plt.xlabel('z')\n",
    "plt.ylabel('delta');"
   ]
  },
  {
   "cell_type": "code",
   "execution_count": null,
   "id": "f3e666f8-3603-4edb-88f1-57288753f723",
   "metadata": {},
   "outputs": [],
   "source": [
    "plt.plot(zeta_part3,delta_part3,'.')\n",
    "plt.grid()\n",
    "plt.xlabel('z')\n",
    "plt.ylabel('delta');"
   ]
  },
  {
   "cell_type": "code",
   "execution_count": null,
   "id": "1398f9cf-a208-4719-b686-0c2ae4aa72fd",
   "metadata": {},
   "outputs": [],
   "source": [
    "plt.plot(zeta_part4,delta_part4,'.')\n",
    "plt.grid()\n",
    "plt.xlabel('z')\n",
    "plt.ylabel('delta');"
   ]
  },
  {
   "cell_type": "code",
   "execution_count": null,
   "id": "4a3d7c2a-1ca1-474c-b72f-906134bd6eb0",
   "metadata": {},
   "outputs": [],
   "source": [
    "plt.plot(zeta_part5,delta_part5,'.')\n",
    "plt.grid()\n",
    "plt.xlabel('z')\n",
    "plt.ylabel('delta');"
   ]
  },
  {
   "cell_type": "code",
   "execution_count": null,
   "id": "7eeffe61-25a3-4521-b20b-c5beb6e8819f",
   "metadata": {},
   "outputs": [],
   "source": [
    "#Max_reco_freq= sampling frequency/2.\n",
    "plt.figure()\n",
    "#plt.plot(np.linspace(0,1,len(x_part0)), np.abs(np.fft.fft(x_part0)), 'b')\n",
    "#plt.plot(np.linspace(0,1,len(x_part1)), np.abs(np.fft.fft(x_part1)), 'c')\n",
    "plt.plot(np.linspace(0,1,len(x_part2)), np.abs(np.fft.fft(x_part2)), 'm')\n",
    "plt.plot(np.linspace(0,1,len(x_part3)), np.abs(np.fft.fft(x_part3)), 'y')\n",
    "plt.plot(np.linspace(0,1,len(x_part4)), np.abs(np.fft.fft(x_part4)), 'g')\n",
    "plt.plot(np.linspace(0,1,len(x_part5)), np.abs(np.fft.fft(x_part5)), 'r')\n",
    "plt.xlabel('Q1 from X')\n",
    "plt.ylabel('FFT amplitude [arb. units]')\n",
    "plt.xlim(0.31,0.32)\n",
    "plt.grid()\n",
    "#print(np.abs(np.fft.fft(x_part)))"
   ]
  },
  {
   "cell_type": "code",
   "execution_count": null,
   "id": "bfd8695a-ac2e-4d72-bc5d-c8c977ed8df0",
   "metadata": {},
   "outputs": [],
   "source": [
    "#q0 = NAFFlib.get_tune(x_part0)\n",
    "#q1 = NAFFlib.get_tune(x_part1)\n",
    "q2 = NAFFlib.get_tune(x_part2)\n",
    "q3 = NAFFlib.get_tune(x_part3)\n",
    "q4 = NAFFlib.get_tune(x_part4)\n",
    "q5 = NAFFlib.get_tune(x_part5)\n",
    "print('q2 =', q2, ', q3 =', q3, ', q4 =', q4,', q5 =', q5)\n",
    "tunes = np.zeros(4)\n",
    "#tunes[0]=q0\n",
    "#tunes[0]=q1\n",
    "tunes[0]=q2\n",
    "tunes[1]=q3\n",
    "tunes[2]=q4\n",
    "tunes[3]=q5\n",
    "#print(positions[3],tunes[3])"
   ]
  },
  {
   "cell_type": "code",
   "execution_count": null,
   "id": "bb990a9d-9a2b-4c80-86ca-a273dc8cc5ab",
   "metadata": {},
   "outputs": [],
   "source": [
    "plt.plot(positions,tunes,'-.')\n",
    "plt.grid()\n",
    "plt.xlabel('dx')\n",
    "plt.ylabel('tunes');\n",
    "#plt.ylim(0.312,0.315)"
   ]
  },
  {
   "cell_type": "code",
   "execution_count": null,
   "id": "7e8735c8-d88c-4904-b33d-2b85aff69b8d",
   "metadata": {},
   "outputs": [],
   "source": [
    "q2_1 = 0.31301791599918444\n",
    "q3_1 = 0.3130712654474325 \n",
    "q4_1 = 0.3131594674222655\n",
    "q5_1 = 0.3132820872098347\n",
    "detunes = np.zeros(4)\n",
    "detunes[0]=q2-q2_1\n",
    "detunes[1]=q3-q3_1\n",
    "detunes[2]=q4-q4_1\n",
    "detunes[3]=q5-q5_1\n",
    "plt.plot(positions,tunes,'-.')\n",
    "m = (K_OCT)/(32*np.pi)\n",
    "plt.grid()\n",
    "plt.xlabel('dx')\n",
    "plt.ylabel('detunes');\n",
    "print(positions[3],detunes[3])\n",
    "print('The line i find has an equation y = 3.9328945027448*x - 0.0017396740245019, but m should be',m)"
   ]
  },
  {
   "cell_type": "code",
   "execution_count": null,
   "id": "c4907961-b9bb-43f1-a0a0-b7fc098eef6c",
   "metadata": {},
   "outputs": [],
   "source": []
  },
  {
   "cell_type": "code",
   "execution_count": null,
   "id": "a0129701-adda-4cf1-adba-5d37f4d6fe16",
   "metadata": {},
   "outputs": [],
   "source": []
  },
  {
   "cell_type": "code",
   "execution_count": null,
   "id": "b000659c-ff30-4541-b3f3-6994b6f0b2b8",
   "metadata": {},
   "outputs": [],
   "source": []
  },
  {
   "cell_type": "code",
   "execution_count": null,
   "id": "d2826fdc-9fc8-4591-ace8-51973b7e0bf8",
   "metadata": {},
   "outputs": [],
   "source": []
  },
  {
   "cell_type": "code",
   "execution_count": null,
   "id": "a42a5f16-eb00-45e5-93a9-74ac8238f910",
   "metadata": {},
   "outputs": [],
   "source": []
  },
  {
   "cell_type": "code",
   "execution_count": null,
   "id": "04dc1251-2dba-4794-baee-52090f18b6ac",
   "metadata": {},
   "outputs": [],
   "source": []
  }
 ],
 "metadata": {
  "kernelspec": {
   "display_name": "Python 3 (ipykernel)",
   "language": "python",
   "name": "python3"
  },
  "language_info": {
   "codemirror_mode": {
    "name": "ipython",
    "version": 3
   },
   "file_extension": ".py",
   "mimetype": "text/x-python",
   "name": "python",
   "nbconvert_exporter": "python",
   "pygments_lexer": "ipython3",
   "version": "3.9.7"
  }
 },
 "nbformat": 4,
 "nbformat_minor": 5
}
