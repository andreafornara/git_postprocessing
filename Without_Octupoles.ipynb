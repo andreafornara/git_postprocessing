{
 "cells": [
  {
   "cell_type": "code",
   "execution_count": 1,
   "id": "f10669aa-9db1-4516-a952-1732e77b8db2",
   "metadata": {},
   "outputs": [],
   "source": [
    "import numpy as np\n",
    "import xobjects as xo\n",
    "import xtrack as xt\n",
    "import xpart as xp\n",
    "import json\n",
    "import pandas as pd\n",
    "from cpymad.madx import Madx\n",
    "from matplotlib import pyplot as plt\n",
    "%matplotlib inline\n",
    "import NAFFlib"
   ]
  },
  {
   "cell_type": "code",
   "execution_count": 2,
   "id": "65e67d8e-3fa4-410a-bc03-24c741c9c7a9",
   "metadata": {},
   "outputs": [],
   "source": [
    "ctx = xo.ContextCpu()"
   ]
  },
  {
   "cell_type": "code",
   "execution_count": 3,
   "id": "324aa04d-2c0e-4151-86fb-46b9dc14e91c",
   "metadata": {},
   "outputs": [],
   "source": [
    "mad = Madx()\n",
    "mad.call('/afs/cern.ch/user/a/afornara/simulations/2022_02_07/temp/lhcmask/python_examples/run3_collisions_python/andrea.madx')\n",
    "mad.use(sequence=\"lhcb1\")"
   ]
  },
  {
   "cell_type": "code",
   "execution_count": 4,
   "id": "d1449f99-7bde-4e3f-9ef9-2b0b2bbbed18",
   "metadata": {},
   "outputs": [],
   "source": [
    "#line.element_names\n",
    "line = xt.Line.from_madx_sequence(mad.sequence['lhcb1'],\n",
    "                                  deferred_expressions=True\n",
    "                                  )"
   ]
  },
  {
   "cell_type": "code",
   "execution_count": 5,
   "id": "0d7dd7a8-5699-4720-bd38-b65c28c43a28",
   "metadata": {},
   "outputs": [
    {
     "name": "stdout",
     "output_type": "stream",
     "text": [
      "-350.0\n"
     ]
    }
   ],
   "source": [
    "print(line.vars['i_mo']._get_value())\n",
    "line.vars['i_mo'] = 0"
   ]
  },
  {
   "cell_type": "code",
   "execution_count": 25,
   "id": "b77c219e-8b89-418a-a40a-bfac160d03b9",
   "metadata": {},
   "outputs": [
    {
     "data": {
      "text/plain": [
       "-0.0026185068684590578"
      ]
     },
     "execution_count": 25,
     "metadata": {},
     "output_type": "execute_result"
    }
   ],
   "source": [
    "\n",
    "#Scorrere sugli ottupoli\n",
    "sum_nl = 0.0\n",
    "count_nl = 0\n",
    "sum_sl = 0.0\n",
    "count_sl = 0\n",
    "for elem in line.element_dict :\n",
    "    if isinstance(line.element_dict[elem],xt.beam_elements.elements.Multipole):   \n",
    "        if(line.element_dict[elem].order==3):\n",
    "                #i print sono giusti, li commento perché sono lunghi\n",
    "                sum_nl+=line.element_dict[elem].knl[3]\n",
    "                count_nl+=1\n",
    "                sum_sl+=line.element_dict[elem].ksl\n",
    "                count_sl+=1\n",
    "                #print(elem)\n",
    "                #print(line.element_dict[elem].knl)\n",
    "                \n",
    "        if(line.element_dict[elem].order==2):\n",
    "                #i print sono giusti, li commento perché sono lunghi\n",
    "                sum_nl+=line.element_dict[elem].knl[2]\n",
    "                count_nl+=1\n",
    "                #print(elem)\n",
    "                #print(line.element_dict[elem].knl)\n",
    "K_OCT = sum_nl/count_nl\n",
    "K_OCT"
   ]
  },
  {
   "cell_type": "code",
   "execution_count": 7,
   "id": "26402f3d-16ca-49bf-87bd-373eb2d58208",
   "metadata": {},
   "outputs": [],
   "source": [
    "particles_3 = xp.Particles(_context=ctx,\n",
    "                        p0c=7000e9,\n",
    "                        x=[1.00951707e-08],px=[1.69518015e-10],\n",
    "                        y=[5.65551848e-12],py=[6.07695199e-14]\n",
    "                        )"
   ]
  },
  {
   "cell_type": "code",
   "execution_count": 16,
   "id": "10a4a7f6-113c-4999-9467-5d0eda00c105",
   "metadata": {},
   "outputs": [
    {
     "name": "stdout",
     "output_type": "stream",
     "text": [
      "generating ./e45673f9be9541eabe22d3ba5172adb0.c\n",
      "the current directory is '/afs/cern.ch/user/a/afornara/simulations/2022_02_07/thick/postprocessing'\n",
      "running build_ext\n",
      "building 'e45673f9be9541eabe22d3ba5172adb0' extension\n",
      "gcc -pthread -B /home/afornara/py/2022_03_02/miniconda/compiler_compat -Wno-unused-result -Wsign-compare -DNDEBUG -O2 -Wall -fPIC -O2 -isystem /home/afornara/py/2022_03_02/miniconda/include -I/home/afornara/py/2022_03_02/miniconda/include -fPIC -O2 -isystem /home/afornara/py/2022_03_02/miniconda/include -fPIC -I/home/afornara/py/2022_03_02/miniconda/include/python3.9 -c e45673f9be9541eabe22d3ba5172adb0.c -o ./e45673f9be9541eabe22d3ba5172adb0.o -std=c99 -O3 -Wno-unused-function\n",
      "gcc -pthread -B /home/afornara/py/2022_03_02/miniconda/compiler_compat -shared -Wl,-rpath,/home/afornara/py/2022_03_02/miniconda/lib -Wl,-rpath-link,/home/afornara/py/2022_03_02/miniconda/lib -L/home/afornara/py/2022_03_02/miniconda/lib -L/home/afornara/py/2022_03_02/miniconda/lib -Wl,-rpath,/home/afornara/py/2022_03_02/miniconda/lib -Wl,-rpath-link,/home/afornara/py/2022_03_02/miniconda/lib -L/home/afornara/py/2022_03_02/miniconda/lib ./e45673f9be9541eabe22d3ba5172adb0.o -o ./e45673f9be9541eabe22d3ba5172adb0.cpython-39-x86_64-linux-gnu.so -std=c99 -O3\n",
      "generating ./045c7dcc2647481b9296bdd5d5c4290a.c\n",
      "the current directory is '/afs/cern.ch/user/a/afornara/simulations/2022_02_07/thick/postprocessing'\n",
      "running build_ext\n",
      "building '045c7dcc2647481b9296bdd5d5c4290a' extension\n",
      "gcc -pthread -B /home/afornara/py/2022_03_02/miniconda/compiler_compat -Wno-unused-result -Wsign-compare -DNDEBUG -O2 -Wall -fPIC -O2 -isystem /home/afornara/py/2022_03_02/miniconda/include -I/home/afornara/py/2022_03_02/miniconda/include -fPIC -O2 -isystem /home/afornara/py/2022_03_02/miniconda/include -fPIC -I/home/afornara/py/2022_03_02/miniconda/include/python3.9 -c 045c7dcc2647481b9296bdd5d5c4290a.c -o ./045c7dcc2647481b9296bdd5d5c4290a.o -std=c99 -O3 -Wno-unused-function\n",
      "gcc -pthread -B /home/afornara/py/2022_03_02/miniconda/compiler_compat -shared -Wl,-rpath,/home/afornara/py/2022_03_02/miniconda/lib -Wl,-rpath-link,/home/afornara/py/2022_03_02/miniconda/lib -L/home/afornara/py/2022_03_02/miniconda/lib -L/home/afornara/py/2022_03_02/miniconda/lib -Wl,-rpath,/home/afornara/py/2022_03_02/miniconda/lib -Wl,-rpath-link,/home/afornara/py/2022_03_02/miniconda/lib -L/home/afornara/py/2022_03_02/miniconda/lib ./045c7dcc2647481b9296bdd5d5c4290a.o -o ./045c7dcc2647481b9296bdd5d5c4290a.cpython-39-x86_64-linux-gnu.so -std=c99 -O3\n",
      "generating ./cbdf9fe6d84549d0951b09279bbdfb6d.c\n",
      "the current directory is '/afs/cern.ch/user/a/afornara/simulations/2022_02_07/thick/postprocessing'\n",
      "running build_ext\n",
      "building 'cbdf9fe6d84549d0951b09279bbdfb6d' extension\n",
      "gcc -pthread -B /home/afornara/py/2022_03_02/miniconda/compiler_compat -Wno-unused-result -Wsign-compare -DNDEBUG -O2 -Wall -fPIC -O2 -isystem /home/afornara/py/2022_03_02/miniconda/include -I/home/afornara/py/2022_03_02/miniconda/include -fPIC -O2 -isystem /home/afornara/py/2022_03_02/miniconda/include -fPIC -I/home/afornara/py/2022_03_02/miniconda/include/python3.9 -c cbdf9fe6d84549d0951b09279bbdfb6d.c -o ./cbdf9fe6d84549d0951b09279bbdfb6d.o -std=c99 -O3 -Wno-unused-function\n",
      "gcc -pthread -B /home/afornara/py/2022_03_02/miniconda/compiler_compat -shared -Wl,-rpath,/home/afornara/py/2022_03_02/miniconda/lib -Wl,-rpath-link,/home/afornara/py/2022_03_02/miniconda/lib -L/home/afornara/py/2022_03_02/miniconda/lib -L/home/afornara/py/2022_03_02/miniconda/lib -Wl,-rpath,/home/afornara/py/2022_03_02/miniconda/lib -Wl,-rpath-link,/home/afornara/py/2022_03_02/miniconda/lib -L/home/afornara/py/2022_03_02/miniconda/lib ./cbdf9fe6d84549d0951b09279bbdfb6d.o -o ./cbdf9fe6d84549d0951b09279bbdfb6d.cpython-39-x86_64-linux-gnu.so -std=c99 -O3\n",
      "generating ./cb190f6aa9394ccc823f14c0571a5b5a.c\n",
      "the current directory is '/afs/cern.ch/user/a/afornara/simulations/2022_02_07/thick/postprocessing'\n",
      "running build_ext\n",
      "building 'cb190f6aa9394ccc823f14c0571a5b5a' extension\n",
      "gcc -pthread -B /home/afornara/py/2022_03_02/miniconda/compiler_compat -Wno-unused-result -Wsign-compare -DNDEBUG -O2 -Wall -fPIC -O2 -isystem /home/afornara/py/2022_03_02/miniconda/include -I/home/afornara/py/2022_03_02/miniconda/include -fPIC -O2 -isystem /home/afornara/py/2022_03_02/miniconda/include -fPIC -I/home/afornara/py/2022_03_02/miniconda/include/python3.9 -c cb190f6aa9394ccc823f14c0571a5b5a.c -o ./cb190f6aa9394ccc823f14c0571a5b5a.o -std=c99 -O3 -Wno-unused-function\n",
      "gcc -pthread -B /home/afornara/py/2022_03_02/miniconda/compiler_compat -shared -Wl,-rpath,/home/afornara/py/2022_03_02/miniconda/lib -Wl,-rpath-link,/home/afornara/py/2022_03_02/miniconda/lib -L/home/afornara/py/2022_03_02/miniconda/lib -L/home/afornara/py/2022_03_02/miniconda/lib -Wl,-rpath,/home/afornara/py/2022_03_02/miniconda/lib -Wl,-rpath-link,/home/afornara/py/2022_03_02/miniconda/lib -L/home/afornara/py/2022_03_02/miniconda/lib ./cb190f6aa9394ccc823f14c0571a5b5a.o -o ./cb190f6aa9394ccc823f14c0571a5b5a.cpython-39-x86_64-linux-gnu.so -std=c99 -O3\n",
      "generating ./b8765bd63e194e06b8721351bea1b55e.c\n",
      "the current directory is '/afs/cern.ch/user/a/afornara/simulations/2022_02_07/thick/postprocessing'\n",
      "running build_ext\n",
      "building 'b8765bd63e194e06b8721351bea1b55e' extension\n",
      "gcc -pthread -B /home/afornara/py/2022_03_02/miniconda/compiler_compat -Wno-unused-result -Wsign-compare -DNDEBUG -O2 -Wall -fPIC -O2 -isystem /home/afornara/py/2022_03_02/miniconda/include -I/home/afornara/py/2022_03_02/miniconda/include -fPIC -O2 -isystem /home/afornara/py/2022_03_02/miniconda/include -fPIC -I/home/afornara/py/2022_03_02/miniconda/include/python3.9 -c b8765bd63e194e06b8721351bea1b55e.c -o ./b8765bd63e194e06b8721351bea1b55e.o -std=c99 -O3 -Wno-unused-function\n",
      "gcc -pthread -B /home/afornara/py/2022_03_02/miniconda/compiler_compat -shared -Wl,-rpath,/home/afornara/py/2022_03_02/miniconda/lib -Wl,-rpath-link,/home/afornara/py/2022_03_02/miniconda/lib -L/home/afornara/py/2022_03_02/miniconda/lib -L/home/afornara/py/2022_03_02/miniconda/lib -Wl,-rpath,/home/afornara/py/2022_03_02/miniconda/lib -Wl,-rpath-link,/home/afornara/py/2022_03_02/miniconda/lib -L/home/afornara/py/2022_03_02/miniconda/lib ./b8765bd63e194e06b8721351bea1b55e.o -o ./b8765bd63e194e06b8721351bea1b55e.cpython-39-x86_64-linux-gnu.so -std=c99 -O3\n"
     ]
    }
   ],
   "source": [
    "tracker1 = xt.Tracker(_context=ctx, line=line)\n",
    "tw1 = tracker1.twiss(particles_3)\n",
    "tracker2 = xt.Tracker(_context=ctx, line=line)\n",
    "tw2 = tracker2.twiss(particles_3)\n",
    "tracker3 = xt.Tracker(_context=ctx, line=line)\n",
    "tw3 = tracker3.twiss(particles_3)\n",
    "tracker4 = xt.Tracker(_context=ctx, line=line)\n",
    "tw4 = tracker4.twiss(particles_3)\n",
    "tracker5 = xt.Tracker(_context=ctx, line=line)\n",
    "tw5 = tracker5.twiss(particles_3)"
   ]
  },
  {
   "cell_type": "code",
   "execution_count": 17,
   "id": "1591a644-2ee5-4def-a3f3-05fa86b7024a",
   "metadata": {},
   "outputs": [],
   "source": [
    "gamma=7000/.938\n",
    "sigma_x=np.sqrt(120.29057045*3e-6/gamma)\n",
    "sigma_x\n",
    "n_turns = 1\n",
    "N_arr=10000\n",
    "#x_part0 = np.zeros(N_arr)\n",
    "x_part1 = np.zeros(N_arr)\n",
    "x_part2 = np.zeros(N_arr)\n",
    "x_part3 = np.zeros(N_arr)\n",
    "x_part4 = np.zeros(N_arr)\n",
    "x_part5 = np.zeros(N_arr)\n",
    "\n",
    "#co_part=tw['particle_on_co']\n",
    "near_co_particle1=tw1['particle_on_co']\n",
    "near_co_particle2=tw2['particle_on_co']\n",
    "near_co_particle3=tw3['particle_on_co']\n",
    "near_co_particle4=tw4['particle_on_co']\n",
    "near_co_particle5=tw5['particle_on_co']\n",
    "\n",
    "\n",
    "if False:\n",
    "    for ii in range(N_arr):\n",
    "        tracker.track(co_part, num_turns=n_turns,turn_by_turn_monitor=False)\n",
    "        #print(particles_3.x)\n",
    "        x_part0[ii]=co_part.x\n",
    "\n",
    "positions = np.zeros(4)    \n",
    "near_co_particle1.x=near_co_particle1.x+1e-5\n",
    "near_co_particle2.x=near_co_particle2.x+1*sigma_x\n",
    "near_co_particle3.x=near_co_particle3.x+2*sigma_x\n",
    "near_co_particle4.x=near_co_particle4.x+3*sigma_x\n",
    "near_co_particle5.x=near_co_particle5.x+4*sigma_x\n",
    "\n",
    "positions[0]=near_co_particle2.x-near_co_particle1.x\n",
    "positions[1]=near_co_particle3.x-near_co_particle1.x\n",
    "positions[2]=near_co_particle4.x-near_co_particle1.x\n",
    "positions[3]=near_co_particle5.x-near_co_particle1.x\n",
    "\n",
    "if False:\n",
    "    for ii in range(N_arr):\n",
    "        tracker1.track(near_co_particle1, num_turns=n_turns,turn_by_turn_monitor=False)\n",
    "        x_part1[ii]=near_co_particle1.x\n",
    "        #print(x_part1[ii])\n",
    "for ii in range(N_arr):\n",
    "    tracker2.track(near_co_particle2, num_turns=n_turns,turn_by_turn_monitor=False)\n",
    "    x_part2[ii]=near_co_particle2.x\n",
    "    #print(x_part2[ii])\n",
    "for ii in range(N_arr):\n",
    "    tracker3.track(near_co_particle3, num_turns=n_turns,turn_by_turn_monitor=False)\n",
    "    x_part3[ii]=near_co_particle3.x\n",
    "    #print(x_part3[ii])\n",
    "for ii in range(N_arr):\n",
    "    tracker4.track(near_co_particle4, num_turns=n_turns,turn_by_turn_monitor=False)\n",
    "    x_part4[ii]=near_co_particle4.x\n",
    "for ii in range(N_arr):\n",
    "    tracker5.track(near_co_particle5, num_turns=n_turns,turn_by_turn_monitor=False)\n",
    "    x_part5[ii]=near_co_particle5.x\n",
    "    #print(x_part5[ii])\n",
    "    \n",
    "#print(x_part1[ii])"
   ]
  },
  {
   "cell_type": "code",
   "execution_count": 26,
   "id": "7eeffe61-25a3-4521-b20b-c5beb6e8819f",
   "metadata": {},
   "outputs": [
    {
     "data": {
      "image/png": "[encoded data removed]",
      "text/plain": [
       "<Figure size 432x288 with 1 Axes>"
      ]
     },
     "metadata": {
      "needs_background": "light"
     },
     "output_type": "display_data"
    }
   ],
   "source": [
    "#Max_reco_freq= sampling frequency/2.\n",
    "plt.figure()\n",
    "#plt.plot(np.linspace(0,1,len(x_part0)), np.abs(np.fft.fft(x_part0)), 'b')\n",
    "#plt.plot(np.linspace(0,1,len(x_part1)), np.abs(np.fft.fft(x_part1)), 'c')\n",
    "plt.plot(np.linspace(0,1,len(x_part2)), np.abs(np.fft.fft(x_part2)), 'm')\n",
    "plt.plot(np.linspace(0,1,len(x_part3)), np.abs(np.fft.fft(x_part3)), 'y')\n",
    "plt.plot(np.linspace(0,1,len(x_part4)), np.abs(np.fft.fft(x_part4)), 'g')\n",
    "plt.plot(np.linspace(0,1,len(x_part5)), np.abs(np.fft.fft(x_part5)), 'r')\n",
    "plt.xlabel('Q1 from X')\n",
    "plt.ylabel('FFT amplitude [arb. units]')\n",
    "plt.xlim(0.312,0.314)\n",
    "plt.grid()\n",
    "#print(np.abs(np.fft.fft(x_part)))"
   ]
  },
  {
   "cell_type": "code",
   "execution_count": 19,
   "id": "bfd8695a-ac2e-4d72-bc5d-c8c977ed8df0",
   "metadata": {},
   "outputs": [
    {
     "name": "stdout",
     "output_type": "stream",
     "text": [
      "q1 = -9.999555550706897e-05 q2 = 0.31301791599918444 , q3 = 0.3130712654474325 , q4 = 0.3131594674222655 , q5 = 0.3132820872098347\n"
     ]
    }
   ],
   "source": [
    "#q0 = NAFFlib.get_tune(x_part0)\n",
    "q1 = NAFFlib.get_tune(x_part1)\n",
    "q2 = NAFFlib.get_tune(x_part2)\n",
    "q3 = NAFFlib.get_tune(x_part3)\n",
    "q4 = NAFFlib.get_tune(x_part4)\n",
    "q5 = NAFFlib.get_tune(x_part5)\n",
    "print('q1 =',q1,'q2 =', q2, ', q3 =', q3, ', q4 =', q4,', q5 =', q5)\n",
    "tunes = np.zeros(4)\n",
    "#tunes[0]=q0\n",
    "#tunes[0]=q1\n",
    "tunes[0]=q2\n",
    "tunes[1]=q3\n",
    "tunes[2]=q4\n",
    "tunes[3]=q5\n",
    "#positions[0]=x_part0[0] \n",
    "#positions[0]=near_co_particle1.x+0.2*sigma_x\n",
    "\n",
    "#print(positions[1],tunes[1])"
   ]
  },
  {
   "cell_type": "code",
   "execution_count": 20,
   "id": "bb990a9d-9a2b-4c80-86ca-a273dc8cc5ab",
   "metadata": {},
   "outputs": [
    {
     "data": {
      "image/png": "[encoded data removed]",
      "text/plain": [
       "<Figure size 432x288 with 1 Axes>"
      ]
     },
     "metadata": {
      "needs_background": "light"
     },
     "output_type": "display_data"
    }
   ],
   "source": [
    "plt.plot(positions,tunes,'.')\n",
    "plt.grid()\n",
    "plt.xlabel('dx')\n",
    "plt.ylabel('tunes');\n",
    "#plt.ylim(0.312,0.315)"
   ]
  },
  {
   "cell_type": "code",
   "execution_count": null,
   "id": "7e8735c8-d88c-4904-b33d-2b85aff69b8d",
   "metadata": {},
   "outputs": [],
   "source": []
  },
  {
   "cell_type": "code",
   "execution_count": null,
   "id": "c4907961-b9bb-43f1-a0a0-b7fc098eef6c",
   "metadata": {},
   "outputs": [],
   "source": []
  },
  {
   "cell_type": "code",
   "execution_count": null,
   "id": "a0129701-adda-4cf1-adba-5d37f4d6fe16",
   "metadata": {},
   "outputs": [],
   "source": []
  },
  {
   "cell_type": "code",
   "execution_count": null,
   "id": "b000659c-ff30-4541-b3f3-6994b6f0b2b8",
   "metadata": {},
   "outputs": [],
   "source": []
  },
  {
   "cell_type": "code",
   "execution_count": null,
   "id": "d2826fdc-9fc8-4591-ace8-51973b7e0bf8",
   "metadata": {},
   "outputs": [],
   "source": []
  },
  {
   "cell_type": "code",
   "execution_count": null,
   "id": "a42a5f16-eb00-45e5-93a9-74ac8238f910",
   "metadata": {},
   "outputs": [],
   "source": []
  },
  {
   "cell_type": "code",
   "execution_count": null,
   "id": "04dc1251-2dba-4794-baee-52090f18b6ac",
   "metadata": {},
   "outputs": [],
   "source": []
  }
 ],
 "metadata": {
  "kernelspec": {
   "display_name": "Python 3 (ipykernel)",
   "language": "python",
   "name": "python3"
  },
  "language_info": {
   "codemirror_mode": {
    "name": "ipython",
    "version": 3
   },
   "file_extension": ".py",
   "mimetype": "text/x-python",
   "name": "python",
   "nbconvert_exporter": "python",
   "pygments_lexer": "ipython3",
   "version": "3.9.7"
  }
 },
 "nbformat": 4,
 "nbformat_minor": 5
}
