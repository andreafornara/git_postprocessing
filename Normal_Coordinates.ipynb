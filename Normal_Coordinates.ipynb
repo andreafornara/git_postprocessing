{
 "cells": [
  {
   "cell_type": "code",
   "execution_count": 1,
   "id": "ffaecf4f-f24a-4e96-9030-b77dddd6d67e",
   "metadata": {},
   "outputs": [],
   "source": [
    "import numpy as np\n",
    "import xobjects as xo\n",
    "import xtrack as xt\n",
    "import xpart as xp\n",
    "import json\n",
    "import pandas as pd\n",
    "from cpymad.madx import Madx\n",
    "import NAFFlib\n",
    "from math import modf\n",
    "from matplotlib import pyplot as plt\n",
    "from scipy.stats import linregress\n",
    "import math"
   ]
  },
  {
   "cell_type": "code",
   "execution_count": 22,
   "id": "00eb7503-2644-4aa7-bbbe-d923ee0e00ed",
   "metadata": {},
   "outputs": [
    {
     "name": "stdout",
     "output_type": "stream",
     "text": [
      "\n",
      "\n",
      "Changing Octupole Current, i_mo = 0\n",
      "\n",
      "\n",
      "generating ./85d3cd7fbc1a4853a32db979fd35fd05.c\n",
      "the current directory is '/afs/cern.ch/user/a/afornara/simulations/sim_stud/git_postprocessing'\n",
      "running build_ext\n",
      "building '85d3cd7fbc1a4853a32db979fd35fd05' extension\n",
      "gcc -pthread -B /home/afornara/py/2022_03_18/miniconda/compiler_compat -Wno-unused-result -Wsign-compare -DNDEBUG -O2 -Wall -fPIC -O2 -isystem /home/afornara/py/2022_03_18/miniconda/include -I/home/afornara/py/2022_03_18/miniconda/include -fPIC -O2 -isystem /home/afornara/py/2022_03_18/miniconda/include -fPIC -I/home/afornara/py/2022_03_18/miniconda/include/python3.9 -c 85d3cd7fbc1a4853a32db979fd35fd05.c -o ./85d3cd7fbc1a4853a32db979fd35fd05.o -std=c99 -O3 -Wno-unused-function\n",
      "gcc -pthread -B /home/afornara/py/2022_03_18/miniconda/compiler_compat -shared -Wl,-rpath,/home/afornara/py/2022_03_18/miniconda/lib -Wl,-rpath-link,/home/afornara/py/2022_03_18/miniconda/lib -L/home/afornara/py/2022_03_18/miniconda/lib -L/home/afornara/py/2022_03_18/miniconda/lib -Wl,-rpath,/home/afornara/py/2022_03_18/miniconda/lib -Wl,-rpath-link,/home/afornara/py/2022_03_18/miniconda/lib -L/home/afornara/py/2022_03_18/miniconda/lib ./85d3cd7fbc1a4853a32db979fd35fd05.o -o ./85d3cd7fbc1a4853a32db979fd35fd05.cpython-39-x86_64-linux-gnu.so -std=c99 -O3\n",
      "\n",
      "\n",
      "ref.x = [0.], ref.y = [0.], ref.zeta = [0.] \n",
      "\n",
      "\n",
      "\n",
      "\n",
      "Beta values at ip3, betx = 121.56359692866857\n",
      "\n",
      "\n",
      "Sigma values, sigma_x = [0.00022109]\n",
      "method 1 [4.42188835e-05 8.84377670e-05 1.32656650e-04 1.76875534e-04\n",
      " 2.21094417e-04 2.65313301e-04 3.09532184e-04 3.53751068e-04\n",
      " 3.97969951e-04 4.42188835e-04 4.86407718e-04]\n",
      "method 2 [4.42188835e-05 8.84377670e-05 1.32656650e-04 1.76875534e-04\n",
      " 2.21094417e-04 2.65313301e-04 3.09532184e-04 3.53751068e-04\n",
      " 3.97969951e-04 4.42188835e-04 4.86407718e-04]\n",
      "0.0\n",
      "0.0\n",
      "0.0\n",
      "0.0\n",
      "0.0\n",
      "0.0\n",
      "0.0\n",
      "0.0\n",
      "0.0\n",
      "0.0\n",
      "0.0\n",
      "[1.67010854e-06 3.34021708e-06 5.01032562e-06 6.68043416e-06\n",
      " 8.35054269e-06 1.00206512e-05 1.16907598e-05 1.33608683e-05\n",
      " 1.50309768e-05 1.67010854e-05 1.83711939e-05]\n"
     ]
    }
   ],
   "source": [
    "i_mo = 0\n",
    "p0c = 7000e9\n",
    "normal_emitt_x = 3e-6 #m*rad\n",
    "normal_emitt_y = 3e-6 #m*rad\n",
    "N_particles = 11 \n",
    "N=1000\n",
    "n_turns= 1\n",
    "\n",
    "\n",
    "\n",
    "ctx_cpu = xo.ContextCpu()\n",
    "with open('hl_line.json', 'r') as fid:\n",
    "        loaded_dct = json.load(fid)\n",
    "line = xt.Line.from_dict(loaded_dct)\n",
    "particle_0 = xp.Particles(mass0=xp.PROTON_MASS_EV, q0=1, p0c=p0c, x=1e-3, y=1e-3)\n",
    "\n",
    "line.vars['i_mo'] = i_mo\n",
    "print(f\"\\n\\nChanging Octupole Current, i_mo = {line.vars['i_mo']._get_value()}\\n\\n\")\n",
    "tracker_normal = xt.Tracker(_context=ctx_cpu, line=line)\n",
    "ref = tracker_normal.find_closed_orbit(particle_ref = particle_0) \n",
    "print(f'\\n\\nref.x = {ref.x}, ref.y = {ref.y}, ref.zeta = {ref.zeta} \\n\\n')\n",
    "\n",
    "\n",
    "\n",
    "tw_normal = tracker_normal.twiss(ref)\n",
    "betx_at_ip3 = tw_normal['betx'][0]\n",
    "sigma_x = np.sqrt(betx_at_ip3*normal_emitt_x/(particle_0.gamma0*particle_0.beta0))\n",
    "\n",
    "print(f'\\n\\nBeta values at ip3, betx = {betx_at_ip3}')\n",
    "print(f'\\n\\nSigma values, sigma_x = {sigma_x}')\n",
    "\n",
    "#----closed orbit particle----------\n",
    "p0_normal = ref \n",
    "#----particles to track----------\n",
    "particles_x = xp.build_particles(_context=ctx_cpu,particle_ref=p0_normal,\n",
    "                                     x=[mysigma*sigma_x[0] for mysigma in np.linspace(0.2,2.2,N_particles)])\n",
    "\n",
    "print('method 1',particles_x.x)\n",
    "if False:\n",
    "    particles_x = xp.build_particles(_context=ctx_cpu,\n",
    "                                   tracker=tracker_normal, particle_ref=p0_normal,\n",
    "                                   zeta=0, delta=1e-10,\n",
    "                                   x_norm=[0.2,0.4,0.6,0.8,1,1.2,1.4,1.6,1.8,2,2.2], # in sigmas\n",
    "                                   px_norm=[0,0,0,0,0,0,0,0,0,0,0], # in sigmas\n",
    "                                   y_norm=[0,0,0,0,0,0,0,0,0,0,0], # in sigmas\n",
    "                                   py_norm=[0,0,0,0,0,0,0,0,0,0,0], # in sigmas\n",
    "                                   scale_with_transverse_norm_emitt=(3e-6, 3e-6)\n",
    "                                   )\n",
    "#assert on the phase, cosphi must be zero\n",
    "#assert()\n",
    "x0 = []\n",
    "print('method 2',particles_x.x)\n",
    "for ii in range(len(particles_x.x)):\n",
    "    x0.append(particles_x.x[ii])\n",
    "    print(particles_x.px[ii])\n",
    "\n",
    "jx = np.zeros(N_particles)\n",
    "x_prime_control = np.zeros(N_particles)\n",
    "tg_phix = -tw_normal['alfx'][0]\n",
    "phix = np.arctan(tg_phix)\n",
    "for ii in range(N_particles):\n",
    "    jx[ii] = x0[ii]*x0[ii]/(2*betx_at_ip3*np.cos(phix)*np.cos(phix))\n",
    "    x_prime_control[ii] = (tw_normal['alfx'][0]*np.sqrt(2*jx[ii]/betx_at_ip3)*np.cos(phix))-(np.sqrt(2*jx[ii]/betx_at_ip3))*np.sin(phix)\n",
    "print(x_prime_control)    \n",
    "    \n",
    "\n",
    "#-----tracking x direction------------------\n",
    "\n",
    "\n",
    "my_result_x = {}\n",
    "for ii in ['x','px','y','py','zeta','delta']:\n",
    "    my_result_x[ii] = []\n",
    "\n",
    "\n",
    "for ii in range(N):\n",
    "    tracker_normal.track(particles_x, num_turns=n_turns,turn_by_turn_monitor=False)\n",
    "    for jj in ['x','px','y','py','zeta','delta']:\n",
    "        my_result_x[jj].append(getattr(particles_x,jj).copy())       \n",
    "        \n",
    "        \n",
    "for jj in ['x','px','y','py','zeta','delta']:\n",
    "        my_result_x[jj] = np.array(my_result_x[jj])\n",
    "\n",
    "\n",
    "\n",
    "qx_part_x = []\n",
    "qy_part_x = []\n",
    "\n",
    "for ii in range(N_particles):\n",
    "    \n",
    "    qx_part_x.append(NAFFlib.get_tune(my_result_x['x'][:,ii]))\n",
    "    qy_part_x.append(NAFFlib.get_tune(my_result_x['y'][:,ii]))\n",
    "\n",
    "\n",
    "#x0 = np.array([mysigma*sigma_x[0] for mysigma in np.linspace(0.2,2.2,N_particles)]) "
   ]
  },
  {
   "cell_type": "code",
   "execution_count": 25,
   "id": "93d04a05-f206-4d76-8016-8c5b8a9919d2",
   "metadata": {},
   "outputs": [
    {
     "name": "stdout",
     "output_type": "stream",
     "text": [
      "[2.09099412e-06 4.18198824e-06 6.27298236e-06 8.36397647e-06\n",
      " 1.04549706e-05 1.25459647e-05 1.46369588e-05 1.67279529e-05\n",
      " 1.88189471e-05 2.09099412e-05 2.30009353e-05]\n",
      "m =  49436.8417286188 q =  0.3099999805880492\n"
     ]
    },
    {
     "data": {
      "image/png": "[encoded data removed]",
      "text/plain": [
       "<Figure size 432x288 with 1 Axes>"
      ]
     },
     "metadata": {
      "needs_background": "light"
     },
     "output_type": "display_data"
    }
   ],
   "source": [
    "jx = np.zeros(N_particles)\n",
    "x_prime_control = np.zeros(N_particles)\n",
    "tg_phix = -tw_normal['alfx'][0]\n",
    "phix = np.arctan(tg_phix)\n",
    "for ii in range(N_particles):\n",
    "    jx[ii] = x0[ii]*x0[ii]/(2*betx_at_ip3*np.cos(phix)*np.cos(phix))\n",
    "    x_prime_control[ii] = 2.29567535*np.sqrt(2*jx[ii]/betx_at_ip3)\n",
    "\n",
    "\n",
    "print(x_prime_control)\n",
    "plt.plot(jx,qx_part_x,'-o');\n",
    "plt.grid()\n",
    "plt.ylabel('Tunes')\n",
    "plt.xlabel('Jx [m]')\n",
    "\n",
    "\n",
    "slope, intercept, r_value, p_value, std_err = linregress([jx[0],jx[6]],[qx_part_x[0],qx_part_x[6]])\n",
    "print('m = ',slope,'q = ',intercept)"
   ]
  },
  {
   "cell_type": "code",
   "execution_count": 10,
   "id": "c89af47c-d464-4bd1-a4af-1f700f34208e",
   "metadata": {},
   "outputs": [
    {
     "data": {
      "text/plain": [
       "4.579335208914932e-05"
      ]
     },
     "execution_count": 10,
     "metadata": {},
     "output_type": "execute_result"
    }
   ],
   "source": [
    "particles_x.x[0]"
   ]
  },
  {
   "cell_type": "code",
   "execution_count": 11,
   "id": "62c19fa5-f586-4cc0-b062-b7472c227fd9",
   "metadata": {},
   "outputs": [
    {
     "data": {
      "text/plain": [
       "array([2.09099412e-06, 4.18198824e-06, 6.27298236e-06, 8.36397647e-06,\n",
       "       1.04549706e-05, 1.25459647e-05, 1.46369588e-05, 1.67279529e-05,\n",
       "       1.88189471e-05, 2.09099412e-05, 2.30009353e-05])"
      ]
     },
     "execution_count": 11,
     "metadata": {},
     "output_type": "execute_result"
    }
   ],
   "source": [
    "x_prime_control"
   ]
  },
  {
   "cell_type": "code",
   "execution_count": null,
   "id": "89faf56b-24ab-4baf-bea8-89f22ac05fd8",
   "metadata": {},
   "outputs": [],
   "source": []
  }
 ],
 "metadata": {
  "kernelspec": {
   "display_name": "Python 3 (ipykernel)",
   "language": "python",
   "name": "python3"
  },
  "language_info": {
   "codemirror_mode": {
    "name": "ipython",
    "version": 3
   },
   "file_extension": ".py",
   "mimetype": "text/x-python",
   "name": "python",
   "nbconvert_exporter": "python",
   "pygments_lexer": "ipython3",
   "version": "3.9.7"
  }
 },
 "nbformat": 4,
 "nbformat_minor": 5
}
